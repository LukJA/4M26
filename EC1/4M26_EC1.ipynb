{
 "cells": [
  {
   "cell_type": "markdown",
   "metadata": {},
   "source": [
    "<b>CANDIDATE NUMBER:</b>"
   ]
  },
  {
   "attachments": {},
   "cell_type": "markdown",
   "metadata": {},
   "source": [
    "<div style=\"border-width:2px;border-style:solid;border-color:black;padding:20px\">[TO FILL]</div>"
   ]
  },
  {
   "cell_type": "markdown",
   "metadata": {},
   "source": [
    "<hr>\n",
    "Version: IB/1"
   ]
  },
  {
   "cell_type": "markdown",
   "metadata": {},
   "source": [
    "EGT3<br>\n",
    "ENGINEERING TRIPOS PART IIB\n",
    "\n",
    "<br>\n",
    "\n",
    "<hr>\n",
    "<b>Wednesday 8 February 2023 &emsp; 11.20 to 12.10</b>\n",
    "<hr>\n",
    "\n",
    "<b>Module 4M26</b> <br>\n",
    "\n",
    "<b>ALGORITHMS AND DATA STRUCTURES</b><br>\n",
    "\n",
    "<i>Answer one question.</i>\n",
    "\n",
    "<i>The <b>approximate</b> percentage of marks allocated to each part of a question is indicated in the right margin.</i>\n",
    "\n",
    "<i>Write your candidate number  <b><u>not</u></b> your name on the cover sheet and at the top of each answer sheet.</i>\n",
    "\n",
    "<i>The runtime of a successful test case should be no longer than 10 seconds when run on a standard DPO machine.</i>\n",
    "\n",
    "<i>No access to internet or other resources is permitted.</i>\n",
    "\n",
    "<i>Solutions should not use and import any python libraries. Only default Python data structures are to be used.</i>\n",
    "\n",
    "<b>Make sure to verify that you are still getting correct answers after kernel restart (Kernel->Restart & Run All), before uploading your final version of the notebook to Moodle.</b> <br>\n",
    "\n",
    "<b>STATIONERY REQUIREMENTS</b> <br>\n",
    "Single-sided script paper<br>\n",
    "\n",
    "<b>SPECIAL REQUIREMENTS TO BE SUPPLIED FOR THIS EXAM</b> <br>\n",
    "DPO computers<br>\n",
    "CUED approved calculator allowed<br>\n",
    "Engineering Data Book<br>\n",
    "\n",
    "<b>10 minutes reading time is allowed for this paper at the start of\n",
    "the test.</b><br>\n",
    "\n",
    "<b>You may not start to read the questions printed on the subsequent pages of this question paper until instructed to do so.</b><br>\n",
    "\n",
    "<b>You may not remove any stationery from the Examination Room.</b>"
   ]
  },
  {
   "cell_type": "markdown",
   "metadata": {},
   "source": [
    "<hr>\n",
    "<br>\n",
    "<br>\n",
    "<br>\n",
    "<br>\n",
    "<br>\n",
    "<br>"
   ]
  },
  {
   "cell_type": "markdown",
   "metadata": {},
   "source": [
    "<h1> 1.</h1> "
   ]
  },
  {
   "cell_type": "markdown",
   "metadata": {},
   "source": [
    "(a) Given an integer array, $A$, write the function, **maximum_subarray**$(A)$, to find the continuous subarray with the largest sum, and return its sum. Note that continuous subarray is any array derived from the original array by removing all elements except some continuous sequence of elements of the original array. Your solution should have its run time complexity strictly smaller than $O(n^2)$.\n",
    "\n",
    " <div style=\"text-align: right\">[30%]</div>"
   ]
  },
  {
   "cell_type": "markdown",
   "metadata": {},
   "source": [
    "### Examples:"
   ]
  },
  {
   "cell_type": "markdown",
   "metadata": {},
   "source": [
    "**Input:** `[-5,14,-5,-8,7,7,-20]` <br>\n",
    "**Output:** `15` <br>\n",
    "**Explanation:** Subarray `[14,-5,-8,7,7]` has the largest sum."
   ]
  },
  {
   "cell_type": "markdown",
   "metadata": {},
   "source": [
    "**Input:**  `[1,2,3,4,5,6,7,-1]` <br>\n",
    "**Output:**  `28`<br>\n",
    "**Explanation:** Subarray `1,2,3,4,5,6,7` has the largest sum."
   ]
  },
  {
   "cell_type": "markdown",
   "metadata": {},
   "source": [
    "### Constraints:\n",
    "\n",
    "- $1 \\leq len(A) \\leq 1000$.\n",
    "- $1 \\leq |A[i]| \\leq 100000$."
   ]
  },
  {
   "cell_type": "markdown",
   "metadata": {},
   "source": [
    "### Code:"
   ]
  },
  {
   "cell_type": "code",
   "execution_count": 72,
   "metadata": {},
   "outputs": [],
   "source": [
    "def maximum_subarray(A):\n",
    "    return maximum_subarray_X(A)\n",
    "\n",
    "def maximum_subarray_0(A):\n",
    "    # Use the Order(n) rolling score approach\n",
    "    # assumes the maximum sub-array is [] with value 0\n",
    "\n",
    "    max_ending_here = 0\n",
    "    max_v = 0\n",
    "\n",
    "    for i in range(len(A)):\n",
    "        # update the max ending here list\n",
    "        max_ending_here += A[i]\n",
    "        if max_ending_here > max_v:\n",
    "            max_v = max_ending_here\n",
    "        if max_ending_here < 0:\n",
    "            max_ending_here = 0\n",
    "    return max_v\n",
    "\n",
    "def maximum_subarray_X(A):\n",
    "    # Use the Order(n) rolling score approach\n",
    "    # Must use a non-empty subarray\n",
    "\n",
    "    max_ending_here = 0\n",
    "    max_v = A[0]\n",
    "    loop_start = 0\n",
    "    a_i = 0\n",
    "    b_i = 0\n",
    "\n",
    "    #print(f\"X - {max_ending_here} {max_v}\")\n",
    "    for i in range(0, len(A)):\n",
    "        # update the max ending here list\n",
    "        max_ending_here += A[i]\n",
    "\n",
    "        # if we've exceeded the previous maximum, update it\n",
    "        # do this first to cover (less) negative numbers\n",
    "        if max_ending_here > max_v:\n",
    "            max_v = max_ending_here\n",
    "            a_i = loop_start\n",
    "            b_i = i\n",
    "        # if we've hit the fail condition, reset the start point\n",
    "        # if the net sum up until this point is ever negative it\n",
    "        # will only subtract from whatever list follows lowering its value\n",
    "        # hence if it ever goes negative start again\n",
    "        # the caveat is we need to start with some value\n",
    "        if max_ending_here < 0:\n",
    "           # print(f\"Reset @ {i}\")\n",
    "            max_ending_here = 0\n",
    "            loop_start = i+1\n",
    "\n",
    "        #print(f\"Added: {A[i]} meh:{max_ending_here} mv:{max_v} i0:{loop_start}\")\n",
    "    print(f\"Use {a_i}:{b_i} {A[a_i:b_i+1]} for {max_v}\")\n",
    "    return max_v\n"
   ]
  },
  {
   "cell_type": "markdown",
   "metadata": {},
   "source": [
    "### Tests:"
   ]
  },
  {
   "cell_type": "markdown",
   "metadata": {},
   "source": [
    "##### Run example test case 1:"
   ]
  },
  {
   "cell_type": "code",
   "execution_count": 73,
   "metadata": {},
   "outputs": [
    {
     "name": "stdout",
     "output_type": "stream",
     "text": [
      "Use 1:5 [14, -5, -8, 7, 7] for 15\n",
      "15\n"
     ]
    }
   ],
   "source": [
    "input_value = [-5,14,-5,-8,7,7,-20]\n",
    "print (maximum_subarray(input_value))"
   ]
  },
  {
   "cell_type": "markdown",
   "metadata": {},
   "source": [
    "##### Run example test case 2:"
   ]
  },
  {
   "cell_type": "code",
   "execution_count": 74,
   "metadata": {},
   "outputs": [
    {
     "name": "stdout",
     "output_type": "stream",
     "text": [
      "Use 0:6 [1, 2, 3, 4, 5, 6, 7] for 28\n",
      "28\n"
     ]
    }
   ],
   "source": [
    "input_value = [1,2,3,4,5,6,7,-1]\n",
    "print (maximum_subarray(input_value))"
   ]
  },
  {
   "cell_type": "markdown",
   "metadata": {},
   "source": [
    "#### Automatic Evaluation:"
   ]
  },
  {
   "cell_type": "markdown",
   "metadata": {},
   "source": [
    "<i><b><font color='red'>Do not forget to run on all test cases when your final implementation is finished!</font></b></i>"
   ]
  },
  {
   "cell_type": "code",
   "execution_count": 75,
   "metadata": {},
   "outputs": [
    {
     "name": "stdout",
     "output_type": "stream",
     "text": [
      "----------------------------------\n",
      "Evaluating question 1, part a\n",
      "Running question 1, part a, test id: 1\n",
      "Input:\n",
      "[-5, 14, -5, -8, 7, 7, -20]\n",
      "Use 1:5 [14, -5, -8, 7, 7] for 15\n",
      "Obtained output:\n",
      "15\n",
      "<<CORRECT>>\n",
      "Running question 1, part a, test id: 2\n",
      "Input:\n",
      "[1, 2, 3, 4, 5, 6, 7, -1]\n",
      "Use 0:6 [1, 2, 3, 4, 5, 6, 7] for 28\n",
      "Obtained output:\n",
      "28\n",
      "<<CORRECT>>\n",
      "Running question 1, part a, test id: 3\n",
      "Input:\n",
      "[-10]\n",
      "Use 0:0 [-10] for -10\n",
      "Obtained output:\n",
      "-10\n",
      "<<CORRECT>>\n",
      "Running question 1, part a, test id: 4\n",
      "Input:\n",
      "[1, -1, 1, -1, 1, -1, 1, -1, 1, -1]\n",
      "Use 0:0 [1] for 1\n",
      "Obtained output:\n",
      "1\n",
      "<<CORRECT>>\n",
      "Running question 1, part a, test id: 5\n",
      "Input:\n",
      "[1, 2, 3, 4, -10, 1, 2, 3, 4, -9, 1, 2, 3, 4, -10]\n",
      "Use 0:13 [1, 2, 3, 4, -10, 1, 2, 3, 4, -9, 1, 2, 3, 4] for 11\n",
      "Obtained output:\n",
      "11\n",
      "<<CORRECT>>\n",
      "-----------------\n",
      "Total correct outputs:\n",
      "5 out of 5\n",
      "----------------------------------\n"
     ]
    }
   ],
   "source": [
    "#DO NOT EDIT THIS CODE!\n",
    "from evaluation_script import evaluate_solution \n",
    "evaluate_solution(question_id=1,question_part_id='a',function=maximum_subarray,\n",
    "                  test_case_list=[1,2,3,4,5],verbose=True)"
   ]
  },
  {
   "cell_type": "markdown",
   "metadata": {},
   "source": [
    "(b) Sketch a detailed proof of correctness of your algorithm described in Part (a) and derive its\n",
    "runtime complexity. <div style=\"text-align: right\">[10%]</div>"
   ]
  },
  {
   "attachments": {},
   "cell_type": "markdown",
   "metadata": {},
   "source": [
    "<div style=\"border-width:2px;border-style:solid;border-color:black;padding:20px\">\n",
    "\n",
    "A loop invariant can be used to prove algorithmic correctness, and is essentially bounded mathematical induction:\n",
    "\n",
    "1. **initialization** - invariant is true at iteration 0.\n",
    "2. **Maintenance** - if true before iteration, it remains true after.\n",
    "3. **Termination** - Unlike induction there is a fixed termination point where the correctness of the algorithm can be inferred\n",
    "\n",
    "In the case of the O(n) Subarray Algorithm\n",
    "\n",
    "1. **Initialisation** - The array between indexes $a_i$ and $b_i$ and value `max_v` is the array of maximum value so far - must be true as at the beginning only one item has been seen so it must be the maximum value seen so far.\n",
    "2. **Maintenance** - we add the value of the next item to the our stored sequence and check if it raises the value of the best sub-array, if it does we must have a new greatest sub-array and update $a_i$, $b_i$ and `max_v` as such. If the next item takes the value below zero, it will therefore subtract and lower the value of any collection of subsequent items, and we should restart our stored sequence. As such the array between indexes $a_i$ and $b_i$ and value `max_v` is the array of maximum value observed so far.\n",
    "3. **Termination** - At the end of the loop we have checked all items and so the array between indexes $a_i$ and $b_i$ and value `max_v` is the array of maximum value.\n",
    "\n",
    "Runtime Complexity must be $O(n)$ as the array is iterated through once in full.\n",
    "\n",
    "</div>"
   ]
  },
  {
   "cell_type": "markdown",
   "metadata": {},
   "source": [
    "(c) Briefly answer multiple questions below."
   ]
  },
  {
   "cell_type": "markdown",
   "metadata": {},
   "source": [
    "&emsp; (i) Derive big-Theta or big-O expressions used to characterise the following function:  $f(n)=\\begin{cases} 1 & \\text{if }n=1,\\\\\n",
    "                      2f(\\frac{n}{2})+3n\\log_2 n +n& \\text{otherwise.}\n",
    "         \\end{cases}$ <div style=\"text-align: right\">[10%]</div>"
   ]
  },
  {
   "attachments": {},
   "cell_type": "markdown",
   "metadata": {},
   "source": [
    "<div style=\"border-width:2px;border-style:solid;border-color:black;padding:20px\">\n",
    "\n",
    "Assume $f(n) = O(n \\log_2 n)$ therefore $f(n/2) = O(n/2 \\log_2 n/2) \\leq  cn/2 \\log_2 n/2$\n",
    "\n",
    "Hence we can write:\n",
    "\n",
    "$f(n) = 2f( n/2 ) + 3n \\log_2 n + n \\\\\\\\\n",
    "\\quad \\quad \\; \\leq 2c n/2  \\log_2  n/2 + 3n \\log_2 n + n \\\\\\\\\n",
    "\\quad \\quad \\; \\leq cn  \\log_2  n/2 + 3n \\log_2 n + n \\\\\\\\\n",
    "\\quad \\quad \\; \\leq cn  \\log_2  n  - cn  \\log_2  2 + 3n \\log_2 n + n \\\\\\\\\n",
    "\\quad \\quad \\; \\leq (c+3)n \\log_2 n + n(1 - c) \\\\\\\\\n",
    "\\quad \\quad \\; \\leq cn \\log_2 n$\n",
    "\n",
    "Affirming $f(n) = O(n \\log_2 n)$\n",
    "\n",
    "</div>"
   ]
  },
  {
   "cell_type": "markdown",
   "metadata": {},
   "source": [
    "&emsp; (ii) What is a <i>loop invariant</i>? Give a concrete example of its use. <div style=\"text-align: right\">[10%]</div>"
   ]
  },
  {
   "attachments": {},
   "cell_type": "markdown",
   "metadata": {},
   "source": [
    "<div style=\"border-width:2px;border-style:solid;border-color:black;padding:20px\">\n",
    "\n",
    "A loop invariant is a property that remains true at the start of every iteration of a loop (e.g. the preceding section of a list is correctly sorted). It allows for proofs of correctness.\n",
    "\n",
    "</div>"
   ]
  },
  {
   "cell_type": "markdown",
   "metadata": {},
   "source": [
    "&emsp; (iii)  Explain, in general terms, the main differences and similarities between the divide-and-conquer technique and dynamic programming. <div style=\"text-align: right\">[10%]</div>"
   ]
  },
  {
   "attachments": {},
   "cell_type": "markdown",
   "metadata": {},
   "source": [
    "<div style=\"border-width:2px;border-style:solid;border-color:black;padding:20px\">\n",
    "Write your answer here.\n",
    "</div>"
   ]
  },
  {
   "cell_type": "markdown",
   "metadata": {},
   "source": [
    "(d) Write the function, **distance**($A$), which takes a list, $A$, as an input which contains two strings: $a$ and $b$. This function outputs: <br>\n",
    "\n",
    "&emsp; (1) the minimum number of edit operations required to make the string, $b$, match the string, $a$, as well as; <br>\n",
    "\n",
    "&emsp; (2) an example of such a sequence of operations. <br>\n",
    "\n",
    "Edit operations, are executed in a sequence to build the string, $a$, from characters of string, $b$, starting from location index, $i=0$. They are: <br>\n",
    "\n",
    "(i) $insert(\\text{<c>})$ - inserting the character, $\\text{<c>}$, without affecting the location index, $i$, of the next symbol to be used from $b$;<br>\n",
    "\n",
    "(ii) $delete(\\text{<c>})$ - deleting the character, $\\text{<c>}$ at the location, $i$, of $b$ (ie. $b[i]=\\text{<c>}$) and incrementing the location index (ie. $i=i+1$);<br>\n",
    "\n",
    "(iii) $replace(\\text{<c>},\\text{<d>})$ - replacing the character, $\\text{<c>}$ at location, $i$, of string, $b$ (ie. $b[i]=\\text{<c>}$) with character, $\\text{<d>}$, and incrementing the location index, $i$. <br>\n",
    "\n",
    "There is also a non-edit operation, $use(\\text{<c>})$, which uses the character, $\\text{<c>}$, of string, $b$ (ie. $b[i]=\\text{<c>}$), and increments the location index. This operation is not counted towards the total number of edit operations.  <div style=\"text-align: right\">[30%]</div>"
   ]
  },
  {
   "cell_type": "markdown",
   "metadata": {},
   "source": [
    "### Examples:"
   ]
  },
  {
   "cell_type": "markdown",
   "metadata": {},
   "source": [
    "**Input:** `[\"stand\",\"stamps\"]` <br>\n",
    "**Output:** `[3, ['use(s)', 'use(t)', 'use(a)', 'replace(m,n)', 'replace(p,d)', 'delete(s)']]` <br>\n",
    "**Explanation:** <br>\n",
    "- Location index is $0$. We use character 's' and increment location index to 1. \n",
    "- We use character 't' and increment location index to 2. \n",
    "- We use character 'a' and increment location index to 3. \n",
    "- Character, 'm', is at location 3 of string, $b$, so we replace it with character 'n' and increment location index to 4.\n",
    "- Character, 'p', is at location 4 of string, $b$, so we replace it with character 'd' and increment location index to 5.\n",
    "- We delete character, 's', at location 5.\n",
    "\n",
    "The resulting string is 's'+'t'+'a'+'n'+'d' = 'stand'. Total number of edit operations: 3.\n"
   ]
  },
  {
   "cell_type": "markdown",
   "metadata": {},
   "source": [
    "**Input:**  `[\"asleep\",\"steep\"]` <br>\n",
    "**Output:**  `[2, ['insert(a)', 'use(s)', 'replace(t,l)', 'use(e)', 'use(e)', 'use(p)']]` <br>\n",
    "**Explanation:** <br>\n",
    "- Location index is $0$. We insert character 'a' and keep location index at 0. \n",
    "- We use character 's' and increment location index to 1. \n",
    "- Character 't' is at location 1 of string $b$ so we replace it with character 'l' and increment location index to 2.\n",
    "- We use character 'e' and increment location index to 3. \n",
    "- We use character 'e' and increment location index to 4. \n",
    "- We use character 'p' and increment location index to 5. \n",
    "\n",
    "The resulting string is 'a'+'s'+'l'+'e'+'e'+'p' = 'asleep'. Total number of edit operations: 2."
   ]
  },
  {
   "cell_type": "markdown",
   "metadata": {},
   "source": [
    "### Constraints:\n",
    "\n",
    "- $1\\leq \\text{len}(a), \\text{len}(b) \\leq 100$."
   ]
  },
  {
   "cell_type": "markdown",
   "metadata": {},
   "source": [
    "### Code:"
   ]
  },
  {
   "cell_type": "code",
   "execution_count": 58,
   "metadata": {},
   "outputs": [
    {
     "name": "stdout",
     "output_type": "stream",
     "text": [
      "ab [3, 0] 2\n",
      "(4, ['use(a)', 'replace(b,a)', 'use(a)', 'replace(b,a)', 'replace(a,b)', 'use(b)', 'replace(a,b)', 'use(b)'])\n"
     ]
    }
   ],
   "source": [
    "# Naive brute force LCS\n",
    "def n_lcs(A, B):\n",
    "   lcs = \"\"\n",
    "   index = []\n",
    "   length = 0\n",
    "   # loop through array lengths\n",
    "   for l in range(2, len(A)+1):\n",
    "      # loop through starting index\n",
    "      for i in range(0, len(A)-l+1):\n",
    "         #print(A[i:i+l])\n",
    "         if A[i:i+l] in B:\n",
    "            lcs = A[i:i+l]\n",
    "            # send the starting indices in a and b\n",
    "            index = [i, B.index(lcs)]\n",
    "            length = l\n",
    "            #print(f\"Choose {A[i:i+l]}\")\n",
    "   return lcs, index, length\n",
    "\n",
    "def distance(A): \n",
    "   a,b = A[0],A[1]\n",
    "   # edit b to match a\n",
    "\n",
    "    # we want to minimise edits, so we want to maximise the 'use' command by having both as aligned as possible\n",
    "    # theoretically correct brute approach (false)\n",
    "    # 1. find all in-order matching subsequences >= 2\n",
    "    # 2. Align LCS? \n",
    "    # 3. insert/delete to align other CS\n",
    "    # 4. replace remaining\n",
    "\n",
    "   lcs, pos, lcs_len = n_lcs(a, b)\n",
    "\n",
    "   print(lcs, pos, lcs_len)\n",
    "\n",
    "   # align the sequences with special characters '#'\n",
    "   # if index in a > index in b\n",
    "   # FIX: only do this if we save more than we spend i.e. the lcs len > than the delta\n",
    "   if pos[0] > pos[1] and (pos[0]-pos[1]) < lcs_len:\n",
    "      # padd a by delta\n",
    "      b = (pos[0]-pos[1])*'#' + b\n",
    "   # if index in a < index in b\n",
    "   elif pos[1] > pos[0] and (pos[1]-pos[0]) < lcs_len:\n",
    "      # padd b by delta\n",
    "      a = (pos[1]-pos[0])*'#' + a\n",
    "\n",
    "   # if the sequences are not equal length, fix that\n",
    "   if len(a) < len(b):\n",
    "      a =  a +(len(b)-len(a))*'#'\n",
    "   elif len(b) < len(a):\n",
    "      b =  b +(len(a)-len(b))*'#'\n",
    "   \n",
    "   # now we can iterate and solve as they are of equal length\n",
    "   edits = 0 \n",
    "   e_list = []\n",
    "   for i in range(len(b)):\n",
    "      if(b[i] == a[i]):\n",
    "         e_list.append(f\"use({b[i]})\")\n",
    "      elif b[i] == \"#\":\n",
    "         edits += 1\n",
    "         e_list.append(f\"insert({a[i]})\")\n",
    "      elif a[i] == \"#\":\n",
    "         edits += 1\n",
    "         e_list.append(f\"delete({b[i]})\")\n",
    "      else:\n",
    "         edits += 1\n",
    "         e_list.append(f\"replace({b[i]},{a[i]})\")\n",
    "   \n",
    "   return edits, e_list\n",
    "         \n",
    "input_value = [\"aaaabbbb\",\"abababab\"]\n",
    "# [4, ['use(a)', 'replace(b,a)', 'insert(a)', 'use(a)', 'use(b)', 'replace(a,b)', 'use(b)', 'delete(a)', 'use(b)']]\n",
    "print(distance(input_value))"
   ]
  },
  {
   "cell_type": "markdown",
   "metadata": {},
   "source": [
    "### Tests:"
   ]
  },
  {
   "cell_type": "markdown",
   "metadata": {},
   "source": [
    "##### Run example test case 1:"
   ]
  },
  {
   "cell_type": "code",
   "execution_count": 59,
   "metadata": {},
   "outputs": [
    {
     "name": "stdout",
     "output_type": "stream",
     "text": [
      "sta [0, 0] 3\n",
      "(3, ['use(s)', 'use(t)', 'use(a)', 'replace(m,n)', 'replace(p,d)', 'delete(s)'])\n"
     ]
    }
   ],
   "source": [
    "input_value = [\"stand\",\"stamps\"]\n",
    "print(distance(input_value))"
   ]
  },
  {
   "cell_type": "markdown",
   "metadata": {},
   "source": [
    "##### Run example test case 2:"
   ]
  },
  {
   "cell_type": "code",
   "execution_count": 60,
   "metadata": {},
   "outputs": [
    {
     "name": "stdout",
     "output_type": "stream",
     "text": [
      "eep [3, 2] 3\n",
      "(2, ['insert(a)', 'use(s)', 'replace(t,l)', 'use(e)', 'use(e)', 'use(p)'])\n"
     ]
    }
   ],
   "source": [
    "input_value = [\"asleep\",\"steep\"]\n",
    "print(distance(input_value))"
   ]
  },
  {
   "cell_type": "markdown",
   "metadata": {},
   "source": [
    "#### Automatic Evaluation:"
   ]
  },
  {
   "cell_type": "markdown",
   "metadata": {},
   "source": [
    "<i><b><font color='red'>Do not forget to run on all test cases when your final implementation is finished!</font></b></i>"
   ]
  },
  {
   "cell_type": "code",
   "execution_count": 61,
   "metadata": {},
   "outputs": [
    {
     "name": "stdout",
     "output_type": "stream",
     "text": [
      "----------------------------------\n",
      "Evaluating question 1, part d\n",
      "Running question 1, part d, test id: 1\n",
      "Input:\n",
      "['stand', 'stamps']\n",
      "sta [0, 0] 3\n",
      "Obtained output:\n",
      "(3, ['use(s)', 'use(t)', 'use(a)', 'replace(m,n)', 'replace(p,d)', 'delete(s)'])\n",
      "<<CORRECT>>\n",
      "Running question 1, part d, test id: 2\n",
      "Input:\n",
      "['asleep', 'steep']\n",
      "eep [3, 2] 3\n",
      "Obtained output:\n",
      "(2, ['insert(a)', 'use(s)', 'replace(t,l)', 'use(e)', 'use(e)', 'use(p)'])\n",
      "<<CORRECT>>\n",
      "Running question 1, part d, test id: 3\n",
      "Input:\n",
      "['abcdefghijklmnopqrstuvwxyz', 'abcdefghijklmnopqrstuvwxyz']\n",
      "abcdefghijklmnopqrstuvwxyz [0, 0] 26\n",
      "Obtained output:\n",
      "(0, ['use(a)', 'use(b)', 'use(c)', 'use(d)', 'use(e)', 'use(f)', 'use(g)', 'use(h)', 'use(i)', 'use(j)', 'use(k)', 'use(l)', 'use(m)', 'use(n)', 'use(o)', 'use(p)', 'use(q)', 'use(r)', 'use(s)', 'use(t)', 'use(u)', 'use(v)', 'use(w)', 'use(x)', 'use(y)', 'use(z)'])\n",
      "<<CORRECT>>\n",
      "Running question 1, part d, test id: 4\n",
      "Input:\n",
      "['aaaabbbb', 'abababab']\n",
      "ab [3, 0] 2\n",
      "Obtained output:\n",
      "(4, ['use(a)', 'replace(b,a)', 'use(a)', 'replace(b,a)', 'replace(a,b)', 'use(b)', 'replace(a,b)', 'use(b)'])\n",
      "<<CORRECT>>\n",
      "Running question 1, part d, test id: 5\n",
      "Input:\n",
      "['aabaa', 'abaa']\n",
      "abaa [1, 0] 4\n",
      "Obtained output:\n",
      "(1, ['insert(a)', 'use(a)', 'use(b)', 'use(a)', 'use(a)'])\n",
      "<<CORRECT>>\n",
      "-----------------\n",
      "Total correct outputs:\n",
      "5 out of 5\n",
      "----------------------------------\n"
     ]
    }
   ],
   "source": [
    "#DO NOT EDIT THIS CODE!\n",
    "from evaluation_script import evaluate_solution, valid_solution_string_edit \n",
    "evaluate_solution(question_id=1,question_part_id='d',function=distance,\n",
    "                  comparison_function=valid_solution_string_edit,\n",
    "                  test_case_list=[1,2,3,4,5],verbose=True)"
   ]
  },
  {
   "cell_type": "markdown",
   "metadata": {},
   "source": [
    "---\n",
    "<br>\n",
    "<br>\n",
    "<br>\n",
    "<br>\n",
    "<br>\n",
    "<br>\n",
    "<br>"
   ]
  },
  {
   "cell_type": "markdown",
   "metadata": {},
   "source": [
    "<b><center>END OF PAPER</center></b>"
   ]
  }
 ],
 "metadata": {
  "kernelspec": {
   "display_name": "Python 3",
   "language": "python",
   "name": "python3"
  },
  "language_info": {
   "codemirror_mode": {
    "name": "ipython",
    "version": 3
   },
   "file_extension": ".py",
   "mimetype": "text/x-python",
   "name": "python",
   "nbconvert_exporter": "python",
   "pygments_lexer": "ipython3",
   "version": "3.10.6"
  },
  "vscode": {
   "interpreter": {
    "hash": "916dbcbb3f70747c44a77c7bcd40155683ae19c65e1c03b4aa3499c5328201f1"
   }
  }
 },
 "nbformat": 4,
 "nbformat_minor": 4
}
