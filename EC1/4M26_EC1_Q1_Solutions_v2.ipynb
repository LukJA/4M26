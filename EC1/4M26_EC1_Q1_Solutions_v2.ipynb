{
 "cells": [
  {
   "cell_type": "markdown",
   "metadata": {},
   "source": [
    "<b>CANDIDATE NUMBER:</b>"
   ]
  },
  {
   "cell_type": "markdown",
   "metadata": {},
   "source": [
    "<div style=\"border-width:2px;border-style:solid;border-color:black;\">[TO FILL]</div>"
   ]
  },
  {
   "cell_type": "markdown",
   "metadata": {},
   "source": [
    "<hr>\n",
    "Version: IB/1"
   ]
  },
  {
   "cell_type": "markdown",
   "metadata": {},
   "source": [
    "EGT3<br>\n",
    "ENGINEERING TRIPOS PART IIB\n",
    "\n",
    "<br>\n",
    "\n",
    "<hr>\n",
    "<b>Wednesday 8 February 2023 &emsp; 11.20 to 12.10</b>\n",
    "<hr>\n",
    "\n",
    "<b>Module 4M26</b> <br>\n",
    "\n",
    "<b>ALGORITHMS AND DATA STRUCTURES</b><br>\n",
    "\n",
    "<i>Answer one question.</i>\n",
    "\n",
    "<i>The <b>approximate</b> percentage of marks allocated to each part of a question is indicated in the right margin.</i>\n",
    "\n",
    "<i>Write your candidate number  <b><u>not</u></b> your name on the cover sheet and at the top of each answer sheet.</i>\n",
    "\n",
    "<i>The runtime of a successful test case should be no longer than 10 seconds when run on a standard DPO machine.</i>\n",
    "\n",
    "<i>No access to internet or other resources is permitted.</i>\n",
    "\n",
    "<i>Solutions should not use and import any python libraries. Only default Python data structures are to be used.</i>\n",
    "\n",
    "<b>Make sure to verify that you are still getting correct answers after kernel restart (Kernel->Restart & Run All), before uploading your final version of the notebook to Moodle.</b> <br>\n",
    "\n",
    "<b>STATIONERY REQUIREMENTS</b> <br>\n",
    "Single-sided script paper<br>\n",
    "\n",
    "<b>SPECIAL REQUIREMENTS TO BE SUPPLIED FOR THIS EXAM</b> <br>\n",
    "DPO computers<br>\n",
    "CUED approved calculator allowed<br>\n",
    "Engineering Data Book<br>\n",
    "\n",
    "<b>10 minutes reading time is allowed for this paper at the start of\n",
    "the test.</b><br>\n",
    "\n",
    "<b>You may not start to read the questions printed on the subsequent pages of this question paper until instructed to do so.</b><br>\n",
    "\n",
    "<b>You may not remove any stationery from the Examination Room.</b>"
   ]
  },
  {
   "cell_type": "markdown",
   "metadata": {},
   "source": [
    "<hr>\n",
    "<br>\n",
    "<br>\n",
    "<br>\n",
    "<br>\n",
    "<br>\n",
    "<br>"
   ]
  },
  {
   "cell_type": "markdown",
   "metadata": {},
   "source": [
    "<h1> 1.</h1> "
   ]
  },
  {
   "cell_type": "markdown",
   "metadata": {},
   "source": [
    "(a) Given an integer array, $A$, write the function, **maximum_subarray**$(A)$, to find the continuous subarray with the largest sum, and return its sum. Note that continuous subarray is any array derived from the original array by removing all elements except some continuous sequence of elements of the original array. Your solution should have its run time complexity strictly smaller than $O(n^2)$.\n",
    "\n",
    " <div style=\"text-align: right\">[30%]</div>"
   ]
  },
  {
   "cell_type": "markdown",
   "metadata": {},
   "source": [
    "### Examples:"
   ]
  },
  {
   "cell_type": "markdown",
   "metadata": {},
   "source": [
    "**Input:** `[-5,14,-5,-8,7,7,-20]` <br>\n",
    "**Output:** `15` <br>\n",
    "**Explanation:** Subarray `[14,-5,-8,7,7]` has the largest sum."
   ]
  },
  {
   "cell_type": "markdown",
   "metadata": {},
   "source": [
    "**Input:**  `[1,2,3,4,5,6,7,-1]` <br>\n",
    "**Output:**  `28`<br>\n",
    "**Explanation:** Subarray `1,2,3,4,5,6,7` has the largest sum."
   ]
  },
  {
   "cell_type": "markdown",
   "metadata": {},
   "source": [
    "### Constraints:\n",
    "\n",
    "- $1 \\leq len(A) \\leq 1000$.\n",
    "- $1 \\leq |A[i]| \\leq 100000$."
   ]
  },
  {
   "cell_type": "markdown",
   "metadata": {},
   "source": [
    "### Code:"
   ]
  },
  {
   "cell_type": "code",
   "execution_count": 1,
   "metadata": {},
   "outputs": [],
   "source": [
    "# One solution could be using divide and conquer technique. We find the maximum\n",
    "# sum subarray on the left side of an array and on the right side of an array. \n",
    "# We also find the maximum sum subarray which crosses the middle (pivot). The \n",
    "# largest subarray of the three provides an output. Time complexity \\Theta(n\\log n)\n",
    "# as in MergeSort. Note, this question can also be solved with a dynamic programming\n",
    "# strategy, with run time complexity of O(n).\n",
    "\n",
    "def find_max_sum(A, ind, pivot, delta):\n",
    "    \n",
    "    sum_temp, max_sum = A[pivot], A[pivot] #max_sum is computed including pivot value to reduce the need for explicit handling of cases when ind==pivot\n",
    "    \n",
    "    for i in range(pivot+delta, ind+delta, delta): #Finding the max cumulative sum starting from pivot and going to the left or right\n",
    "        sum_temp += A[i]\n",
    "        max_sum = max(max_sum, sum_temp)\n",
    "        \n",
    "    return max_sum\n",
    "\n",
    "def maximum_subarray_divnconq(A, left, right):\n",
    "    \n",
    "    if left>right:\n",
    "        return -1000000\n",
    "    \n",
    "    if (left == right):\n",
    "        return A[left]\n",
    "      \n",
    "    pivot = (left + right) // 2\n",
    "  \n",
    "    val_left = maximum_subarray_divnconq(A, left, pivot - 1) #Finding the max sum subarray on the left of pivot\n",
    "    val_right = maximum_subarray_divnconq(A, pivot + 1, right) #Finding the max sum subarray on the right of pivot\n",
    "    val_crossing = find_max_sum(A, left, pivot, -1) - A[pivot] + find_max_sum(A, right, pivot, 1) #Finding the max sum subarray which \n",
    "                                                #crosses the pivot. It is equal to the max sum on the left/right (including pivot) - A[pivot]\n",
    "    \n",
    "    return max(val_left, val_right, val_crossing)\n",
    "  \n",
    "def maximum_subarray(A):\n",
    "\n",
    "    #Write your code here\n",
    "    \n",
    "    return maximum_subarray_divnconq(A,0,len(A)-1)\n"
   ]
  },
  {
   "cell_type": "markdown",
   "metadata": {},
   "source": [
    "### Tests:"
   ]
  },
  {
   "cell_type": "markdown",
   "metadata": {},
   "source": [
    "##### Run example test case 1:"
   ]
  },
  {
   "cell_type": "code",
   "execution_count": 2,
   "metadata": {},
   "outputs": [
    {
     "name": "stdout",
     "output_type": "stream",
     "text": [
      "15\n"
     ]
    }
   ],
   "source": [
    "input_value = [-5,14,-5,-8,7,7,-20]\n",
    "print (maximum_subarray(input_value))"
   ]
  },
  {
   "cell_type": "markdown",
   "metadata": {},
   "source": [
    "##### Run example test case 2:"
   ]
  },
  {
   "cell_type": "code",
   "execution_count": 3,
   "metadata": {},
   "outputs": [
    {
     "name": "stdout",
     "output_type": "stream",
     "text": [
      "28\n"
     ]
    }
   ],
   "source": [
    "input_value = [1,2,3,4,5,6,7,-1]\n",
    "print (maximum_subarray(input_value))"
   ]
  },
  {
   "cell_type": "markdown",
   "metadata": {},
   "source": [
    "#### Automatic Evaluation:"
   ]
  },
  {
   "cell_type": "markdown",
   "metadata": {},
   "source": [
    "<i><b><font color='red'>Do not forget to run on all test cases when your final implementation is finished!</font></b></i>"
   ]
  },
  {
   "cell_type": "code",
   "execution_count": 4,
   "metadata": {},
   "outputs": [
    {
     "name": "stdout",
     "output_type": "stream",
     "text": [
      "----------------------------------\n",
      "Evaluating question 1, part a\n",
      "Running question 1, part a, test id: 1\n",
      "Input:\n",
      "[-5, 14, -5, -8, 7, 7, -20]\n",
      "Obtained output:\n",
      "15\n",
      "<<CORRECT>>\n",
      "Running question 1, part a, test id: 2\n",
      "Input:\n",
      "[1, 2, 3, 4, 5, 6, 7, -1]\n",
      "Obtained output:\n",
      "28\n",
      "<<CORRECT>>\n",
      "Running question 1, part a, test id: 3\n",
      "Input:\n",
      "[-10]\n",
      "Obtained output:\n",
      "-10\n",
      "<<CORRECT>>\n",
      "Running question 1, part a, test id: 4\n",
      "Input:\n",
      "[1, -1, 1, -1, 1, -1, 1, -1, 1, -1]\n",
      "Obtained output:\n",
      "1\n",
      "<<CORRECT>>\n",
      "Running question 1, part a, test id: 5\n",
      "Input:\n",
      "[1, 2, 3, 4, -10, 1, 2, 3, 4, -9, 1, 2, 3, 4, -10]\n",
      "Obtained output:\n",
      "11\n",
      "<<CORRECT>>\n",
      "-----------------\n",
      "Total correct outputs:\n",
      "5 out of 5\n",
      "----------------------------------\n"
     ]
    }
   ],
   "source": [
    "#DO NOT EDIT THIS CODE!\n",
    "from evaluation_script import evaluate_solution \n",
    "evaluate_solution(question_id=1,question_part_id='a',function=maximum_subarray,\n",
    "                  test_case_list=[1,2,3,4,5],verbose=True)"
   ]
  },
  {
   "cell_type": "markdown",
   "metadata": {},
   "source": [
    "(b) Sketch a detailed proof of correctness of your algorithm described in Part (a) and derive its\n",
    "runtime complexity. <div style=\"text-align: right\">[10%]</div>"
   ]
  },
  {
   "cell_type": "markdown",
   "metadata": {},
   "source": [
    "<div style=\"border-width:2px;border-style:solid;border-color:black;\">\n",
    "The correctness of divide and conquer version of the <b>maximum_subarray</b> can be proven by considering mathematical induction on the length of the array. It is straight forward that <b>maximum_subarray</b> gives a correct result for $n=1$ as its base case. Lets assume that it is correct for any array of length, $k>1$. Since $k>1$ then two subsequent recursive <b>maximum_subarray</b> calls on $A[:pivot]$ and $A[pivot+1:]$ will obtain the maximum sum subarrays for the left and right side of the array. So it only remains to show that the maximum value of the array crossing the $pivot$ element. <br><br>\n",
    "\n",
    "The maximum sum subarray crossing the pivot is obtained by: (i) finding the largest sum subarray from the pivot element to the left side of the array; (ii) as well as the largest sum subarray from the pivot to the right side of the array. The sum of the sums of two such arrays minus the value at the pivot element gives the largest sum subarray which includes the $pivot$ element. <br><br>\n",
    " \n",
    "The <b>for</b> loop in <b>find_max_sum</b> maintains the loop invariant that variable $sum\\_temp$ contains the correct sum for all elements from $pivot$ to $i$ and element $max\\_sum$ contains the maximum sum discovered up to element $i$ so far. Once loop terminates $i$ is equal to the end of the array $max\\_sum$ variable contains the maximum sum for all arrays formed from the $pivot$ element to all possible end points. <br><br>\n",
    "    \n",
    "    \n",
    "The computation time of the <b>maximum_subarray</b> can be described using the following recursive relationship $T(n)=\\begin{cases}\n",
    "    2\\cdot T(\\lfloor n/2\\rfloor)+\\Theta(n), & \\text{if } n > 1,\\\\\n",
    "    \\Theta(1), & \\text{otherwise.}\n",
    "\\end{cases}$ <br><br>\n",
    "    \n",
    "The substitution method can be used to show that $T(n)=\\Theta(n\\log n)$ as in MergeSort.\n",
    "</div>"
   ]
  },
  {
   "cell_type": "markdown",
   "metadata": {},
   "source": [
    "(c) Briefly answer multiple questions below."
   ]
  },
  {
   "cell_type": "markdown",
   "metadata": {},
   "source": [
    "&emsp; (i) Derive Big-Theta expression to characterise the following function:  $f(n)=\\begin{cases} 1 & \\text{if }n=1,\\\\\n",
    "                      2f(\\lfloor \\frac{n}{2}\\rfloor)+3n\\log_2 n +n& \\text{otherwise.}\n",
    "         \\end{cases}$ <div style=\"text-align: right\">[10%]</div>"
   ]
  },
  {
   "attachments": {},
   "cell_type": "markdown",
   "metadata": {},
   "source": [
    "<div style=\"border-width:2px;border-style:solid;border-color:black;\">\n",
    "\n",
    "Using the recurrence tree, one can see that the run time complexity is $\\Theta(n\\log^2 n)$. <br><br>\n",
    "Lets first prove the upper bound, ie $f(n)\\leq c n\\log_2^2 n$ for some $c>0$ for all $n\\geq n_0$, where $n_0>0$.<br><br>\n",
    "We can assume that the bound holds for any $n < m$. We will then prove that it holds for $n$.<br><br>\n",
    "$f(n) = 2 f(\\lfloor \\frac{n}{2}\\rfloor)+3n \\log_2 n+n \\leq \\\\ \\leq 2 c \\frac{n}{2}\\log_2^2 \\frac{n}{2}+ 3n\\log_2 n + n = \\\\ = cn (\\log_2 n - 1)^2 + 3 n \\log_2 n +n = \\\\= cn \\log_2^2 n - 2cn \\log_2 n + cn + 3 n\\log_2 n + n = \\\\ = cn \\log_2^2 n + (3-2c)n\\log_2 n+ (c+1)n \\leq cn\\log_2^2 n $\n",
    " \n",
    "Note the final inequality holds for sufficiently large values of $n$ when $c>1.5$. Lower bound can be proven using a similar approach.\n",
    "\n",
    "</div>"
   ]
  },
  {
   "cell_type": "markdown",
   "metadata": {},
   "source": [
    "&emsp; (ii) What is a <i>loop invariant</i>? Give a concrete example of its use. <div style=\"text-align: right\">[10%]</div>"
   ]
  },
  {
   "cell_type": "markdown",
   "metadata": {},
   "source": [
    "<div style=\"border-width:2px;border-style:solid;border-color:black;\">\n",
    "A loop invariant is a property of a program that is true before the execution of each iteration of a loop. Loop invariants are used to understand why an algorithm is correct. <br><br>\n",
    "\n",
    "Three properties are shown about the loop invariant: (1) <u>initialization</u> - loop invariant is true prior to the first iteration,  (2) <u>maintenance.</u> - if it is true before the iteration of the loop, it remains true before next iteration and (3) <u>termination</u> - when the loop terminates, the invariant gives a useful property that helps to show that the algorithm is correct. <br><br>\n",
    "\n",
    "    \n",
    "Proof of correctnes for Insertion sort performed on array $A$. <br><br>\n",
    "\n",
    "<b>Loop invariant.</b> Elements $A[:j]$ are sorted before $j$-th execution of the for loop. <br><br>\n",
    "<b>Initialisation.</b> Clearly true for $j=1$ since array of one element is sorted. <br>\n",
    "<b>Maintenance.</b> Lets assume that the proposed condition is true for $j=k$, $k>=1$. Then we need to prove that it will be true for $j=k+1$. Informally, the <b>while</b> loop works by moving $A[k]$, $A[k-1]$, etc until it finds the proper position for $A[k+1]$ and updated subarray $A[:k+1]$ is sorted. <br>\n",
    "<b>Termination.</b> When <b>for</b> loop terminates we have $j=n$, hence the elements of the array, $A[:n]$, are sorted from the loop invariant. Which means that the entire array is sorted. <br><br>\n",
    "\n",
    "</div>"
   ]
  },
  {
   "cell_type": "markdown",
   "metadata": {},
   "source": [
    "&emsp; (iii)  Explain, in general terms, the main differences and similarities between the divide-and-conquer technique and dynamic programming. <div style=\"text-align: right\">[10%]</div>"
   ]
  },
  {
   "cell_type": "markdown",
   "metadata": {},
   "source": [
    "<div style=\"border-width:2px;border-style:solid;border-color:black;\">\n",
    "<b>Divide and conquer</b> is an inherently recursive technique which subdivides an input problem into\n",
    "smaller subproblems (e.g. sorting the left and the right sides of an array independently), ie. a top\n",
    "down approach. The solution to one subproblem does not affect the solution to another subproblem\n",
    "of the same level in the recursion tree. It is efficient for problems, where the overlap of subproblems is small or non-existent as in sorting via MergeSort. <br><br>\n",
    "    \n",
    "<b>Dynamic programming</b> is an inherently non-recursive technique which constructs the solution to the\n",
    "problem from solutions to smaller subproblems in a bottom up fashion (e.g. as in finding the longest\n",
    "common subsequence for two strings). It gains its efficiency from the fact that a solution to a\n",
    "problem can be constructed by considering a relatively small set of solutions to smaller subproblems\n",
    "and no problem is solved more than once (unlike when using divide and conquer).\n",
    "</div>"
   ]
  },
  {
   "cell_type": "markdown",
   "metadata": {},
   "source": [
    "(d) Write the function, **distance**($A$), which takes a list, $A$, as an input which contains two strings: $a$ and $b$. This function outputs: <br>\n",
    "\n",
    "&emsp; (1) the minimum number of edit operations required to make the string, $b$, match the string, $a$, as well as; <br>\n",
    "\n",
    "&emsp; (2) an example of such a sequence of operations. <br>\n",
    "\n",
    "Edit operations, are executed in a sequence to build the string, $a$, from characters of string, $b$, starting from location index, $i=0$. They are: <br>\n",
    "\n",
    "(i) $insert(\\text{<c>})$ - inserting the character, $\\text{<c>}$, without affecting the location index, $i$, of the next symbol to be used from $b$;<br>\n",
    "\n",
    "(ii) $delete(\\text{<c>})$ - deleting the character, $\\text{<c>}$ at the location, $i$, of $b$ (ie. $b[i]=\\text{<c>}$) and incrementing the location index (ie. $i=i+1$);<br>\n",
    "\n",
    "(iii) $replace(\\text{<c>},\\text{<d>})$ - replacing the character, $\\text{<c>}$ at location, $i$, of string, $b$ (ie. $b[i]=\\text{<c>}$) with character, $\\text{<d>}$, and incrementing the location index, $i$. <br>\n",
    "\n",
    "There is also a non-edit operation, $use(\\text{<c>})$, which uses the character, $\\text{<c>}$, of string, $b$ (ie. $b[i]=\\text{<c>}$), and increments the location index. This operation is not counted towards the total number of edit operations.  <div style=\"text-align: right\">[30%]</div>"
   ]
  },
  {
   "cell_type": "markdown",
   "metadata": {},
   "source": [
    "### Examples:"
   ]
  },
  {
   "cell_type": "markdown",
   "metadata": {},
   "source": [
    "**Input:** `[\"stand\",\"stamps\"]` <br>\n",
    "**Output:** `[3, ['use(s)', 'use(t)', 'use(a)', 'replace(m,n)', 'replace(p,d)', 'delete(s)']]` <br>\n",
    "**Explanation:** <br>\n",
    "- Location index is $0$. We use character 's' and increment location index to 1. \n",
    "- We use character 't' and increment location index to 2. \n",
    "- We use character 'a' and increment location index to 3. \n",
    "- Character, 'm', is at location 3 of string, $b$, so we replace it with character 'n' and increment location index to 4.\n",
    "- Character, 'p', is at location 4 of string, $b$, so we replace it with character 'd' and increment location index to 5.\n",
    "- We delete character, 's', at location 5.\n",
    "\n",
    "The resulting string is 's'+'t'+'a'+'n'+'d' = 'stand'. Total number of edit operations: 3.\n"
   ]
  },
  {
   "cell_type": "markdown",
   "metadata": {},
   "source": [
    "**Input:**  `[\"asleep\",\"steep\"]` <br>\n",
    "**Output:**  `[2, ['insert(a)', 'use(s)', 'replace(t,l)', 'use(e)', 'use(e)', 'use(p)']]` <br>\n",
    "**Explanation:** <br>\n",
    "- Location index is $0$. We insert character 'a' and keep location index at 0. \n",
    "- We use character 's' and increment location index to 1. \n",
    "- Character 't' is at location 1 of string $b$ so we replace it with character 'l' and increment location index to 2.\n",
    "- We use character 'e' and increment location index to 3. \n",
    "- We use character 'e' and increment location index to 4. \n",
    "- We use character 'p' and increment location index to 5. \n",
    "\n",
    "The resulting string is 'a'+'s'+'l'+'e'+'e'+'p' = 'asleep'. Total number of edit operations: 2."
   ]
  },
  {
   "cell_type": "markdown",
   "metadata": {},
   "source": [
    "### Constraints:\n",
    "\n",
    "- $1\\leq \\text{len}(a), \\text{len}(b) \\leq 100$."
   ]
  },
  {
   "cell_type": "markdown",
   "metadata": {},
   "source": [
    "### Code:"
   ]
  },
  {
   "cell_type": "code",
   "execution_count": 5,
   "metadata": {},
   "outputs": [],
   "source": [
    "def print_path(D,i,j):\n",
    "    path=[]\n",
    "    while i>0 or j >0:\n",
    "        path=[D[i][j]['action']]+path\n",
    "\n",
    "        i_p, j_p  = D[i][j]['previous'][0], D[i][j]['previous'][1]\n",
    "        i, j = i_p, j_p\n",
    "    return path\n",
    "def distance(A):  \n",
    "    \n",
    "    # Insert code here\n",
    "    \n",
    "    a, b = A[0], A[1]\n",
    "    # Declaring array 'D' with rows = len(a) + 1 and columns = len(b) + 1:\n",
    "    D = [[{'val':0,'action':None,'previous':None} for i in range(len(b) + 1)] for j in range(len(a) + 1)]\n",
    "\n",
    "    # Initialising first row:\n",
    "    for i in range(1,len(a)+1):\n",
    "        D[i][0] = {'val':i,'action':'insert('+str(a[i-1])+\")\",'previous':[i-1,0]}\n",
    "\n",
    "    # Initialising first column:\n",
    "    for j in range(1,len(b)+1):\n",
    "        D[0][j] = {'val':j,'action':'delete('+str(b[j-1])+\")\",'previous':[0,j-1]}\n",
    "\n",
    "    for i in range(0, len(a) ):\n",
    "        for j in range(0, len(b) ):          \n",
    "            if a[i] == b[j]:\n",
    "                D[i+1][j+1] = {'val':D[i ][j]['val'],'action':'use('+str(b[j])+\")\",'previous':[i,j]}\n",
    "           \n",
    "            else:\n",
    "                \n",
    "                # Adding 1 to account for the cost of operation\n",
    "                insertion = {'val':1 + D[i+1][j ]['val'],'action':\"delete(\"+str(b[j])+\")\",'previous':[i+1,j]}\n",
    "                deletion = {'val':1 + D[i][j+1]['val'], 'action':\"insert(\"+str(a[i])+\")\",'previous':[i,j+1]}\n",
    "                replacement = {'val': 1 + D[i][j]['val'], 'action':'replace('+str(b[j])+\",\"+str(a[i])+\")\",'previous':[i,j]}\n",
    "\n",
    "                D[i+1][j+1] = insertion\n",
    "                if (deletion['val']<D[i+1][j+1]['val']):\n",
    "                    D[i+1][j+1]= deletion\n",
    "                if (replacement['val']< D[i+1][j+1]['val']):\n",
    "                    D[i+1][j+1] = replacement\n",
    "                            \n",
    "\n",
    "    return [D[len(a)][len(b)]['val'], print_path(D,len(a),len(b))]\n"
   ]
  },
  {
   "cell_type": "markdown",
   "metadata": {},
   "source": [
    "### Tests:"
   ]
  },
  {
   "cell_type": "markdown",
   "metadata": {},
   "source": [
    "##### Run example test case 1:"
   ]
  },
  {
   "cell_type": "code",
   "execution_count": 6,
   "metadata": {},
   "outputs": [
    {
     "name": "stdout",
     "output_type": "stream",
     "text": [
      "[3, ['use(s)', 'use(t)', 'use(a)', 'replace(m,n)', 'replace(p,d)', 'delete(s)']]\n"
     ]
    }
   ],
   "source": [
    "input_value = [\"stand\",\"stamps\"]\n",
    "print(distance(input_value))"
   ]
  },
  {
   "cell_type": "markdown",
   "metadata": {},
   "source": [
    "##### Run example test case 2:"
   ]
  },
  {
   "cell_type": "code",
   "execution_count": 7,
   "metadata": {},
   "outputs": [
    {
     "name": "stdout",
     "output_type": "stream",
     "text": [
      "[2, ['insert(a)', 'use(s)', 'replace(t,l)', 'use(e)', 'use(e)', 'use(p)']]\n"
     ]
    }
   ],
   "source": [
    "input_value = [\"asleep\",\"steep\"]\n",
    "print(distance(input_value))"
   ]
  },
  {
   "cell_type": "markdown",
   "metadata": {},
   "source": [
    "#### Automatic Evaluation:"
   ]
  },
  {
   "cell_type": "markdown",
   "metadata": {},
   "source": [
    "<i><b><font color='red'>Do not forget to run on all test cases when your final implementation is finished!</font></b></i>"
   ]
  },
  {
   "cell_type": "code",
   "execution_count": 8,
   "metadata": {},
   "outputs": [
    {
     "name": "stdout",
     "output_type": "stream",
     "text": [
      "----------------------------------\n",
      "Evaluating question 1, part d\n",
      "Running question 1, part d, test id: 1\n",
      "Input:\n",
      "['stand', 'stamps']\n",
      "Obtained output:\n",
      "[3, ['use(s)', 'use(t)', 'use(a)', 'replace(m,n)', 'replace(p,d)', 'delete(s)']]\n",
      "<<CORRECT>>\n",
      "Running question 1, part d, test id: 2\n",
      "Input:\n",
      "['asleep', 'steep']\n",
      "Obtained output:\n",
      "[2, ['insert(a)', 'use(s)', 'replace(t,l)', 'use(e)', 'use(e)', 'use(p)']]\n",
      "<<CORRECT>>\n",
      "Running question 1, part d, test id: 3\n",
      "Input:\n",
      "['abcdefghijklmnopqrstuvwxyz', 'abcdefghijklmnopqrstuvwxyz']\n",
      "Obtained output:\n",
      "[0, ['use(a)', 'use(b)', 'use(c)', 'use(d)', 'use(e)', 'use(f)', 'use(g)', 'use(h)', 'use(i)', 'use(j)', 'use(k)', 'use(l)', 'use(m)', 'use(n)', 'use(o)', 'use(p)', 'use(q)', 'use(r)', 'use(s)', 'use(t)', 'use(u)', 'use(v)', 'use(w)', 'use(x)', 'use(y)', 'use(z)']]\n",
      "<<CORRECT>>\n",
      "Running question 1, part d, test id: 4\n",
      "Input:\n",
      "['aaaabbbb', 'abababab']\n",
      "Obtained output:\n",
      "[4, ['use(a)', 'replace(b,a)', 'insert(a)', 'use(a)', 'use(b)', 'replace(a,b)', 'use(b)', 'delete(a)', 'use(b)']]\n",
      "<<CORRECT>>\n",
      "Running question 1, part d, test id: 5\n",
      "Input:\n",
      "['aabaa', 'abaa']\n",
      "Obtained output:\n",
      "[1, ['insert(a)', 'use(a)', 'use(b)', 'use(a)', 'use(a)']]\n",
      "<<CORRECT>>\n",
      "-----------------\n",
      "Total correct outputs:\n",
      "5 out of 5\n",
      "----------------------------------\n"
     ]
    }
   ],
   "source": [
    "#DO NOT EDIT THIS CODE!\n",
    "from evaluation_script import evaluate_solution, valid_solution_string_edit \n",
    "evaluate_solution(question_id=1,question_part_id='d',function=distance,\n",
    "                  comparison_function=valid_solution_string_edit,\n",
    "                  test_case_list=[1,2,3,4,5],verbose=True)"
   ]
  },
  {
   "cell_type": "markdown",
   "metadata": {},
   "source": [
    "---\n",
    "<br>\n",
    "<br>\n",
    "<br>\n",
    "<br>\n",
    "<br>\n",
    "<br>\n",
    "<br>"
   ]
  },
  {
   "cell_type": "markdown",
   "metadata": {},
   "source": [
    "<b><center>END OF PAPER</center></b>"
   ]
  }
 ],
 "metadata": {
  "kernelspec": {
   "display_name": "p3x8_main",
   "language": "python",
   "name": "p3x8_main"
  },
  "language_info": {
   "codemirror_mode": {
    "name": "ipython",
    "version": 3
   },
   "file_extension": ".py",
   "mimetype": "text/x-python",
   "name": "python",
   "nbconvert_exporter": "python",
   "pygments_lexer": "ipython3",
   "version": "3.8.13"
  },
  "vscode": {
   "interpreter": {
    "hash": "d1f7a2bbba71ff99ad142cbae391e4ba52f39cd113df3e04f0425508106d86e1"
   }
  }
 },
 "nbformat": 4,
 "nbformat_minor": 4
}
