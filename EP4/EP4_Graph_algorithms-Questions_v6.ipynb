{
 "cells": [
  {
   "cell_type": "markdown",
   "metadata": {
    "hideCode": false
   },
   "source": [
    "\n",
    "# **4M26 - Examples Paper 4 - Graph Algorithms** \n"
   ]
  },
  {
   "cell_type": "markdown",
   "metadata": {},
   "source": [
    "---\n",
    "<br>\n",
    "<br>"
   ]
  },
  {
   "cell_type": "markdown",
   "metadata": {},
   "source": [
    "## 1."
   ]
  },
  {
   "cell_type": "markdown",
   "metadata": {},
   "source": [
    "Briefly answer multiple questions below."
   ]
  },
  {
   "cell_type": "markdown",
   "metadata": {},
   "source": [
    "&emsp; (i)&emsp; In your own words explain the terms, *directed graph*, *undirected graph*, *bipartite graph*, *strongly connected component*."
   ]
  },
  {
   "attachments": {},
   "cell_type": "markdown",
   "metadata": {},
   "source": [
    "<div style=\"border-width:2px;border-style:solid;border-color:black;padding:20px\">\n",
    "\n",
    "* Directed Graph - All edges have a source and sink vertex, and behave as a unidirectional path\n",
    "* UnDirected Graph - All edges have are bidirectional\n",
    "* Bipartite Graph - Vertices can be divided into 2 sets, where a vertex only has edges directly connected between itself and vertices in the other set\n",
    "* Strongly Connected Component - A set of vertices where each vertex in the set is reachable from every other vertex in the set\n",
    "\n",
    "</div>"
   ]
  },
  {
   "cell_type": "markdown",
   "metadata": {},
   "source": [
    "&emsp; (ii)&emsp; Give an example of a computational problem, to build solution for which you would prefer using breadth-first search (BFS) over depth first search (DFS). Also give another example of a problem which you would prefer to use DFS over BFS? Explain the reasoning behind your choices."
   ]
  },
  {
   "attachments": {},
   "cell_type": "markdown",
   "metadata": {},
   "source": [
    "<div style=\"border-width:2px;border-style:solid;border-color:black;padding:20px\">\n",
    "\n",
    "BFS - kruskal, Primms?s\n",
    "\n",
    "DFS - MWST?\n",
    "\n",
    "</div>"
   ]
  },
  {
   "cell_type": "markdown",
   "metadata": {},
   "source": [
    "&emsp; (iii)&emsp;  Suppose you use a stack instead of a queue\n",
    "when running breadth-first search. Does it still\n",
    "compute shortest paths?"
   ]
  },
  {
   "attachments": {},
   "cell_type": "markdown",
   "metadata": {},
   "source": [
    "<div style=\"border-width:2px;border-style:solid;border-color:black;padding:20px\">\n",
    "\n",
    "The queue in BFS operates in the following manner:\n",
    "\n",
    "``` python\n",
    "while Q:\n",
    "        u = Q.pop(0)\n",
    "        # loop through the edges belonging to u\n",
    "        for v in G.edges(u):\n",
    "            if (v.color == \"white\"):\n",
    "                v.color = \"gray\"\n",
    "                v.distance = u.distance + 1\n",
    "                v.parent = u\n",
    "                Q.append(v)\n",
    "            u.color = \"black\"\n",
    "```\n",
    "as such, replacing pop and append with pop and push, means on each iteration the final pushed element would be investigated next time around. This would effectively result in a DFS, and no longer computes shortest paths as a result, as via a DFS a node can be reached and marked discovered on a longer path, as the paths are not searched 'shortest first'.\n",
    "\n",
    "</div>"
   ]
  },
  {
   "cell_type": "markdown",
   "metadata": {},
   "source": [
    "&emsp; (iv)&emsp; Prove that every connected graph has a vertex whose removal (including all\n",
    "adjacent edges) will not disconnect the graph, and explain how to use a DFS graph traversal to find such\n",
    "a vertex. "
   ]
  },
  {
   "attachments": {},
   "cell_type": "markdown",
   "metadata": {},
   "source": [
    "<div style=\"border-width:2px;border-style:solid;border-color:black;padding:20px\">\n",
    "\n",
    "Proof by contradiction:\n",
    "\n",
    "Assume there is an node that is only connected to the connected graph through 1 other node such that it would be orphaned by the removal of that node:\n",
    "```\n",
    "G--x--y\n",
    "```\n",
    "\n",
    "Removal of x would orphan y, but as a result it must be the case that removal of y would not disconnect teh graph, as it is by definition only connected to 1 otherwise connected node. Hence there must always be a node that can be removed.\n",
    "\n",
    "A DFS would find the deepest node first, which should meet the above conditions.\n",
    "</div>"
   ]
  },
  {
   "cell_type": "markdown",
   "metadata": {},
   "source": [
    "&emsp; (v)&emsp; A team of programmers have a graph and want to compute a minimum spanning subtree. They are worried because the graph has some edges with negative weights. So they increase the weight on each edge by an amount, $W$, such that all weights become positve. They then find the spanning subtree in the adjusted graph. Will it be minimal in the original graph? "
   ]
  },
  {
   "attachments": {},
   "cell_type": "markdown",
   "metadata": {},
   "source": [
    "<div style=\"border-width:2px;border-style:solid;border-color:black;padding:20px\">\n",
    "\n",
    "No as the relative scaled weights of edges will shift, and may not be representative, e.g. the MST for \n",
    "\n",
    "````\n",
    "<--X--(-1)--Y--(-1)--Z---(2)-->\n",
    "\n",
    "+ 5\n",
    "\n",
    "<--X--(4)--Y--(4)--Z---(7)-->\n",
    "```\n",
    "</div>"
   ]
  },
  {
   "cell_type": "markdown",
   "metadata": {},
   "source": [
    "&emsp; (vi)&emsp;  What if the team aforementioned in Part (v) was looking for the shortest path? Ie. if the shortest path was found in a graph which had been adjusted using the same procedure, would it also be a shortest path in the original graph? "
   ]
  },
  {
   "attachments": {},
   "cell_type": "markdown",
   "metadata": {},
   "source": [
    "<div style=\"border-width:2px;border-style:solid;border-color:black;padding:20px\">\n",
    "\n",
    "No for the same reason - the shortest path from X to Z changes.\n",
    "</div>"
   ]
  },
  {
   "cell_type": "markdown",
   "metadata": {},
   "source": [
    "&emsp; (vii)&emsp; Explain why Dijkstra' algorithm can be classified as a greedy algorithm and why Bellman-Ford algorithm can be classified as a dynamic programming algorithm? How would you go about proving that once terminated Belman-Ford and Dijkstra algorithms compute single source shortest paths?"
   ]
  },
  {
   "attachments": {},
   "cell_type": "markdown",
   "metadata": {},
   "source": [
    "<div style=\"border-width:2px;border-style:solid;border-color:black;padding:20px\">\n",
    "\n",
    "A greedy algorithm makes the locally optimal solution, and achieves a globally optimal solution as a result.\n",
    "\n",
    "Dijkstra works by adding the optimal vertex to the shortest path problem at each interval, and then updating estimates for the next addition.\n",
    "\n",
    "Bellman-Ford operates by looping through every edge $|V|$ times, and checking to see if any distance improvements can be made. This is dynamic as it repeatedly attempts to solve optimal subproblem of relaxing an edge, and does so the worst-case number of times. The only case when $|V|$ loops are needed is if the vertices exist in a unfortunate single line, and only a single node is solved per loop.\n",
    "\n",
    "* Initialise\n",
    "* Maintenance \n",
    "* Termination\n",
    "\n",
    "</div>"
   ]
  },
  {
   "cell_type": "markdown",
   "metadata": {},
   "source": [
    "&emsp; (viii) Provide a detailed computation of run time complexity in terms of Big-O notation of Dijkstra's algorithm."
   ]
  },
  {
   "attachments": {},
   "cell_type": "markdown",
   "metadata": {},
   "source": [
    "<div style=\"border-width:2px;border-style:solid;border-color:black;padding:20px\">\n",
    "\n",
    "* Goes through each vertex $|V|$ and at each vertex relaxes every edge attached to it \n",
    "* Does this not depend on the degree of connection?\n",
    "</div>"
   ]
  },
  {
   "cell_type": "markdown",
   "metadata": {},
   "source": [
    "&emsp; (ix)&emsp; Illustrate the execution of the Ford-Fulkerson method and Edmonds-Karp algorithm on the graph below. Note here $s$ and $t$ are source and sink vertices of the flow network respectively. <img src=\"./flow_network.jpeg\" border=\"0\" class=\"bg-primary\" width=\"400px\"> "
   ]
  },
  {
   "attachments": {},
   "cell_type": "markdown",
   "metadata": {},
   "source": [
    "<div style=\"border-width:2px;border-style:solid;border-color:black;padding:20px\">\n",
    "Write your answer here.\n",
    "</div>"
   ]
  },
  {
   "cell_type": "markdown",
   "metadata": {},
   "source": [
    "&emsp; (x)&emsp; In your own words explain why finding a maximum bipartite matching in a bipartite graph is equivalent to finding the maximum flow in some particular flow network. How you would construct such a flow network?"
   ]
  },
  {
   "attachments": {},
   "cell_type": "markdown",
   "metadata": {},
   "source": [
    "<div style=\"border-width:2px;border-style:solid;border-color:black;padding:20px\">\n",
    "Write your answer here.\n",
    "</div>"
   ]
  },
  {
   "cell_type": "markdown",
   "metadata": {},
   "source": [
    "---\n",
    "<br>\n",
    "<br>\n",
    "<br>"
   ]
  },
  {
   "cell_type": "markdown",
   "metadata": {},
   "source": [
    "## 2. "
   ]
  },
  {
   "cell_type": "markdown",
   "metadata": {
    "cell_style": "center"
   },
   "source": [
    "Write the function, **bfs**($L$), which takes a list, $L$, as an input. This list itself consists of an adjacency list, $A$, which represents some undirected graph and a single value, $s$, which represents the starting node. The function should perform the Breadth-First Search traversal of the graph, starting from node, $s$. The output should be a list of nodes ordered in the same order as they were removed from the BFS queue.\n",
    "\n",
    "Note that in this adjacency list representation we assume that graph nodes are numbered from $0$ to $n-1$ and the neighbours of the node, $i$, are stored as a list, $A[i]$. Also note that several orderings can be valid."
   ]
  },
  {
   "cell_type": "markdown",
   "metadata": {},
   "source": [
    "### Examples:"
   ]
  },
  {
   "cell_type": "markdown",
   "metadata": {},
   "source": [
    "**Input:** `[[[1, 2], [0, 2, 3, 4], [0, 1, 5, 6], [1], [1, 5], [2, 4], [2]], 0]` <br>\n",
    "**Output:** `[0, 1, 2, 3, 4, 5, 6]`"
   ]
  },
  {
   "cell_type": "markdown",
   "metadata": {},
   "source": [
    "**Input:**  `[[[3, 4, 8, 9], [2, 9], [1, 4, 5 ,6], [0, 7], [0, 2], [2, 7], [2], [3, 5], [0], [0, 1]], 9]` <br>\n",
    "**Output:**  `[9, 0, 1, 3, 4, 8, 2, 7, 5, 6]`"
   ]
  },
  {
   "cell_type": "markdown",
   "metadata": {},
   "source": [
    "### Constraints:\n",
    "\n",
    "- $1\\leq n \\leq 100$.\n",
    "- if $(u,v)$ is an edge in the graph then both $u \\in A[v]$ and $v \\in A[u]$."
   ]
  },
  {
   "cell_type": "markdown",
   "metadata": {},
   "source": [
    "### Code:"
   ]
  },
  {
   "cell_type": "code",
   "execution_count": 3,
   "metadata": {},
   "outputs": [],
   "source": [
    "def bfs(L):\n",
    "    Aj, s = L[0], L[1]\n",
    "    ret = [] # store visitation output\n",
    "    colors = ['white' for _ in Aj] # log colors\n",
    "    Qu = [s] # bfs FIFO\n",
    "\n",
    "    while len(Qu):\n",
    "        # get the next node to visit\n",
    "        u = Qu.pop(0)\n",
    "        ret.append(u)\n",
    "        \n",
    "        # go through all of its connections\n",
    "        for v in Aj[u]:\n",
    "            # if a node hasn't been discovered\n",
    "            if colors[v] == 'white':\n",
    "                Qu.append(v)\n",
    "                colors[v] = 'gray'\n",
    "        # we're finished with u\n",
    "        colors[u] = 'black'\n",
    "\n",
    "    return ret"
   ]
  },
  {
   "cell_type": "markdown",
   "metadata": {},
   "source": [
    "### Tests:"
   ]
  },
  {
   "cell_type": "markdown",
   "metadata": {},
   "source": [
    "##### Run example test case 1:"
   ]
  },
  {
   "cell_type": "code",
   "execution_count": 6,
   "metadata": {},
   "outputs": [
    {
     "name": "stdout",
     "output_type": "stream",
     "text": [
      "[0, 1, 2, 3, 4, 5, 6]\n"
     ]
    }
   ],
   "source": [
    "input_value = [[[1, 2], [0, 2, 3, 4], [0, 1, 5, 6], [1], [1, 5], [2, 4], [2]], 0]\n",
    "print (bfs(input_value))"
   ]
  },
  {
   "cell_type": "markdown",
   "metadata": {},
   "source": [
    "##### Run example test case 2:"
   ]
  },
  {
   "cell_type": "code",
   "execution_count": 7,
   "metadata": {},
   "outputs": [
    {
     "name": "stdout",
     "output_type": "stream",
     "text": [
      "[9, 0, 1, 3, 4, 8, 2, 7, 5, 6]\n"
     ]
    }
   ],
   "source": [
    "input_value = [[[3, 4, 8, 9], [2, 9], [1, 4, 5 ,6], [0, 7], [0, 2], [2, 7], [2], [3, 5], [0], [0, 1]], 9]\n",
    "print (bfs(input_value))"
   ]
  },
  {
   "cell_type": "markdown",
   "metadata": {},
   "source": [
    "---\n",
    "<br>\n",
    "<br>\n",
    "<br>"
   ]
  },
  {
   "cell_type": "markdown",
   "metadata": {},
   "source": [
    "## 3."
   ]
  },
  {
   "cell_type": "markdown",
   "metadata": {
    "cell_style": "center",
    "hideOutput": true
   },
   "source": [
    "Diameter of a tree, $T=(V,E)$, is defined as $\\max_{u,v\\in V}\\delta(u,v)$, that is, the largest of all shortest-path distances in the tree. Implement an efficient algorithm, as part of function, **diameter**($L$), to compute the diameter of a tree. Here $L$ is an adjacency list representation of a tree. Nodes in the tree are numbered form 0 to $n-1$ (here $n$ is the number of nodes in a tree). The output of the implemented function is a single number corresponding to a diameter of the tree."
   ]
  },
  {
   "cell_type": "markdown",
   "metadata": {},
   "source": [
    "### Examples:"
   ]
  },
  {
   "cell_type": "markdown",
   "metadata": {},
   "source": [
    "**Input:** `[[1, 2], [0, 3, 4], [0, 5, 6], [1], [1], [2], [2]]` <br>\n",
    "**Output:** `4`"
   ]
  },
  {
   "cell_type": "markdown",
   "metadata": {},
   "source": [
    "**Input:**  `[[8, 9, 3, 4], [2, 9], [1, 5, 6], [0, 7], [0], [2], [2], [3], [0], [0, 1]]` <br>\n",
    "**Output:**  `6`"
   ]
  },
  {
   "cell_type": "markdown",
   "metadata": {},
   "source": [
    "### Constraints:\n",
    "\n",
    "- $1 \\leq n \\leq 1000$"
   ]
  },
  {
   "cell_type": "markdown",
   "metadata": {},
   "source": [
    "### Code:"
   ]
  },
  {
   "cell_type": "code",
   "execution_count": 29,
   "metadata": {},
   "outputs": [
    {
     "name": "stdout",
     "output_type": "stream",
     "text": [
      "4\n"
     ]
    }
   ],
   "source": [
    "def diameter(L):\n",
    "    # Floyd-Warshall Method\n",
    "    # Create the weights matrix\n",
    "    D = [[float('inf') for _ in L] for __ in L]\n",
    "    n = len(L)\n",
    "\n",
    "    for v, V in enumerate(L):\n",
    "        for u in V:\n",
    "            D[u][v] = 1\n",
    "            D[v][u] = 1\n",
    "\n",
    "    for k in range(n):\n",
    "        for i in range(n):\n",
    "            for j in range(n):\n",
    "                D[i][j] = min(D[i][j], D[i][k] + D[k][j])\n",
    "\n",
    "    max_w = max([x for d in D for x in d])\n",
    "    return max_w\n",
    "\n",
    "input_value = [[1, 2], [0, 3, 4], [0, 5, 6], [1], [1], [2], [2]]\n",
    "print (diameter(input_value))"
   ]
  },
  {
   "cell_type": "markdown",
   "metadata": {},
   "source": [
    "### Tests:"
   ]
  },
  {
   "cell_type": "markdown",
   "metadata": {},
   "source": [
    "##### Run example test case 1:"
   ]
  },
  {
   "cell_type": "code",
   "execution_count": 30,
   "metadata": {},
   "outputs": [
    {
     "name": "stdout",
     "output_type": "stream",
     "text": [
      "4\n"
     ]
    }
   ],
   "source": [
    "input_value = [[1, 2], [0, 3, 4], [0, 5, 6], [1], [1], [2], [2]]\n",
    "print (diameter(input_value))"
   ]
  },
  {
   "cell_type": "markdown",
   "metadata": {},
   "source": [
    "##### Run example test case 2:"
   ]
  },
  {
   "cell_type": "code",
   "execution_count": 31,
   "metadata": {},
   "outputs": [
    {
     "name": "stdout",
     "output_type": "stream",
     "text": [
      "6\n"
     ]
    }
   ],
   "source": [
    "input_value = [[8, 9, 3, 4], [2, 9], [1, 5, 6], [0, 7], [0], [2], [2], [3], [0], [0, 1]]\n",
    "print (diameter(input_value))"
   ]
  },
  {
   "cell_type": "markdown",
   "metadata": {},
   "source": [
    "---\n",
    "<br>\n",
    "<br>\n",
    "<br>"
   ]
  },
  {
   "cell_type": "markdown",
   "metadata": {},
   "source": [
    "## 4. "
   ]
  },
  {
   "cell_type": "markdown",
   "metadata": {
    "cell_style": "center"
   },
   "source": [
    "Write the function, <b>topological_sort</b>($A$), which is given a list, $A$, of two lists as an input. The first list, $T,$ enumerates tasks to be performed. The second list, $C$, enumerates pairwise task order constraints. The function should output the order of tasks which would respect all the constraints. If a valid ordering is not possible the function should output a string, `\"impossible\"`.\n",
    "\n",
    "Each task is represented as a string (e.g. `\"sport\"`). Each task order constraint is represented by a string of two tasks separated by a dash, `\"-\"` (e.g. `\"homework-sport\"`). In order to respect this particular constraint the task `\"homework\"` should be performed before the task `\"sport\"`.<br>\n",
    "\n",
    "The worst case runtime of your solution should be not worse than $O(n+m)$, where $n$ is the number of tasks and $m$ is the number of constraints. <br>\n",
    "\n",
    "Note that a function, <b>to_adjacency_representation</b>$(T,C)$, is provided to convert the constraint list into an adjacency list representation. You can ignore the costs of this operation in your reasoning."
   ]
  },
  {
   "cell_type": "markdown",
   "metadata": {},
   "source": [
    "### Examples:"
   ]
  },
  {
   "cell_type": "markdown",
   "metadata": {},
   "source": [
    "**Input:** `[[\"homework\",\"sleep\",\"cycle\",\"eat\",\"learn\",\"sport\"],[\"homework-sport\",\"sleep-cycle\",\"eat-cycle\",\"eat-homework\",\"learn-cycle\"]]` <br>\n",
    "**Output:** `sleep-eat-learn-cycle-homework-sport`"
   ]
  },
  {
   "cell_type": "markdown",
   "metadata": {},
   "source": [
    "**Input:**  `[[\"homework\",\"sleep\",\"sport\"],[\"sleep-sport\",\"sport-homework\",\"homework-sleep\"]]` <br>\n",
    "**Output:**  `impossible`"
   ]
  },
  {
   "cell_type": "markdown",
   "metadata": {},
   "source": [
    "### Constraints:\n",
    "\n",
    "- $1\\leq n \\leq 50$.\n",
    "- $1\\leq m \\leq 50$."
   ]
  },
  {
   "cell_type": "markdown",
   "metadata": {},
   "source": [
    "### Code:"
   ]
  },
  {
   "cell_type": "code",
   "execution_count": 75,
   "metadata": {},
   "outputs": [
    {
     "name": "stdout",
     "output_type": "stream",
     "text": [
      "learn-eat-sleep-cycle-homework-sport\n"
     ]
    }
   ],
   "source": [
    "def to_adjacency_representation(T,C):\n",
    "    V={}\n",
    "    Adj=[]\n",
    "    for i in range(len(T)):\n",
    "        V[T[i]]=i\n",
    "        Adj.append([])\n",
    "    for i in range(len(C)):\n",
    "        v0 = C[i].split('-')[0]\n",
    "        v1 = C[i].split('-')[1]\n",
    "        Adj[V[v0]].append(V[v1])\n",
    "    return V,Adj\n",
    "\n",
    "\n",
    "\n",
    "def topological_sort(A): \n",
    "    # T is tasks to be performed\n",
    "    # C is constraints on ordering\n",
    "    T, C = A[0], A[1]\n",
    "    V, Adj = to_adjacency_representation(T,C)\n",
    "    # V: Dict of 'Task'->id - can be backtracked as is in order of T\n",
    "    # Adj is an adjacency list of ID's\n",
    "   \n",
    "    # Need to get a topological sort of the list\n",
    "    # Perform a DFS, compute finish times, export in reverse finish time\n",
    "    colours = ['white' for _ in T]\n",
    "    finisht = [1000000 for _ in T]\n",
    "    stack = []\n",
    "    time = 0\n",
    "\n",
    "    def DFS_visit(index):\n",
    "        nonlocal time\n",
    "        nonlocal colours\n",
    "        nonlocal finisht\n",
    "        nonlocal Adj\n",
    "        stack.append(index)\n",
    "        \n",
    "        time += 1\n",
    "        colours[index] = \"gray\" # set as on frontier\n",
    "\n",
    "        # loop through all vertices connected to u\n",
    "        for v in Adj[index]:\n",
    "            if v in stack:\n",
    "                raise ValueError\n",
    "            # if one is undiscovered, discover it and descend\n",
    "            if (colours[v] == \"white\"):\n",
    "                DFS_visit(v)\n",
    "\n",
    "        colours[index] = \"black\" # set as complete\n",
    "        time += 1\n",
    "        finisht[index] = time # set finish time\n",
    "        stack.remove(index)\n",
    "\n",
    "    # Visit any disjoint undiscovered sections of the graph\n",
    "    for t in T:\n",
    "        t_index = V[t]\n",
    "        if colours[t_index] == \"white\":\n",
    "            try:\n",
    "                DFS_visit(t_index)\n",
    "            except ValueError:\n",
    "                return 'impossible'\n",
    "    \n",
    "    # return in reverse finish time order\n",
    "    # create a list for each finishing time\n",
    "    A = [-1 for _ in range(max(finisht)+1)]\n",
    "    # index and load A by finishing time\n",
    "    for i, v in enumerate(finisht):\n",
    "        A[finisht[i]] = (v, T[i])\n",
    "    # remove all -1's (not updates indices)\n",
    "    A = list(filter(lambda a: a != -1, A))\n",
    "    A.reverse() # reverse finishing time\n",
    "    # return \"-\".join(x[0] for x in finisht)\n",
    "    return \"-\".join(x[1] for x in A)\n",
    "\n",
    "\n",
    "input_value = [[\"homework\",\"sleep\",\"cycle\",\"eat\",\"learn\",\"sport\"],[\"homework-sport\",\"sleep-cycle\",\"eat-cycle\",\"eat-homework\",\"learn-cycle\"]]\n",
    "print (topological_sort(input_value))"
   ]
  },
  {
   "cell_type": "markdown",
   "metadata": {},
   "source": [
    "### Tests:"
   ]
  },
  {
   "cell_type": "markdown",
   "metadata": {},
   "source": [
    "##### Run example test case 1:"
   ]
  },
  {
   "cell_type": "code",
   "execution_count": 76,
   "metadata": {},
   "outputs": [
    {
     "name": "stdout",
     "output_type": "stream",
     "text": [
      "learn-eat-sleep-cycle-homework-sport\n"
     ]
    }
   ],
   "source": [
    "input_value = [[\"homework\",\"sleep\",\"cycle\",\"eat\",\"learn\",\"sport\"], \\\n",
    "               [\"homework-sport\",\"sleep-cycle\",\"eat-cycle\",\"eat-homework\",\"learn-cycle\"]]\n",
    "print (topological_sort(input_value))"
   ]
  },
  {
   "cell_type": "markdown",
   "metadata": {},
   "source": [
    "##### Run example test case 2:"
   ]
  },
  {
   "cell_type": "code",
   "execution_count": 77,
   "metadata": {},
   "outputs": [
    {
     "name": "stdout",
     "output_type": "stream",
     "text": [
      "impossible\n"
     ]
    }
   ],
   "source": [
    "input_value = [[\"homework\",\"sleep\",\"sport\"],\n",
    "               [\"sleep-sport\",\"sport-homework\",\"homework-sleep\"]]\n",
    "print (topological_sort(input_value))"
   ]
  },
  {
   "cell_type": "markdown",
   "metadata": {},
   "source": [
    "---\n",
    "<br>\n",
    "<br>\n",
    "<br>"
   ]
  },
  {
   "cell_type": "markdown",
   "metadata": {},
   "source": [
    "## 5. "
   ]
  },
  {
   "cell_type": "markdown",
   "metadata": {
    "cell_style": "center"
   },
   "source": [
    "Write the function, **minimum_lenght**($L$), which takes in a list of 3 elements as an input. The first element, $n$, is the total number of vertices in the graph, the second element, $A$, is a list of triplets (lists of 3 elements) where each triplet, $[u_i,v_i,w_i]$, represents an edge from vertex, $u_i$, to vertex, $v_i$, of weight, $w_i$, in a directed graph. The final element is the starting node, $s$. \n",
    "\n",
    "Your function should output the smallest distance, $d$, for which shortest paths, $\\delta(s,v_i)$, for all vertices $v_i$ in the graph, except $s$, are of the same length or shorter than $d$. If not all vertices can be reached from $s$ then your function should output `-1`."
   ]
  },
  {
   "cell_type": "markdown",
   "metadata": {},
   "source": [
    "### Examples:"
   ]
  },
  {
   "cell_type": "markdown",
   "metadata": {},
   "source": [
    "**Input:** `[4, [[1, 0, 1], [1, 2, 1], [2, 3, 1]], 1]` <br>\n",
    "**Output:** `2`"
   ]
  },
  {
   "cell_type": "markdown",
   "metadata": {},
   "source": [
    "**Input:**  `[2, [[0, 1, 1], 1]` <br>\n",
    "**Output:**  `-1`"
   ]
  },
  {
   "cell_type": "markdown",
   "metadata": {},
   "source": [
    "### Constraints:\n",
    "\n",
    "- $1 \\leq n \\leq 100$.\n",
    "- $0 < w_i \\leq 10^6$."
   ]
  },
  {
   "cell_type": "markdown",
   "metadata": {},
   "source": [
    "### Code:"
   ]
  },
  {
   "cell_type": "code",
   "execution_count": 113,
   "metadata": {},
   "outputs": [],
   "source": [
    "def minimum_length(L):\n",
    "    n, E, s = L\n",
    "    # find the values of delta(s, v_i) or the Shortest Path to S\n",
    "    # output the maximum value of delta    \n",
    "\n",
    "    def findQ(x, Q):\n",
    "        for q in range(len(Q)):\n",
    "            if Q[q][0] == x:\n",
    "                return q\n",
    "        return None\n",
    "\n",
    "    # configure tracking metrics\n",
    "    Q = [[i, None, float('inf')] for i in range(n)]\n",
    "    Q[findQ(s, Q)][2] = 0\n",
    "\n",
    "    # generate adjacency list\n",
    "    Adj = [[] for _ in range(n)]\n",
    "    for e in E:\n",
    "        Adj[e[0]].append((e[1], e[2])) # store the next ID and weight\n",
    "\n",
    "    # perform dijkstra\n",
    "    S = []\n",
    "    while len(Q):\n",
    "        # sort Q by best distance\n",
    "        Q = sorted(Q, key=lambda x: x[2], reverse=False)\n",
    "        u = Q.pop(0)\n",
    "        S.append(u)\n",
    "\n",
    "        # relax all edges attached to u\n",
    "        for e in Adj[u[0]]:\n",
    "            b = findQ(e[0], Q)\n",
    "            w = e[1]\n",
    "            if b is not None:\n",
    "                if Q[b][2] > u[2] + w:\n",
    "                    Q[b][2] = u[2] + w\n",
    "                    Q[b][1] = u[0]\n",
    "\n",
    "    # S now holds a valid Q format set\n",
    "    S = sorted(S, key=lambda x: x[2], reverse=True)\n",
    "    if S[0][2] == float('inf'):\n",
    "        return -1\n",
    "    return S[0][2] \n"
   ]
  },
  {
   "cell_type": "markdown",
   "metadata": {},
   "source": [
    "### Tests:"
   ]
  },
  {
   "cell_type": "markdown",
   "metadata": {},
   "source": [
    "##### Run example test case 1:"
   ]
  },
  {
   "cell_type": "code",
   "execution_count": 114,
   "metadata": {},
   "outputs": [
    {
     "name": "stdout",
     "output_type": "stream",
     "text": [
      "2\n"
     ]
    }
   ],
   "source": [
    "input_value = [4, [[1, 0, 1], [1, 2, 1], [2, 3, 1]], 1]\n",
    "print (minimum_length(input_value))"
   ]
  },
  {
   "cell_type": "markdown",
   "metadata": {},
   "source": [
    "##### Run example test case 2:"
   ]
  },
  {
   "cell_type": "code",
   "execution_count": 115,
   "metadata": {},
   "outputs": [
    {
     "name": "stdout",
     "output_type": "stream",
     "text": [
      "-1\n"
     ]
    }
   ],
   "source": [
    "input_value = [2, [[0, 1, 1]], 1]\n",
    "print (minimum_length(input_value))"
   ]
  },
  {
   "cell_type": "markdown",
   "metadata": {},
   "source": [
    "---\n",
    "<br>\n",
    "<br>\n",
    "<br>"
   ]
  },
  {
   "cell_type": "markdown",
   "metadata": {},
   "source": [
    "## 6."
   ]
  },
  {
   "cell_type": "markdown",
   "metadata": {
    "cell_style": "center"
   },
   "source": [
    "Write the the function **multi_source_flow**($A$), which takes a list, $A$, as an input. The first element of this list is $n$ - the total number of vertices in the graph. The second element is $A$ - a list of triplets (lists of 3 elements) where each triplet, $[u_i,v_i,c_i]$, represents an edge from vertex, $u_i$, to vertex, $v_i$, of capacity, $c_i$, in a flow network. The final two elements are lists, $S$, and $T$, each of which represent a set of source nodes and sink nodes, respectively. The function should find the maximum flow that can flow through the flow network described in the input. <br>\n",
    "\n",
    "Note that the flow network may contain anti-parallel edges (e.g. $(u,v)$ and $(v,u)$ at the same time). <br>\n",
    "\n",
    "Also note, we assume that graph nodes are represented by integers from $0$ to $n-1$. "
   ]
  },
  {
   "cell_type": "markdown",
   "metadata": {},
   "source": [
    "### Examples:"
   ]
  },
  {
   "cell_type": "markdown",
   "metadata": {},
   "source": [
    "**Input:** `[7,[[0, 2, 5], [1, 3, 1],[2,3,1],[3,2,2],[2,4,6],[3,5,2],[4,6,3],[5,4,2],[5,6,3],[0,1],[6]]` <br>\n",
    "**Output:** `5`"
   ]
  },
  {
   "cell_type": "markdown",
   "metadata": {},
   "source": [
    "**Input:**  `[8,[[0,2,4],[1,3,4],[2,3,3],[2,4,6],[3,5,2],[4,6,5],[4,5,6],[5,4,4],[5,7,1]],[0,1],[6,7]],[0,1],[6,7]]` <br>\n",
    "**Output:**  `6`"
   ]
  },
  {
   "cell_type": "markdown",
   "metadata": {},
   "source": [
    "### Constraints:\n",
    "\n",
    "- $ 2\\leq n \\leq 100$.\n",
    "- The network always contains at least one source and one sink node."
   ]
  },
  {
   "cell_type": "markdown",
   "metadata": {},
   "source": [
    "### Code:"
   ]
  },
  {
   "cell_type": "code",
   "execution_count": 146,
   "metadata": {},
   "outputs": [
    {
     "name": "stdout",
     "output_type": "stream",
     "text": [
      "[0, 2, 5, 0, 5, 0]\n",
      "[[None, inf], [None, inf], [None, inf], [None, inf], [None, inf], [None, inf], [None, inf], [None, inf], [None, inf], [None, 0]] 0 2\n",
      "[1, 3, 1, 0, 1, 0]\n",
      "[[None, inf], [None, inf], [None, inf], [None, inf], [None, inf], [None, inf], [None, inf], [None, inf], [None, inf], [None, 0]] 1 3\n",
      "[2, 3, 1, 0, 1, 0]\n",
      "[[None, inf], [None, inf], [None, inf], [None, inf], [None, inf], [None, inf], [None, inf], [None, inf], [None, inf], [None, 0]] 2 3\n",
      "[3, 8, 2, 0, 2, 0]\n",
      "[[None, inf], [None, inf], [None, inf], [None, inf], [None, inf], [None, inf], [None, inf], [None, inf], [None, inf], [None, 0]] 3 8\n",
      "[2, 4, 6, 0, 6, 0]\n",
      "[[None, inf], [None, inf], [None, inf], [None, inf], [None, inf], [None, inf], [None, inf], [None, inf], [None, inf], [None, 0]] 2 4\n",
      "[3, 5, 2, 0, 2, 0]\n",
      "[[None, inf], [None, inf], [None, inf], [None, inf], [None, inf], [None, inf], [None, inf], [None, inf], [None, inf], [None, 0]] 3 5\n",
      "[4, 6, 3, 0, 3, 0]\n",
      "[[None, inf], [None, inf], [None, inf], [None, inf], [None, inf], [None, inf], [None, inf], [None, inf], [None, inf], [None, 0]] 4 6\n",
      "[5, 4, 2, 0, 2, 0]\n",
      "[[None, inf], [None, inf], [None, inf], [None, inf], [None, inf], [None, inf], [None, inf], [None, inf], [None, inf], [None, 0]] 5 4\n",
      "[5, 6, 3, 0, 3, 0]\n",
      "[[None, inf], [None, inf], [None, inf], [None, inf], [None, inf], [None, inf], [None, inf], [None, inf], [None, inf], [None, 0]] 5 6\n",
      "[8, 2, 2, 0, 2, 0]\n",
      "[[None, inf], [None, inf], [None, inf], [None, inf], [None, inf], [None, inf], [None, inf], [None, inf], [None, inf], [None, 0]] 8 2\n",
      "[9, 0, inf, 0, inf, 0]\n",
      "[[None, inf], [None, inf], [None, inf], [None, inf], [None, inf], [None, inf], [None, inf], [None, inf], [None, inf], [None, 0]] 9 0\n",
      "[9, 1, inf, 0, inf, 0]\n",
      "[[9, 1], [None, inf], [None, inf], [None, inf], [None, inf], [None, inf], [None, inf], [None, inf], [None, inf], [None, 0]] 9 1\n",
      "[6, 10, inf, 0, inf, 0]\n",
      "[[9, 1], [9, 1], [None, inf], [None, inf], [None, inf], [None, inf], [None, inf], [None, inf], [None, inf], [None, 0]] 6 10\n"
     ]
    },
    {
     "ename": "IndexError",
     "evalue": "list index out of range",
     "output_type": "error",
     "traceback": [
      "\u001b[0;31m---------------------------------------------------------------------------\u001b[0m",
      "\u001b[0;31mIndexError\u001b[0m                                Traceback (most recent call last)",
      "\u001b[1;32m/home/luke/Documents/IIBl/4M26/EP4/EP4_Graph_algorithms-Questions_v6.ipynb Cell 89\u001b[0m in \u001b[0;36m<cell line: 73>\u001b[0;34m()\u001b[0m\n\u001b[1;32m     <a href='vscode-notebook-cell:/home/luke/Documents/IIBl/4M26/EP4/EP4_Graph_algorithms-Questions_v6.ipynb#Y154sZmlsZQ%3D%3D?line=65'>66</a>\u001b[0m                     vertex[b][_parent] \u001b[39m=\u001b[39m a\n\u001b[1;32m     <a href='vscode-notebook-cell:/home/luke/Documents/IIBl/4M26/EP4/EP4_Graph_algorithms-Questions_v6.ipynb#Y154sZmlsZQ%3D%3D?line=71'>72</a>\u001b[0m input_value \u001b[39m=\u001b[39m [\u001b[39m7\u001b[39m,[[\u001b[39m0\u001b[39m, \u001b[39m2\u001b[39m, \u001b[39m5\u001b[39m], [\u001b[39m1\u001b[39m, \u001b[39m3\u001b[39m, \u001b[39m1\u001b[39m],[\u001b[39m2\u001b[39m,\u001b[39m3\u001b[39m,\u001b[39m1\u001b[39m],[\u001b[39m3\u001b[39m,\u001b[39m2\u001b[39m,\u001b[39m2\u001b[39m],[\u001b[39m2\u001b[39m,\u001b[39m4\u001b[39m,\u001b[39m6\u001b[39m],[\u001b[39m3\u001b[39m,\u001b[39m5\u001b[39m,\u001b[39m2\u001b[39m],[\u001b[39m4\u001b[39m,\u001b[39m6\u001b[39m,\u001b[39m3\u001b[39m],[\u001b[39m5\u001b[39m,\u001b[39m4\u001b[39m,\u001b[39m2\u001b[39m],[\u001b[39m5\u001b[39m,\u001b[39m6\u001b[39m,\u001b[39m3\u001b[39m]],[\u001b[39m0\u001b[39m,\u001b[39m1\u001b[39m],[\u001b[39m6\u001b[39m]]\n\u001b[0;32m---> <a href='vscode-notebook-cell:/home/luke/Documents/IIBl/4M26/EP4/EP4_Graph_algorithms-Questions_v6.ipynb#Y154sZmlsZQ%3D%3D?line=72'>73</a>\u001b[0m \u001b[39mprint\u001b[39m (multi_source_flow(input_value))\n\u001b[1;32m     <a href='vscode-notebook-cell:/home/luke/Documents/IIBl/4M26/EP4/EP4_Graph_algorithms-Questions_v6.ipynb#Y154sZmlsZQ%3D%3D?line=73'>74</a>\u001b[0m \u001b[39massert\u001b[39;00m multi_source_flow(input_value) \u001b[39m==\u001b[39m \u001b[39m5\u001b[39m\n",
      "\u001b[1;32m/home/luke/Documents/IIBl/4M26/EP4/EP4_Graph_algorithms-Questions_v6.ipynb Cell 89\u001b[0m in \u001b[0;36mmulti_source_flow\u001b[0;34m(A)\u001b[0m\n\u001b[1;32m     <a href='vscode-notebook-cell:/home/luke/Documents/IIBl/4M26/EP4/EP4_Graph_algorithms-Questions_v6.ipynb#Y154sZmlsZQ%3D%3D?line=61'>62</a>\u001b[0m b \u001b[39m=\u001b[39m E[i][_b]\n\u001b[1;32m     <a href='vscode-notebook-cell:/home/luke/Documents/IIBl/4M26/EP4/EP4_Graph_algorithms-Questions_v6.ipynb#Y154sZmlsZQ%3D%3D?line=62'>63</a>\u001b[0m \u001b[39m# relax\u001b[39;00m\n\u001b[0;32m---> <a href='vscode-notebook-cell:/home/luke/Documents/IIBl/4M26/EP4/EP4_Graph_algorithms-Questions_v6.ipynb#Y154sZmlsZQ%3D%3D?line=63'>64</a>\u001b[0m \u001b[39mif\u001b[39;00m vertex[b][_dist] \u001b[39m>\u001b[39m vertex[a][_dist] \u001b[39m+\u001b[39m \u001b[39m1\u001b[39m:\n\u001b[1;32m     <a href='vscode-notebook-cell:/home/luke/Documents/IIBl/4M26/EP4/EP4_Graph_algorithms-Questions_v6.ipynb#Y154sZmlsZQ%3D%3D?line=64'>65</a>\u001b[0m     vertex[b][_dist] \u001b[39m=\u001b[39m vertex[a][_dist] \u001b[39m+\u001b[39m \u001b[39m1\u001b[39m\n\u001b[1;32m     <a href='vscode-notebook-cell:/home/luke/Documents/IIBl/4M26/EP4/EP4_Graph_algorithms-Questions_v6.ipynb#Y154sZmlsZQ%3D%3D?line=65'>66</a>\u001b[0m     vertex[b][_parent] \u001b[39m=\u001b[39m a\n",
      "\u001b[0;31mIndexError\u001b[0m: list index out of range"
     ]
    }
   ],
   "source": [
    "def multi_source_flow(A):\n",
    "    n, E, S, T = A\n",
    "\n",
    "    _a = 0\n",
    "    _b = 1\n",
    "    _c = 2\n",
    "\n",
    "    # first resolve any antiparallel edges\n",
    "    for i in range(n):\n",
    "        for j in range(n):\n",
    "            if i == j: continue\n",
    "            if (E[i][_a], E[i][_b]) == (E[j][_b], E[j][_a]):\n",
    "                # we have an antiparallel edge\n",
    "                # print(f\"{E[i]} - {E[j]}\")\n",
    "                n += 1\n",
    "                E[j][_b] = n\n",
    "                E.append([n, E[i][_a], E[j][_c]])\n",
    "\n",
    "    # Next, handle the multi-source, multisink\n",
    "    n += 1\n",
    "    s = n\n",
    "    for x in S:\n",
    "        E.append([s, x, float('inf')])\n",
    "    n += 1\n",
    "    t = n\n",
    "    for x in T:\n",
    "        E.append([x, t, float('inf')])\n",
    "\n",
    "\n",
    "    # now we can do maximal flow from s to t\n",
    "    # append a flow, residual flow, a  residual reverse flow\n",
    "    _f = 3\n",
    "    _cf = 4\n",
    "    _cfr = 5\n",
    "\n",
    "    for i in range(len(E)):\n",
    "        E[i].append(0)\n",
    "        E[i].append(E[i][_c])\n",
    "        E[i].append(0)\n",
    "    \n",
    "    # create a vertex parent and distance list for the augmenting path\n",
    "    _parent = 0\n",
    "    _dist = 1\n",
    "    vertex = [[None, float('inf')] for _ in range(n)]\n",
    "    vertex[s][_dist] = 0\n",
    "\n",
    "    # find a path p in the residual network\n",
    "    # each edge has weight 1, if there is a valid residual flow\n",
    "\n",
    "    # loop through |V| times\n",
    "    for _ in range(n):\n",
    "        # for every edge in the system\n",
    "        for i in range(len(E)):\n",
    "            ## == forwards edge ==\n",
    "            # update the residual flow\n",
    "            print(E[i])\n",
    "            E[i][_cf] = E[i][_c] - E[i][_f]\n",
    "            # if the edge exists \n",
    "            if E[i][_cf] > 0:\n",
    "                print(vertex, E[i][_a], E[i][_b])\n",
    "                a = E[i][_a]\n",
    "                b = E[i][_b]\n",
    "                # relax\n",
    "                if vertex[b][_dist] > vertex[a][_dist] + 1:\n",
    "                    vertex[b][_dist] = vertex[a][_dist] + 1\n",
    "                    vertex[b][_parent] = a\n",
    "    \n",
    "\n",
    "\n",
    "\n",
    "        \n",
    "input_value = [7,[[0, 2, 5], [1, 3, 1],[2,3,1],[3,2,2],[2,4,6],[3,5,2],[4,6,3],[5,4,2],[5,6,3]],[0,1],[6]]\n",
    "print (multi_source_flow(input_value))\n",
    "assert multi_source_flow(input_value) == 5"
   ]
  },
  {
   "cell_type": "markdown",
   "metadata": {},
   "source": [
    "### Tests:"
   ]
  },
  {
   "cell_type": "markdown",
   "metadata": {},
   "source": [
    "##### Run example test case 1:"
   ]
  },
  {
   "cell_type": "code",
   "execution_count": null,
   "metadata": {},
   "outputs": [],
   "source": [
    "input_value = [7,[[0, 2, 5], [1, 3, 1],[2,3,1],[3,2,2],[2,4,6],[3,5,2],[4,6,3],[5,4,2],[5,6,3],[0,1],[6]]\n",
    "print (multi_source_flow(input_value))"
   ]
  },
  {
   "cell_type": "markdown",
   "metadata": {},
   "source": [
    "##### Run example test case 2:"
   ]
  },
  {
   "cell_type": "code",
   "execution_count": null,
   "metadata": {},
   "outputs": [],
   "source": [
    "input_value = [8,[[0,2,4],[1,3,4],[2,3,3],[2,4,6],[3,5,2],[4,6,5],[4,5,6],[5,4,4],[5,7,1]],[0,1],[6,7]],[0,1],[6,7]]\n",
    "print (multi_source_flow(input_value))"
   ]
  }
 ],
 "metadata": {
  "kernelspec": {
   "display_name": "Python 3 (ipykernel)",
   "language": "python",
   "name": "python3"
  },
  "language_info": {
   "codemirror_mode": {
    "name": "ipython",
    "version": 3
   },
   "file_extension": ".py",
   "mimetype": "text/x-python",
   "name": "python",
   "nbconvert_exporter": "python",
   "pygments_lexer": "ipython3",
   "version": "3.10.6"
  }
 },
 "nbformat": 4,
 "nbformat_minor": 4
}
