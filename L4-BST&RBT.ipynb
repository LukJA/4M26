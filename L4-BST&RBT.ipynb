{
 "cells": [
  {
   "cell_type": "code",
   "execution_count": 39,
   "id": "f98da2e8",
   "metadata": {},
   "outputs": [],
   "source": [
    "import math\n",
    "import logging\n",
    "FORMAT = '[%(name)s:%(levelname)s]  %(message)s'\n",
    "logging.basicConfig(level=logging.DEBUG, format=FORMAT)\n",
    "logger = logging.getLogger('dbg')\n",
    "\n",
    "def dprint(s):\n",
    "    logger.debug(s)\n",
    "\n",
    "def iprint(s):\n",
    "    logger.info(s)\n",
    "\n",
    "logger.setLevel(logging.INFO)"
   ]
  },
  {
   "cell_type": "code",
   "execution_count": 40,
   "id": "0016064a",
   "metadata": {},
   "outputs": [],
   "source": [
    "class BinarySearchTree:\n",
    "    def __init__(self, root=None):\n",
    "        self.root = root\n",
    "\n",
    "class Node:\n",
    "    def __init__(self, key, parent=None, left=None, right=None):\n",
    "        self.key = key\n",
    "        self.parent = parent\n",
    "        self.left = left\n",
    "        self.right = right\n",
    "    \n",
    "    def __repr__(self) -> str:\n",
    "        return f\"[{self.key}]\"\n",
    "\n",
    "\"    3    \"   \n",
    "\"   / \\   \"    \n",
    "\"  2   5  \"\n",
    "\" /   / \\ \"\n",
    "\"1   4   6\"\n",
    "\n",
    "one = Node(1)\n",
    "two = Node(2)\n",
    "three = Node(3)\n",
    "four = Node(4)\n",
    "five = Node(5)\n",
    "six = Node(6)\n",
    "\n",
    "three.left = two\n",
    "three.right = five\n",
    "two.parent = three\n",
    "two.left = one\n",
    "one.parent = two\n",
    "\n",
    "five.parent = three\n",
    "five.left = four\n",
    "five.right = six\n",
    "four.parent = five\n",
    "six.parent = five\n",
    "\n",
    "bst = BinarySearchTree(three)"
   ]
  },
  {
   "attachments": {},
   "cell_type": "markdown",
   "id": "ee99fe93",
   "metadata": {},
   "source": [
    "## Binary Search Trees\n",
    "\n",
    "<img src=\"media/BST.png\" alt=\"drawing\" width=\"550\"/>\n",
    "\n",
    "BST: for each node $u$: \n",
    "- nodes in the _left subtree_ satisfy l.key $\\leq$ u.key\n",
    "- nodes in the _right subtree_ satisfy r.key $\\geq$ u.key\n",
    "\n",
    "**i.e. go left get smaller, go right get bigger**\n",
    "\n",
    "| Complexity | Average Case       | Worst Case |\n",
    "| ---------- | ------------       | ---------- |\n",
    "| Search     | $O(\\log n) = O(h)$ | $\\Theta(n)$ |\n",
    "| Insert     | $O(\\log n) = O(h)$ | $\\Theta(n)$ |\n",
    "| Delete     | $O(\\log n) = O(h)$ | $\\Theta(n)$ |\n",
    "\n",
    "\n",
    "### Tree Height\n",
    "\n",
    "*Chain:* $h = n - 1$\n",
    "\n",
    "*Perfect Tree:* $h = \\log(n + 1) - 1$\n",
    "\n",
    "<img src=\"media/BSTheight.png\" alt=\"drawing\" width=\"750\"/>\n",
    "\n",
    "### Traversal Modes - Depth First Search (DFS)\n",
    "\n",
    "1. Inorder() - Process node **in-between** vising LST and RST\n",
    "2. Preorder() - Process node **before** vising LST and RST\n",
    "3. Postorder() - Process node **after** vising LST and RST\n",
    "\n",
    "E.g. For the simple binary search tree:\n",
    "\n",
    "```\n",
    "    3       \n",
    "   / \\       \n",
    "  2   5    \n",
    " /   / \\\n",
    "1   4   6\n",
    "```\n",
    "| Traversal | Path | Complexity |\n",
    "| - | - | - |\n",
    "| Inorder()   | 1 -> 2 -> 3 -> 4 -> 5 -> 6 | $\\Theta(n)$ |\n",
    "| Preorder()  | 3 -> 2 -> 1 -> 5 -> 4 -> 6 | $\\Theta(n)$ |\n",
    "| Postorder() | 1 -> 2 -> 4 -> 6 -> 5 -> 3 | $\\Theta(n)$ |\n"
   ]
  },
  {
   "cell_type": "code",
   "execution_count": 41,
   "id": "6a2ce08d",
   "metadata": {},
   "outputs": [
    {
     "name": "stdout",
     "output_type": "stream",
     "text": [
      "[1, 2, 3, 4, 5, 6]\n",
      "[3, 2, 1, 5, 4, 6]\n",
      "[1, 2, 4, 6, 5, 3]\n"
     ]
    }
   ],
   "source": [
    "def inorder(node):\n",
    "    if node is not None:\n",
    "        r_left = inorder(node.left)\n",
    "        r_right = inorder(node.right)\n",
    "        return r_left+[node.key]+r_right\n",
    "    return []\n",
    "\n",
    "def preorder(node):\n",
    "    if node is not None:\n",
    "        r_left = preorder(node.left)\n",
    "        r_right = preorder(node.right)\n",
    "        return [node.key]+r_left+r_right\n",
    "    return []\n",
    "\n",
    "def postorder(node):\n",
    "    if node is not None:\n",
    "        r_left = postorder(node.left)\n",
    "        r_right = postorder(node.right)\n",
    "        return r_left+r_right+[node.key]\n",
    "    return []\n",
    "\n",
    "print(inorder(bst.root))\n",
    "print(preorder(bst.root))\n",
    "print(postorder(bst.root))"
   ]
  },
  {
   "attachments": {},
   "cell_type": "markdown",
   "id": "6ea2e57b",
   "metadata": {},
   "source": [
    "### Minimum and Maximum\n",
    "\n",
    "Simple, as the BST is sorted by design."
   ]
  },
  {
   "cell_type": "code",
   "execution_count": 42,
   "id": "37531699",
   "metadata": {},
   "outputs": [
    {
     "name": "stdout",
     "output_type": "stream",
     "text": [
      " Min: 1, Max: 6\n"
     ]
    }
   ],
   "source": [
    "def minimum(node: Node):\n",
    "    while node.left:\n",
    "        node = node.left\n",
    "    return node\n",
    "\n",
    "\n",
    "def maximum(node: Node):\n",
    "    while node.right:\n",
    "        node = node.right\n",
    "    return node\n",
    "\n",
    "print(f\" Min: {minimum(bst.root).key}, Max: {maximum(bst.root).key}\")\n"
   ]
  },
  {
   "attachments": {},
   "cell_type": "markdown",
   "id": "beb18a33",
   "metadata": {},
   "source": [
    "### Search - $O(h)$\n",
    "\n",
    "Search by comparative descent"
   ]
  },
  {
   "cell_type": "code",
   "execution_count": 49,
   "id": "d5d5810e",
   "metadata": {},
   "outputs": [
    {
     "name": "stdout",
     "output_type": "stream",
     "text": [
      " Found: None\n",
      " Found: [6]\n"
     ]
    }
   ],
   "source": [
    "def search(key: int, node: Node):\n",
    "    while node and node.key != key:\n",
    "        if key < node.key:\n",
    "            node = node.left\n",
    "        else:\n",
    "            node = node.right\n",
    "    return node\n",
    "\n",
    "print(f\" Found: {search(7, bst.root)}\")\n",
    "print(f\" Found: {search(6, bst.root)}\")"
   ]
  },
  {
   "attachments": {},
   "cell_type": "markdown",
   "id": "401b991b",
   "metadata": {},
   "source": [
    "### Inorder Predecessor - $O(h)$\n",
    "\n",
    "Element immediately before node in an inorder traversal"
   ]
  },
  {
   "cell_type": "code",
   "execution_count": 54,
   "id": "c9b81b02",
   "metadata": {},
   "outputs": [
    {
     "name": "stdout",
     "output_type": "stream",
     "text": [
      "Predecessor of [3] is [2]\n"
     ]
    }
   ],
   "source": [
    "def predecessor(node: Node):\n",
    "    if node.left:\n",
    "        return maximum(node.left)\n",
    "    else:\n",
    "        parent = node.parent\n",
    "        while parent and u != parent.right:\n",
    "            node = parent\n",
    "            parent = parent.parent\n",
    "        return parent\n",
    "    \n",
    "print(f\"Predecessor of {three} is {predecessor(three)}\")"
   ]
  },
  {
   "attachments": {},
   "cell_type": "markdown",
   "id": "201324e7",
   "metadata": {},
   "source": [
    "### Insert"
   ]
  },
  {
   "cell_type": "code",
   "execution_count": 44,
   "id": "0ca6dbd7",
   "metadata": {},
   "outputs": [],
   "source": [
    "def insert(bst: BinarySearchTree, new_node: Node):\n",
    "\n",
    "    node = bst.root\n",
    "    parent = None\n",
    "    while node:\n",
    "        parent = node\n",
    "        node = node.left if new_node.key < node.key else node.right\n",
    "    new_node.parent = parent\n",
    "    if not parent:  # handle the case when the tree is empty\n",
    "        bst.root = new_node\n",
    "    elif new_node.key < parent.key:\n",
    "        parent.left = new_node\n",
    "    else:\n",
    "        parent.right = new_node\n"
   ]
  },
  {
   "attachments": {},
   "cell_type": "markdown",
   "id": "d898264e",
   "metadata": {},
   "source": [
    "### Delete"
   ]
  },
  {
   "cell_type": "code",
   "execution_count": 45,
   "id": "5ce40b68",
   "metadata": {},
   "outputs": [],
   "source": [
    "def shift_nodes(bst: BinarySearchTree, old_node: Node, new_node: Node):\n",
    "\n",
    "    if not old_node.parent:\n",
    "        bst.root = new_node\n",
    "    elif old_node == old_node.parent.left:\n",
    "        old_node.parent.left = new_node\n",
    "    else:\n",
    "        old_node.parent.right = new_node\n",
    "    if new_node:\n",
    "        new_node.parent = old_node.parent\n",
    "\n",
    "def delete(bst: BinarySearchTree, node: Node):\n",
    "\n",
    "    if not node.right:  # node to be deleted has no right child\n",
    "        shift_nodes(bst, node, node.right)  # node to be deleted has no left child\n",
    "    elif not node.left:\n",
    "        shift_nodes(bst, node, node.right)\n",
    "    else:  # node to be deleted has both a left and right child\n",
    "        successor = minimum(node.right)\n",
    "        if successor != node.right:\n",
    "            shift_nodes(bst, successor, successor.right)\n",
    "            successor.right = node.right\n",
    "            successor.right.parent = successor\n",
    "        shift_nodes(bst, node, successor)\n",
    "        successor.left = node.left\n",
    "        successor.left.parent = successor"
   ]
  },
  {
   "cell_type": "code",
   "execution_count": 46,
   "id": "68e1fb1f",
   "metadata": {},
   "outputs": [
    {
     "name": "stdout",
     "output_type": "stream",
     "text": [
      "Inorder traversal\n",
      "[1, 2, 3, 5, 7, 8, 9, 12]\n",
      "\n",
      "Preorder traversal\n",
      "[5, 3, 2, 1, 7, 8, 9, 12]\n",
      "\n",
      "Postorder traversal\n",
      "[5, 3, 2, 1, 7, 8, 9, 12]\n",
      "\n",
      "Deleting node [7]\n",
      "Inorder traversal after deletion\n",
      "[1, 2, 3, 5, 8, 9, 12]\n",
      "\n",
      "Minimum key: 1\n",
      "Maximum key: 12\n"
     ]
    }
   ],
   "source": [
    "def main():\n",
    "    bst = BinarySearchTree()\n",
    "    insert_keys = [5, 3, 2, 7, 1, 8, 9, 12]\n",
    "    node_list = [Node(key) for key in insert_keys]\n",
    "    for node in node_list:\n",
    "        insert(bst, node)\n",
    "\n",
    "    # print out traversals\n",
    "    print(f\"Inorder traversal\")\n",
    "    print(inorder(bst.root))\n",
    "    print(\"\")\n",
    "    print(f\"Preorder traversal\")\n",
    "    print(preorder(bst.root))\n",
    "    print(\"\")\n",
    "    print(f\"Postorder traversal\")\n",
    "    print(preorder(bst.root))\n",
    "    print(\"\")\n",
    "\n",
    "    node_to_delete = node_list[3]\n",
    "    print(f\"Deleting node {node_to_delete}\")\n",
    "    delete(bst, node_to_delete)\n",
    "\n",
    "    # print out traversal\n",
    "    print(f\"Inorder traversal after deletion\")\n",
    "    print(inorder(bst.root))\n",
    "    print(\"\")\n",
    "\n",
    "    # print out minimum and maximum\n",
    "    print(f\"Minimum key: {minimum(bst.root).key}\")\n",
    "    print(f\"Maximum key: {maximum(bst.root).key}\")\n",
    "\n",
    "main()\n"
   ]
  },
  {
   "cell_type": "code",
   "execution_count": null,
   "id": "fd28a8e5",
   "metadata": {},
   "outputs": [],
   "source": []
  }
 ],
 "metadata": {
  "kernelspec": {
   "display_name": "Python 3",
   "language": "python",
   "name": "python3"
  },
  "language_info": {
   "codemirror_mode": {
    "name": "ipython",
    "version": 3
   },
   "file_extension": ".py",
   "mimetype": "text/x-python",
   "name": "python",
   "nbconvert_exporter": "python",
   "pygments_lexer": "ipython3",
   "version": "3.10.6"
  },
  "vscode": {
   "interpreter": {
    "hash": "916dbcbb3f70747c44a77c7bcd40155683ae19c65e1c03b4aa3499c5328201f1"
   }
  }
 },
 "nbformat": 4,
 "nbformat_minor": 5
}
