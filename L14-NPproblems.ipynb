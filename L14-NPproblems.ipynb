{
 "cells": [
  {
   "cell_type": "code",
   "execution_count": 3,
   "id": "f98da2e8",
   "metadata": {},
   "outputs": [],
   "source": [
    "import math\n",
    "import logging\n",
    "FORMAT = '[%(name)s:%(levelname)s]  %(message)s'\n",
    "logging.basicConfig(level=logging.DEBUG, format=FORMAT)\n",
    "logger = logging.getLogger('dbg')\n",
    "\n",
    "def dprint(s):\n",
    "    logger.debug(s)\n",
    "\n",
    "def iprint(s):\n",
    "    logger.info(s)\n",
    "\n",
    "logger.setLevel(logging.INFO)"
   ]
  },
  {
   "attachments": {},
   "cell_type": "markdown",
   "id": "a21ebdce",
   "metadata": {},
   "source": [
    "## NP Complete Problems\n",
    "\n",
    "### The Entscheidungsproblem (Decision Problem)\n",
    "\n",
    "The problem asks for an algorithm that considers, as input, **a statement**, and answers \"Yes\" or \"No\" according to whether the **statement is universally valid**. \n",
    "\n",
    "A statement is universally valid if and only if it can be deduced from the axioms. The decision problems is asking for an algorithm to decide whether a given statement is provable from the axioms using the rules of logic. \n",
    "\n",
    "### Church And Turing\n",
    "\n",
    "**Proved no general procedure could be found to decide if an arbitrary proposition is provable from axioms of first order logic.**\n",
    "\n",
    "* Turing machine - a formal model of mechanical computation\n",
    "* **The halting problem** - cannot be solved by a turing machine\n",
    "\n",
    "### Algorithmic Efficiency\n",
    "\n",
    "**Cobham's Thesis**: Efficient algorithms solve problem in polynomial time RTA $O(n^k)$ for some constant $k$ and input size $n$.\n",
    "\n",
    "**P** = Polynomial Time\n",
    "\n",
    "**NP** = Nondeterministic Polynomial Time\n",
    "\n",
    "Decision problems: problems whose output is a boolean value (yes or no) have 3 classes:\n",
    "\n",
    "| Class **P** | Class **NP** | Class **co-NP** |\n",
    "| -- | -- | -- |\n",
    "| Solved in polynomial time | If **yes** proof can be checked in polynomial time | If **no** proof can be checked in polynomial time |\n",
    "\n",
    "If a problem is solvable in polynomial time, then a solution is also verifiable in polynomial time by simply solving the problem. Hence $P \\in NP, P \\in coNP$"
   ]
  },
  {
   "attachments": {},
   "cell_type": "markdown",
   "id": "eabf1d89",
   "metadata": {},
   "source": [
    "### P vs NP vs NP-Hard\n",
    "\n",
    "Does $P = NP$? no, but **there is no proof that $P \\neq NP$**.\n",
    "\n",
    "In theory, it is assumed the world of decision problems looks as such:\n",
    "<img src=\"media/pnp.png\" alt=\"drawing\" width=\"600\"/>\n",
    "\n",
    "A problem is **NP-hard** if a polynomial-time algorithm for this problem implies\n",
    "a polynomial-time algorithm for all problems in NP, or in other terms, it is atleast as hard as the hardest problem in NP.\n",
    "\n",
    "It is suspected that there are no polynomial-time algorithms for NP-hard problems, but that has not been proven.\n",
    "\n",
    "A problem is NP-complete if it is NP and NP-hard.\n",
    "\n",
    "These are therefore **'the hardest problems in the class NP'**. Give up searching for a fast, exact solution and **focus on approximation algorithm**.\n"
   ]
  },
  {
   "attachments": {},
   "cell_type": "markdown",
   "id": "1e969499",
   "metadata": {},
   "source": [
    "### Showing NP-completeness\n",
    "\n",
    "We can often convert an optimisation problem into a decision problem, with yes or no answers.\n",
    "\n",
    "> Given an undirected graph $G$, vertices $s$ and $t$, and integer $k$, does there exist a path in $G$ between $s$ and $t$ consisting of at most $k$ edges?\n",
    "\n",
    "If the decision problem variant is difficult, we can often show optimisation problem is difficult.\n",
    "\n",
    "#### Polynomial Time Reductions\n",
    "\n",
    "Refer to a specific configuration of a problem as an \"instance\" of that problem.\n",
    "\n",
    "If we can transform instance $\\alpha$ of problem $A$ into instance $\\beta$ of problem $B$ such that:\n",
    "* The transformation takes polynomial time (P)\n",
    "* The answer for $\\alpha$ is \"yes\" if and only if answer for $\\beta$ is \"yes\"\n",
    "\n",
    "This implies we can decide $A$ in polynomial time, if we can decide $B$ in polynomial time.\n",
    "\n",
    "Suppose:\n",
    "* NP-complete problem $A$\n",
    "* Reduction algorithm $A$ to $B$ in polynomial time\n",
    "* $\\Rightarrow$ $B$ is NP-complete too!\n",
    "\n",
    "<img src=\"media/npco.png\" alt=\"drawing\" width=\"800\"/>\n"
   ]
  },
  {
   "attachments": {},
   "cell_type": "markdown",
   "id": "9bbef86d",
   "metadata": {},
   "source": [
    "In order for this to be useful we need to start from ...\n",
    "\n",
    "In 1971, Cook proved that the circuit-satisfiability problem is NP-complete. This result is known as the Cook-Levin theorem.\n",
    "\n",
    ">**Input:** a boolean circuit of AND, OR and NOT gates\n",
    ">\n",
    ">**Question:** does there exist a set of boolean inputs that causes the output to be 1?\n",
    "\n",
    "### Problems Solvable In Polynomial Time\n",
    "\n",
    "Problems are 'efficient':\n",
    "* Few problems with polynomial-time algorithms have very high order ($k > 1000$ etc)\n",
    "* Once a first polynomial-time algorithm is found, more efficient variants are often found later\n",
    "* Polynomial time solvability is often conserved across computational models\n",
    "* Polynomials are **closed under addition, multiplication and composition**\n",
    "* Can feed one polynomial-time algorithm into another to get algorithm that's still polynomial-time"
   ]
  },
  {
   "cell_type": "markdown",
   "id": "5a975463",
   "metadata": {},
   "source": []
  }
 ],
 "metadata": {
  "kernelspec": {
   "display_name": "Python 3",
   "language": "python",
   "name": "python3"
  },
  "language_info": {
   "codemirror_mode": {
    "name": "ipython",
    "version": 3
   },
   "file_extension": ".py",
   "mimetype": "text/x-python",
   "name": "python",
   "nbconvert_exporter": "python",
   "pygments_lexer": "ipython3",
   "version": "3.10.6"
  },
  "vscode": {
   "interpreter": {
    "hash": "916dbcbb3f70747c44a77c7bcd40155683ae19c65e1c03b4aa3499c5328201f1"
   }
  }
 },
 "nbformat": 4,
 "nbformat_minor": 5
}
