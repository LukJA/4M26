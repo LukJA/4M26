{
 "cells": [
  {
   "cell_type": "markdown",
   "metadata": {},
   "source": [
    "<b>CANDIDATE NUMBER:</b>"
   ]
  },
  {
   "cell_type": "markdown",
   "metadata": {},
   "source": [
    "<div style=\"border-width:2px;border-style:solid;border-color:black;padding:20px\">lja45 (lja45@cam.ac.uk)</div>"
   ]
  },
  {
   "cell_type": "markdown",
   "metadata": {},
   "source": [
    "<hr>\n",
    "Version: IB/1"
   ]
  },
  {
   "cell_type": "markdown",
   "metadata": {},
   "source": [
    "EGT3<br>\n",
    "ENGINEERING TRIPOS PART IIB\n",
    "\n",
    "<br>\n",
    "\n",
    "<hr>\n",
    "<b>Thursday 16 March 2023 &emsp; 4 to 6.30</b>\n",
    "<hr>\n",
    "\n",
    "<b>Module 4M26</b> <br>\n",
    "\n",
    "<b>ALGORITHMS AND DATA STRUCTURES</b><br>\n",
    "\n",
    "<i>Answer not more than <b>three</b> questions.</i>\n",
    "\n",
    "<i>All questions carry the same number of marks.</i>\n",
    "\n",
    "<i>The <b>approximate</b> percentage of marks allocated to each part of a question is indicated in the right margin.</i>\n",
    "\n",
    "<i>Write your candidate number  <b><u>not</u></b> your name on the cover sheet.</i>\n",
    "\n",
    "<i>The runtime of a successful test case should be no longer than 10 seconds when run on a standard DPO machine.</i>\n",
    "\n",
    "<i>No access to internet or other resources is permitted.</i>\n",
    "\n",
    "<i>Solutions should not use and import any python libraries. Only default Python data structures are to be used.</i> <br>\n",
    "\n",
    "<b>STATIONERY REQUIREMENTS</b> <br>\n",
    "Single-sided script paper<br>\n",
    "\n",
    "<b>SPECIAL REQUIREMENTS TO BE SUPPLIED FOR THIS EXAM</b> <br>\n",
    "CUED approved calculator allowed<br>\n",
    "Engineering Data Book<br>\n",
    "DPO computer<br>\n",
    "\n",
    "<b>10 minutes reading time is allowed for this paper at the start of\n",
    "the test.</b><br>\n",
    "\n",
    "<b>You may not start to read the questions printed on the subsequent pages of this question paper until instructed to do so.</b><br>\n",
    "\n",
    "<b>You may not remove any stationery from the Examination Room.</b>"
   ]
  },
  {
   "cell_type": "markdown",
   "metadata": {},
   "source": [
    "<hr>\n",
    "<br>\n",
    "<br>\n",
    "<br>\n",
    "<br>\n",
    "<br>\n",
    "<br>"
   ]
  },
  {
   "cell_type": "markdown",
   "metadata": {},
   "source": [
    "<h1> 1.</h1> "
   ]
  },
  {
   "cell_type": "markdown",
   "metadata": {},
   "source": [
    "(a) Let $S=\\{a_1,a_2,\\cdots,a_n\\}$ be a set of $n$ activities that wish to use a resource (e.g. a lecture hall), which can serve only one activity at a time. The set of activities satisfies the following properties:<br><br>\n",
    "\n",
    "&emsp; (i) each activity, $a_i$, has a start time, $s_i$, and a finish time, $f_i$; <br>\n",
    "&emsp; (ii) if selected, activity, $a_i$, takes place during the half-open time interval $[s_i,f_i)$; <br>\n",
    "&emsp; (iii) activities, $a_i$ and $a_j$, are compatible if the intervals, $[s_i,f_i)$ and $[s_j,f_j)$, do not overlap.  <br><br>\n",
    "\n",
    "Write the function, **activity_selection**($A$), which takes in a list of lists, $A$, such that $A[i][0]=s_i$, $A[i][1]=f_i$, as an input and outputs the size of the maximum subset of mutually compatible activities.<br><br>\n",
    "\n",
    "Your solution should have $\\Theta(n \\log n)$ run time.\n",
    "<div style=\"text-align: right\">[30%]</div>"
   ]
  },
  {
   "cell_type": "markdown",
   "metadata": {},
   "source": [
    "### Examples:"
   ]
  },
  {
   "cell_type": "markdown",
   "metadata": {},
   "source": [
    "**Input:** `[[1,3],[1,8],[2,6],[7,10]]` <br>\n",
    "**Output:** `2`"
   ]
  },
  {
   "cell_type": "markdown",
   "metadata": {},
   "source": [
    "**Input:** `[[0,11],[2,6],[4,7],[5,10],[7,11],[10,13],[12,14]]` <br>\n",
    "**Output:** `3`"
   ]
  },
  {
   "cell_type": "markdown",
   "metadata": {},
   "source": [
    "### Constraints:\n",
    "\n",
    "- $1 \\leq n \\leq 1000$.\n",
    "- $0\\leq s_i < f_i \\leq 10^6$."
   ]
  },
  {
   "cell_type": "markdown",
   "metadata": {},
   "source": [
    "### Code:"
   ]
  },
  {
   "cell_type": "code",
   "execution_count": 42,
   "metadata": {},
   "outputs": [
    {
     "name": "stdout",
     "output_type": "stream",
     "text": [
      "Sorted: [[1, 3], [2, 4], [3, 5], [4, 6], [5, 7], [6, 8], [7, 9]]\n",
      "4\n"
     ]
    }
   ],
   "source": [
    "def activity_selection_Exam(A):\n",
    "    # sort the activities by finish time\n",
    "    # suboptimal iterative sort\n",
    "    # use merge or insertion\n",
    "    \n",
    "    AS = [A.pop(0)]\n",
    "    for Ai in A:\n",
    "        for i in range(len(AS)+1):\n",
    "            if i >= len(AS):\n",
    "                AS = AS + [Ai]\n",
    "                break\n",
    "            if Ai[1] < AS[i][1]:\n",
    "                AS = AS[:i] + [Ai] + AS[i:]\n",
    "                break\n",
    "    \n",
    "    # now select compatible in order\n",
    "    taken = [AS.pop(0)]\n",
    "    for i, X in enumerate(AS):\n",
    "        last = taken[-1:][0]\n",
    "        if X[0]  >= last[1]:\n",
    "            taken.append(X)\n",
    "    \n",
    "    return len(taken)\n",
    "\n",
    "def merge_sort(A, low = None, high = None):\n",
    "    if low == None:\n",
    "        low = 0\n",
    "    if high == None:\n",
    "        high = len(A) - 1\n",
    "\n",
    "    # print(f\"Called On {A[low:high+1]}\")\n",
    "\n",
    "\n",
    "    if low == high:\n",
    "        # print(\"Sorted\")\n",
    "        return\n",
    "\n",
    "    # sort from index low to index high inclusive\n",
    "    mid = (low + high) // 2\n",
    "    # call recursive on either element set\n",
    "    merge_sort(A, low, mid)\n",
    "    merge_sort(A, mid+1, high)\n",
    "\n",
    "    ## perform merge\n",
    "    # lower sorted\n",
    "    L = [A[low]] if low == mid else A[low:mid+1]\n",
    "    # upper sorted\n",
    "    R = [A[mid+1]] if mid+1 == high else A[mid+1:high+1]\n",
    "    # print(f\"Merging: {L} & {R}\")\n",
    "    L.append([0, float(\"inf\")])\n",
    "    R.append([0, float(\"inf\")])\n",
    "\n",
    "    i = 0\n",
    "    j = 0\n",
    "    for x in range(low, high+1):\n",
    "        if L[i][1] < R[j][1]:\n",
    "            A[x] = L[i]\n",
    "            i += 1\n",
    "        else:\n",
    "            A[x] = R[j]\n",
    "            j += 1\n",
    "\n",
    "    # print(f\"Merged to {A[low:high+1]}\")\n",
    "\n",
    "    \n",
    "\n",
    "def activity_selection(A):\n",
    "    ## do a merge sort of A by finish time for O N log N\n",
    "    merge_sort(A)\n",
    "    print(f\"Sorted: {A}\")\n",
    "    # now select compatible in order\n",
    "    taken = [A.pop(0)]\n",
    "    for i, X in enumerate(A):\n",
    "        last = taken[-1:][0]\n",
    "        if X[0]  >= last[1]:\n",
    "            taken.append(X)\n",
    "    return len(taken)\n",
    "\n",
    "input_value = [[1, 3], [7, 9], [6, 8], [2, 4], [4, 6], [5, 7], [3, 5]]\n",
    "print (activity_selection(input_value))"
   ]
  },
  {
   "cell_type": "markdown",
   "metadata": {},
   "source": [
    "### Tests:"
   ]
  },
  {
   "cell_type": "markdown",
   "metadata": {},
   "source": [
    "##### Run example test case 1:"
   ]
  },
  {
   "cell_type": "code",
   "execution_count": 43,
   "metadata": {},
   "outputs": [
    {
     "name": "stdout",
     "output_type": "stream",
     "text": [
      "Sorted: [[1, 3], [2, 6], [1, 8], [7, 10]]\n",
      "2\n"
     ]
    }
   ],
   "source": [
    "input_value = [[1,3],[1,8],[2,6],[7,10]]\n",
    "print (activity_selection(input_value))"
   ]
  },
  {
   "cell_type": "markdown",
   "metadata": {},
   "source": [
    "##### Run example test case 2:"
   ]
  },
  {
   "cell_type": "code",
   "execution_count": 44,
   "metadata": {},
   "outputs": [
    {
     "name": "stdout",
     "output_type": "stream",
     "text": [
      "Sorted: [[2, 6], [4, 7], [5, 10], [7, 11], [0, 11], [10, 13], [12, 14]]\n",
      "3\n"
     ]
    }
   ],
   "source": [
    "input_value = [[0,11],[2,6],[4,7],[5,10],[7,11],[10,13],[12,14]]\n",
    "print (activity_selection(input_value))"
   ]
  },
  {
   "cell_type": "markdown",
   "metadata": {},
   "source": [
    "#### Automatic Evaluation:"
   ]
  },
  {
   "cell_type": "markdown",
   "metadata": {},
   "source": [
    "<i><b><font color='red'>Do not forget to run on all test cases when your final implementation is finished!</font></b></i>"
   ]
  },
  {
   "cell_type": "code",
   "execution_count": 45,
   "metadata": {},
   "outputs": [
    {
     "name": "stdout",
     "output_type": "stream",
     "text": [
      "----------------------------------\n",
      "Evaluating question 1, part a\n",
      "Running question 1, part a, test id: 1\n",
      "Input:\n",
      "[[1, 3], [1, 8], [2, 6], [7, 10]]\n",
      "Sorted: [[1, 3], [2, 6], [1, 8], [7, 10]]\n",
      "Obtained output:\n",
      "2\n",
      "<<CORRECT>>\n",
      "Running question 1, part a, test id: 2\n",
      "Input:\n",
      "[[0, 11], [2, 6], [4, 7], [5, 10], [7, 11], [10, 13], [12, 14]]\n",
      "Sorted: [[2, 6], [4, 7], [5, 10], [7, 11], [0, 11], [10, 13], [12, 14]]\n",
      "Obtained output:\n",
      "3\n",
      "<<CORRECT>>\n",
      "Running question 1, part a, test id: 3\n",
      "Input:\n",
      "[[1, 100]]\n",
      "Sorted: [[1, 100]]\n",
      "Obtained output:\n",
      "1\n",
      "<<CORRECT>>\n",
      "Running question 1, part a, test id: 4\n",
      "Input:\n",
      "[[1, 3], [7, 9], [6, 8], [2, 4], [4, 6], [5, 7], [3, 5]]\n",
      "Sorted: [[1, 3], [2, 4], [3, 5], [4, 6], [5, 7], [6, 8], [7, 9]]\n",
      "Obtained output:\n",
      "4\n",
      "<<CORRECT>>\n",
      "Running question 1, part a, test id: 5\n",
      "Input:\n",
      "[[1, 2], [1, 3], [1, 4], [1, 5], [1, 6], [2, 3], [1, 7], [1, 8], [1, 9], [1, 10], [1, 11], [1, 12], [1, 13]]\n",
      "Sorted: [[1, 2], [2, 3], [1, 3], [1, 4], [1, 5], [1, 6], [1, 7], [1, 8], [1, 9], [1, 10], [1, 11], [1, 12], [1, 13]]\n",
      "Obtained output:\n",
      "2\n",
      "<<CORRECT>>\n",
      "-----------------\n",
      "Total correct outputs:\n",
      "5 out of 5\n",
      "----------------------------------\n"
     ]
    }
   ],
   "source": [
    "#DO NOT EDIT THIS CODE!\n",
    "from evaluation_script import evaluate_solution \n",
    "evaluate_solution(question_id=1,question_part_id='a',function=activity_selection,\n",
    "                  test_case_list=[1,2,3,4,5],verbose=True)"
   ]
  },
  {
   "cell_type": "markdown",
   "metadata": {},
   "source": [
    "(b) Explain why your algorithm described in Part (a) is correct. What is its run time complexity? <div style=\"text-align: right\">[15%]</div>"
   ]
  },
  {
   "attachments": {},
   "cell_type": "markdown",
   "metadata": {},
   "source": [
    "<div style=\"border-width:2px;border-style:solid;border-color:black;\">\n",
    "\n",
    "Part A is correct as the activitiy selecton problem exhibits optimal substructure and can be achieved by a greedy solution.\n",
    "\n",
    "The RTA is $O( n \\log n) + \\Theta(n)$ which assuminng an overpowering constant in favour of mergesort, is $O( n \\log n)$\n",
    "    \n",
    "</div>"
   ]
  },
  {
   "cell_type": "markdown",
   "metadata": {},
   "source": [
    "(c) Give brief answers to the following questions."
   ]
  },
  {
   "cell_type": "markdown",
   "metadata": {},
   "source": [
    "&emsp; (i) A set of items are held in a linked list. The list is (already) sorted, and it contains $n$ items. What are the best, worst and average costs of looking up an item that is already present in the list, and what are the costs of verifying that an item is not present? In case of average cost analysis, state your assumptions made about the nature of inputs to your look up procedure.  <div style=\"text-align: right\">[10%]</div>"
   ]
  },
  {
   "attachments": {},
   "cell_type": "markdown",
   "metadata": {},
   "source": [
    "<div style=\"border-width:2px;border-style:solid;border-color:black;\">\n",
    "\n",
    "    Traversal in a (singly) LL requires passing through each node in order. The best case complexity for looking up an item is Theta(1), when the item is index 1. The worst case is Theta(n) if the item is the last element, and the mean lookup complexity is also Theta(n) as on average n/2 nodes will require traversal when looking up an element, assuming lookups are uniformly distributed among the list elements. Presence check is Theta(n) aswell.\n",
    "    \n",
    "    If the list was doubly linked, a binary search could be implemented as we know the size and that elements are sorted, to give worst case search and presence check O(logn). Best case search is still Theta(1). (Mean)\n",
    "    \n",
    "</div>"
   ]
  },
  {
   "cell_type": "markdown",
   "metadata": {},
   "source": [
    "&emsp; (ii) Show that the solution to the recurrence $f(n)=\\begin{cases}  1 & n \\leq 2, \\\\2f(\\lfloor\\frac{n}{2}\\rfloor+1)+n & n>2 \\end{cases}$ is asymptotically bounded by $O(n\\log n)$. <div style=\"text-align: right\">[10%]</div>"
   ]
  },
  {
   "attachments": {},
   "cell_type": "markdown",
   "metadata": {},
   "source": [
    "<div style=\"border-width:2px;border-style:solid;border-color:black;padding:20px\">\n",
    "\n",
    "Make the Assumption: $f(n) = c n\\log n - d$ for $n > 2$, $d$ is a lower order term we are subtracting.\n",
    "\n",
    "Choose $n_1$ such that $n\\geq n_1$ implies $\\frac{n}{2}+1\\leq \\frac{2n}{3}$, or $n \\geq 6$\n",
    "\n",
    "$f(n)=2f(\\lfloor\\frac{n}{2}\\rfloor+1)+n$\n",
    "\n",
    "$f(n) \\leq 2(c(\\frac{n}{2}+1)\\log (\\frac{n}{2} +1)-d)+n$\n",
    "\n",
    "$f(n) \\leq cn \\log(\\frac{n}{2}+1)+ 2c \\log(\\frac{n}{2}+1)-2d+n$\n",
    "\n",
    "$f(n) \\leq cn\\log (\\frac{2n}{3})+2 c \\log(\\frac{2n}{3})-2d+n$ for $n\\geq n_1 = 6$\n",
    "\n",
    "$f(n) \\leq cn\\log (n) + cn\\log (\\frac{2}{3}) +  2 c \\log(n) + 2 c \\log(\\frac{2}{3})-2d+n$\n",
    "\n",
    "If $c\\log (\\frac{2}{3}) = -2$, and $d=-4$\n",
    "\n",
    "$f(n) \\leq cn\\log (n) -2n +  2 c \\log(n) -4 +4 -d + n$\n",
    "\n",
    "$f(n) \\leq cn\\log (n) - n +  2 c \\log(n) -d $\n",
    "\n",
    "$f(n) \\leq cn\\log (n) - d + ( 2 c \\log(n) - n )$\n",
    "\n",
    "If $2 c \\log(n) - n  \\leq 0$: removing it increases the RHS\n",
    "\n",
    "$f(n) \\leq cn\\log (n) - d$ and QED\n",
    "\n",
    "If $2 c \\log(n) - n  = 0$ and  $n \\geq 6$, choose no to be larger than both\n",
    "\n",
    "\n",
    " \n",
    "</div>"
   ]
  },
  {
   "cell_type": "markdown",
   "metadata": {},
   "source": [
    "&emsp; (iii) Explain the differences (if any) in the run time performance and/or memory requirements between a recursive solution with memoization and a dynamic programming solution. In your answer use an example of a concrete algorithm. <div style=\"text-align: right\">[10%]</div>"
   ]
  },
  {
   "attachments": {},
   "cell_type": "markdown",
   "metadata": {},
   "source": [
    "<div style=\"border-width:2px;border-style:solid;border-color:black;\">\n",
    "\n",
    "Recursive w/ Mem:\n",
    "* Split a problem into recurively solvable subproblem, compute those answers and save the solution to every subproblem \n",
    "\n",
    "Dynamic\n",
    "* Problems exhibit **optimal sub-structure** and **overlapping subproblems**. Split into subproblems and combine to form a final toplevel solution\n",
    "\n",
    "Recursive solutions generally require recursive function calls, necessitating much more overhead than a dynamic solution including increased stack memory usage. \n",
    "    \n",
    "</div>"
   ]
  },
  {
   "cell_type": "markdown",
   "metadata": {},
   "source": [
    "(d) Write the function **lcs**($L$), which takes a list, $L$, as an input. This list contains three strings. The function should output the longest common sub-sequence string which is present in all three given strings. If no common subsequence exist, an empty string should be returned. <br>\n",
    "\n",
    "Note, a subsequence string is a string that can be derived from another string by deleting some or no elements without changing the order of the remaining elements.\n",
    "\n",
    " <div style=\"text-align: right\">[25%]</div>"
   ]
  },
  {
   "cell_type": "markdown",
   "metadata": {},
   "source": [
    "### Examples:"
   ]
  },
  {
   "cell_type": "markdown",
   "metadata": {},
   "source": [
    "**Input:** `[\"le2ap\",\"3le2apto\",\"l1eaptoleap\"]` <br>\n",
    "**Output:** `\"leap\"`"
   ]
  },
  {
   "cell_type": "markdown",
   "metadata": {},
   "source": [
    "**Input:** `[\"xyzk1e2\",\"xc17ef\",\"xx1ex\"]` <br>\n",
    "**Output:** `\"x1e\"`"
   ]
  },
  {
   "cell_type": "markdown",
   "metadata": {},
   "source": [
    "### Constraints:\n",
    "\n",
    "- $1\\leq \\text{len}(L[i]) \\leq 100$ for $i\\in\\{0,1,2\\}$."
   ]
  },
  {
   "cell_type": "markdown",
   "metadata": {},
   "source": [
    "### Code:"
   ]
  },
  {
   "cell_type": "code",
   "execution_count": 46,
   "metadata": {},
   "outputs": [
    {
     "ename": "SyntaxError",
     "evalue": "incomplete input (1513519366.py, line 4)",
     "output_type": "error",
     "traceback": [
      "\u001b[0;36m  Input \u001b[0;32mIn [46]\u001b[0;36m\u001b[0m\n\u001b[0;31m    # somehow need a 3rd way too??\u001b[0m\n\u001b[0m                                  ^\u001b[0m\n\u001b[0;31mSyntaxError\u001b[0m\u001b[0;31m:\u001b[0m incomplete input\n"
     ]
    }
   ],
   "source": [
    "def lcs(L):\n",
    "    # There is a length dynamic solution\n",
    "    # Extend it with index tracking metrics?\n",
    "    # somehow need a 3rd way too??"
   ]
  },
  {
   "cell_type": "markdown",
   "metadata": {},
   "source": [
    "### Tests:"
   ]
  },
  {
   "cell_type": "markdown",
   "metadata": {},
   "source": [
    "##### Run example test case 1:"
   ]
  },
  {
   "cell_type": "code",
   "execution_count": null,
   "metadata": {},
   "outputs": [],
   "source": [
    "input_value = [\"le2ap\",\"3le2apto\",\"l1eaptoleap\"]\n",
    "print (lcs(input_value))"
   ]
  },
  {
   "cell_type": "markdown",
   "metadata": {},
   "source": [
    "##### Run example test case 2:"
   ]
  },
  {
   "cell_type": "code",
   "execution_count": null,
   "metadata": {},
   "outputs": [],
   "source": [
    "input_value = [\"xyzk1e2\",\"xc17ef\",\"xx1ex\"]\n",
    "print (lcs(input_value))"
   ]
  },
  {
   "cell_type": "markdown",
   "metadata": {},
   "source": [
    "#### Automatic Evaluation:"
   ]
  },
  {
   "cell_type": "markdown",
   "metadata": {},
   "source": [
    "<i><b><font color='red'>Do not forget to run on all test cases when your final implementation is finished!</font></b></i>"
   ]
  },
  {
   "cell_type": "code",
   "execution_count": null,
   "metadata": {},
   "outputs": [],
   "source": [
    "#DO NOT EDIT THIS CODE!\n",
    "from evaluation_script import evaluate_solution \n",
    "evaluate_solution(question_id=1,question_part_id='d',function=lcs,\n",
    "                  test_case_list=[1,2,3,4,5],verbose=True)"
   ]
  },
  {
   "cell_type": "markdown",
   "metadata": {},
   "source": [
    "<hr>\n",
    "<br>\n",
    "<br>"
   ]
  },
  {
   "cell_type": "markdown",
   "metadata": {},
   "source": [
    "## 2. "
   ]
  },
  {
   "cell_type": "markdown",
   "metadata": {},
   "source": [
    "A Binary Search Tree (BST) is a general-purpose data structure for storing keys.  In the question below, you may assume that all keys stored in a Binary Search Tree will be unique integers."
   ]
  },
  {
   "cell_type": "markdown",
   "metadata": {},
   "source": [
    "(a) Implement a function to construct a Binary Search Tree from a given list of keys, $keys$, by completing the <b>construct_tree</b>($keys$) function below.  Your function should make use of the `Node` class provided. It should return a list of the keys in the resulting Binary Search Tree in the order visited by a postorder traversal. <div style=\"text-align: right\">[30%]</div>"
   ]
  },
  {
   "cell_type": "markdown",
   "metadata": {},
   "source": [
    "### Examples:"
   ]
  },
  {
   "cell_type": "markdown",
   "metadata": {},
   "source": [
    "**Input:** `[4, 2, 5]` <br>\n",
    "**Output:** `[2, 5, 4]` <br>\n",
    "**Explanation:** the tree structure is visualised below<br>"
   ]
  },
  {
   "cell_type": "markdown",
   "metadata": {},
   "source": [
    "<img src=\"bst-with-4-2-5.png\" width=\"200px\">"
   ]
  },
  {
   "cell_type": "markdown",
   "metadata": {},
   "source": [
    "**Input:** `[4, 2, 5, 1, 3]` <br>\n",
    "**Output:** `[1, 3, 2, 5, 4]` <br>\n",
    "**Explanation:** the tree structure is visualised below<br>"
   ]
  },
  {
   "cell_type": "markdown",
   "metadata": {},
   "source": [
    "<img src=\"bst-with-4-2-5-1-3.png\" width=\"250px\">"
   ]
  },
  {
   "cell_type": "markdown",
   "metadata": {},
   "source": [
    "### Constraints:\n",
    "\n",
    "- Every key is a unique integer.\n",
    "- $0 \\leq \\text{len}(keys) \\leq 10^3$."
   ]
  },
  {
   "cell_type": "markdown",
   "metadata": {},
   "source": [
    "### Code:"
   ]
  },
  {
   "cell_type": "code",
   "execution_count": null,
   "metadata": {},
   "outputs": [
    {
     "name": "stdout",
     "output_type": "stream",
     "text": [
      "[1, 3, 2, 5, 4]\n"
     ]
    }
   ],
   "source": [
    "class Node:\n",
    "    def __init__(self, key, left=None, right=None):\n",
    "        self.key = key\n",
    "        self.left = left\n",
    "        self.right = right\n",
    "    \n",
    "    def __repr__(self):\n",
    "        return f\"{self.key} L:{self.left is not None} R:{self.right is not None}\"\n",
    "\n",
    "def postorder(n):\n",
    "    if n:\n",
    "        A = postorder(n.left)\n",
    "        B = postorder(n.right)\n",
    "        return A + B + [n.key]\n",
    "    return [] \n",
    "\n",
    "def insert(k, root):\n",
    "    newnode = Node(k)\n",
    "    node = root\n",
    "    while(1):\n",
    "        if k < node.key:\n",
    "            if node.left is not None:\n",
    "                node = node.left\n",
    "                continue\n",
    "            else:\n",
    "                ## add new node\n",
    "                node.left = newnode\n",
    "            break\n",
    "        elif k > node.key:\n",
    "            if node.right is not None:\n",
    "                node = node.right\n",
    "                continue\n",
    "            else:\n",
    "                ## add new node\n",
    "                node.right = newnode\n",
    "            break\n",
    "\n",
    "def construct_tree(keys):\n",
    "    ## create a root to start from\n",
    "    if not len(keys): return []\n",
    "    root = Node(keys.pop(0))\n",
    "    \n",
    "    ## insert\n",
    "    for k in keys:\n",
    "        insert(k, root)\n",
    "    \n",
    "    return postorder(root)\n",
    "\n",
    "keys = [4, 2, 5, 1, 3]\n",
    "print(construct_tree(keys))"
   ]
  },
  {
   "cell_type": "markdown",
   "metadata": {},
   "source": [
    "### Tests:"
   ]
  },
  {
   "cell_type": "markdown",
   "metadata": {},
   "source": [
    "##### Run example test case 1:"
   ]
  },
  {
   "cell_type": "code",
   "execution_count": null,
   "metadata": {},
   "outputs": [
    {
     "name": "stdout",
     "output_type": "stream",
     "text": [
      "[2, 5, 4]\n"
     ]
    }
   ],
   "source": [
    "keys = [4, 2, 5]\n",
    "print(construct_tree(keys))"
   ]
  },
  {
   "cell_type": "markdown",
   "metadata": {},
   "source": [
    "##### Run example test case 2:"
   ]
  },
  {
   "cell_type": "code",
   "execution_count": null,
   "metadata": {},
   "outputs": [
    {
     "name": "stdout",
     "output_type": "stream",
     "text": [
      "[1, 3, 2, 5, 4]\n"
     ]
    }
   ],
   "source": [
    "keys = [4, 2, 5, 1, 3]\n",
    "print(construct_tree(keys))"
   ]
  },
  {
   "cell_type": "markdown",
   "metadata": {},
   "source": [
    "#### Automatic Evaluation:"
   ]
  },
  {
   "cell_type": "markdown",
   "metadata": {},
   "source": [
    "<i><b><font color='red'>Do not forget to run on all test cases when your final implementation is finished!</font></b></i>"
   ]
  },
  {
   "cell_type": "code",
   "execution_count": null,
   "metadata": {},
   "outputs": [
    {
     "name": "stdout",
     "output_type": "stream",
     "text": [
      "----------------------------------\n",
      "Evaluating question 2, part a\n",
      "Running question 2, part a, test id: 1\n",
      "Input:\n",
      "[4, 2, 5]\n",
      "Obtained output:\n",
      "[2, 5, 4]\n",
      "<<CORRECT>>\n",
      "Running question 2, part a, test id: 2\n",
      "Input:\n",
      "[4, 2, 5, 1, 3]\n",
      "Obtained output:\n",
      "[1, 3, 2, 5, 4]\n",
      "<<CORRECT>>\n",
      "Running question 2, part a, test id: 3\n",
      "Input:\n",
      "[0, 1, 2, 3, 4, 5, 6, 7, 8, 9, 10, 11, 12, 13, 14, 15, 16, 17, 18, 19, 20, 21, 22, 23, 24, 25, 26, 27, 28, 29, 30, 31, 32, 33, 34, 35, 36, 37, 38, 39, 40, 41, 42, 43, 44, 45, 46, 47, 48, 49, 50, 51, 52, 53, 54, 55, 56, 57, 58, 59, 60, 61, 62, 63, 64, 65, 66, 67, 68, 69, 70, 71, 72, 73, 74, 75, 76, 77, 78, 79, 80, 81, 82, 83, 84, 85, 86, 87, 88, 89, 90, 91, 92, 93, 94, 95, 96, 97, 98, 99]\n",
      "Obtained output:\n",
      "[99, 98, 97, 96, 95, 94, 93, 92, 91, 90, 89, 88, 87, 86, 85, 84, 83, 82, 81, 80, 79, 78, 77, 76, 75, 74, 73, 72, 71, 70, 69, 68, 67, 66, 65, 64, 63, 62, 61, 60, 59, 58, 57, 56, 55, 54, 53, 52, 51, 50, 49, 48, 47, 46, 45, 44, 43, 42, 41, 40, 39, 38, 37, 36, 35, 34, 33, 32, 31, 30, 29, 28, 27, 26, 25, 24, 23, 22, 21, 20, 19, 18, 17, 16, 15, 14, 13, 12, 11, 10, 9, 8, 7, 6, 5, 4, 3, 2, 1, 0]\n",
      "<<CORRECT>>\n",
      "Running question 2, part a, test id: 4\n",
      "Input:\n",
      "[]\n",
      "Obtained output:\n",
      "[]\n",
      "<<CORRECT>>\n",
      "Running question 2, part a, test id: 5\n",
      "Input:\n",
      "[9, 8, 7, 6, 5, 4, 3, 2, 1, 0]\n",
      "Obtained output:\n",
      "[0, 1, 2, 3, 4, 5, 6, 7, 8, 9]\n",
      "<<CORRECT>>\n",
      "-----------------\n",
      "Total correct outputs:\n",
      "5 out of 5\n",
      "----------------------------------\n"
     ]
    }
   ],
   "source": [
    "#DO NOT EDIT THIS CODE!\n",
    "from evaluation_script import evaluate_solution \n",
    "evaluate_solution(question_id=2,question_part_id='a',function=construct_tree,\n",
    "                  test_case_list=[1,2,3,4,5],verbose=True)"
   ]
  },
  {
   "cell_type": "markdown",
   "metadata": {},
   "source": [
    "(b) Describe the asymptotic complexity of the operation implemented in Part (a) under average case and worst case assumptions. Provide an example of an input sequence of keys that induces worst case behaviour.<div style=\"text-align: right\">[15%]</div>"
   ]
  },
  {
   "attachments": {},
   "cell_type": "markdown",
   "metadata": {},
   "source": [
    "<div style=\"border-width:2px;border-style:solid;border-color:black;\">\n",
    "\n",
    "key insertion requires traversal to the correct insertion point, the complexity of which is dependent on the tree balance. The average case is order of the average tree height O(h), or O(logn) where n is the number of nodes in the tree. The worst case behaviour is Theta(n) assuming a perfectly imbalanced tree, such that every node only has one parent and one child. An example that would generate a worst case would be a list of descending order e.g. [5, 4, 3, 2, 1] or alternatively ascending order.\n",
    "\n",
    "As there are n keys in total to insert, total complexity of the build tree command is average O(nlogn) and worst case Theta(n^2).\n",
    "\n",
    "</div>"
   ]
  },
  {
   "cell_type": "markdown",
   "metadata": {},
   "source": [
    "(c) Give brief answers to the following questions."
   ]
  },
  {
   "cell_type": "markdown",
   "metadata": {},
   "source": [
    "&emsp; (i) Describe the <em>Binary Search Tree property</em>.<div style=\"text-align: right\">[5%]</div>"
   ]
  },
  {
   "cell_type": "markdown",
   "metadata": {},
   "source": [
    "<div style=\"border-width:2px;border-style:solid;border-color:black;\">\n",
    "\n",
    "The BST property is that, for a node n with key k, all nodes in its left subtree wil have keys $\\leq k$, and all nodes in its right subtree will have keys $\\geq k$.\n",
    "</div>"
   ]
  },
  {
   "cell_type": "markdown",
   "metadata": {},
   "source": [
    "&emsp; (ii) Describe the operation of <em>preorder</em> and <em>inorder</em> traversals and show how each can be implemented with recursion (either with a written description, pseudocode or Python code). What is the asymptotic runtime complexity for both operations?<div style=\"text-align: right\">[10%]</div>"
   ]
  },
  {
   "cell_type": "code",
   "execution_count": null,
   "metadata": {},
   "outputs": [],
   "source": [
    "# for an Object based tree as above\n",
    "\n",
    "def preorder(n):\n",
    "    if n:\n",
    "        A = preorder(n.left)\n",
    "        B = preorder(n.right)\n",
    "        return [n.key] + A + B \n",
    "    return [] \n",
    "\n",
    "def inorder(n):\n",
    "    if n:\n",
    "        A = inorder(n.left)\n",
    "        B = inorder(n.right)\n",
    "        return A + [n.key] + B\n",
    "    return [] "
   ]
  },
  {
   "attachments": {},
   "cell_type": "markdown",
   "metadata": {},
   "source": [
    "<div style=\"border-width:2px;border-style:solid;border-color:black;\">\n",
    "\n",
    "Both operations are $\\Theta(n)$ as every node in the tree is traversed. Preorder means processing a nodes contents before either of its children, an inorder means processing after the left child and before the right child.\n",
    "</div>"
   ]
  },
  {
   "cell_type": "markdown",
   "metadata": {},
   "source": [
    "&emsp; (iii) Explain how the inorder successor of a node is found in a Binary Search Tree. What is the average case and worst case asymptotic complexity of this operation?<div style=\"text-align: right\">[10%]</div>"
   ]
  },
  {
   "attachments": {},
   "cell_type": "markdown",
   "metadata": {},
   "source": [
    "<div style=\"border-width:2px;border-style:solid;border-color:black;\">\n",
    "\n",
    "The inorder successor of a node in a BST is the minimum key held within its right subtree. Minimum key is found by recursively taking the left child in a tree. Average case complexity would be order of balanced tree subtree height $O( \\log n)$ when starting from the root, worst case would be a dogleg unbalanced tree starting from root, $\\Theta(n)$. \n",
    "    \n",
    "</div>"
   ]
  },
  {
   "cell_type": "markdown",
   "metadata": {},
   "source": [
    "(d)  Given as input a dictionary, $traversals$, containing two lists of keys of the form `{\"preorder\": <preorder_keys>, \"inorder\": <inorder_keys>\"}` where `<preorder_keys>` is a list containing the keys produced by a preorder traversal of a Binary Tree and `<inorder_keys>` is the inorder traversal of the same tree, implement a function to construct the Binary Tree. Note that this tree will <em>not</em> necessarily be a Binary Search Tree. Your implementation should complete the <b>construct_tree_from_traversals</b>$(traversals)$ function below and should return the keys in postorder traversal order for the constructed Binary Tree.<div style=\"text-align: right\">[30%]</div>"
   ]
  },
  {
   "cell_type": "markdown",
   "metadata": {},
   "source": [
    "### Examples:"
   ]
  },
  {
   "cell_type": "markdown",
   "metadata": {},
   "source": [
    "**Input:** `{\"preorder\": [2, 7, 4], \"inorder\": [7, 2, 4]}` <br>\n",
    "**Output:** `[7, 4, 2]` <br>\n",
    "**Explanation:** the tree structure is visualised below<br>"
   ]
  },
  {
   "cell_type": "markdown",
   "metadata": {},
   "source": [
    "<img src=\"bt-with-7-4-2.png\" width=\"200px\">"
   ]
  },
  {
   "cell_type": "markdown",
   "metadata": {},
   "source": [
    "**Input:** `{\"preorder\": [2, 7, 8, 1, 4], \"inorder\": [8, 7, 1, 2, 4]}` <br>\n",
    "**Output:** `[8, 1, 7, 4, 2]` <br>\n",
    "**Explanation:** the tree structure is visualised below<br>"
   ]
  },
  {
   "cell_type": "markdown",
   "metadata": {},
   "source": [
    "<img src=\"bt-with-8-1-7-4-2.png\" width=\"250px\">"
   ]
  },
  {
   "cell_type": "code",
   "execution_count": 92,
   "metadata": {},
   "outputs": [
    {
     "name": "stdout",
     "output_type": "stream",
     "text": [
      "[8, 1, 7, 4, 2]\n"
     ]
    }
   ],
   "source": [
    "class Node:\n",
    "    \n",
    "    def __init__(self, key, left=None, right=None):\n",
    "        self.key = key\n",
    "        self.left = left\n",
    "        self.right = right\n",
    "\n",
    "    def __repr__(self) -> str:\n",
    "        return f\"{self.key} -> L:{self.left} R:{self.right}\"\n",
    "    \n",
    "    def __eq__(self, other) -> bool:\n",
    "        if isinstance(other, Node):\n",
    "            return self == other\n",
    "        return self.key == other\n",
    "\n",
    "\n",
    "def construct_tree_from_traversals(traversals):\n",
    "    preorder = traversals[\"preorder\"]\n",
    "    inorder = traversals[\"inorder\"]\n",
    "    if len(preorder) == 0 or len(inorder) == 0:\n",
    "        return []\n",
    "    \n",
    "    root = Node(preorder[0])\n",
    "\n",
    "    # queue of nodes to check\n",
    "    queue = [root]\n",
    "    masked = [root]\n",
    "\n",
    "    while len(queue):\n",
    "        # print(queue)\n",
    "        # print(f\"In: {inorder}\")\n",
    "        # print(f\"Pre: {preorder}\")\n",
    "        # print(\"\")\n",
    "\n",
    "        # for a node, its left child comes after it in preorder, and its right child after it in inorder\n",
    "        # this only works for a breadth-first construction\n",
    "        top = queue.pop(0)\n",
    "        left = preorder.index(top.key) + 1 # new node key index\n",
    "        right = inorder.index(top.key) + 1\n",
    "\n",
    "\n",
    "        if left < len(preorder) and preorder[left] not in masked:\n",
    "            # make it a new node and add it to the queue\n",
    "            new = Node(preorder[left])\n",
    "            top.left = new\n",
    "            queue.append(new)\n",
    "            masked.append(new.key)\n",
    "\n",
    "        if right < len(inorder) and inorder[right] not in masked:\n",
    "            # make it a new node and add it to the queue\n",
    "            new = Node(inorder[right])\n",
    "            top.right = new\n",
    "            queue.append(new)\n",
    "            masked.append(new.key)\n",
    "\n",
    "    def postorder(node: Node):\n",
    "        L = []\n",
    "        R = []\n",
    "        if node.left is not None:\n",
    "            L = postorder(node.left)\n",
    "        if node.right is not None:\n",
    "            R = postorder(node.right)\n",
    "        return L + R + [node.key]\n",
    "\n",
    "    def _postorder(n):\n",
    "        if n:\n",
    "            A = _postorder(n.left)\n",
    "            B = _postorder(n.right)\n",
    "            return A + B + [n.key] \n",
    "        return []\n",
    "    \n",
    "    return _postorder(root)\n",
    "\n",
    "\n",
    "\n",
    "        \n",
    "traversals = {\"preorder\": [2, 7, 8, 1, 4], \"inorder\": [8, 7, 1, 2, 4]}\n",
    "print(construct_tree_from_traversals(traversals))"
   ]
  },
  {
   "cell_type": "markdown",
   "metadata": {},
   "source": [
    "### Tests:"
   ]
  },
  {
   "cell_type": "markdown",
   "metadata": {},
   "source": [
    "##### Run example test case 1:"
   ]
  },
  {
   "cell_type": "code",
   "execution_count": 93,
   "metadata": {},
   "outputs": [
    {
     "name": "stdout",
     "output_type": "stream",
     "text": [
      "[7, 4, 2]\n"
     ]
    }
   ],
   "source": [
    "traversals = {\"preorder\": [2, 7, 4], \"inorder\": [7, 2, 4]}\n",
    "print(construct_tree_from_traversals(traversals))"
   ]
  },
  {
   "cell_type": "markdown",
   "metadata": {},
   "source": [
    "##### Run example test case 2:"
   ]
  },
  {
   "cell_type": "code",
   "execution_count": 94,
   "metadata": {},
   "outputs": [
    {
     "name": "stdout",
     "output_type": "stream",
     "text": [
      "[8, 1, 7, 4, 2]\n"
     ]
    }
   ],
   "source": [
    "traversals = {\"preorder\": [2, 7, 8, 1, 4], \"inorder\": [8, 7, 1, 2, 4]}\n",
    "print(construct_tree_from_traversals(traversals))"
   ]
  },
  {
   "cell_type": "markdown",
   "metadata": {},
   "source": [
    "#### Automatic Evaluation:"
   ]
  },
  {
   "cell_type": "markdown",
   "metadata": {},
   "source": [
    "<i><b><font color='red'>Do not forget to run on all test cases when your final implementation is finished!</font></b></i>"
   ]
  },
  {
   "cell_type": "code",
   "execution_count": 95,
   "metadata": {},
   "outputs": [
    {
     "name": "stdout",
     "output_type": "stream",
     "text": [
      "----------------------------------\n",
      "Evaluating question 2, part d\n",
      "Running question 2, part d, test id: 1\n",
      "Input:\n",
      "{'preorder': [2, 7, 4], 'inorder': [7, 2, 4]}\n",
      "Obtained output:\n",
      "[7, 4, 2]\n",
      "<<CORRECT>>\n",
      "Running question 2, part d, test id: 2\n",
      "Input:\n",
      "{'preorder': [2, 7, 8, 1, 4], 'inorder': [8, 7, 1, 2, 4]}\n",
      "Obtained output:\n",
      "[8, 1, 7, 4, 2]\n",
      "<<CORRECT>>\n",
      "Running question 2, part d, test id: 3\n",
      "Input:\n",
      "{'preorder': [], 'inorder': []}\n",
      "Obtained output:\n",
      "[]\n",
      "<<CORRECT>>\n",
      "Running question 2, part d, test id: 4\n",
      "Input:\n",
      "{'preorder': [0, 1, 3, 4], 'inorder': [4, 3, 1, 0]}\n",
      "Obtained output:\n",
      "[4, 3, 1, 0]\n",
      "<<CORRECT>>\n",
      "Running question 2, part d, test id: 5\n",
      "Input:\n",
      "{'preorder': [4, 3, 1, 0], 'inorder': [0, 1, 3, 4]}\n",
      "Obtained output:\n",
      "[0, 1, 3, 4]\n",
      "<<CORRECT>>\n",
      "-----------------\n",
      "Total correct outputs:\n",
      "5 out of 5\n",
      "----------------------------------\n"
     ]
    }
   ],
   "source": [
    "#DO NOT EDIT THIS CODE!\n",
    "from evaluation_script import evaluate_solution \n",
    "evaluate_solution(question_id=2,question_part_id='d',function=construct_tree_from_traversals,\n",
    "                  test_case_list=[1,2,3,4,5],verbose=True)"
   ]
  },
  {
   "cell_type": "markdown",
   "metadata": {},
   "source": [
    "## 3. "
   ]
  },
  {
   "cell_type": "markdown",
   "metadata": {},
   "source": [
    "(a) Write the function, **bfs_distances**($L$), which takes a list, $L$, as an input. This list contains three elements. The first element is a number, $n$, of vertices in a graph. The second element is an adjacency list, $A$, which represents an undirected graph. The third element is a single value, $s$, which represents the starting vertex. The function should perform the Breadth-First Search traversal of the graph, starting from vertex, $s$.<br> \n",
    "\n",
    "The output of the **bfs_distances** function should be a list, $O$, of $n$ elements. Element $O[i]$ is a list itself which contains vertices (in any order) that are at the distance $i$ away from the starting vertex, $s$. Note that the distance from the starting vertex, $s$, to itself is asumed to be 0.\n",
    "\n",
    "Also note that in this adjacency list representation we assume that graph vertices are numbered from $0$ to $n-1$ and the neighbours of the vertex, $u$, are stored as a list, $A[u]$. All edges, $(u,v)$, in the graph have two corresponding entries in the adjacency list (ie. $u$ being a neighbour of $v$ and $v$ being a neighbour of $u$).\n",
    "<div style=\"text-align: right\">[35%]</div>"
   ]
  },
  {
   "cell_type": "markdown",
   "metadata": {},
   "source": [
    "### Examples:"
   ]
  },
  {
   "cell_type": "markdown",
   "metadata": {},
   "source": [
    "**Input:** `[7, [[1, 2], [0, 2, 3, 4], [0, 1, 5, 6], [1], [1, 5], [2, 4], [2]], 0]` <br>\n",
    "**Output:** `[[0], [1, 2], [3, 4, 5, 6], [], [], [], []]` <br>"
   ]
  },
  {
   "cell_type": "markdown",
   "metadata": {},
   "source": [
    "**Input:** `[10,[[3,4,8,9],[2,9],[1,4,5,6],[0,7],[0,2],[2,7],[2],[3,5],[0],[0,1]],9]` <br>\n",
    "**Output:** `[[9], [0, 1], [3, 4, 8, 2], [7, 5, 6], [], [], [], [], [], []]` <br>"
   ]
  },
  {
   "cell_type": "markdown",
   "metadata": {},
   "source": [
    "### Constraints:\n",
    "\n",
    "- $1\\leq n \\leq 100$."
   ]
  },
  {
   "cell_type": "markdown",
   "metadata": {},
   "source": [
    "### Code:"
   ]
  },
  {
   "cell_type": "code",
   "execution_count": 107,
   "metadata": {},
   "outputs": [
    {
     "name": "stdout",
     "output_type": "stream",
     "text": [
      "[[0], [1, 2], [3, 4, 5, 6], [], [], [], []]\n"
     ]
    }
   ],
   "source": [
    "def bfs_distances(L):\n",
    "    n, A, s, = L\n",
    "    # breadth first search of A from s:\n",
    "    B_Queue = [s]\n",
    "    # dont double visit\n",
    "    visited = [s]\n",
    "    # node distances\n",
    "    distance = [_ for i in range(n)]\n",
    "    distance[s] = 0\n",
    "\n",
    "    while len(B_Queue):\n",
    "        v = B_Queue.pop(0)\n",
    "        # go through all attached\n",
    "        for u in A[v]:\n",
    "            if u not in visited:\n",
    "                visited.append(u)\n",
    "                B_Queue.append(u)\n",
    "                distance[u] = distance[v] + 1\n",
    "\n",
    "    O = [[] for i in range(n)]\n",
    "    for i in range(n):\n",
    "        O[distance[i]].append(i)\n",
    "    return O\n",
    "\n",
    "        \n",
    "\n",
    "input_value = [7, [[1, 2], [0, 2, 3, 4], [0, 1, 5, 6], [1], [1, 5], [2, 4], [2]], 0]\n",
    "print (bfs_distances(input_value))"
   ]
  },
  {
   "cell_type": "markdown",
   "metadata": {},
   "source": [
    "### Tests:"
   ]
  },
  {
   "cell_type": "markdown",
   "metadata": {},
   "source": [
    "##### Run example test case 1:"
   ]
  },
  {
   "cell_type": "code",
   "execution_count": 108,
   "metadata": {},
   "outputs": [
    {
     "name": "stdout",
     "output_type": "stream",
     "text": [
      "[[0], [1, 2], [3, 4, 5, 6], [], [], [], []]\n"
     ]
    }
   ],
   "source": [
    "input_value = [7, [[1, 2], [0, 2, 3, 4], [0, 1, 5, 6], [1], [1, 5], [2, 4], [2]], 0]\n",
    "print (bfs_distances(input_value))"
   ]
  },
  {
   "cell_type": "markdown",
   "metadata": {},
   "source": [
    "##### Run example test case 2:"
   ]
  },
  {
   "cell_type": "code",
   "execution_count": 109,
   "metadata": {},
   "outputs": [
    {
     "name": "stdout",
     "output_type": "stream",
     "text": [
      "[[9], [0, 1], [2, 3, 4, 8], [5, 6, 7], [], [], [], [], [], []]\n"
     ]
    }
   ],
   "source": [
    "input_value = [10,[[3,4,8,9],[2,9],[1,4,5,6],[0,7],[0,2],[2,7],[2],[3,5],[0],[0,1]],9]\n",
    "print (bfs_distances(input_value))"
   ]
  },
  {
   "cell_type": "markdown",
   "metadata": {},
   "source": [
    "#### Automatic Evaluation:"
   ]
  },
  {
   "cell_type": "markdown",
   "metadata": {},
   "source": [
    "<i><b><font color='red'>Do not forget to run on all test cases when your final implementation is finished!</font></b></i>"
   ]
  },
  {
   "cell_type": "code",
   "execution_count": 110,
   "metadata": {},
   "outputs": [
    {
     "name": "stdout",
     "output_type": "stream",
     "text": [
      "----------------------------------\n",
      "Evaluating question 3, part a\n",
      "Running question 3, part a, test id: 1\n",
      "Input:\n",
      "[7, [[1, 2], [0, 2, 3, 4], [0, 1, 5, 6], [1], [1, 5], [2, 4], [2]], 0]\n",
      "Obtained output:\n",
      "[[0], [1, 2], [3, 4, 5, 6], [], [], [], []]\n",
      "<<CORRECT>>\n",
      "Running question 3, part a, test id: 2\n",
      "Input:\n",
      "[10, [[3, 4, 8, 9], [2, 9], [1, 4, 5, 6], [0, 7], [0, 2], [2, 7], [2], [3, 5], [0], [0, 1]], 9]\n",
      "Obtained output:\n",
      "[[9], [0, 1], [2, 3, 4, 8], [5, 6, 7], [], [], [], [], [], []]\n",
      "<<CORRECT>>\n",
      "Running question 3, part a, test id: 3\n",
      "Input:\n",
      "[2, [[1], [0]], 0]\n",
      "Obtained output:\n",
      "[[0], [1]]\n",
      "<<CORRECT>>\n",
      "Running question 3, part a, test id: 4\n",
      "Input:\n",
      "[2, [[1], [0]], 1]\n",
      "Obtained output:\n",
      "[[1], [0]]\n",
      "<<CORRECT>>\n",
      "Running question 3, part a, test id: 5\n",
      "Input:\n",
      "[10, [[1], [0, 2], [1, 3], [2, 4], [3, 5], [4, 6], [5, 7], [6, 8], [7, 9], [8]], 0]\n",
      "Obtained output:\n",
      "[[0], [1], [2], [3], [4], [5], [6], [7], [8], [9]]\n",
      "<<CORRECT>>\n",
      "-----------------\n",
      "Total correct outputs:\n",
      "5 out of 5\n",
      "----------------------------------\n"
     ]
    }
   ],
   "source": [
    "#DO NOT EDIT THIS CODE!\n",
    "from evaluation_script import evaluate_solution, bfs_equivalent\n",
    "evaluate_solution(question_id=3,question_part_id='a',function=bfs_distances,comparison_function=bfs_equivalent,\n",
    "                  test_case_list=[1,2,3,4,5],verbose=True)"
   ]
  },
  {
   "cell_type": "markdown",
   "metadata": {},
   "source": [
    "(b) Give brief answers to the following questions.\n",
    "    \n",
    "&emsp; (i) Explain why your algorithm described in Part (a) is correct. Derive its run time complexity in detail. <div style=\"text-align: right\">[10%]</div>"
   ]
  },
  {
   "attachments": {},
   "cell_type": "markdown",
   "metadata": {},
   "source": [
    "<div style=\"border-width:2px;border-style:solid;border-color:black;\">\n",
    "\n",
    "?? Not Sure about this one\n",
    "\n",
    "</div>"
   ]
  },
  {
   "cell_type": "markdown",
   "metadata": {},
   "source": [
    "&emsp; (ii) Why is it said that Floyd-Warshall algorithm for all-pairs shortest path computation is a dynamic programming algorithm? What makes Dijkstra's algorithm a greedy algorithm? Justify your answers.  <div style=\"text-align: right\">[10%]</div>"
   ]
  },
  {
   "attachments": {},
   "cell_type": "markdown",
   "metadata": {},
   "source": [
    "<div style=\"border-width:2px;border-style:solid;border-color:black;\">\n",
    "\n",
    "Dynamic Programming requires there to be **overlapping subproblem** with **optimal substructure**. **All pairs** involves finding the shortest path between every pair of vertices in a graph, forming a pair-path matrix for each $(u, v)$.\n",
    "\n",
    "Floyd-Warshall solves the **all pairs** shortest path using dynamic programming. It relies on the following statement:\n",
    "\n",
    "The shortest path $D_{ij}$ from $i$ to $j$ via intermediate vertices ${1..k}$, is the minimum path of a) some $i \\rightarrow k \\rightarrow j$ and b) A shortest path from $i$ to $j$ that does not go through $k$, and uses only the intermediate vertices.\n",
    "\n",
    "Let $d_{ij}^k$ be the weight of the shortest path from $i$ to $j$ where all intermediate vertices can be numbered $[1..k]$ i.e. there are a maximum of $k$ vertices on the path. Hence $d_{ij}^{(0)} = w_{ij}$.\n",
    "\n",
    "$d_{ij}^k =  \\begin{cases} w_{ij}  & \\text{if } k = 0 \\\\ \n",
    "                         min[ d_{ij}^{k-1} , d_{ik}^{k-1} + d_{kj}^{k-1}] & \\text{if } k \\geq 1 \\end{cases}$\n",
    "\n",
    "Dijkstra's algorithm is said to be a greedy algorithm, as at all times the locally optimal solution results in the globally optimal solution. Dijkstra maintains a minimum priority queue of vertices to look at and works on the next in the queue to ensure the global estimates are always at a minimum\n",
    "\n",
    "</div>"
   ]
  },
  {
   "cell_type": "markdown",
   "metadata": {},
   "source": [
    "(c) Answer questions about the graph illustrated below.\n",
    "\n",
    "<img src=\"graph.png\" border=\"0\" class=\"bg-primary\" width=\"300px\">"
   ]
  },
  {
   "cell_type": "markdown",
   "metadata": {},
   "source": [
    "&emsp; (i) Calculate the maximum flow from vertex A to vertex F. Provide the detailed steps of your computation. <div style=\"text-align: right\">[5%]</div>"
   ]
  },
  {
   "attachments": {},
   "cell_type": "markdown",
   "metadata": {},
   "source": [
    "<div style=\"border-width:2px;border-style:solid;border-color:black;\">\n",
    "\n",
    "Residual Flow Graph after top path of 12\n",
    "```\n",
    "  4 B 0  D 8\n",
    "A   4 9  7   F\n",
    " 13 C 14 E 4\n",
    "```\n",
    "\n",
    "Residual Flow Graph after bottom path of 11\n",
    "```\n",
    "  4  B  0  D  4\n",
    "A    4  9  0    F\n",
    "  2  C  3  E  0\n",
    "```\n",
    "\n",
    "Hence flow is 23, there is no more residual flow.\n",
    "\n",
    "\n",
    "</div>"
   ]
  },
  {
   "cell_type": "markdown",
   "metadata": {},
   "source": [
    "&emsp;(ii) Perform a topological sort of this graph. Any valid ordering of vertices can be provided. <div style=\"text-align: right\">[5%]</div>"
   ]
  },
  {
   "attachments": {},
   "cell_type": "markdown",
   "metadata": {},
   "source": [
    "<div style=\"border-width:2px;border-style:solid;border-color:black;\">\n",
    "\n",
    "There are 2 cycles so I'm not sure this is possible??\n",
    "\n",
    "U appearing before V implies an edge from V to U\n",
    "\n",
    "</div>"
   ]
  },
  {
   "cell_type": "markdown",
   "metadata": {},
   "source": [
    "&emsp; (iii) Assume this graph is transformed in to an undirected graph by replacing all directed edges with equivalent undirected edges with corresponding weights. Write out the edges of the minimum spanning tree (MST) discovered by Kruskal's algorithm in the same order as they would be seleted to form the MST. <div style=\"text-align: right\">[5%]</div>"
   ]
  },
  {
   "attachments": {},
   "cell_type": "markdown",
   "metadata": {},
   "source": [
    "<div style=\"border-width:2px;border-style:solid;border-color:black;\">\n",
    "\n",
    "| No. | Trees | Edge to Add |\n",
    "| -- | -- | -- |\n",
    "| 1 | [A] [B] [C] [D] [E] [F] | B-C : 4 |\n",
    "| 2 | [A] [B, C] [D] [E] [F] | E-F : 4 |\n",
    "| 3 | [A] [B, C] [D] [E, F] | D-E: 7 |\n",
    "| 4 | [A] [B, C],[D, E, F] | D-C: 9 |\n",
    "| 5 | [A] [B, C, D, E, F] | A-C: 13 |\n",
    "| 6 | [A, B, C, D, E, F] |  |\n",
    "\n",
    "\n",
    "\n",
    "\n",
    "\n",
    "\n",
    "</div>"
   ]
  },
  {
   "cell_type": "markdown",
   "metadata": {},
   "source": [
    "(d) Write the function, **strongly_connected**($L$), which takes in a list, $L$, of 2 elements as an input. The first element, $\\lvert V \\rvert$, is the total number of vertices, $V$, in a directed graph. The second element, $A$, is a list where each element $A[u]$ in this list, is itself a list of vertex indexes. Element, $A[u][i]$, represents a directed edge, $(u,A[u][i])$, in the graph. Note that vertices in the graph are represented as integer numbers between 0 and $\\lvert V \\rvert-1$.\n",
    "\n",
    "Your function should output the number of strongly connected components in the graph. Run time complexity of your solution should be $O(\\lvert V \\rvert+\\lvert E \\rvert)$, where $\\lvert E \\rvert$ is the number of edges in the graph.\n",
    "\n",
    "<div style=\"text-align: right\">[20%]</div>"
   ]
  },
  {
   "cell_type": "markdown",
   "metadata": {},
   "source": [
    "### Examples:"
   ]
  },
  {
   "cell_type": "markdown",
   "metadata": {},
   "source": [
    "**Input:** `[3,[[1],[0,2],[]]]` <br>\n",
    "**Output:** `2` "
   ]
  },
  {
   "cell_type": "markdown",
   "metadata": {},
   "source": [
    "**Input:**  `[4,[[1],[2],[3],[0]]]` <br>\n",
    "**Output:**  `1`"
   ]
  },
  {
   "cell_type": "markdown",
   "metadata": {},
   "source": [
    "### Constraints:\n",
    "\n",
    "- $1\\leq \\lvert V \\rvert \\leq 100$.\n",
    "- $1\\leq \\lvert E \\rvert \\leq 1000$."
   ]
  },
  {
   "cell_type": "markdown",
   "metadata": {},
   "source": [
    "### Code:"
   ]
  },
  {
   "cell_type": "code",
   "execution_count": null,
   "metadata": {},
   "outputs": [],
   "source": [
    "def strongly_connected(L):\n",
    "    \n",
    "    # Insert code here"
   ]
  },
  {
   "cell_type": "markdown",
   "metadata": {},
   "source": [
    "### Tests:"
   ]
  },
  {
   "cell_type": "markdown",
   "metadata": {},
   "source": [
    "##### Run example test case 1:"
   ]
  },
  {
   "cell_type": "code",
   "execution_count": null,
   "metadata": {},
   "outputs": [],
   "source": [
    "input_value = [3,[[1],[0,2],[]]]\n",
    "print (strongly_connected(input_value))"
   ]
  },
  {
   "cell_type": "markdown",
   "metadata": {},
   "source": [
    "##### Run example test case 2:"
   ]
  },
  {
   "cell_type": "code",
   "execution_count": null,
   "metadata": {},
   "outputs": [],
   "source": [
    "input_value = [4,[[1],[2],[3],[0]]]\n",
    "print (strongly_connected(input_value))"
   ]
  },
  {
   "cell_type": "markdown",
   "metadata": {},
   "source": [
    "#### Automatic Evaluation:"
   ]
  },
  {
   "cell_type": "markdown",
   "metadata": {},
   "source": [
    "<i><b><font color='red'>Do not forget to run on all test cases when your final implementation is finished!</font></b></i>"
   ]
  },
  {
   "cell_type": "code",
   "execution_count": null,
   "metadata": {},
   "outputs": [],
   "source": [
    "#DO NOT EDIT THIS CODE!\n",
    "from evaluation_script import evaluate_solution \n",
    "evaluate_solution(question_id=3,question_part_id='d',function=strongly_connected,\n",
    "                  test_case_list=[1,2,3,4,5],verbose=True)"
   ]
  },
  {
   "cell_type": "markdown",
   "metadata": {},
   "source": [
    "(e) Explain why your algorithm proposed in Part (d) is correct? \n",
    "\n",
    " <div style=\"text-align: right\">[10%]</div>"
   ]
  },
  {
   "cell_type": "markdown",
   "metadata": {},
   "source": [
    "<div style=\"border-width:2px;border-style:solid;border-color:black;\">\n",
    "Write your answer here.\n",
    "</div>"
   ]
  },
  {
   "cell_type": "markdown",
   "metadata": {},
   "source": [
    "---\n",
    "<br>\n",
    "<br>\n",
    "<br>\n",
    "<br>\n",
    "<br>\n",
    "<br>\n",
    "<br>"
   ]
  },
  {
   "cell_type": "markdown",
   "metadata": {},
   "source": [
    "## 4. "
   ]
  },
  {
   "cell_type": "markdown",
   "metadata": {},
   "source": [
    "(a) You are provided as input an array $A$ of $n$ keys that has been generated by a stochastic process of the form:\n",
    "$$A(i) = i + \\mu$$\n",
    "where $\\mu$ is random noise drawn from the discrete uniform distribution, $\\mu \\sim \\mathrm{unif}\\{-k, k\\}$, for some $k$, where $k \\ll n$.  Implement an in-place variant of the quicksort algorithm as function, **quicksort**($A$), to sort the array into increasing order. Your solution should have a worst-case run time of $O(n \\log n)$.\n",
    "<div style=\"text-align: right\">[30%]</div>"
   ]
  },
  {
   "cell_type": "markdown",
   "metadata": {},
   "source": [
    "### Examples:"
   ]
  },
  {
   "cell_type": "markdown",
   "metadata": {},
   "source": [
    "**Input:** `[0, 1, 3, 2, 4]` <br>\n",
    "**Output:** `[0, 1, 2, 3, 4]` <br>\n",
    "**Explanation:** the input array has been sorted into increasing order."
   ]
  },
  {
   "cell_type": "markdown",
   "metadata": {},
   "source": [
    "**Input:** `[0, 1, 1]` <br>\n",
    "**Output:** `[0, 1, 1]` <br>\n",
    "**Explanation:** the input array was already in increasing order, so it remains unchanged."
   ]
  },
  {
   "cell_type": "markdown",
   "metadata": {},
   "source": [
    "### Constraints:\n",
    "\n",
    "- Every key is an integer."
   ]
  },
  {
   "cell_type": "markdown",
   "metadata": {},
   "source": [
    "### Code:"
   ]
  },
  {
   "cell_type": "code",
   "execution_count": 60,
   "metadata": {},
   "outputs": [
    {
     "name": "stdout",
     "output_type": "stream",
     "text": [
      "[-3, 1, 2, 2, 3, 6, 7, 7, 7, 9, 9, 10, 10, 12, 12, 13, 14, 15, 17, 18, 19, 20, 21, 21, 22, 24, 25, 26, 29, 30, 30, 31, 32, 32, 33, 37, 39, 39, 39, 40, 42]\n"
     ]
    }
   ],
   "source": [
    "def lpartition(A, low, high):\n",
    "    pval =  A[high]\n",
    "    j = low\n",
    "    for i in range(low, high):\n",
    "        if A[i] < pval:\n",
    "            A[j], A[i] = A[i], A[j]\n",
    "            j+=1\n",
    "    A[j], A[high] = A[high], A[j]\n",
    "    return j\n",
    "\n",
    "def quicksort(A, l = None, h = None):\n",
    "    if l is None: l = 0\n",
    "    if h is None: h = len(A)-1\n",
    "    if l >= h: return []\n",
    "    \n",
    "    pivot = lpartition(A, l , h)\n",
    "    quicksort(A, l, pivot-1)\n",
    "    quicksort(A, pivot+1, h)\n",
    "    return A\n",
    "    \n",
    "input_value = [1, 2, -3, 2, 7, 7, 7, 6, 10, 9, 14, 9, 15, 10, 13, 12, 12, 21, 17, 22, 24, 18, 21, 19, 20, 30, 26, 29, 31, 25, 30, 32, 32, 37, 39, 33, 39, 39, 40, 42, 3]\n",
    "print(quicksort(input_value))"
   ]
  },
  {
   "cell_type": "markdown",
   "metadata": {},
   "source": [
    "### Tests:"
   ]
  },
  {
   "cell_type": "markdown",
   "metadata": {},
   "source": [
    "##### Run example test case 1:"
   ]
  },
  {
   "cell_type": "code",
   "execution_count": 61,
   "metadata": {},
   "outputs": [
    {
     "name": "stdout",
     "output_type": "stream",
     "text": [
      "[0, 1, 2, 3, 4]\n"
     ]
    }
   ],
   "source": [
    "input_value = [0, 1, 3, 2, 4]\n",
    "print(quicksort(input_value))"
   ]
  },
  {
   "cell_type": "markdown",
   "metadata": {},
   "source": [
    "##### Run example test case 2:"
   ]
  },
  {
   "cell_type": "code",
   "execution_count": 62,
   "metadata": {},
   "outputs": [
    {
     "name": "stdout",
     "output_type": "stream",
     "text": [
      "[0, 1, 1]\n"
     ]
    }
   ],
   "source": [
    "input_value = [0, 1, 1]\n",
    "print(quicksort(input_value))"
   ]
  },
  {
   "cell_type": "markdown",
   "metadata": {},
   "source": [
    "#### Automatic Evaluation:"
   ]
  },
  {
   "cell_type": "markdown",
   "metadata": {},
   "source": [
    "<i><b><font color='red'>Do not forget to run on all test cases when your final implementation is finished!</font></b></i>"
   ]
  },
  {
   "cell_type": "code",
   "execution_count": 63,
   "metadata": {},
   "outputs": [
    {
     "name": "stdout",
     "output_type": "stream",
     "text": [
      "----------------------------------\n",
      "Evaluating question 4, part a\n",
      "Running question 4, part a, test id: 1\n",
      "Input:\n",
      "[0, 1, 3, 2, 4]\n",
      "Obtained output:\n",
      "[0, 1, 2, 3, 4]\n",
      "<<CORRECT>>\n",
      "Running question 4, part a, test id: 2\n",
      "Input:\n",
      "[0, 1, 1]\n",
      "Obtained output:\n",
      "[0, 1, 1]\n",
      "<<CORRECT>>\n",
      "Running question 4, part a, test id: 3\n",
      "Input:\n",
      "[1, 2, -3, 2, 7, 7, 7, 6, 10, 9, 14, 9, 15, 10, 13, 12, 12, 21, 17, 22, 24, 18, 21, 19, 20, 30, 26, 29, 31, 25, 30, 32, 32, 37, 39, 33, 39, 39, 40, 42, 39, 36, 45, 38, 40, 46, 51, 52, 43, 53, 52, 51, 50, 53, 50, 53, 60, 55, 56, 56, 63, 63, 58, 59, 64, 68, 68, 63, 67, 72, 69, 67, 75, 73, 77, 73, 80, 80, 82, 78, 82, 77, 86, 84, 84, 89, 84, 86, 85, 87, 87, 86, 96, 98, 93, 97, 92, 93, 103, 96]\n",
      "Obtained output:\n",
      "[-3, 1, 2, 2, 6, 7, 7, 7, 9, 9, 10, 10, 12, 12, 13, 14, 15, 17, 18, 19, 20, 21, 21, 22, 24, 25, 26, 29, 30, 30, 31, 32, 32, 33, 36, 37, 38, 39, 39, 39, 39, 40, 40, 42, 43, 45, 46, 50, 50, 51, 51, 52, 52, 53, 53, 53, 55, 56, 56, 58, 59, 60, 63, 63, 63, 64, 67, 67, 68, 68, 69, 72, 73, 73, 75, 77, 77, 78, 80, 80, 82, 82, 84, 84, 84, 85, 86, 86, 86, 87, 87, 89, 92, 93, 93, 96, 96, 97, 98, 103]\n",
      "<<CORRECT>>\n",
      "Running question 4, part a, test id: 4\n",
      "Input:\n",
      "[6, 0, 7, 10, 3, -2, 3, 8, 8, 8, 17, 16, 18, 10, 14, 13, 18, 24, 25, 15, 21, 16, 19, 18, 29, 19, 28, 32, 25, 36, 31, 35, 37, 35, 41, 30, 33, 31, 42, 33, 47, 47, 45, 41, 44, 46, 40, 45, 47, 47, 52, 54, 59, 49, 55, 55, 56, 63, 59, 56, 53, 66, 69, 64, 71, 58, 60, 71, 74, 68, 74, 77, 77, 76, 77, 68, 78, 77, 84, 85, 78, 77, 86, 81, 88, 91, 80, 83, 95, 91, 86, 87, 97, 88, 99, 96, 96, 91, 92, 97, 107, 102, 109, 103, 98, 102, 107, 104, 112, 103, 111, 109, 118, 120, 115, 111, 121, 119, 119, 121, 117, 121, 116, 125, 129, 124, 124, 129, 124, 126, 125, 127, 138, 128, 127, 137, 139, 134, 138, 133, 134, 144, 147, 138, 151, 140, 153, 140, 154, 143, 157, 155, 159, 159, 155, 158, 155, 163, 162, 160, 157, 162, 167, 159, 170, 161, 173, 170, 170, 175, 169, 173, 169, 173, 174, 178, 179, 181, 185, 184, 178, 175, 180, 185, 178, 185, 188, 190, 186, 195, 186, 187, 185, 197, 191, 189, 200, 193, 196, 204, 195, 199, 201, 209, 197, 199, 211, 202, 214, 213, 206, 204, 218, 215, 217, 222, 223, 218, 220, 222, 214, 214, 216, 226, 220, 227, 232, 229, 222, 228, 224, 229, 238, 227, 227, 237, 229, 233, 233, 243, 234, 241, 238, 247, 249, 238, 253, 250, 241, 250, 249, 253, 246, 259, 251, 249, 252, 251, 261, 256, 258, 260, 257, 256, 265, 265, 259, 269, 262, 273, 269, 267, 269, 271, 281, 279, 276, 283, 285, 286, 282, 276, 286, 286, 280, 290, 279, 292, 291, 284, 296, 286, 290, 294, 291, 289, 298, 304, 298, 302, 295, 294, 302, 306, 303, 312, 308, 313, 309, 316, 307, 314, 310, 312, 320, 318, 313, 312, 319, 323, 313, 321, 326, 317, 322, 329, 319, 328, 325, 324, 326, 336, 332, 331, 336, 332, 339, 335, 340, 346, 343, 347, 344, 338, 348, 342, 345, 351, 347, 355, 353, 345, 345, 355, 350, 359, 354, 352, 354, 355, 363, 361, 361, 367, 371, 368, 368, 373, 367, 362, 369, 377, 376, 375, 373, 380, 379, 381, 371, 374, 380, 375, 379, 387, 379, 385, 387, 394, 388, 396, 391, 393, 397, 386, 401, 388, 396, 395, 395, 405, 400, 394, 407, 409, 411, 410, 405, 403, 409, 412, 404, 417, 416, 408, 407, 414, 419, 416, 416, 412, 416, 414, 426, 428, 417, 431, 429, 428, 430, 423, 426, 425, 434, 436, 430, 441, 433, 434, 442, 434, 434, 441, 448, 450, 443, 448, 440, 440, 445, 456, 450, 456, 457, 447, 460, 452, 451, 460, 459, 465, 463, 464, 460, 457, 470, 460, 463, 473, 461, 462, 463, 467, 475, 470, 475, 473, 474, 479, 485, 485, 473, 487, 486, 487, 486, 488, 486, 491, 491, 496, 490, 494, 491, 491, 500, 496, 491, 493, 497, 501]\n",
      "Obtained output:\n",
      "[-2, 0, 3, 3, 6, 7, 8, 8, 8, 10, 10, 13, 14, 15, 16, 16, 17, 18, 18, 18, 19, 19, 21, 24, 25, 25, 28, 29, 30, 31, 31, 32, 33, 33, 35, 35, 36, 37, 40, 41, 41, 42, 44, 45, 45, 46, 47, 47, 47, 47, 49, 52, 53, 54, 55, 55, 56, 56, 58, 59, 59, 60, 63, 64, 66, 68, 68, 69, 71, 71, 74, 74, 76, 77, 77, 77, 77, 77, 78, 78, 80, 81, 83, 84, 85, 86, 86, 87, 88, 88, 91, 91, 91, 92, 95, 96, 96, 97, 97, 98, 99, 102, 102, 103, 103, 104, 107, 107, 109, 109, 111, 111, 112, 115, 116, 117, 118, 119, 119, 120, 121, 121, 121, 124, 124, 124, 125, 125, 126, 127, 127, 128, 129, 129, 133, 134, 134, 137, 138, 138, 138, 139, 140, 140, 143, 144, 147, 151, 153, 154, 155, 155, 155, 157, 157, 158, 159, 159, 159, 160, 161, 162, 162, 163, 167, 169, 169, 170, 170, 170, 173, 173, 173, 174, 175, 175, 178, 178, 178, 179, 180, 181, 184, 185, 185, 185, 185, 186, 186, 187, 188, 189, 190, 191, 193, 195, 195, 196, 197, 197, 199, 199, 200, 201, 202, 204, 204, 206, 209, 211, 213, 214, 214, 214, 215, 216, 217, 218, 218, 220, 220, 222, 222, 222, 223, 224, 226, 227, 227, 227, 228, 229, 229, 229, 232, 233, 233, 234, 237, 238, 238, 238, 241, 241, 243, 246, 247, 249, 249, 249, 250, 250, 251, 251, 252, 253, 253, 256, 256, 257, 258, 259, 259, 260, 261, 262, 265, 265, 267, 269, 269, 269, 271, 273, 276, 276, 279, 279, 280, 281, 282, 283, 284, 285, 286, 286, 286, 286, 289, 290, 290, 291, 291, 292, 294, 294, 295, 296, 298, 298, 302, 302, 303, 304, 306, 307, 308, 309, 310, 312, 312, 312, 313, 313, 313, 314, 316, 317, 318, 319, 319, 320, 321, 322, 323, 324, 325, 326, 326, 328, 329, 331, 332, 332, 335, 336, 336, 338, 339, 340, 342, 343, 344, 345, 345, 345, 346, 347, 347, 348, 350, 351, 352, 353, 354, 354, 355, 355, 355, 359, 361, 361, 362, 363, 367, 367, 368, 368, 369, 371, 371, 373, 373, 374, 375, 375, 376, 377, 379, 379, 379, 380, 380, 381, 385, 386, 387, 387, 388, 388, 391, 393, 394, 394, 395, 395, 396, 396, 397, 400, 401, 403, 404, 405, 405, 407, 407, 408, 409, 409, 410, 411, 412, 412, 414, 414, 416, 416, 416, 416, 417, 417, 419, 423, 425, 426, 426, 428, 428, 429, 430, 430, 431, 433, 434, 434, 434, 434, 436, 440, 440, 441, 441, 442, 443, 445, 447, 448, 448, 450, 450, 451, 452, 456, 456, 457, 457, 459, 460, 460, 460, 460, 461, 462, 463, 463, 463, 464, 465, 467, 470, 470, 473, 473, 473, 474, 475, 475, 479, 485, 485, 486, 486, 486, 487, 487, 488, 490, 491, 491, 491, 491, 491, 493, 494, 496, 496, 497, 500, 501]\n",
      "<<CORRECT>>\n",
      "Running question 4, part a, test id: 5\n",
      "Input:\n",
      "[]\n",
      "Obtained output:\n",
      "[]\n",
      "<<CORRECT>>\n",
      "-----------------\n",
      "Total correct outputs:\n",
      "5 out of 5\n",
      "----------------------------------\n"
     ]
    }
   ],
   "source": [
    "#DO NOT EDIT THIS CODE!\n",
    "from evaluation_script import evaluate_solution \n",
    "evaluate_solution(question_id=4,question_part_id='a',function=quicksort,\n",
    "                  test_case_list=[1,2,3,4,5],verbose=True)"
   ]
  },
  {
   "cell_type": "markdown",
   "metadata": {},
   "source": [
    "(b) Explain why code achieves the desired worst-case run time behaviour. <div style=\"text-align: right\">[10%]</div>"
   ]
  },
  {
   "cell_type": "markdown",
   "metadata": {},
   "source": [
    "<div style=\"border-width:2px;border-style:solid;border-color:black;\">\n",
    "\n",
    "Quicksort achieves $O(n \\log n)$ worst case RTA when used on a uniformly random input string. Quicksort is optimal when the selected pivot for each subsort is median positioned, so that the partition function runtime is n/2 then n/4 etc. the total number of partitions called is $n$, with averge partition complexity $\\log n$.\n",
    "    \n",
    "</div>"
   ]
  },
  {
   "cell_type": "markdown",
   "metadata": {},
   "source": [
    "(c) Suppose the stochastic process described in Part (a) is now corrupted by an additional source of noise.  Regardless of the length of the sequence, $n$, all but 3 of the entries are set to zero. Does your implementation in Part (a) still guarantee $O(n \\log n)$ worst-case runtime? Explain your answer. <div style=\"text-align: right\">[10%]</div>"
   ]
  },
  {
   "cell_type": "markdown",
   "metadata": {},
   "source": [
    "<div style=\"border-width:2px;border-style:solid;border-color:black;\">\n",
    "No, worst case for a non-uniform input can be as bad as $O(n^2)$ when using the lomuto partition. Assuming each call results in a pivot choice thats sorted location is at the end of the current subsort, and the next sort is of length n-1.\n",
    "</div>"
   ]
  },
  {
   "cell_type": "markdown",
   "metadata": {},
   "source": [
    "(d) Give brief answers to the following questions."
   ]
  },
  {
   "cell_type": "markdown",
   "metadata": {},
   "source": [
    "&emsp; (i) What is the expected run time of the quicksort algorithm if the rank of the pivot selected during each recursion does not depend on the input array size? Explain your answer. <br><br>  *Note that the rank refers to 1-indexed position of an element in a list if the elements were to be sorted into increasing order (for example, in the list `[0, 4, 3]`, the rank of `3` is  2, because `3` is the second largest element in the list).* <div style=\"text-align: right\">[10%]</div>"
   ]
  },
  {
   "cell_type": "markdown",
   "metadata": {},
   "source": [
    "<div style=\"border-width:2px;border-style:solid;border-color:black;\">\n",
    "$O(n \\log n)$.\n",
    "</div>"
   ]
  },
  {
   "cell_type": "markdown",
   "metadata": {},
   "source": [
    "&emsp; (ii) What is the expected run time of the quicksort algorithm if the rank of the pivot selected during each recursion is $K \\cdot n$ for some $K$ such that $0 < K < 1$. Explain your answer. <div style=\"text-align: right\">[10%]</div>"
   ]
  },
  {
   "cell_type": "markdown",
   "metadata": {},
   "source": [
    "<div style=\"border-width:2px;border-style:solid;border-color:black;\">\n",
    "$O(n \\cdot K)$. \n",
    "</div>"
   ]
  },
  {
   "cell_type": "markdown",
   "metadata": {},
   "source": [
    "&emsp; (iii) Describe briefly how quicksort can be modified to guarantee $O(n \\log n)$ worst-case runtime, and explain why such a modification may not be desirable in practice. <div style=\"text-align: right\">[10%]</div>"
   ]
  },
  {
   "cell_type": "markdown",
   "metadata": {},
   "source": [
    "<div style=\"border-width:2px;border-style:solid;border-color:black;\">\n",
    "randomise pivot choice? Will reduce the average case runtime to also $O(n \\log n)$.\n",
    "</div>"
   ]
  },
  {
   "cell_type": "markdown",
   "metadata": {},
   "source": [
    "(e) Given an input array $B$ comprising $n$ triplets of integers $(i, j, k)$ (not necessary distinct), implement an in-place sorting algorithm that sorts the keys into increasing lexicographic order with worst-case $O(n \\log n)$. Your code should not make use of Python's builtin sort functions. <div style=\"text-align: right\">[20%]</div>"
   ]
  },
  {
   "cell_type": "markdown",
   "metadata": {},
   "source": [
    "### Examples:"
   ]
  },
  {
   "cell_type": "markdown",
   "metadata": {},
   "source": [
    "**Input:** `[[2, 1, 0], [1, 0, 2]]` <br>\n",
    "**Output:** `[[1, 0, 2], [2, 1, 0]]` <br>\n",
    "**Explanation:** the triplets of $B$ have been sorted into increasing lexicographic order.<br>"
   ]
  },
  {
   "cell_type": "markdown",
   "metadata": {},
   "source": [
    "**Input:** `[[1, 0, 2], [1, 0, 2]]` <br>\n",
    "**Output:** `[[1, 0, 2], [1, 0, 2]]` <br>\n",
    "**Explanation:** the triplets of $B$ were already in increasing lexicographic order, so the array remains unchanged.<br>"
   ]
  },
  {
   "cell_type": "markdown",
   "metadata": {},
   "source": [
    "### Constraints:\n",
    "\n",
    "- $0\\leq n\\leq 20$."
   ]
  },
  {
   "cell_type": "markdown",
   "metadata": {},
   "source": [
    "### Code:"
   ]
  },
  {
   "cell_type": "code",
   "execution_count": null,
   "metadata": {},
   "outputs": [],
   "source": [
    "def triplet_sort(B):\n",
    "    # bodge sort\n",
    "    if not len(B): return []\n",
    "    AS = [B.pop(0)]\n",
    "    for Ai in B:\n",
    "        for i in range(len(AS)+1):\n",
    "            if i >= len(AS):\n",
    "                AS = AS + [Ai]\n",
    "                break\n",
    "            ltc = False # Ai is less than AS[i]\n",
    "            if (Ai[0] < AS[i][0]) or \\\n",
    "                (Ai[0] == AS[i][0] and Ai[1] < AS[i][1]) or \\\n",
    "                (Ai[0] == AS[i][0] and Ai[1] == AS[i][1] and Ai[2] < AS[i][2]):\n",
    "                ltc = True\n",
    "            if ltc:\n",
    "                AS = AS[:i] + [Ai] + AS[i:]\n",
    "                break\n",
    "    return AS\n",
    "    \n",
    "    \n",
    "    # Insert code here"
   ]
  },
  {
   "cell_type": "markdown",
   "metadata": {},
   "source": [
    "### Examples:"
   ]
  },
  {
   "cell_type": "markdown",
   "metadata": {},
   "source": [
    "##### Run example test case 1:"
   ]
  },
  {
   "cell_type": "code",
   "execution_count": null,
   "metadata": {},
   "outputs": [
    {
     "name": "stdout",
     "output_type": "stream",
     "text": [
      "[[1, 0, 2], [2, 1, 0]]\n"
     ]
    }
   ],
   "source": [
    "input_value = [[2, 1, 0], [1, 0, 2]]\n",
    "print(triplet_sort(input_value))"
   ]
  },
  {
   "cell_type": "markdown",
   "metadata": {},
   "source": [
    "##### Run example test case 2:"
   ]
  },
  {
   "cell_type": "code",
   "execution_count": null,
   "metadata": {},
   "outputs": [
    {
     "name": "stdout",
     "output_type": "stream",
     "text": [
      "[[1, 0, 2], [1, 0, 2]]\n"
     ]
    }
   ],
   "source": [
    "input_value = [[1, 0, 2], [1, 0, 2]]\n",
    "print(triplet_sort(input_value))"
   ]
  },
  {
   "cell_type": "markdown",
   "metadata": {},
   "source": [
    "#### Automatic Evaluation:"
   ]
  },
  {
   "cell_type": "markdown",
   "metadata": {},
   "source": [
    "<i><b><font color='red'>Do not forget to run on all test cases when your final implementation is finished!</font></b></i>"
   ]
  },
  {
   "cell_type": "code",
   "execution_count": null,
   "metadata": {},
   "outputs": [
    {
     "name": "stdout",
     "output_type": "stream",
     "text": [
      "----------------------------------\n",
      "Evaluating question 4, part e\n",
      "Running question 4, part e, test id: 1\n",
      "Input:\n",
      "[[2, 1, 0], [1, 0, 2]]\n",
      "Obtained output:\n",
      "[[1, 0, 2], [2, 1, 0]]\n",
      "<<CORRECT>>\n",
      "Running question 4, part e, test id: 2\n",
      "Input:\n",
      "[[1, 0, 2], [1, 0, 2]]\n",
      "Obtained output:\n",
      "[[1, 0, 2], [1, 0, 2]]\n",
      "<<CORRECT>>\n",
      "Running question 4, part e, test id: 3\n",
      "Input:\n",
      "[]\n",
      "Obtained output:\n",
      "[]\n",
      "<<CORRECT>>\n",
      "Running question 4, part e, test id: 4\n",
      "Input:\n",
      "[[729, -212, 552], [823, -139, -918], [-470, 977, 47], [-5, -171, 880], [605, 699, -379], [982, -24, -267], [194, 826, 859], [-553, 33, -715], [-423, -714, 547], [-806, 266, 637], [-487, 863, 90], [444, 659, 232], [847, -700, -365], [-798, 494, -849], [840, 741, 400], [-324, -34, 146], [-794, -276, -111], [-353, 251, 311], [869, -582, 979], [131, -24, -94]]\n",
      "Obtained output:\n",
      "[[-806, 266, 637], [-798, 494, -849], [-794, -276, -111], [-553, 33, -715], [-487, 863, 90], [-470, 977, 47], [-423, -714, 547], [-353, 251, 311], [-324, -34, 146], [-5, -171, 880], [131, -24, -94], [194, 826, 859], [444, 659, 232], [605, 699, -379], [729, -212, 552], [823, -139, -918], [840, 741, 400], [847, -700, -365], [869, -582, 979], [982, -24, -267]]\n",
      "<<CORRECT>>\n",
      "Running question 4, part e, test id: 5\n",
      "Input:\n",
      "[[0, 0, -1], [0, 1, 0], [0, 0, 0], [0, 1, -1], [1, -1, 0], [-1, -1, 1], [0, 1, 1], [1, -1, 0], [-1, 1, -1], [1, 0, 0], [1, -1, 0], [0, 0, 1], [1, -1, 1], [0, 0, 1], [0, -1, 1], [-1, -1, 1], [0, 1, 1], [1, -1, 1], [0, 0, -1], [1, 0, 1]]\n",
      "Obtained output:\n",
      "[[-1, -1, 1], [-1, -1, 1], [-1, 1, -1], [0, -1, 1], [0, 0, -1], [0, 0, -1], [0, 0, 0], [0, 0, 1], [0, 0, 1], [0, 1, -1], [0, 1, 0], [0, 1, 1], [0, 1, 1], [1, -1, 0], [1, -1, 0], [1, -1, 0], [1, -1, 1], [1, -1, 1], [1, 0, 0], [1, 0, 1]]\n",
      "<<CORRECT>>\n",
      "-----------------\n",
      "Total correct outputs:\n",
      "5 out of 5\n",
      "----------------------------------\n"
     ]
    }
   ],
   "source": [
    "#DO NOT EDIT THIS CODE!\n",
    "from evaluation_script import evaluate_solution \n",
    "evaluate_solution(question_id=4,question_part_id='e',function=triplet_sort,\n",
    "                  test_case_list=[1,2,3,4,5],verbose=True)"
   ]
  },
  {
   "cell_type": "markdown",
   "metadata": {},
   "source": [
    "---\n",
    "<br>\n",
    "<br>\n",
    "<br>\n",
    "<br>\n",
    "<br>\n",
    "<br>\n",
    "<br>"
   ]
  },
  {
   "cell_type": "markdown",
   "metadata": {},
   "source": [
    "<b><center>END OF PAPER</center></b>"
   ]
  }
 ],
 "metadata": {
  "kernelspec": {
   "display_name": "Python 3",
   "language": "python",
   "name": "python3"
  },
  "language_info": {
   "codemirror_mode": {
    "name": "ipython",
    "version": 3
   },
   "file_extension": ".py",
   "mimetype": "text/x-python",
   "name": "python",
   "nbconvert_exporter": "python",
   "pygments_lexer": "ipython3",
   "version": "3.10.6"
  },
  "vscode": {
   "interpreter": {
    "hash": "d1f7a2bbba71ff99ad142cbae391e4ba52f39cd113df3e04f0425508106d86e1"
   }
  }
 },
 "nbformat": 4,
 "nbformat_minor": 4
}
