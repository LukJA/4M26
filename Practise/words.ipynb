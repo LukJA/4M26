{
 "cells": [
  {
   "cell_type": "code",
   "execution_count": 14,
   "metadata": {},
   "outputs": [
    {
     "data": {
      "text/plain": [
       "[0, 1, 2, 3, 4, 5]"
      ]
     },
     "execution_count": 14,
     "metadata": {},
     "output_type": "execute_result"
    }
   ],
   "source": [
    "def inser(S: list):\n",
    "    # loop through keys\n",
    "    for i in range(1, len(S)):\n",
    "        val = S[i] # value to place\n",
    "        k = i -1 # item to place it in front of\n",
    "        while k >= 0 and val < S[k]:\n",
    "            S[k+1] = S[k]\n",
    "            k -= 1\n",
    "        S[k+1] = val\n",
    "    return S\n",
    "\n",
    "L = [0,5,4,2,3,1]\n",
    "inser(L)"
   ]
  },
  {
   "cell_type": "code",
   "execution_count": 9,
   "metadata": {},
   "outputs": [
    {
     "data": {
      "text/plain": [
       "[0, 1, 2, 3, 4, 5]"
      ]
     },
     "execution_count": 9,
     "metadata": {},
     "output_type": "execute_result"
    }
   ],
   "source": [
    "def merge(S, low, mid, high):\n",
    "    L = [S[low]] if low == mid else S[low:mid+1]\n",
    "    R = [S[mid+1]] if mid+1 == high else S[mid+1:high+1]\n",
    "\n",
    "    # print(f\"Merge {L}:{R}\")\n",
    "    L.append(float('inf'))\n",
    "    R.append(float('inf'))\n",
    "    i, j = 0, 0\n",
    "\n",
    "    for x in range(low, high+1):\n",
    "        if L[i] < R[j]:\n",
    "            S[x] = L[i]\n",
    "            # place L\n",
    "            # print(f\"{x} <- {L[i]}\")\n",
    "            i += 1\n",
    "        else:\n",
    "            S[x] = R[j]\n",
    "            # print(f\"{x} <- {R[j]}\")\n",
    "            # place R\n",
    "            j += 1\n",
    "\n",
    "def ms(S, low = None, high = None):\n",
    "    low = 0 if low is None else low\n",
    "    high = len(S)-1 if high is None else high\n",
    "    # print(f\"MS {low}:{high}\")\n",
    "\n",
    "    if low < high:\n",
    "        mid = (low + high) //2\n",
    "        ms(S, low, mid)\n",
    "        ms(S, mid+1, high)\n",
    "        merge(S, low, mid, high)\n",
    "    else:\n",
    "        # print(\"One Item\")\n",
    "        pass\n",
    "    return S\n",
    "\n",
    "L = [0,5,4,2,3,1]\n",
    "ms(L)\n"
   ]
  },
  {
   "cell_type": "code",
   "execution_count": 22,
   "metadata": {},
   "outputs": [
    {
     "data": {
      "text/plain": [
       "[0, 1, 2, 3, 4, 5]"
      ]
     },
     "execution_count": 22,
     "metadata": {},
     "output_type": "execute_result"
    }
   ],
   "source": [
    "def lomuto(S, low, high):\n",
    "    pval = S[high] # value to check\n",
    "    j = low # pointer of top of sorted region\n",
    "    for i in range(low, high):\n",
    "        if S[i] < pval:\n",
    "            S[i], S[j] = S[j], S[i]\n",
    "            j += 1\n",
    "    S[high], S[j] = S[j], S[high]\n",
    "    return j\n",
    "\n",
    "def qs(S, low = None, high = None):\n",
    "    low = 0 if low is None else low\n",
    "    high = len(S)-1 if high is None else high\n",
    "\n",
    "    \n",
    "    if low < high:\n",
    "        pivot = lomuto(S, low, high)\n",
    "        qs(S, low, pivot-1)\n",
    "        qs(S, pivot+1, high)\n",
    "    else:\n",
    "        pass\n",
    "\n",
    "    return S\n",
    "\n",
    "L = [0,5,4,2,3,1]\n",
    "qs(L)\n",
    "\n"
   ]
  },
  {
   "cell_type": "code",
   "execution_count": 26,
   "metadata": {},
   "outputs": [
    {
     "data": {
      "text/plain": [
       "[0, 1, 2, 3, 4, 5]"
      ]
     },
     "execution_count": 26,
     "metadata": {},
     "output_type": "execute_result"
    }
   ],
   "source": [
    "\n",
    "def left_c(x):\n",
    "    return 2*x+1\n",
    "\n",
    "def right_c(x):\n",
    "    return 2*x+2\n",
    "\n",
    "def max_heapify(A, size, i):\n",
    "\n",
    "    left = left_c(i)\n",
    "    right = right_c(i)\n",
    "    big_i = i\n",
    "\n",
    "    if left < size and A[left] > A[big_i]:\n",
    "        big_i = left\n",
    "    if right < size and A[right] > A[big_i]:\n",
    "        big_i = right\n",
    "    if big_i != i:\n",
    "        A[big_i], A[i] = A[i], A[big_i]\n",
    "        max_heapify(A, size, big_i)\n",
    "\n",
    "def buildmh(A):\n",
    "    for i in range( len(A)//2 -1, -1 , -1):\n",
    "        max_heapify(A, len(A), i)\n",
    "\n",
    "def hs(A):\n",
    "    buildmh(A)\n",
    "    size = len(A)\n",
    "    while size > 1:\n",
    "        #swap\n",
    "        A[0], A[size-1] = A[size-1], A[0]\n",
    "        size -= 1\n",
    "        max_heapify(A, size, 0)\n",
    "    return A\n",
    "\n",
    "\n",
    "L = [0,5,4,2,3,1]\n",
    "hs(L)\n"
   ]
  },
  {
   "cell_type": "code",
   "execution_count": 36,
   "metadata": {},
   "outputs": [
    {
     "name": "stdout",
     "output_type": "stream",
     "text": [
      "[0, 1, 2, 3, 4, 7, 7]\n"
     ]
    }
   ],
   "source": [
    "def cs(A, k):\n",
    "    n = len(A)\n",
    "    counts = [0 for _ in range(k)]\n",
    "    outs = [-1 for _ in range(n)]\n",
    "\n",
    "    for e in A:\n",
    "        counts[e] +=1\n",
    "    for i in range(1, len(counts)):\n",
    "        counts[i] = counts[i] + counts[i-1]\n",
    "    \n",
    "    # reverse though items\n",
    "    for x in reversed(A):\n",
    "        spot = counts[x]-1\n",
    "        outs[spot] = x\n",
    "        counts[x] -= 1\n",
    "\n",
    "    print(outs)\n",
    "\n",
    "L = [0,7,7,4,2,3,1]\n",
    "cs(L, 8)\n"
   ]
  },
  {
   "attachments": {},
   "cell_type": "markdown",
   "metadata": {},
   "source": [
    "**Asymptotic notation:**\n",
    "\n",
    "$f(n)$ is $O(g(n))$ if $ 0 \\leq f(n) \\leq c_0 g(n) \\forall n > n_0$\n",
    "\n",
    "$ O(g(n)) = \\{ f(n):\\;$ there exists positive constants $c_0$ & $n_0\\;$ s.t. $\\;0 \\leq f(n) \\leq c_0g(n) \\;\\; \\forall \\; n \\geq n_0\\}$\n",
    "\n",
    "$ \\Omega(g(n)) = \\{ f(n):\\;$ there exists positive constants $c_0$ & $n_0\\;$ s.t. $\\; 0 \\leq c_0g(n) \\leq f(n) \\;\\; \\forall \\; n \\geq n_0\\}$\n",
    "\n",
    "$ \\Theta(g(n)) = \\{ f(n):\\;$ there exists positive constants $c_0$, $c_1$ & $n_0\\;$ s.t. $\\;0 \\leq c_0g(n) \\leq f(n) \\leq c_1g(n) \\;\\; \\forall \\; n \\geq n_0\\}$\n",
    "\n"
   ]
  },
  {
   "attachments": {},
   "cell_type": "markdown",
   "metadata": {},
   "source": [
    "**Recurrence**\n",
    "\n",
    "$ T(n) = 7T(n/2) + 3n^2 + 2$ guess $n^2 \\log n$\n",
    "\n",
    "Let $ T(n) \\leq cn^2 \\log n - d $\n",
    "\n",
    "\n",
    "$T(n) = 7T(n/2) + 3n^2 + 2 \\\\\\\\\n",
    "\\quad \\quad \\; \\leq 7( c(n/2)^2 \\log (n/2) - d) + 3n^2 + 2 \\\\\\\\\n",
    "\\quad \\quad \\; = 7c(n^2/4) \\log (n/2) - 7d + 3n^2 + 2\\\\\\\\\n",
    "\\quad \\quad \\; = 7c/4 \\cdot n^2 (\\log (n) - 1) - 7d + 3n^2 + 2\\\\\\\\\n",
    "\\quad \\quad \\; = 7c/4 \\cdot n^2 \\log (n) -7c/4\\cdot n^2  - 7d + 3n^2 + 2\\\\\\\\\n",
    "\\quad \\quad \\; = 7/4 c\\cdot n^2 \\log (n) - d -(7c/4 -3) n^2  - (6d-2)\\\\\\\\\n",
    "\\quad \\quad \\; \\leq 7/4 c\\cdot n^2 \\log (n) - d \\\\\\\\ \n",
    "$ for $7c/4  > 3$ , $6d > 2$\n",
    "\n",
    "Not Quite!\n",
    "\n",
    "Let $ T(n) \\leq cn^3 - d  \\leq cn^3$ i.e. $O(n^3)$ for $d \\geq 0$\n",
    "\n",
    "$T(n) = 7T(n/2) + 3n^2 + 2 \\\\\\\\\n",
    "\\quad \\quad \\; \\leq 7( c(n/2)^3 - d) + 3n^2 + 2 \\\\\\\\\n",
    "\\quad \\quad \\; = 7c(n^3/8) \\log - 7d + 3n^2 + 2\\\\\\\\\n",
    "\\quad \\quad \\; = 7c/8 \\cdot n^3 - 7d + 3n^2 + 2\\\\\\\\\n",
    "\\quad \\quad \\; = 7c/8 \\cdot n^3 - d + 3n^2 - (6d-2) \\\\\\\\\n",
    "\\quad \\quad \\; = 7/8(c n^3) -d + 3n^2 - (6d-2) \\\\\\\\\n",
    "\\quad \\quad \\; \\leq 7/8(c n^3) -d + 3n^2 \\\\\\\\\n",
    "\\quad \\quad \\; = c n^3 -d - (1/8 (c n^3) - 3n^2) \\\\\\\\\n",
    "\\quad \\quad \\; \\leq c n^3 -d  = O(n^3)$ \n",
    "\n",
    "for $6d > 2$ => $d > 1/3$\n",
    "\n",
    "for $1/8 (c n^3) > 3n^2$ => $n_0 > 24 / c$"
   ]
  }
 ],
 "metadata": {
  "kernelspec": {
   "display_name": "Python 3",
   "language": "python",
   "name": "python3"
  },
  "language_info": {
   "codemirror_mode": {
    "name": "ipython",
    "version": 3
   },
   "file_extension": ".py",
   "mimetype": "text/x-python",
   "name": "python",
   "nbconvert_exporter": "python",
   "pygments_lexer": "ipython3",
   "version": "3.10.6"
  },
  "orig_nbformat": 4
 },
 "nbformat": 4,
 "nbformat_minor": 2
}
