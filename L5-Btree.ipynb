{
 "cells": [
  {
   "cell_type": "code",
   "execution_count": 1,
   "id": "f98da2e8",
   "metadata": {},
   "outputs": [],
   "source": [
    "import math\n",
    "import logging\n",
    "FORMAT = '[%(name)s:%(levelname)s]  %(message)s'\n",
    "logging.basicConfig(level=logging.DEBUG, format=FORMAT)\n",
    "logger = logging.getLogger('dbg')\n",
    "\n",
    "def dprint(s):\n",
    "    logger.debug(s)\n",
    "\n",
    "def iprint(s):\n",
    "    logger.info(s)\n",
    "\n",
    "logger.setLevel(logging.INFO)"
   ]
  },
  {
   "attachments": {},
   "cell_type": "markdown",
   "id": "5690cbca",
   "metadata": {},
   "source": [
    "## B-trees\n",
    "\n",
    "B-Trees are a self-balancing search-trees with fast search, insertion and deletion, where nodes can have many children.\n",
    "\n",
    "**Worst case Search/Insert/Delete** $\\Rightarrow O( \\log n )$, storage is $\\Theta (n)$\n",
    "\n",
    "<img src=\"media/btree.png\" alt=\"drawing\" width=\"450\"/>\n",
    "\n",
    "The key idea is to optimize for realistic memory hierarchy by making the number of children as large as possible, but so that each node remains within a single disc block and requires just one memory access. A shallow-wide tree requires few accesses to main memory. For a tree with 200 children (199 keys per node) depth three contains $1 + 200 + 200^2 + 200^3 = 8,040,201$ nodes $= 1,600,000,000$ Keys!.\n",
    "\n",
    "### Definition\n",
    "\n",
    "When a B-tree has $t=2$ and allows key counts of 1 to 3 supporting nodes of 2 to 4, it is called a **2-4** or **2-3-4** Tree.\n",
    "\n",
    "A B-tree with minimum degree `t`:\n",
    "- Nodes have attributes `keys` (list) and `is_leaf`.\n",
    "- Internal nodes have `len(keys) + 1` children where:\n",
    "- The keys of the node **separate its children**.\n",
    "- $ t - 1\\leq $ node `keys` $ \\leq 2t -1$ (except for the root). \n",
    "- $ t \\leq $ `children` $ \\leq 2t$ (except for the root). \n",
    "\n",
    "- ALl leaves have the same depth.\n"
   ]
  }
 ],
 "metadata": {
  "kernelspec": {
   "display_name": "Python 3",
   "language": "python",
   "name": "python3"
  },
  "language_info": {
   "codemirror_mode": {
    "name": "ipython",
    "version": 3
   },
   "file_extension": ".py",
   "mimetype": "text/x-python",
   "name": "python",
   "nbconvert_exporter": "python",
   "pygments_lexer": "ipython3",
   "version": "3.10.6"
  },
  "vscode": {
   "interpreter": {
    "hash": "916dbcbb3f70747c44a77c7bcd40155683ae19c65e1c03b4aa3499c5328201f1"
   }
  }
 },
 "nbformat": 4,
 "nbformat_minor": 5
}
