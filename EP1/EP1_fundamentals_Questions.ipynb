{
 "cells": [
  {
   "cell_type": "markdown",
   "metadata": {
    "hideCode": false
   },
   "source": [
    "\n",
    "# **4M26 - Examples Paper 1 - Fundamentals** \n"
   ]
  },
  {
   "cell_type": "markdown",
   "metadata": {},
   "source": [
    "\n",
    "***\n",
    "\n",
    "<br>\n",
    "<br>"
   ]
  },
  {
   "cell_type": "markdown",
   "metadata": {},
   "source": [
    "## 1."
   ]
  },
  {
   "cell_type": "markdown",
   "metadata": {},
   "source": [
    "Briefly answer multiple questions below."
   ]
  },
  {
   "cell_type": "markdown",
   "metadata": {},
   "source": [
    "&emsp; (i)&emsp; Explain precisely the meaning of the big-O and big-Theta notations. Suppose algorithm A has cost $O(n)$ and algorithm B has cost $O(n^2)$. Could there be circumstances when it would be rational to use algorithm B?"
   ]
  },
  {
   "attachments": {},
   "cell_type": "markdown",
   "metadata": {},
   "source": [
    "<div style=\"border-width:2px;border-style:solid;border-color:black;padding:20px\">\n",
    "Big-O notation implies that the function grows at most at the given rate (e.g. a worst case), while big-Theta implies that the growth rate is precise, i.e. it will always be tightly bound by the parameter.\n",
    "\n",
    "While the algorithm B grows no *faster* than $O(n^2)$ for certain regions of $n$ its growth may actually be less than $O(n)$, as this is a upper rather than a tight bound.\n",
    "</div>"
   ]
  },
  {
   "cell_type": "markdown",
   "metadata": {},
   "source": [
    "&emsp; (ii)&emsp; Derive big-Theta or big-O expressions used to characterise the following functions:\n",
    "1. $f(n)=n^4-n^2/3+2$\n",
    "2. $f(n)= 3f(\\frac{n}{3})+\\Theta(n)$ for $n>1$ and $f(1) = \\Theta(1)$.\n",
    "3. $f(n)= 2f(\\frac{n}{2})+n\\log_2 n +3n$ for $n>1$ and $f(1)=1$.\n",
    "4. $f(n)=\\sqrt{2}f(\\frac{n}{2})n^{\\sqrt(2)}$\n",
    "5. $f(n) = 5 f(\\frac{n}{8}) + \\Theta(n^{\\frac{2}{3}})$"
   ]
  },
  {
   "attachments": {},
   "cell_type": "markdown",
   "metadata": {
    "hideOutput": true
   },
   "source": [
    "<div style=\"border-width:2px;border-style:solid;border-color:black;padding:20px\">\n",
    "\n",
    "1. $f(n) = \\Theta(n^4)$\n",
    "2. $f(n) = O(n \\log_2 n)$ following the same reccurence logic as the example with $\\Theta(n)$ residual\n",
    "\n",
    "3. **Below:**\n",
    "\n",
    "$f(n) \\big\\vert_{n=1} = \\Theta(1)\\;$, $\\;\\;f(n) \\big\\vert_{n>1} = 2f(\\frac{n}{2})+n\\log_2 n +3n$\n",
    "\n",
    "Guess that $f(n) = O(n \\log_2(n))$\n",
    "\n",
    "This Implies:\n",
    "\n",
    "$f(n) = 2f(\\frac{n}{2})+n\\log_2 n +3n \\\\\\\\\n",
    "\\quad \\quad \\; \\leq 2c \\frac{n}{2} \\log_2 \\frac{n}{2}  + n\\log_2 n +3n \\\\\\\\\n",
    "\\quad \\quad \\; \\leq cn \\log_2(n) - cn \\log_2(2) + n\\log_2 n +3n \\\\\\\\\n",
    "\\quad \\quad \\; \\leq (c+1) n \\log_2(n) - cn + 3n \\\\\\\\\n",
    "\\quad \\quad \\; \\leq cn \\log_2(n) \\\\\\\\$\n",
    "\n",
    "4. **Below:**\n",
    "\n",
    "$f(n)=\\sqrt{2}f(\\frac{n}{2})n^{\\sqrt 2}$\n",
    "\n",
    "Guess that $f(n) = O(n^{\\sqrt 2})$\n",
    "\n",
    "This Implies:\n",
    "\n",
    "$f(n) = \\sqrt{2}f(\\frac{n}{2})n^{\\sqrt 2} \\\\\\\\\n",
    "\\quad \\quad \\;  \\leq \\sqrt{2} \\frac{n^{\\sqrt 2}}{2^{\\sqrt 2}} n^{\\sqrt 2} \\\\\\\\\n",
    "\\quad \\quad \\;  \\leq  \\frac{\\sqrt{2}}{2^{\\sqrt 2}}\\; n^{2 \\sqrt 2}\\\\\\\\\n",
    "\\quad \\quad \\;  \\leq  \\frac{\\sqrt{2}}{2^{\\sqrt 2}}\\; (n^{\\sqrt 2})^2\\\\\\\\\\\n",
    "\\quad \\quad \\;  \\\\\\\\$\n",
    "\n",
    "Nope, how bout:\n",
    "\n",
    "Guess that $f(n) = O(n^2)$\n",
    "\n",
    "This Implies:\n",
    "\n",
    "$f(n) = \\sqrt{2}f(\\frac{n}{2})n^{\\sqrt 2} \\\\\\\\\n",
    "\\quad \\quad \\;  \\leq \\sqrt{2} \\; \\frac{n^2}{4} n^{\\sqrt 2} \\\\\\\\\n",
    "\\quad \\quad \\;  \\leq  \\frac{\\sqrt{2}}{4}\\; n^{2 + \\sqrt 2}\\\\\\\\\n",
    "\\quad \\quad \\;  \\leq  \\frac{1}{2 \\sqrt 2}\\;  n^{2 + \\sqrt 2}\\\\\\\\\\\n",
    "\\quad \\quad \\;  \\\\\\\\$\n",
    "\n",
    "also wrong, maybe 2^n or something wild?\n",
    "\n",
    "Guess that $f(n) = O(2^n)$\n",
    "\n",
    "This Implies:\n",
    "\n",
    "$f(n) = \\sqrt{2}f(\\frac{n}{2})n^{\\sqrt 2} \\\\\\\\\n",
    "\\quad \\quad \\;  \\leq \\sqrt{2} \\; 2^\\frac{n}{2} n^{\\sqrt 2} \\\\\\\\\n",
    "\\quad \\quad \\;  \\leq  2^{\\frac{1}{2} + \\frac{n}{2}} n^{\\sqrt 2} \\\\\\\\\n",
    "\\quad \\quad \\;  \\leq  \\frac{1}{2 \\sqrt 2}\\;  n^{2 + \\sqrt 2}\\\\\\\\\\\n",
    "\\quad \\quad \\;  \\\\\\\\$\n",
    "\n",
    "</div>"
   ]
  },
  {
   "cell_type": "markdown",
   "metadata": {},
   "source": [
    "&emsp; (iii)&emsp; Explain what is meant by the amortised cost of operations on a data structure. Contrast it with other ways of predicting performance, showing one case where it is useful and one where it is not. "
   ]
  },
  {
   "attachments": {},
   "cell_type": "markdown",
   "metadata": {},
   "source": [
    "<div style=\"border-width:2px;border-style:solid;border-color:black;padding:20px\">\n",
    "\n",
    "The amortised cost of of operations is the average cost per operation in the worst case, $T(n)/n$. Instead of bounding the cost of a sequence of operations on a data structure by bounding the actual cost of each operation separately, an amortised analysis provides a worst-case bound on the cost of the _entire_ sequence of operations. It cn be useful when designing algorithms or data structure operations as a means to gauge the performance as a whole, without focussing too heavily on a single operation for example.\n",
    "\n",
    "</div>"
   ]
  },
  {
   "attachments": {},
   "cell_type": "markdown",
   "metadata": {},
   "source": [
    "&emsp; (iv)&emsp; Consider building a <i>dynamic array</i> data structure. A <i>dynamic array</i> is similar to a normal array, however the capacity of the array is doubled every time it reaches full capacity. In particular, this array can be modified using **append**($v$) operation. It assigns value, $v$, to the $k+1$ st element, where $k$ the largest index of elements stored in the array. If the array has empty space available then this operation is $O(1)$, like in a normal array, however when it does not, the **append** is $O(k)$ as it involves allocating a new array of size $2k$ and copying the original array into the new array (first k elements) and adding the new value $v$ for the index $k+1$. Write the pseudocode of **append** operation and analyse run time of the sequence of $n$ calls of this operation."
   ]
  },
  {
   "attachments": {},
   "cell_type": "markdown",
   "metadata": {},
   "source": [
    "<div style=\"border-width:2px;border-style:solid;border-color:black;padding:20px\">\n",
    "\n",
    "Let S be an array\n",
    "\n",
    "Let k be the largest index of stored data\n",
    "```\n",
    "append(v):\n",
    "if k + 1 < Size(S) then\n",
    "    S[k+1] = v\n",
    "    k += 1\n",
    "else then\n",
    "    Let Q[1..2k] be a new array\n",
    "    for i from 1 to k do\n",
    "        Q[i] = S[i]\n",
    "    Q[k+1] = v\n",
    "    S = Q\n",
    "```\n",
    "\n",
    "If the array has empty space available then this operation is $O(1)$.\n",
    "\n",
    "If the array is full then this operation is $O(k+1)$ as it must copy k items\n",
    "\n",
    "The worst case for a single call is the copy case, which will occur fastest from a 0 size start. For each call of append:\n",
    "\n",
    "1.  Size(S) = 1, k = 0->1, $O(1)$\n",
    "2.  Size(S) = 1->2, k = 1->2, Double \n",
    "3.  Size(S) = 2->4, k = 2->3, Double\n",
    "4.  Size(S) = 4, k = 3->4,  $O(1)$ \n",
    "5.  Size(S) = 4->8, k = 4->5,  Double \n",
    "6.  Size(S) = 8, k = 5->6,  $O(1)$ \n",
    "7.  Size(S) = 8, k = 6->7,  $O(1)$ \n",
    "\n",
    "etc.\n",
    "\n",
    "How does this transfer to an $O()$ notation? I assume we can say worst case is $O(n^2)$ for a sequence of $n$ ops, as each op is at worst $O(n)$ although that is fairly obvious?\n",
    "\n",
    "</div>"
   ]
  },
  {
   "cell_type": "markdown",
   "metadata": {},
   "source": [
    "&emsp; (v)&emsp; Provide a detailed proof of correctness and a detailed derivation of run time complexity of the **longest common subsequence** (LCS) algorithm described in the lecture notes."
   ]
  },
  {
   "attachments": {},
   "cell_type": "markdown",
   "metadata": {},
   "source": [
    "<div style=\"border-width:2px;border-style:solid;border-color:black;padding:20px\">\n",
    "\n",
    "**NOT LECTURED**\n",
    "\n",
    "</div>"
   ]
  },
  {
   "cell_type": "markdown",
   "metadata": {},
   "source": [
    "&emsp; (vi)&emsp; Explain the differences (if any) in the run time performance and/or memory requirements between a recursive solution with memoization and a dynamic solution. In your answer use an example of a concrete dynamic programming algorithm."
   ]
  },
  {
   "attachments": {},
   "cell_type": "markdown",
   "metadata": {},
   "source": [
    "<div style=\"border-width:2px;border-style:solid;border-color:black;padding:20px\">\n",
    "\n",
    "Effectively Equivalent? Both $O(n(W))$ as they build up a full table of sub-problem results.\n",
    "\n",
    "</div>"
   ]
  },
  {
   "cell_type": "markdown",
   "metadata": {},
   "source": [
    "&emsp; (vii)&emsp; Are the statements below true or false. Justify your answers.\n",
    "\n",
    "1. For all positive $f(n)$, $g(n)$ and $h(n)$, if $f(n) = O(g(n))$ and $f(n) = Ω(h(n))$,\n",
    "then $g(n) + h(n) = \\Omega(f(n))$.\n",
    "2. An optimal solution to a 0-1 knapsack problem will always contain the object $i$ with the greatest value-to-weight ratio $\\frac{v_i}{w_i}$.\n",
    "3. In the worst case, merge sort runs in $O(n^2)$ time.\n",
    "4. Any problem that can be solved with a greedy algorithm can also be solved with dynamic programming."
   ]
  },
  {
   "attachments": {},
   "cell_type": "markdown",
   "metadata": {},
   "source": [
    "<div style=\"border-width:2px;border-style:solid;border-color:black;padding:20px\">\n",
    "\n",
    "1. True, if $f(n) = O(g(n))$ this implies $g(n) = \\Omega(f(n))$ and hence $g(n) + h(n) = \\Omega(f(n))$.\n",
    "\n",
    "2. False, as the best value to weight item may exceed the weight limit, and therefore could not be taken\n",
    "\n",
    "3. False, Mergesort is at worst $O( n \\log_2 n)$\n",
    "\n",
    "4. Not Lectured\n",
    "\n",
    "</div>"
   ]
  },
  {
   "cell_type": "markdown",
   "metadata": {},
   "source": [
    "&emsp; (viii)&emsp; Explain why the Huffman coding algorithm constructs optimal prefix codes."
   ]
  },
  {
   "cell_type": "markdown",
   "metadata": {},
   "source": [
    "<div style=\"border-width:2px;border-style:solid;border-color:black;\">\n",
    "Write your answer here.\n",
    "</div>"
   ]
  },
  {
   "cell_type": "markdown",
   "metadata": {},
   "source": [
    "&emsp; (ix)&emsp; Explain, in general terms, the main differences between the divide-and-conquer\n",
    "technique and dynamic programming."
   ]
  },
  {
   "cell_type": "markdown",
   "metadata": {},
   "source": [
    "<div style=\"border-width:2px;border-style:solid;border-color:black;\">\n",
    "Write your answer here.\n",
    "</div>"
   ]
  },
  {
   "cell_type": "markdown",
   "metadata": {
    "hideCode": true
   },
   "source": [
    "<b>The following programming questions can be solved using one of the three strategies: divide and conquer, dynamic programming or greedy programming. The order of questions is arbitrary. Question difficulty ranges significantly. Test cases are not provided in the examples papers, however they will be provided during the exam.</b>"
   ]
  },
  {
   "cell_type": "markdown",
   "metadata": {},
   "source": [
    "<h1>2.</h1>"
   ]
  },
  {
   "cell_type": "markdown",
   "metadata": {
    "cell_style": "center",
    "hideOutput": true
   },
   "source": [
    "(a) Given an integer array, $A$, write the function **maximum_subarray**$(A)$ to find the continuous subarray with the largest sum, and return its sum. Note that continuous subarray is any array derived from the original array by removing all elements except some continuous sequence of elements of the original array. Your solution should have its run time complexity strictly smaller than $O(n^2)$."
   ]
  },
  {
   "cell_type": "markdown",
   "metadata": {},
   "source": [
    "### Examples:"
   ]
  },
  {
   "attachments": {},
   "cell_type": "markdown",
   "metadata": {},
   "source": [
    "**Input:** `[-3,14,-5,-8,4,5,-20]` <br>\n",
    "**Output:** `10` <br>\n",
    "**Explanation:** Subarray `[14,-5,-8,4,5]` has the largest sum."
   ]
  },
  {
   "cell_type": "markdown",
   "metadata": {},
   "source": [
    "**Input:**  `[1,2,3,4,5,6,7,-1]` <br>\n",
    "**Output:**  `28`<br>\n",
    "**Explanation:** Subarray `[1,2,3,4,5,6,7]` has the largest sum."
   ]
  },
  {
   "cell_type": "markdown",
   "metadata": {},
   "source": [
    "### Constraints:\n",
    "\n",
    "- $1 \\leq len(A) \\leq 1000$\n",
    "- $1 \\leq |A[i]| \\leq 100000$"
   ]
  },
  {
   "cell_type": "markdown",
   "metadata": {},
   "source": [
    "### Code:"
   ]
  },
  {
   "cell_type": "code",
   "execution_count": 2,
   "metadata": {},
   "outputs": [
    {
     "name": "stdout",
     "output_type": "stream",
     "text": [
      "[14]\n",
      "14\n"
     ]
    }
   ],
   "source": [
    "def maximum_subarray(A):\n",
    "    #Write your code here\n",
    "    return maximum_sub_smart(A)\n",
    "\n",
    "def maximum_sub_dumb(A):\n",
    "    # exhaustive search is still technically O(n^2) if you ignore the sum procedure??\n",
    "    max_v = 0\n",
    "    max_s = []\n",
    "\n",
    "    # loop through array lengths\n",
    "    for l in range(2, len(A)):\n",
    "        # loop through starting index\n",
    "        for i in range(0, len(A)-l+1):\n",
    "            print(A[i:i+l])\n",
    "            v = sum(A[i:i+l])\n",
    "            if v >= max_v:\n",
    "                max_v = v\n",
    "                max_s = A[i:i+l]\n",
    "                print(f\"Choose {A[i:i+l]}\")\n",
    "    return max_v\n",
    "\n",
    "\n",
    "def maximum_sub_smart(A):\n",
    "    # exhaustive search is still technically O(n^2) if you ignore the sum procedure??\n",
    "    max_ending_here = 0\n",
    "    max_v = 0\n",
    "    loop_start = 0\n",
    "    max_pos = [None, None]\n",
    "\n",
    "    # loop through arrays\n",
    "    for i in range(0, len(A)):\n",
    "        max_ending_here += A[i]\n",
    "        if max_ending_here > max_v:\n",
    "            # update max\n",
    "            max_v = max_ending_here\n",
    "            max_pos[0] = loop_start\n",
    "            max_pos[1] = i\n",
    "        if max_ending_here < 0:\n",
    "            # reset counter from next\n",
    "            max_ending_here = 0\n",
    "            loop_start = i+1\n",
    "\n",
    "    print(A[max_pos[0]:max_pos[1]+1])\n",
    "    return max_v\n",
    "\n",
    "input_value = [-3,14,-5,-8,4,5,-20]\n",
    "print (maximum_subarray(input_value))"
   ]
  },
  {
   "cell_type": "markdown",
   "metadata": {},
   "source": [
    "### Tests:"
   ]
  },
  {
   "cell_type": "markdown",
   "metadata": {},
   "source": [
    "##### Run example test case 1:"
   ]
  },
  {
   "cell_type": "code",
   "execution_count": 3,
   "metadata": {},
   "outputs": [
    {
     "name": "stdout",
     "output_type": "stream",
     "text": [
      "[14, -5, -8, 7, 7]\n",
      "15\n"
     ]
    }
   ],
   "source": [
    "input_value = [-3,14,-5,-8,7,7,-20]\n",
    "print (maximum_subarray(input_value))"
   ]
  },
  {
   "cell_type": "markdown",
   "metadata": {},
   "source": [
    "##### Run example test case 2:"
   ]
  },
  {
   "cell_type": "code",
   "execution_count": 4,
   "metadata": {},
   "outputs": [
    {
     "name": "stdout",
     "output_type": "stream",
     "text": [
      "[1, 2, 3, 4, 5, 6, 7]\n",
      "28\n"
     ]
    }
   ],
   "source": [
    "input_value = [1,2,3,4,5,6,7,-1]\n",
    "print (maximum_subarray(input_value))"
   ]
  },
  {
   "cell_type": "markdown",
   "metadata": {},
   "source": [
    "(b) Sketch a detailed proof of correctness of your algorithm described in Part (a) and derive its worst-case time complexity."
   ]
  },
  {
   "attachments": {},
   "cell_type": "markdown",
   "metadata": {},
   "source": [
    "<div style=\"border-width:2px;border-style:solid;border-color:black;\">\n",
    "\n",
    "This question is borked, and I don't know if sum is O(1) or what\n",
    "\n",
    "</div>"
   ]
  },
  {
   "cell_type": "markdown",
   "metadata": {},
   "source": [
    "<h1>3.</h1>"
   ]
  },
  {
   "cell_type": "markdown",
   "metadata": {
    "cell_style": "center",
    "hideOutput": true
   },
   "source": [
    "You are given a 0-indexed integer array $A$. In one operation you can replace any element of the array with any two elements that sum to it. <br>\n",
    "\n",
    "For example, consider $A = \\left[1,3,2\\right]$. In one operation, we can replace $A\\left[1\\right]$ with 1 and 2 and convert nums to $\\left[1,1,2,2\\right]$. <br>\n",
    "\n",
    "Write the function, **replacement**($A)$, to return the minimum number of operations to make an array that is sorted in non-decreasing order."
   ]
  },
  {
   "cell_type": "markdown",
   "metadata": {},
   "source": [
    "### Examples:"
   ]
  },
  {
   "cell_type": "markdown",
   "metadata": {},
   "source": [
    "**Input:** `[1,3,2]` <br>\n",
    "**Output:** `1` <br>"
   ]
  },
  {
   "attachments": {},
   "cell_type": "markdown",
   "metadata": {},
   "source": [
    "**Input:** `[1,3,1]` <br>\n",
    "**Output:** `2` <br>\n",
    "**Explanation:** \n",
    "- Replace the 3 with 1 and 2. The array becomes $\\left[1,1,2,1\\right]$.\n",
    "- Replace the 2 with 1 and 1. The array becomes $\\left[1,1,1,1,1\\right]$."
   ]
  },
  {
   "cell_type": "markdown",
   "metadata": {},
   "source": [
    "### Constraints:\n",
    "\n",
    "- $1 \\leq \\text{len}(A) \\leq 1000$"
   ]
  },
  {
   "cell_type": "markdown",
   "metadata": {},
   "source": [
    "### Code:"
   ]
  },
  {
   "cell_type": "code",
   "execution_count": 5,
   "metadata": {},
   "outputs": [
    {
     "name": "stdout",
     "output_type": "stream",
     "text": [
      "[1, 3, 2]\n",
      "[1, 3, 2]\n",
      "Looking At:3,2\n",
      "1.5 <= 2\n",
      "Try Optimal @ 3\n",
      "Try 1,2 for 1, 2\n",
      "Now: [1, 1, 2, 2]\n",
      "Looking At:1,2\n",
      "Looking At:1,1\n",
      "(1, [1, 1, 2, 2]) \n",
      "\n",
      "[1, 3, 1]\n",
      "[1, 3, 1]\n",
      "Looking At:3,1\n",
      "1.5 <= 1\n",
      "Suboptimal @ 3\n",
      "Try 2,1\n",
      "Now: [1, 2, 1, 1]\n",
      "Looking At:2,1\n",
      "1.0 <= 1\n",
      "Try Optimal @ 2\n",
      "Try 1,1 for 1, 1\n",
      "Now: [1, 1, 1, 1, 1]\n",
      "Looking At:1,1\n",
      "Looking At:1,1\n",
      "(2, [1, 1, 1, 1, 1]) \n",
      "\n",
      "[1, 3, 6, 4]\n",
      "[1, 3, 6, 4]\n",
      "Looking At:6,4\n",
      "3.0 <= 4\n",
      "Try Optimal @ 6\n",
      "Try 3,3 for 3, 4\n",
      "Now: [1, 3, 3, 3, 4]\n",
      "Looking At:3,3\n",
      "Looking At:3,3\n",
      "Looking At:1,3\n",
      "(1, [1, 3, 3, 3, 4]) \n",
      "\n",
      "[1, 6, 9, 6, 10]\n",
      "[1, 6, 9, 6, 10]\n",
      "Looking At:6,10\n",
      "Looking At:9,6\n",
      "4.5 <= 6\n",
      "Try Optimal @ 9\n",
      "Try 4,5 for 6, 6\n",
      "Now: [1, 6, 4, 5, 6, 10]\n",
      "Looking At:4,5\n",
      "Looking At:6,4\n",
      "3.0 <= 4\n",
      "Try Optimal @ 6\n",
      "Try 3,3 for 1, 4\n",
      "Now: [1, 3, 3, 4, 5, 6, 10]\n",
      "Looking At:3,3\n",
      "Looking At:1,3\n",
      "(2, [1, 3, 3, 4, 5, 6, 10]) \n",
      "\n",
      "[1, 6, 9, 6, 10, 5, 22, 21, 40, 39]\n",
      "[1, 6, 9, 6, 10, 5, 22, 21, 40, 39]\n",
      "Looking At:40,39\n",
      "20.0 <= 39\n",
      "Try Optimal @ 40\n",
      "Try 20,20 for 21, 39\n",
      "Now: [1, 6, 9, 6, 10, 5, 22, 21, 20, 20, 39]\n",
      "Looking At:20,20\n",
      "Looking At:21,20\n",
      "10.5 <= 20\n",
      "Try Optimal @ 21\n",
      "Try 10,11 for 22, 20\n",
      "Now: [1, 6, 9, 6, 10, 5, 22, 10, 11, 20, 20, 39]\n",
      "Looking At:10,11\n",
      "Looking At:22,10\n",
      "11.0 <= 10\n",
      "Suboptimal @ 22\n",
      "Try 12,10\n",
      "Now: [1, 6, 9, 6, 10, 5, 12, 10, 10, 11, 20, 20, 39]\n",
      "Looking At:12,10\n",
      "6.0 <= 10\n",
      "Try Optimal @ 12\n",
      "Try 6,6 for 5, 10\n",
      "Now: [1, 6, 9, 6, 10, 5, 6, 6, 10, 10, 11, 20, 20, 39]\n",
      "Looking At:6,6\n",
      "Looking At:5,6\n",
      "Looking At:10,5\n",
      "5.0 <= 5\n",
      "Try Optimal @ 10\n",
      "Try 5,5 for 6, 5\n",
      "Now: [1, 6, 9, 6, 5, 5, 5, 6, 6, 10, 10, 11, 20, 20, 39]\n",
      "Looking At:5,5\n",
      "Looking At:6,5\n",
      "3.0 <= 5\n",
      "Try Optimal @ 6\n",
      "Try 3,3 for 9, 5\n",
      "Now: [1, 6, 9, 3, 3, 5, 5, 5, 6, 6, 10, 10, 11, 20, 20, 39]\n",
      "Looking At:3,3\n",
      "Looking At:9,3\n",
      "4.5 <= 3\n",
      "Suboptimal @ 9\n",
      "Try 5,4\n",
      "Try 6,3\n",
      "Now: [1, 6, 6, 3, 3, 3, 5, 5, 5, 6, 6, 10, 10, 11, 20, 20, 39]\n",
      "Looking At:6,3\n",
      "3.0 <= 3\n",
      "Try Optimal @ 6\n",
      "Try 3,3 for 6, 3\n",
      "Now: [1, 6, 3, 3, 3, 3, 3, 5, 5, 5, 6, 6, 10, 10, 11, 20, 20, 39]\n",
      "Looking At:3,3\n",
      "Looking At:6,3\n",
      "3.0 <= 3\n",
      "Try Optimal @ 6\n",
      "Try 3,3 for 1, 3\n",
      "Now: [1, 3, 3, 3, 3, 3, 3, 3, 5, 5, 5, 6, 6, 10, 10, 11, 20, 20, 39]\n",
      "Looking At:3,3\n",
      "Looking At:1,3\n",
      "(9, [1, 3, 3, 3, 3, 3, 3, 3, 5, 5, 5, 6, 6, 10, 10, 11, 20, 20, 39]) \n",
      "\n",
      "[1, 2, 3, 4, 2]\n",
      "[1, 2, 3, 4, 2]\n",
      "Looking At:4,2\n",
      "2.0 <= 2\n",
      "Try Optimal @ 4\n",
      "Try 2,2 for 3, 2\n",
      "Now: [1, 2, 3, 2, 2, 2]\n",
      "Looking At:2,2\n",
      "Looking At:3,2\n",
      "1.5 <= 2\n",
      "Try Optimal @ 3\n",
      "Try 1,2 for 2, 2\n",
      "Now: [1, 2, 1, 2, 2, 2, 2]\n",
      "Looking At:1,2\n",
      "Looking At:2,1\n",
      "1.0 <= 1\n",
      "Try Optimal @ 2\n",
      "Try 1,1 for 1, 1\n",
      "Now: [1, 1, 1, 1, 2, 2, 2, 2]\n",
      "Looking At:1,1\n",
      "Looking At:1,1\n",
      "(3, [1, 1, 1, 1, 2, 2, 2, 2]) \n",
      "\n"
     ]
    }
   ],
   "source": [
    "def replacement(A):\n",
    "    print(A)\n",
    "    return replacement_iterate(A)\n",
    "    #Write your code here\n",
    "\n",
    "def replacement_basic(A):\n",
    "    # iterate through the path in reverse\n",
    "    maxloop = 1000\n",
    "    inserts = 0\n",
    "    #print(A)\n",
    "    i = len(A)-1\n",
    "    while i >= 1 and maxloop >= 0:\n",
    "        #print(A, A[i-1], A[i], i)\n",
    "        while A[i-1] > A[i]  and maxloop >= 0:\n",
    "            # get the remainder for split type 1\n",
    "            r = A[i-1] - A[i]\n",
    "            # re-insert\n",
    "            A[i-1] = A[i]\n",
    "            A.insert(i-1, r)\n",
    "            inserts += 1\n",
    "            i = i+1\n",
    "            #print(A)\n",
    "\n",
    "            maxloop -= 1\n",
    "        i -= 1\n",
    "    return A, inserts\n",
    "\n",
    "\n",
    "def replacement_recursive_maximum(A):\n",
    "    maximum = max(A)\n",
    "    # get the last index of the max number\n",
    "    i = len(A) -1 - A[::-1].index(maximum)\n",
    "    # check if its the last element\n",
    "    if i == len(A)-1:\n",
    "        print(f\"Complete {A}\")\n",
    "        return 0 # no replacements needed\n",
    "    \n",
    "    # try and split number so it is two whole numbers both less than i+1, and more than i-1\n",
    "    # can we do this? try every pair starting with the exact split\n",
    "    print(f\"Solve {A[i-1:i+2]}\")\n",
    "\n",
    "    for q in range(A[i]//2, 0, -1):\n",
    "        r = A[i] - q\n",
    "        print(f\"Try {q},{r}\")\n",
    "        if q >= A[i-1] and r <= A[i+1]:\n",
    "            # success \n",
    "            A[i] = q\n",
    "            A.insert(i+1, r)\n",
    "            print(A)\n",
    "            return replacement_recursive_maximum(A) + 1\n",
    "        \n",
    "    ## if that didn't work, just focus on the top\n",
    "    print(f\"Suboptimal @ {A[i]}\")\n",
    "    for q in range(A[i]//2 + 1, A[i]):\n",
    "        r = A[i] - q\n",
    "        print(f\"Try {q},{r}\")\n",
    "        if r <= A[i+1]:\n",
    "            # success \n",
    "            A[i] = q\n",
    "            A.insert(i+1, r)\n",
    "            print(A)\n",
    "            return replacement_recursive_maximum(A) + 1\n",
    "        \n",
    "\n",
    "def replacement_recursive_find(A):\n",
    "    # find the next point to work on\n",
    "    # i = -1\n",
    "    # for j in range(len(A)-1, 0, -1):\n",
    "    #     if A[j-1] > A[j]:\n",
    "    #         i = j-1\n",
    "    #         break\n",
    "\n",
    "    maximum = max(A[:-1])\n",
    "    # get the last index of the max number\n",
    "    i = len(A) -1 - A[::-1].index(maximum)\n",
    "\n",
    "    if A == sorted(A):\n",
    "        print(f\"Complete {A}\")\n",
    "        return 0 # no replacements needed\n",
    "    \n",
    "    # try and split number so it is two whole numbers both less than i+1, and more than i-1\n",
    "    # can we do this? try every pair starting with the exact split\n",
    "    print(f\"Solve {A[i-1:i+2]}\")\n",
    "\n",
    "    for q in range(A[i]//2, 0, -1):\n",
    "        r = A[i] - q\n",
    "        print(f\"Try {q},{r}\")\n",
    "        if q >= A[i-1] and r <= A[i+1]:\n",
    "            # success \n",
    "            A[i] = q\n",
    "            A.insert(i+1, r)\n",
    "            print(A)\n",
    "            return replacement_recursive_find(A) + 1\n",
    "        \n",
    "    ## if that didn't work, just do first primary balanced\n",
    "    q = A[i]//2\n",
    "    r = A[i] - A[i]//2\n",
    "    print(f\"Use {q},{r}\")\n",
    "    A[i] = q\n",
    "    A.insert(i+1, r)\n",
    "    print(A)\n",
    "    return replacement_recursive_find(A) + 1\n",
    "\n",
    "\n",
    "def replacement_iterate(A):\n",
    "    print(A)\n",
    "    splits = 0\n",
    "    i  = len(A)-2\n",
    "\n",
    "    # go through each spot in the list\n",
    "    while i >= 0:\n",
    "        print(f\"Looking At:{A[i]},{A[i+1]}\")\n",
    "        if A[i] > A[i+1]:\n",
    "            # we need to split\n",
    "\n",
    "            # if we can do an optimal split\n",
    "            print(f\"{A[i]/2} <= {A[i+1]}\")\n",
    "            if (A[i]/2 <= A[i+1]):\n",
    "                print(f\"Try Optimal @ {A[i]}\")\n",
    "                q = A[i]//2\n",
    "                r = A[i] - q\n",
    "                print(f\"Try {q},{r} for {A[i-1]}, {A[i+1]}\")\n",
    "                # success \n",
    "                A[i] = q\n",
    "                A.insert(i+1, r)\n",
    "                i += 1\n",
    "                splits += 1\n",
    "                print(f\"Now: {A}\")\n",
    "\n",
    "            else:\n",
    "                # we cant do an optimal split\n",
    "                print(f\"Suboptimal @ {A[i]}\")\n",
    "                for q in range(A[i]//2 + 1, A[i]):\n",
    "                    r = A[i] - q\n",
    "                    print(f\"Try {q},{r}\")\n",
    "                    if r <= A[i+1]:\n",
    "                        # success \n",
    "                        A[i] = q\n",
    "                        A.insert(i+1, r)\n",
    "                        i += 1\n",
    "                        splits += 1\n",
    "                        print(f\"Now: {A}\")\n",
    "                        break\n",
    "                        \n",
    "        else:\n",
    "            # this index is ok \n",
    "            pass\n",
    "\n",
    "        i -= 1\n",
    "    return splits, A\n",
    "\n",
    "\n",
    "        \n",
    "\n",
    "input_value = [1,3,2]\n",
    "print (replacement(input_value), \"\\n\")     \n",
    "\n",
    "input_value = [1,3,1]\n",
    "print (replacement(input_value), \"\\n\")\n",
    "\n",
    "input_value = [1,3,6,4]\n",
    "print (replacement(input_value), \"\\n\")\n",
    "\n",
    "input_value = [1,6,9,6,10]\n",
    "print (replacement(input_value), \"\\n\")\n",
    "\n",
    "input_value = [1,6,9,6,10, 5, 22, 21, 40, 39]\n",
    "print (replacement(input_value), \"\\n\")\n",
    "\n",
    "input_value = [1,2,3,4,2]\n",
    "print (replacement(input_value), \"\\n\")"
   ]
  },
  {
   "cell_type": "markdown",
   "metadata": {},
   "source": [
    "### Tests:"
   ]
  },
  {
   "cell_type": "markdown",
   "metadata": {},
   "source": [
    "##### Run example test case 1:"
   ]
  },
  {
   "cell_type": "code",
   "execution_count": 6,
   "metadata": {},
   "outputs": [
    {
     "name": "stdout",
     "output_type": "stream",
     "text": [
      "[1, 3, 2]\n",
      "[1, 3, 2]\n",
      "Looking At:3,2\n",
      "1.5 <= 2\n",
      "Try Optimal @ 3\n",
      "Try 1,2 for 1, 2\n",
      "Now: [1, 1, 2, 2]\n",
      "Looking At:1,2\n",
      "Looking At:1,1\n",
      "(1, [1, 1, 2, 2])\n"
     ]
    }
   ],
   "source": [
    "input_value = [1,3,2]\n",
    "print (replacement(input_value))"
   ]
  },
  {
   "cell_type": "markdown",
   "metadata": {},
   "source": [
    "##### Run example test case 2:"
   ]
  },
  {
   "cell_type": "code",
   "execution_count": 7,
   "metadata": {},
   "outputs": [
    {
     "name": "stdout",
     "output_type": "stream",
     "text": [
      "[1, 3, 1]\n",
      "[1, 3, 1]\n",
      "Looking At:3,1\n",
      "1.5 <= 1\n",
      "Suboptimal @ 3\n",
      "Try 2,1\n",
      "Now: [1, 2, 1, 1]\n",
      "Looking At:2,1\n",
      "1.0 <= 1\n",
      "Try Optimal @ 2\n",
      "Try 1,1 for 1, 1\n",
      "Now: [1, 1, 1, 1, 1]\n",
      "Looking At:1,1\n",
      "Looking At:1,1\n",
      "(2, [1, 1, 1, 1, 1])\n"
     ]
    }
   ],
   "source": [
    "input_value = [1,3,1]\n",
    "print (replacement(input_value))"
   ]
  },
  {
   "cell_type": "markdown",
   "metadata": {},
   "source": [
    "<div style=\"border-width:2px;border-style:solid;border-color:black;\">\n",
    "Write your answer here.\n",
    "</div>"
   ]
  },
  {
   "cell_type": "markdown",
   "metadata": {},
   "source": [
    "---\n",
    "<br>"
   ]
  },
  {
   "cell_type": "markdown",
   "metadata": {},
   "source": [
    "<h1>4.</h1>"
   ]
  },
  {
   "cell_type": "markdown",
   "metadata": {
    "cell_style": "center",
    "hideOutput": true
   },
   "source": [
    "Consider a row of $n$ coins of values, $v=\\left[v_0,\\cdots,v_{n-1}\\right]$, where $n$ is even. Two players make alternating turns. In each turn, a player selects either the first or last coin from the row, removes it from the row permanently, and receives the value of the coin. Write the function **coin_game**($v$) to determine the maximum possible amount of money that a player who makes the first move can win. Both players play optimally."
   ]
  },
  {
   "cell_type": "markdown",
   "metadata": {},
   "source": [
    "### Examples:"
   ]
  },
  {
   "cell_type": "markdown",
   "metadata": {},
   "source": [
    "**Input:** `[6, 3, 15, 20]` <br>\n",
    "**Output:** `26`"
   ]
  },
  {
   "cell_type": "markdown",
   "metadata": {},
   "source": [
    "**Input:**  `[1,2,3,4,20,5,6]` <br>\n",
    "**Output:**  `17`"
   ]
  },
  {
   "cell_type": "markdown",
   "metadata": {},
   "source": [
    "### Constraints:\n",
    "\n",
    "- $1 \\leq \\text{len}(v) \\leq 1000$"
   ]
  },
  {
   "cell_type": "markdown",
   "metadata": {},
   "source": [
    "### Code:"
   ]
  },
  {
   "cell_type": "code",
   "execution_count": 16,
   "metadata": {},
   "outputs": [
    {
     "name": "stdout",
     "output_type": "stream",
     "text": [
      "26\n"
     ]
    }
   ],
   "source": [
    "def coin_game(v):\n",
    "    # run a brute force recursive optimization\n",
    "    return my_turn(v)[0]\n",
    "    \n",
    "\n",
    "def my_turn(v):\n",
    "    if not v:\n",
    "        return 0, 0\n",
    "   # print(f\"My turn with {v}\")\n",
    "    # choose the best outcome of taking either left or right\n",
    "    myscore_f, theirscore_f = their_turn(v[1:])\n",
    "    myscore_b, theirscore_b = their_turn(v[:-1])\n",
    "\n",
    "    myscore_f += v[0]\n",
    "    myscore_b += v[-1]\n",
    "\n",
    "    if myscore_f > myscore_b:\n",
    "        return myscore_f, theirscore_f\n",
    "    else:\n",
    "        return myscore_b, theirscore_b\n",
    "        \n",
    "def their_turn(v):\n",
    "    if not v:\n",
    "        return 0, 0\n",
    "    #print(f\"Their turn with {v}\")\n",
    "    # choose the best outcome of taking either left or right\n",
    "    myscore_f, theirscore_f = my_turn(v[1:])\n",
    "    myscore_b, theirscore_b = my_turn(v[:-1])\n",
    "\n",
    "    theirscore_f += v[0]\n",
    "    theirscore_b += v[-1]\n",
    "\n",
    "    if theirscore_f > theirscore_b:\n",
    "        return myscore_f, theirscore_f\n",
    "    else:\n",
    "        return myscore_b, theirscore_b\n",
    "\n",
    "input_value = [6, 3, 15, 20]\n",
    "print (coin_game(input_value))"
   ]
  },
  {
   "cell_type": "markdown",
   "metadata": {},
   "source": [
    "### Tests:"
   ]
  },
  {
   "cell_type": "markdown",
   "metadata": {},
   "source": [
    "##### Run example test case 1:"
   ]
  },
  {
   "cell_type": "code",
   "execution_count": 17,
   "metadata": {},
   "outputs": [
    {
     "name": "stdout",
     "output_type": "stream",
     "text": [
      "26\n"
     ]
    }
   ],
   "source": [
    "input_value = [6, 3, 15, 20]\n",
    "print (coin_game(input_value))"
   ]
  },
  {
   "cell_type": "markdown",
   "metadata": {},
   "source": [
    "##### Run example test case 2:"
   ]
  },
  {
   "cell_type": "code",
   "execution_count": 18,
   "metadata": {},
   "outputs": [
    {
     "name": "stdout",
     "output_type": "stream",
     "text": [
      "17\n"
     ]
    }
   ],
   "source": [
    "input_value = [1,2,3,4,20,5,6]\n",
    "print (coin_game(input_value))"
   ]
  },
  {
   "cell_type": "markdown",
   "metadata": {},
   "source": [
    "<div style=\"border-width:2px;border-style:solid;border-color:black;\">\n",
    "Write your answer here.\n",
    "</div>"
   ]
  },
  {
   "cell_type": "markdown",
   "metadata": {},
   "source": [
    "---\n",
    "<br>"
   ]
  },
  {
   "cell_type": "markdown",
   "metadata": {},
   "source": [
    "<h1>5.</h1>"
   ]
  },
  {
   "cell_type": "markdown",
   "metadata": {
    "cell_style": "center",
    "hideOutput": true
   },
   "source": [
    "(a) <b>Fractional Knapsack</b> problem is defined as follows. <br>\n",
    "\n",
    "Given a set of $n$ items numbered $1$ from to $n$, each with weight $w_i\\in \\mathbb{N}$ and value $v_i\\in \\mathbb{N}$, along with maximum weight capacity, $W$, maximize the total value that can be taken. I.e. Maximize $\\sum_i x_i v_i$, subject to $\\sum_i x_i w_i \\leq W$ and $x_i \\in \\left[0, 1\\right]$. <br><br>\n",
    "\n",
    "Write the function **fractional_knapsack**($L$) which given the input list $L$, where $L[0]=W$, $L[1]=w$, $L[2]=v$ outputs the maximum possible value to be taken given the aforementioned constraints."
   ]
  },
  {
   "cell_type": "markdown",
   "metadata": {},
   "source": [
    "### Examples:"
   ]
  },
  {
   "cell_type": "markdown",
   "metadata": {},
   "source": [
    "**Input:** `[10,[10,3,2,8,1],[22,6,8,6,6]]` <br>\n",
    "**Output:** `29.4` <br>\n",
    "**Explanation:** One should take items $1,3,5$ with corresponding proportions $0.7,1.0,1.0$ and total weight of $10$ units, value of $29.4$.\n"
   ]
  },
  {
   "attachments": {},
   "cell_type": "markdown",
   "metadata": {},
   "source": [
    "**Input:**  `[1,[10,20,40],[1,2,5]]` <br>\n",
    "**Output:**  `0.125`<br>"
   ]
  },
  {
   "cell_type": "markdown",
   "metadata": {},
   "source": [
    "### Constraints:\n",
    "\n",
    "- $1 \\leq n \\leq 1000$"
   ]
  },
  {
   "cell_type": "markdown",
   "metadata": {},
   "source": [
    "### Code:"
   ]
  },
  {
   "cell_type": "code",
   "execution_count": null,
   "metadata": {},
   "outputs": [
    {
     "name": "stdout",
     "output_type": "stream",
     "text": [
      "[(6.0, 1, 6, 4), (4.0, 2, 8, 2), (2.2, 10, 22, 0), (2.0, 3, 6, 1), (0.75, 8, 6, 3)]\n",
      "29.400000000000002\n"
     ]
    }
   ],
   "source": [
    "def fractional_knapsack(L):\n",
    "    W = L[0]\n",
    "    w = L[1]\n",
    "    v = L[2]\n",
    "    # Write your code here\n",
    "    # Greedy Algorithm\n",
    "    q = []\n",
    "    for i in range(len(w)):\n",
    "        q.append((v[i]/w[i], w[i], v[i], i))\n",
    "    q = sorted(q)\n",
    "    q.reverse()\n",
    "    print(q)\n",
    "\n",
    "    x = 0\n",
    "    # sorted by optimal ci\n",
    "    for ci, wi, vi, j in q:\n",
    "        if wi <= W:\n",
    "            W -= wi\n",
    "            x += vi\n",
    "        elif wi > W:\n",
    "            x += ci * W\n",
    "            break\n",
    "        if W == 0:\n",
    "            break\n",
    "\n",
    "    return x\n",
    "\n",
    "    \n",
    "input_value = [10,[10,3,2,8,1],[22,6,8,6,6]]\n",
    "print (fractional_knapsack(input_value))"
   ]
  },
  {
   "cell_type": "markdown",
   "metadata": {},
   "source": [
    "### Tests:"
   ]
  },
  {
   "cell_type": "markdown",
   "metadata": {},
   "source": [
    "##### Run example test case 1:"
   ]
  },
  {
   "cell_type": "code",
   "execution_count": null,
   "metadata": {},
   "outputs": [
    {
     "name": "stdout",
     "output_type": "stream",
     "text": [
      "[(6.0, 1, 6, 4), (4.0, 2, 8, 2), (2.2, 10, 22, 0), (2.0, 3, 6, 1), (0.75, 8, 6, 3)]\n",
      "29.400000000000002\n"
     ]
    }
   ],
   "source": [
    "input_value = [10,[10,3,2,8,1],[22,6,8,6,6]]\n",
    "print (fractional_knapsack(input_value))"
   ]
  },
  {
   "cell_type": "markdown",
   "metadata": {},
   "source": [
    "##### Run example test case 2:"
   ]
  },
  {
   "cell_type": "code",
   "execution_count": null,
   "metadata": {},
   "outputs": [
    {
     "name": "stdout",
     "output_type": "stream",
     "text": [
      "[(0.125, 40, 5, 2), (0.1, 20, 2, 1), (0.1, 10, 1, 0)]\n",
      "0.125\n"
     ]
    }
   ],
   "source": [
    "input_value = [1,[10,20,40],[1,2,5]]\n",
    "print (fractional_knapsack(input_value))"
   ]
  },
  {
   "cell_type": "markdown",
   "metadata": {},
   "source": [
    "(b) Explain why your algorithm described in Part (a) is correct. What is its run time complexity?"
   ]
  },
  {
   "attachments": {},
   "cell_type": "markdown",
   "metadata": {},
   "source": [
    "<div style=\"border-width:2px;border-style:solid;border-color:black;\">\n",
    "\n",
    "It is a simple greedy algorithm, maximise the value/mass ratio\n",
    "\n",
    "</div>"
   ]
  },
  {
   "cell_type": "markdown",
   "metadata": {},
   "source": [
    "---\n",
    "<br>\n",
    "<br>"
   ]
  },
  {
   "cell_type": "markdown",
   "metadata": {},
   "source": [
    "<h1>6.</h1>"
   ]
  },
  {
   "cell_type": "markdown",
   "metadata": {
    "cell_style": "center",
    "hideOutput": true
   },
   "source": [
    "Consider a variant of the **activity selection problem** described in lecture notes. <br><br>\n",
    "\n",
    "Let $S=\\{a_1,a_2,\\cdots,a_n\\}$ be a set of $n$ proposed activities that we wish to use a resource (e.g. a lecture hall), which can serve only one activity at a time.<br><br>\n",
    "\n",
    "- Each activity has a start time, $s_i$, and a finish time, $f_i$, as well as value, $v_i\\in \\mathbb{N}$, where $0\\leq s_i <f_i<\\infty$. \n",
    "- If selected, activity, $a_i$, takes place during the half-open time interval $[s_i,f_i)$. \n",
    "- Activities, $a_i$ and $a_j$, are compatible if the intervals, $[s_i,f_i)$ and $[s_i,f_i)$, do not overlap. \n",
    "\n",
    "In this refined activity selection problem, we wish to select a maximum-value subset of mutually compatible activities. Write a polynomial-time algorithm to this problem. The function, **activity_selection**($A$), takes in a list of list, $A$, such that $A[i][0]=s_i$, $A[i][1]=f_i$, $A[i][2]=v_i$."
   ]
  },
  {
   "cell_type": "markdown",
   "metadata": {},
   "source": [
    "### Examples:"
   ]
  },
  {
   "cell_type": "markdown",
   "metadata": {},
   "source": [
    "**Input:** `[[1,3,1],[1,8,4],[2,6,2],[7,10,10]]` <br>\n",
    "**Output:** `12` "
   ]
  },
  {
   "cell_type": "markdown",
   "metadata": {},
   "source": [
    "**Input:** `[[0,11,1],[2,6,1],[4,7,1],[5,10,1],[7,11,1],[10,13,1],[12,14,1]]` <br>\n",
    "**Output:** `3` "
   ]
  },
  {
   "cell_type": "markdown",
   "metadata": {},
   "source": [
    "### Constraints:\n",
    "\n",
    "- $1 \\leq n \\leq 1000$"
   ]
  },
  {
   "cell_type": "markdown",
   "metadata": {},
   "source": [
    "### Code:"
   ]
  },
  {
   "cell_type": "code",
   "execution_count": null,
   "metadata": {},
   "outputs": [],
   "source": [
    "def activity_value(A):\n",
    "    \n",
    "    #Write your code here"
   ]
  },
  {
   "cell_type": "markdown",
   "metadata": {},
   "source": [
    "### Tests:"
   ]
  },
  {
   "cell_type": "markdown",
   "metadata": {},
   "source": [
    "##### Run example test case 1:"
   ]
  },
  {
   "cell_type": "code",
   "execution_count": null,
   "metadata": {},
   "outputs": [],
   "source": [
    "input_value = [[1,3,1],[1,8,4],[2,6,2],[7,10,10]]\n",
    "print (activity_value(input_value))"
   ]
  },
  {
   "cell_type": "markdown",
   "metadata": {},
   "source": [
    "##### Run example test case 2:"
   ]
  },
  {
   "cell_type": "code",
   "execution_count": null,
   "metadata": {},
   "outputs": [],
   "source": [
    "input_value = [[0,11,1],[2,6,1],[4,7,1],[5,10,1],[7,11,1],[10,13,1],[12,14,1]]\n",
    "print (activity_value(input_value))"
   ]
  },
  {
   "cell_type": "markdown",
   "metadata": {},
   "source": [
    "<div style=\"border-width:2px;border-style:solid;border-color:black;\">\n",
    "Write your answer here.\n",
    "</div>"
   ]
  },
  {
   "cell_type": "markdown",
   "metadata": {},
   "source": [
    "---\n",
    "<br>\n",
    "<br>"
   ]
  },
  {
   "cell_type": "markdown",
   "metadata": {},
   "source": [
    "<h1>7.</h1>"
   ]
  },
  {
   "cell_type": "markdown",
   "metadata": {
    "cell_style": "center",
    "hideOutput": true
   },
   "source": [
    "The **convex hull** of a set $Q$ of points, is the smallest convex polygon $P$ for which each point in $Q$ is either on the boundary of $P$ or in its interior. Write the function **convex_hull**($L$) which takes a list, $L$, of pairs of 2D points and outputs the total number of points in the convex hull of these points. Your solution should have its run time complexity strictly smaller than $O(n^2)$."
   ]
  },
  {
   "cell_type": "markdown",
   "metadata": {},
   "source": [
    "### Examples:"
   ]
  },
  {
   "cell_type": "markdown",
   "metadata": {},
   "source": [
    "**Input:** `[[-1,-1],[-1,1],[1,-1],[1,1],[0,0]]` <br>\n",
    "**Output:** `4`"
   ]
  },
  {
   "cell_type": "markdown",
   "metadata": {},
   "source": [
    "**Input:**  `[[-1,-1],[-1,1],[1,-1],[1,1],[0,0],[-100,100],[100,100],[0,-100]]` <br>\n",
    "**Output:**  `3`"
   ]
  },
  {
   "cell_type": "markdown",
   "metadata": {},
   "source": [
    "### Constraints:\n",
    "\n",
    "- $1 \\leq len(A) \\leq 1000$\n",
    "- $1 \\leq |A[i]| \\leq 100000$"
   ]
  },
  {
   "cell_type": "markdown",
   "metadata": {},
   "source": [
    "### Code:"
   ]
  },
  {
   "cell_type": "code",
   "execution_count": null,
   "metadata": {},
   "outputs": [],
   "source": [
    "def convex_hull(L):\n",
    "    \n",
    "    #Write your code here"
   ]
  },
  {
   "cell_type": "markdown",
   "metadata": {},
   "source": [
    "### Tests:"
   ]
  },
  {
   "cell_type": "markdown",
   "metadata": {},
   "source": [
    "##### Run example test case 1:"
   ]
  },
  {
   "cell_type": "code",
   "execution_count": null,
   "metadata": {},
   "outputs": [],
   "source": [
    "input_value = [[-1,-1],[-1,1],[1,-1],[1,1],[0,0]]\n",
    "print (convex_hull(input_value))"
   ]
  },
  {
   "cell_type": "markdown",
   "metadata": {},
   "source": [
    "##### Run example test case 2:"
   ]
  },
  {
   "cell_type": "code",
   "execution_count": null,
   "metadata": {},
   "outputs": [],
   "source": [
    "input_value = [[-1,-1],[-1,1],[1,-1],[1,1],[0,0],[-100,100],[100,100],[0,-100]]\n",
    "print (convex_hull(input_value))"
   ]
  },
  {
   "cell_type": "markdown",
   "metadata": {},
   "source": [
    "---\n",
    "<br>\n",
    "<br>\n",
    "<br>\n",
    "<br>\n",
    "<br>\n",
    "<br>\n",
    "<br>\n",
    "<center><b>END OF EXAMPLES PAPER</b></center>"
   ]
  }
 ],
 "metadata": {
  "kernelspec": {
   "display_name": "Python 3",
   "language": "python",
   "name": "python3"
  },
  "language_info": {
   "codemirror_mode": {
    "name": "ipython",
    "version": 3
   },
   "file_extension": ".py",
   "mimetype": "text/x-python",
   "name": "python",
   "nbconvert_exporter": "python",
   "pygments_lexer": "ipython3",
   "version": "3.10.6"
  },
  "vscode": {
   "interpreter": {
    "hash": "916dbcbb3f70747c44a77c7bcd40155683ae19c65e1c03b4aa3499c5328201f1"
   }
  }
 },
 "nbformat": 4,
 "nbformat_minor": 4
}
