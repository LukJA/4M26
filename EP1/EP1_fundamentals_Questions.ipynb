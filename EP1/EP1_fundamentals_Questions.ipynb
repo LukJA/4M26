{
 "cells": [
  {
   "cell_type": "markdown",
   "metadata": {
    "hideCode": false
   },
   "source": [
    "\n",
    "# **4M26 - Examples Paper 1 - Fundamentals** \n"
   ]
  },
  {
   "cell_type": "markdown",
   "metadata": {},
   "source": [
    "\n",
    "***\n",
    "\n",
    "<br>\n",
    "<br>"
   ]
  },
  {
   "cell_type": "markdown",
   "metadata": {},
   "source": [
    "## 1."
   ]
  },
  {
   "cell_type": "markdown",
   "metadata": {},
   "source": [
    "Briefly answer multiple questions below."
   ]
  },
  {
   "cell_type": "markdown",
   "metadata": {},
   "source": [
    "&emsp; (i)&emsp; Explain precisely the meaning of the big-O and big-Theta notations. Suppose algorithm A has cost $O(n)$ and algorithm B has cost $O(n^2)$. Could there be circumstances when it would be rational to use algorithm B?"
   ]
  },
  {
   "attachments": {},
   "cell_type": "markdown",
   "metadata": {},
   "source": [
    "<div style=\"border-width:2px;border-style:solid;border-color:black;padding:20px\">\n",
    "Big-O notation implies that the function grows at most at the given rate (e.g. a worst case), while big-Theta implies that the growth rate is precise, i.e. it will always be tightly bound by the parameter.\n",
    "\n",
    "While the algorithm B grows no *faster* than $O(n^2)$ for certain regions of $n$ its growth may actually be less than $O(n)$, as this is a upper rather than a tight bound.\n",
    "</div>"
   ]
  },
  {
   "cell_type": "markdown",
   "metadata": {},
   "source": [
    "&emsp; (ii)&emsp; Derive big-Theta or big-O expressions used to characterise the following functions:\n",
    "1. $f(n)=n^4-n^2/3+2$\n",
    "2. $f(n)= 3f(\\frac{n}{3})+\\Theta(n)$ for $n>1$ and $f(1) = \\Theta(1)$.\n",
    "3. $f(n)= 2f(\\frac{n}{2})+n\\log_2 n +3n$ for $n>1$ and $f(1)=1$.\n",
    "4. $f(n)=\\sqrt{2}f(\\frac{n}{2})n^{\\sqrt(2)}$\n",
    "5. $f(n) = 5 f(\\frac{n}{8}) + \\Theta(n^{\\frac{2}{3}})$"
   ]
  },
  {
   "attachments": {},
   "cell_type": "markdown",
   "metadata": {
    "hideOutput": true
   },
   "source": [
    "<div style=\"border-width:2px;border-style:solid;border-color:black;padding:20px\">\n",
    "\n",
    "1. $f(n) = \\Theta(n^4)$\n",
    "2. $f(n) = O(n \\log_2 n)$ following the same reccurence logic as the example with $\\Theta(n)$ residual\n",
    "\n",
    "Guess that $f(n)= O(c n\\log_3 n)$\n",
    "\n",
    "$f(n)= 3 f(\\frac{n}{3})+ \\Theta(n) \\\\\\\\\n",
    "\\quad \\quad \\; \\leq 3 c_2 \\frac{n}{3} \\log_3\\frac{n}{3}+c n \\\\\\\\\n",
    "\\quad \\quad \\; = c n (\\log_3 n -1)+c n \\\\\\\\\n",
    "\\quad \\quad \\; = c n\\log_3 n $.\n",
    "\n",
    "3. **Below:**\n",
    "\n",
    "$f(n) \\big\\vert_{n=1} = \\Theta(1)\\;$, $\\;\\;f(n) \\big\\vert_{n>1} = 2f(\\frac{n}{2})+n\\log_2 n +3n$\n",
    "\n",
    "Guess that $f(n) = O(n \\log_2(n)) \\leq cn \\log_2 n$\n",
    "\n",
    "This Implies:\n",
    "\n",
    "$f(n) = 2f(\\frac{n}{2})+n\\log_2 n +3n \\\\\\\\\n",
    "\\quad \\quad \\; \\leq 2c \\frac{n}{2} \\log_2 \\frac{n}{2}  + n\\log_2 n +3n \\\\\\\\\n",
    "\\quad \\quad \\; = cn \\log_2(n) - cn \\log_2(2) + n\\log_2 n +3n \\\\\\\\\n",
    "\\quad \\quad \\; = (c+1) n \\log_2(n) +(3 - c)n \\\\\\\\\n",
    "\\quad \\quad \\; !\\leq cn \\log_2(n) \\\\\\\\$ **No**\n",
    "\n",
    "Guess that $f(n) = O(n (\\log_2 n)^2)$\n",
    "\n",
    "$f(n) = 2f(\\frac{n}{2})+n\\log_2 n +3n \\\\\\\\\n",
    "\\quad \\quad \\; \\leq 2c \\frac{n}{2} (\\log_2 \\frac{n}{2})^2  + n\\log_2 n +3n \\\\\\\\\n",
    "\\quad \\quad \\; = cn (\\log_2 n - \\log_2 2)(\\log_2 n - \\log_2 2) +  n\\log_2 n +3n \\\\\\\\\n",
    "\\quad \\quad \\; = cn (\\log_2 n - 1)(\\log_2 n - 1) +  n\\log_2 n +3n \\\\\\\\\n",
    "\\quad \\quad \\; = cn ((\\log_2 n)^2 - 2\\log_2 n  + 1) +  n\\log_2 n +3n \\\\\\\\\n",
    "\\quad \\quad \\; = cn (\\log_2 n)^2 - 2cn \\log_2 n + cn + n\\log_2 n + 3n \\\\\\\\\n",
    "\\quad \\quad \\; = cn (\\log_2 n)^2 + (1-2c)n \\log_2 n + (3+c)n \\\\\\\\\n",
    "\\quad \\quad \\; \\leq  cn (\\log_2 n)^2 \\text{ for } c \\geq 0.5, n \\text{  large}$\n",
    "\n",
    "\n",
    "\n",
    "4. **None Examinable**\n",
    "\n",
    "5. **None Examinable**\n",
    "\n",
    "</div>"
   ]
  },
  {
   "cell_type": "markdown",
   "metadata": {},
   "source": [
    "&emsp; (iii)&emsp; Explain what is meant by the amortised cost of operations on a data structure. Contrast it with other ways of predicting performance, showing one case where it is useful and one where it is not. "
   ]
  },
  {
   "attachments": {},
   "cell_type": "markdown",
   "metadata": {},
   "source": [
    "<div style=\"border-width:2px;border-style:solid;border-color:black;padding:20px\">\n",
    "\n",
    "The amortised cost of of operations is the average cost per operation in the worst case, $T(n)/n$. Instead of bounding the cost of a sequence of operations on a data structure by bounding the actual cost of each operation separately, an amortised analysis provides a worst-case bound on the cost of the _entire_ sequence of operations. It cn be useful when designing algorithms or data structure operations as a means to gauge the performance as a whole, without focussing too heavily on a single operation for example.\n",
    "\n",
    "</div>"
   ]
  },
  {
   "attachments": {},
   "cell_type": "markdown",
   "metadata": {},
   "source": [
    "&emsp; (iv)&emsp; Consider building a <i>dynamic array</i> data structure. A <i>dynamic array</i> is similar to a normal array, however the capacity of the array is doubled every time it reaches full capacity. In particular, this array can be modified using **append**($v$) operation. It assigns value, $v$, to the $k+1$ st element, where $k$ the largest index of elements stored in the array. If the array has empty space available then this operation is $O(1)$, like in a normal array, however when it does not, the **append** is $O(k)$ as it involves allocating a new array of size $2k$ and copying the original array into the new array (first k elements) and adding the new value $v$ for the index $k+1$. Write the pseudocode of **append** operation and analyse run time of the sequence of $n$ calls of this operation."
   ]
  },
  {
   "attachments": {},
   "cell_type": "markdown",
   "metadata": {},
   "source": [
    "<div style=\"border-width:2px;border-style:solid;border-color:black;padding:20px\">\n",
    "\n",
    "Let S be an array\n",
    "\n",
    "Let k be the largest index of stored data\n",
    "```\n",
    "append(v):\n",
    "if k + 1 < Size(S) then\n",
    "    S[k+1] = v\n",
    "    k += 1\n",
    "else then\n",
    "    Let Q[1..2k] be a new array\n",
    "    for i from 1 to k do\n",
    "        Q[i] = S[i]\n",
    "    Q[k+1] = v\n",
    "    S = Q\n",
    "```\n",
    "\n",
    "If the array has empty space available then this operation is $O(1)$.\n",
    "\n",
    "If the array is full then this operation is $O(k+1)$ as it must copy k items\n",
    "\n",
    "The worst case for a single call is the copy case, which will occur fastest from a 0 size start. For each call of append:\n",
    "\n",
    "1.  Size(S) = 1, k = 0->1, $O(1)$\n",
    "2.  Size(S) = 1->2, k = 1->2, Double \n",
    "3.  Size(S) = 2->4, k = 2->3, Double\n",
    "4.  Size(S) = 4, k = 3->4,  $O(1)$ \n",
    "5.  Size(S) = 4->8, k = 4->5,  Double \n",
    "6.  Size(S) = 8, k = 5->6,  $O(1)$ \n",
    "7.  Size(S) = 8, k = 6->7,  $O(1)$ \n",
    "\n",
    "etc.\n",
    "\n",
    "How does this transfer to an $O()$ notation? I assume we can say worst case is $O(n^2)$ for a sequence of $n$ ops, as each op is at worst $O(n)$ although that is fairly obvious?\n",
    "\n",
    "yes, we can do better...\n",
    "* If the array has empty space available, $O(1)$\n",
    "* when it does not, the **append** is $O(k)$\n",
    "\n",
    "We can define a recurrence relationship for $n$ calls of the append operation **starting from an empty unit array**: \n",
    "\n",
    "$T(n)= \\begin{cases} \\Theta(1) & \\text{if } n == 1,  \\\\\n",
    "                     T(n-1) + \\Theta(1) +\\Theta(n) & \\text{if }n>1 \\text{ and } n \\text{ is a power of 2 [2, 4, 8, 16...],} \\\\\n",
    "                     T(n-1) + \\Theta(1) & \\text{ otherwise}\\\\\n",
    "                     \\end{cases}$\n",
    "                     \n",
    "Hence $T(n) = \\sum_{k=1}^{n} \\Theta(1) + \\sum_{k=1}^{\\lfloor\\log_2 n\\rfloor}\\Theta(2^k) = \\Theta(n)$.\n",
    "    \n",
    "The array can only ever have length 1, 2, 4, 8, 16, 32...\n",
    "\n",
    "Although the array doesn't get extended until we attempt to add a 9th element, the number of time that the array has had to be extended is proportional to the number of powers of two that have been passed...\n",
    "\n",
    "$\\sum_{n \\in 2^x} \\Theta(n)$\n",
    "\n",
    "Let $k = \\lfloor log_2 n \\rfloor$\n",
    "\n",
    "$ =  \\sum_{k=1}^{\\lfloor\\log_2 n\\rfloor}\\Theta(2^k)$\n",
    "\n",
    "\n",
    "Hence $T(n) = \\sum_{k=1}^{n} \\Theta(1) + \\sum_{k=1}^{\\lfloor\\log_2 n\\rfloor}\\Theta(2^k) = \\Theta(n)$.\n",
    "\n",
    "\n",
    "</div>"
   ]
  },
  {
   "cell_type": "markdown",
   "metadata": {},
   "source": [
    "&emsp; (v)&emsp; Provide a detailed proof of correctness and a detailed derivation of run time complexity of the **longest common subsequence** (LCS) algorithm described in the lecture notes."
   ]
  },
  {
   "attachments": {},
   "cell_type": "markdown",
   "metadata": {},
   "source": [
    "<div style=\"border-width:2px;border-style:solid;border-color:black;padding:20px\">\n",
    "\n",
    "**NOT LECTURED**\n",
    "\n",
    "</div>"
   ]
  },
  {
   "cell_type": "markdown",
   "metadata": {},
   "source": [
    "&emsp; (vi)&emsp; Explain the differences (if any) in the run time performance and/or memory requirements between a recursive solution with memoization and a dynamic solution. In your answer use an example of a concrete dynamic programming algorithm."
   ]
  },
  {
   "attachments": {},
   "cell_type": "markdown",
   "metadata": {},
   "source": [
    "<div style=\"border-width:2px;border-style:solid;border-color:black;padding:20px\">\n",
    "\n",
    "Effectively Equivalent? Both $O(n(W))$ as they build up a full table of sub-problem results.\n",
    "\n",
    "**Model Answer:**\n",
    "\n",
    "Memoization technique allows to improve the performance of recursive algorithms. When using memoization, the solutions to subproblems solved by the recursive algorithm  are stored in an array, and are loaded from such array instead of performing a recursive call if they had been computed before. This improves performance over standard recursive solution as solutions to subproblems are never computed twice. <br><br>\n",
    "\n",
    "In a typical bottom-up dynamic programming approach, solutions to problems are constructed from solutions to smaller subproblems stored in the table. This approach is slightly less intuitive than memoisation, however it has less overhead as it does not require recursive calls of functions and is usually implemented via nested <b>for</b> loops. If a solution to a particular inputs of the problem requires one to examine a sparse set of subproblems (e.g. solving 0-1 knapsack problem where all weights are integers divisible by 5) then the memoized solution may be significantly more efficient both in terms of memory usage and run time than a straight-forward bottom up dynamic programming implementation.\n",
    "\n",
    "</div>"
   ]
  },
  {
   "cell_type": "markdown",
   "metadata": {},
   "source": [
    "&emsp; (vii)&emsp; Are the statements below true or false. Justify your answers.\n",
    "\n",
    "1. For all positive $f(n)$, $g(n)$ and $h(n)$, if $f(n) = O(g(n))$ and $f(n) = Ω(h(n))$,\n",
    "then $g(n) + h(n) = \\Omega(f(n))$.\n",
    "2. An optimal solution to a 0-1 knapsack problem will always contain the object $i$ with the greatest value-to-weight ratio $\\frac{v_i}{w_i}$.\n",
    "3. In the worst case, merge sort runs in $O(n^2)$ time.\n",
    "4. Any problem that can be solved with a greedy algorithm can also be solved with dynamic programming."
   ]
  },
  {
   "attachments": {},
   "cell_type": "markdown",
   "metadata": {},
   "source": [
    "<div style=\"border-width:2px;border-style:solid;border-color:black;padding:20px\">\n",
    "\n",
    "1. True, if $f(n) = O(g(n))$ this implies $g(n) = \\Omega(f(n))$ and hence $g(n) + h(n) = \\Omega(f(n))$.\n",
    "\n",
    "2. False, as the best value to weight item may exceed the weight limit, and therefore could not be taken\n",
    "\n",
    "3. False, Mergesort is at worst $O( n \\log_2 n)$ K\n",
    "    * **True!** Trick question => $O( n \\log_2 n)$ is also $O( n^2 )$  K\n",
    "\n",
    "\n",
    "4. Not Lectured\n",
    "    * True. Greedy algorithms forms a subclass of dynamic programming algorithms for which the locally optimal solution of a subproblem gives a globally optimal solution.    \n",
    "\n",
    "</div>"
   ]
  },
  {
   "cell_type": "markdown",
   "metadata": {},
   "source": [
    "&emsp; (viii)&emsp; Explain why the Huffman coding algorithm constructs optimal prefix codes."
   ]
  },
  {
   "cell_type": "markdown",
   "metadata": {},
   "source": [
    "<div style=\"border-width:2px;border-style:solid;border-color:black;\">\n",
    "Write your answer here.\n",
    "</div>"
   ]
  },
  {
   "cell_type": "markdown",
   "metadata": {},
   "source": [
    "&emsp; (ix)&emsp; Explain, in general terms, the main differences between the divide-and-conquer\n",
    "technique and dynamic programming."
   ]
  },
  {
   "attachments": {},
   "cell_type": "markdown",
   "metadata": {},
   "source": [
    "<div style=\"border-width:2px;border-style:solid;border-color:black;\">\n",
    "**Model:**\n",
    "\n",
    "<b>Divide and conquer</b> is an inherently recursive technique  which subdivides an input problem into smaller subproblems (e.g. sorting the left and the right sides of an array independently), ie. a top down approach. The solution to one subproblem does not affect the solution to another subproblem of the same level in the recursion tree. It is efficient for problems, where the overlapping of subproblems is small or non-existent as in sorting via MergeSort. <br><br>\n",
    "    \n",
    "<b>Dynamic programming</b> is an inherently non-recursive technique which constructs the solution to the problem from solutions to smaller subproblems in a bottom up fashion (e.g. as in finding the longest common subsequence for two strings). It gains its efficiency from the fact that a solution to a problem can be constructed by considering a relatively small set of solutions to smaller subproblems and no problem is solved more than once (unlike when using divide and conquer).\n",
    "\n",
    "</div>"
   ]
  },
  {
   "cell_type": "markdown",
   "metadata": {
    "hideCode": true
   },
   "source": [
    "<b>The following programming questions can be solved using one of the three strategies: divide and conquer, dynamic programming or greedy programming. The order of questions is arbitrary. Question difficulty ranges significantly. Test cases are not provided in the examples papers, however they will be provided during the exam.</b>"
   ]
  },
  {
   "cell_type": "markdown",
   "metadata": {},
   "source": [
    "<h1>2.</h1>"
   ]
  },
  {
   "attachments": {},
   "cell_type": "markdown",
   "metadata": {
    "cell_style": "center",
    "hideOutput": true
   },
   "source": [
    "(a) Given an integer array, $A$, write the function **maximum_subarray**$(A)$ to find the continuous subarray with the largest sum, and return its sum. Note that continuous subarray is any array derived from the original array by removing all elements except some continuous sequence of elements of the original array. Your solution should have its run time complexity strictly smaller than $O(n^2)$."
   ]
  },
  {
   "cell_type": "markdown",
   "metadata": {},
   "source": [
    "### Examples:"
   ]
  },
  {
   "attachments": {},
   "cell_type": "markdown",
   "metadata": {},
   "source": [
    "**Input:** `[-3,14,-5,-8,4,5,-20]` <br>\n",
    "**Output:** `10` <br>\n",
    "**Explanation:** Subarray `[14,-5,-8,4,5]` has the largest sum."
   ]
  },
  {
   "cell_type": "markdown",
   "metadata": {},
   "source": [
    "**Input:**  `[1,2,3,4,5,6,7,-1]` <br>\n",
    "**Output:**  `28`<br>\n",
    "**Explanation:** Subarray `[1,2,3,4,5,6,7]` has the largest sum."
   ]
  },
  {
   "cell_type": "markdown",
   "metadata": {},
   "source": [
    "### Constraints:\n",
    "\n",
    "- $1 \\leq len(A) \\leq 1000$\n",
    "- $1 \\leq |A[i]| \\leq 100000$"
   ]
  },
  {
   "cell_type": "markdown",
   "metadata": {},
   "source": [
    "### Code:"
   ]
  },
  {
   "cell_type": "code",
   "execution_count": 2,
   "metadata": {},
   "outputs": [
    {
     "name": "stdout",
     "output_type": "stream",
     "text": [
      "[14, -5, -8, 7, 7]\n",
      "15\n",
      "15\n"
     ]
    }
   ],
   "source": [
    "def maximum_subarray(A):\n",
    "    #Write your code here\n",
    "    return maximum_sub_smart(A)\n",
    "\n",
    "def maximum_sub_dumb(A):\n",
    "    # exhaustive search is still technically O(n^2) if you ignore the sum procedure??\n",
    "    max_v = 0\n",
    "    max_s = []\n",
    "\n",
    "    # loop through array lengths\n",
    "    for l in range(2, len(A)):\n",
    "        # loop through starting index\n",
    "        for i in range(0, len(A)-l+1):\n",
    "            print(A[i:i+l])\n",
    "            v = sum(A[i:i+l])\n",
    "            if v >= max_v:\n",
    "                max_v = v\n",
    "                max_s = A[i:i+l]\n",
    "                print(f\"Choose {A[i:i+l]}\")\n",
    "    return max_v\n",
    "\n",
    "\n",
    "def maximum_sub_smart(A):\n",
    "    # exhaustive search is still technically O(n^2) if you ignore the sum procedure??\n",
    "    max_ending_here = 0\n",
    "    max_v = 0\n",
    "    loop_start = 0\n",
    "    max_pos = [None, None]\n",
    "\n",
    "    # loop through arrays\n",
    "    for i in range(0, len(A)):\n",
    "        max_ending_here += A[i]\n",
    "        if max_ending_here > max_v:\n",
    "            # update max\n",
    "            max_v = max_ending_here\n",
    "            max_pos[0] = loop_start\n",
    "            max_pos[1] = i\n",
    "        if max_ending_here < 0:\n",
    "            # reset counter from next\n",
    "            max_ending_here = 0\n",
    "            loop_start = i+1\n",
    "\n",
    "    print(A[max_pos[0]:max_pos[1]+1])\n",
    "    return max_v\n",
    "\n",
    "input_value = [-3,14,-5,-8,7,7,-20]\n",
    "print (maximum_subarray(input_value))\n",
    "\n",
    "def maximum_subarray_dp(A):\n",
    "    \n",
    "    max_local_sum = 0\n",
    "    max_sum= -float('inf')\n",
    "    \n",
    "    for i in range(len(A)):\n",
    "        # select whatever is larger, starting from scratch or appending\n",
    "        max_local_sum = max(A[i],A[i]+max_local_sum)\n",
    "        if max_local_sum > max_sum:\n",
    "            max_sum = max_local_sum\n",
    "            \n",
    "    return max_sum\n",
    "\n",
    "input_value = [-3,14,-5,-8,7,7,-20]\n",
    "print (maximum_subarray_dp(input_value))"
   ]
  },
  {
   "cell_type": "markdown",
   "metadata": {},
   "source": [
    "### Tests:"
   ]
  },
  {
   "cell_type": "markdown",
   "metadata": {},
   "source": [
    "##### Run example test case 1:"
   ]
  },
  {
   "cell_type": "code",
   "execution_count": 21,
   "metadata": {},
   "outputs": [
    {
     "name": "stdout",
     "output_type": "stream",
     "text": [
      "[14, -5, -8, 7, 7]\n",
      "15\n"
     ]
    }
   ],
   "source": [
    "input_value = [-3,14,-5,-8,7,7,-20]\n",
    "print (maximum_subarray(input_value))"
   ]
  },
  {
   "cell_type": "markdown",
   "metadata": {},
   "source": [
    "##### Run example test case 2:"
   ]
  },
  {
   "cell_type": "code",
   "execution_count": 22,
   "metadata": {},
   "outputs": [
    {
     "name": "stdout",
     "output_type": "stream",
     "text": [
      "[1, 2, 3, 4, 5, 6, 7]\n",
      "28\n"
     ]
    }
   ],
   "source": [
    "input_value = [1,2,3,4,5,6,7,-1]\n",
    "print (maximum_subarray(input_value))"
   ]
  },
  {
   "cell_type": "markdown",
   "metadata": {},
   "source": [
    "(b) Sketch a detailed proof of correctness of your algorithm described in Part (a) and derive its worst-case time complexity."
   ]
  },
  {
   "attachments": {},
   "cell_type": "markdown",
   "metadata": {},
   "source": [
    "<div style=\"border-width:2px;border-style:solid;border-color:black;\">\n",
    "\n",
    "This question is borked, and I don't know if sum is O(1) or what\n",
    "\n",
    "</div>"
   ]
  },
  {
   "cell_type": "markdown",
   "metadata": {},
   "source": [
    "<h1>3.</h1>"
   ]
  },
  {
   "attachments": {},
   "cell_type": "markdown",
   "metadata": {
    "cell_style": "center",
    "hideOutput": true
   },
   "source": [
    "You are given a 0-indexed integer array $A$. In one operation you can replace any element of the array with any two elements that sum to it. <br>\n",
    "\n",
    "For example, consider $A = \\left[1,3,2\\right]$. In one operation, we can replace $A\\left[1\\right]$ with 1 and 2 and convert nums to $\\left[1,1,2,2\\right]$. <br>\n",
    "\n",
    "Write the function, **replacement**($A)$, to return the minimum number of operations to make an array that is sorted in non-decreasing order."
   ]
  },
  {
   "cell_type": "markdown",
   "metadata": {},
   "source": [
    "### Examples:"
   ]
  },
  {
   "cell_type": "markdown",
   "metadata": {},
   "source": [
    "**Input:** `[1,3,2]` <br>\n",
    "**Output:** `1` <br>"
   ]
  },
  {
   "attachments": {},
   "cell_type": "markdown",
   "metadata": {},
   "source": [
    "**Input:** `[1,3,1]` <br>\n",
    "**Output:** `2` <br>\n",
    "**Explanation:** \n",
    "- Replace the 3 with 1 and 2. The array becomes $\\left[1,1,2,1\\right]$.\n",
    "- Replace the 2 with 1 and 1. The array becomes $\\left[1,1,1,1,1\\right]$."
   ]
  },
  {
   "cell_type": "markdown",
   "metadata": {},
   "source": [
    "### Constraints:\n",
    "\n",
    "- $1 \\leq \\text{len}(A) \\leq 1000$"
   ]
  },
  {
   "cell_type": "markdown",
   "metadata": {},
   "source": [
    "### Code:"
   ]
  },
  {
   "cell_type": "code",
   "execution_count": 36,
   "metadata": {},
   "outputs": [
    {
     "name": "stdout",
     "output_type": "stream",
     "text": [
      "[1, 3, 5, 4]\n",
      "[1, 3, 5, 4]\n",
      "Looking At:5,4\n",
      "2.5 <= 4\n",
      "Try Optimal @ 5\n",
      "Try 2,3 for 3, 4\n",
      "Now: [1, 3, 2, 3, 4]\n",
      "Looking At:2,3\n",
      "Looking At:3,2\n",
      "1.5 <= 2\n",
      "Try Optimal @ 3\n",
      "Try 1,2 for 1, 2\n",
      "Now: [1, 1, 2, 2, 3, 4]\n",
      "Looking At:1,2\n",
      "Looking At:1,1\n",
      "(2, [1, 1, 2, 2, 3, 4]) \n",
      "\n",
      "[1, 3, 5, 4]\n",
      "check 5\n",
      "CALC: v-5 mv-4 times-2\n",
      "split 2, new mv: 2\n",
      "check 3\n",
      "CALC: v-3 mv-2 times-2\n",
      "split 2, new mv: 1\n",
      "check 1\n",
      "OK 1\n",
      "2 \n",
      "\n"
     ]
    }
   ],
   "source": [
    "def replacement(A):\n",
    "    print(A)\n",
    "    return replacement_iterate(A)\n",
    "    #Write your code here\n",
    "\n",
    "def replacement_iterate(A):\n",
    "    print(A)\n",
    "    splits = 0\n",
    "    i  = len(A)-2\n",
    "\n",
    "    # go through each spot in the list\n",
    "    while i >= 0:\n",
    "        print(f\"Looking At:{A[i]},{A[i+1]}\")\n",
    "        if A[i] > A[i+1]:\n",
    "            # we need to split\n",
    "\n",
    "            # if we can do an optimal split\n",
    "            print(f\"{A[i]/2} <= {A[i+1]}\")\n",
    "            if (A[i]/2 <= A[i+1]):\n",
    "                print(f\"Try Optimal @ {A[i]}\")\n",
    "                q = A[i]//2\n",
    "                r = A[i] - q\n",
    "                print(f\"Try {q},{r} for {A[i-1]}, {A[i+1]}\")\n",
    "                # success \n",
    "                A[i] = q\n",
    "                A.insert(i+1, r)\n",
    "                i += 1\n",
    "                splits += 1\n",
    "                print(f\"Now: {A}\")\n",
    "\n",
    "            else:\n",
    "                # we cant do an optimal split\n",
    "                print(f\"Suboptimal @ {A[i]}\")\n",
    "                for q in range(A[i]//2 + 1, A[i]):\n",
    "                    r = A[i] - q\n",
    "                    print(f\"Try {q},{r}\")\n",
    "                    if r <= A[i+1]:\n",
    "                        # success \n",
    "                        A[i] = q\n",
    "                        A.insert(i+1, r)\n",
    "                        i += 1\n",
    "                        splits += 1\n",
    "                        print(f\"Now: {A}\")\n",
    "                        break\n",
    "                        \n",
    "        else:\n",
    "            # this index is ok \n",
    "            pass\n",
    "\n",
    "        i -= 1\n",
    "    return splits, A\n",
    "\n",
    "def replacement_iterate_simplify(A):\n",
    "    print(A)\n",
    "    count = 0\n",
    "    min_val =  A[-1] # the last element\n",
    "    n = len(A)\n",
    "\n",
    "    # loop over array\n",
    "    for i in range(1,n):\n",
    "        #Traversing elements in reversed order\n",
    "        val = A[n-i-1] \n",
    "        print(f\"check {val}\")\n",
    "        #If larger than the value of the previous smallest element, min_val\n",
    "        if val > min_val:  \n",
    "            # split the current element into uniform chunks no larger than min_val\n",
    "            times = (val + min_val - 1) // min_val \n",
    "            print(f\"CALC: v-{val} mv-{min_val} times-{times}\")\n",
    "            \n",
    "            # update the value of the smallest element \n",
    "            # Calculate the smallest element produced by the optimal split above\n",
    "            min_val = val // times \n",
    "            \n",
    "            #and count the number of time a split operation has to be performed\n",
    "            print(f\"split {times}, new mv: {min_val}\")\n",
    "            count += times - 1 #\n",
    "            \n",
    "        else:\n",
    "            #otherwise, simply update the value of the smallest element seen so far.\n",
    "            print(f\"OK {val}\")\n",
    "            min_val = val \n",
    "    \n",
    "    return count\n",
    "\n",
    "input_value = [1,3,5,4]\n",
    "print (replacement(input_value), \"\\n\")\n",
    "input_value = [1,3,5,4]\n",
    "\n",
    "print (replacement_iterate_simplify(input_value), \"\\n\")\n",
    "\n",
    "        \n",
    "\n",
    "# input_value = [1,3,2]\n",
    "# print (replacement(input_value), \"\\n\")     \n",
    "\n",
    "# input_value = [1,3,1]\n",
    "# print (replacement(input_value), \"\\n\")\n",
    "\n",
    "# input_value = [1,3,6,4]\n",
    "# print (replacement(input_value), \"\\n\")\n",
    "\n",
    "# input_value = [1,6,9,6,10]\n",
    "# print (replacement(input_value), \"\\n\")\n",
    "\n",
    "# input_value = [1,6,9,6,10, 5, 22, 21, 40, 39]\n",
    "# print (replacement(input_value), \"\\n\")\n",
    "\n",
    "# input_value = [1,2,3,4,2]\n",
    "# print (replacement(input_value), \"\\n\")"
   ]
  },
  {
   "cell_type": "markdown",
   "metadata": {},
   "source": [
    "### Tests:"
   ]
  },
  {
   "cell_type": "markdown",
   "metadata": {},
   "source": [
    "##### Run example test case 1:"
   ]
  },
  {
   "cell_type": "code",
   "execution_count": 5,
   "metadata": {},
   "outputs": [
    {
     "name": "stdout",
     "output_type": "stream",
     "text": [
      "[1, 3, 2]\n",
      "[1, 3, 2]\n",
      "Looking At:3,2\n",
      "1.5 <= 2\n",
      "Try Optimal @ 3\n",
      "Try 1,2 for 1, 2\n",
      "Now: [1, 1, 2, 2]\n",
      "Looking At:1,2\n",
      "Looking At:1,1\n",
      "(1, [1, 1, 2, 2])\n"
     ]
    }
   ],
   "source": [
    "input_value = [1,3,2]\n",
    "print (replacement(input_value))"
   ]
  },
  {
   "cell_type": "markdown",
   "metadata": {},
   "source": [
    "##### Run example test case 2:"
   ]
  },
  {
   "cell_type": "code",
   "execution_count": 6,
   "metadata": {},
   "outputs": [
    {
     "name": "stdout",
     "output_type": "stream",
     "text": [
      "[1, 3, 1]\n",
      "[1, 3, 1]\n",
      "Looking At:3,1\n",
      "1.5 <= 1\n",
      "Suboptimal @ 3\n",
      "Try 2,1\n",
      "Now: [1, 2, 1, 1]\n",
      "Looking At:2,1\n",
      "1.0 <= 1\n",
      "Try Optimal @ 2\n",
      "Try 1,1 for 1, 1\n",
      "Now: [1, 1, 1, 1, 1]\n",
      "Looking At:1,1\n",
      "Looking At:1,1\n",
      "(2, [1, 1, 1, 1, 1])\n"
     ]
    }
   ],
   "source": [
    "input_value = [1,3,1]\n",
    "print (replacement(input_value))"
   ]
  },
  {
   "cell_type": "markdown",
   "metadata": {},
   "source": [
    "<div style=\"border-width:2px;border-style:solid;border-color:black;\">\n",
    "Write your answer here.\n",
    "</div>"
   ]
  },
  {
   "cell_type": "markdown",
   "metadata": {},
   "source": [
    "---\n",
    "<br>"
   ]
  },
  {
   "cell_type": "markdown",
   "metadata": {},
   "source": [
    "<h1>4.</h1>"
   ]
  },
  {
   "cell_type": "markdown",
   "metadata": {
    "cell_style": "center",
    "hideOutput": true
   },
   "source": [
    "Consider a row of $n$ coins of values, $v=\\left[v_0,\\cdots,v_{n-1}\\right]$, where $n$ is even. Two players make alternating turns. In each turn, a player selects either the first or last coin from the row, removes it from the row permanently, and receives the value of the coin. Write the function **coin_game**($v$) to determine the maximum possible amount of money that a player who makes the first move can win. Both players play optimally."
   ]
  },
  {
   "cell_type": "markdown",
   "metadata": {},
   "source": [
    "### Examples:"
   ]
  },
  {
   "cell_type": "markdown",
   "metadata": {},
   "source": [
    "**Input:** `[6, 3, 15, 20]` <br>\n",
    "**Output:** `26`"
   ]
  },
  {
   "cell_type": "markdown",
   "metadata": {},
   "source": [
    "**Input:**  `[1,2,3,4,20,5,6]` <br>\n",
    "**Output:**  `17`"
   ]
  },
  {
   "cell_type": "markdown",
   "metadata": {},
   "source": [
    "### Constraints:\n",
    "\n",
    "- $1 \\leq \\text{len}(v) \\leq 1000$"
   ]
  },
  {
   "cell_type": "markdown",
   "metadata": {},
   "source": [
    "### Code:"
   ]
  },
  {
   "cell_type": "code",
   "execution_count": 7,
   "metadata": {},
   "outputs": [
    {
     "name": "stdout",
     "output_type": "stream",
     "text": [
      "26\n"
     ]
    }
   ],
   "source": [
    "def coin_game(v):\n",
    "    # run a brute force recursive optimization\n",
    "    return my_turn(v)[0]\n",
    "    \n",
    "\n",
    "def my_turn(v):\n",
    "    if not v:\n",
    "        return 0, 0\n",
    "   # print(f\"My turn with {v}\")\n",
    "    # choose the best outcome of taking either left or right\n",
    "    myscore_f, theirscore_f = their_turn(v[1:])\n",
    "    myscore_b, theirscore_b = their_turn(v[:-1])\n",
    "\n",
    "    myscore_f += v[0]\n",
    "    myscore_b += v[-1]\n",
    "\n",
    "    if myscore_f > myscore_b:\n",
    "        return myscore_f, theirscore_f\n",
    "    else:\n",
    "        return myscore_b, theirscore_b\n",
    "        \n",
    "def their_turn(v):\n",
    "    if not v:\n",
    "        return 0, 0\n",
    "    #print(f\"Their turn with {v}\")\n",
    "    # choose the best outcome of taking either left or right\n",
    "    myscore_f, theirscore_f = my_turn(v[1:])\n",
    "    myscore_b, theirscore_b = my_turn(v[:-1])\n",
    "\n",
    "    theirscore_f += v[0]\n",
    "    theirscore_b += v[-1]\n",
    "\n",
    "    if theirscore_f > theirscore_b:\n",
    "        return myscore_f, theirscore_f\n",
    "    else:\n",
    "        return myscore_b, theirscore_b\n",
    "\n",
    "input_value = [6, 3, 15, 20]\n",
    "print (coin_game(input_value))"
   ]
  },
  {
   "cell_type": "markdown",
   "metadata": {},
   "source": [
    "### Tests:"
   ]
  },
  {
   "cell_type": "markdown",
   "metadata": {},
   "source": [
    "##### Run example test case 1:"
   ]
  },
  {
   "cell_type": "code",
   "execution_count": 8,
   "metadata": {},
   "outputs": [
    {
     "name": "stdout",
     "output_type": "stream",
     "text": [
      "26\n"
     ]
    }
   ],
   "source": [
    "input_value = [6, 3, 15, 20]\n",
    "print (coin_game(input_value))"
   ]
  },
  {
   "cell_type": "markdown",
   "metadata": {},
   "source": [
    "##### Run example test case 2:"
   ]
  },
  {
   "cell_type": "code",
   "execution_count": 9,
   "metadata": {},
   "outputs": [
    {
     "name": "stdout",
     "output_type": "stream",
     "text": [
      "17\n"
     ]
    }
   ],
   "source": [
    "input_value = [1,2,3,4,20,5,6]\n",
    "print (coin_game(input_value))"
   ]
  },
  {
   "cell_type": "markdown",
   "metadata": {},
   "source": [
    "<div style=\"border-width:2px;border-style:solid;border-color:black;\">\n",
    "Write your answer here.\n",
    "</div>"
   ]
  },
  {
   "cell_type": "markdown",
   "metadata": {},
   "source": [
    "---\n",
    "<br>"
   ]
  },
  {
   "cell_type": "markdown",
   "metadata": {},
   "source": [
    "<h1>5.</h1>"
   ]
  },
  {
   "cell_type": "markdown",
   "metadata": {
    "cell_style": "center",
    "hideOutput": true
   },
   "source": [
    "(a) <b>Fractional Knapsack</b> problem is defined as follows. <br>\n",
    "\n",
    "Given a set of $n$ items numbered $1$ from to $n$, each with weight $w_i\\in \\mathbb{N}$ and value $v_i\\in \\mathbb{N}$, along with maximum weight capacity, $W$, maximize the total value that can be taken. I.e. Maximize $\\sum_i x_i v_i$, subject to $\\sum_i x_i w_i \\leq W$ and $x_i \\in \\left[0, 1\\right]$. <br><br>\n",
    "\n",
    "Write the function **fractional_knapsack**($L$) which given the input list $L$, where $L[0]=W$, $L[1]=w$, $L[2]=v$ outputs the maximum possible value to be taken given the aforementioned constraints."
   ]
  },
  {
   "cell_type": "markdown",
   "metadata": {},
   "source": [
    "### Examples:"
   ]
  },
  {
   "cell_type": "markdown",
   "metadata": {},
   "source": [
    "**Input:** `[10,[10,3,2,8,1],[22,6,8,6,6]]` <br>\n",
    "**Output:** `29.4` <br>\n",
    "**Explanation:** One should take items $1,3,5$ with corresponding proportions $0.7,1.0,1.0$ and total weight of $10$ units, value of $29.4$.\n"
   ]
  },
  {
   "attachments": {},
   "cell_type": "markdown",
   "metadata": {},
   "source": [
    "**Input:**  `[1,[10,20,40],[1,2,5]]` <br>\n",
    "**Output:**  `0.125`<br>"
   ]
  },
  {
   "cell_type": "markdown",
   "metadata": {},
   "source": [
    "### Constraints:\n",
    "\n",
    "- $1 \\leq n \\leq 1000$"
   ]
  },
  {
   "cell_type": "markdown",
   "metadata": {},
   "source": [
    "### Code:"
   ]
  },
  {
   "cell_type": "code",
   "execution_count": 10,
   "metadata": {},
   "outputs": [
    {
     "name": "stdout",
     "output_type": "stream",
     "text": [
      "[(6.0, 1, 6, 4), (4.0, 2, 8, 2), (2.2, 10, 22, 0), (2.0, 3, 6, 1), (0.75, 8, 6, 3)]\n",
      "29.400000000000002\n"
     ]
    }
   ],
   "source": [
    "def fractional_knapsack(L):\n",
    "    W = L[0]\n",
    "    w = L[1]\n",
    "    v = L[2]\n",
    "    # Write your code here\n",
    "    # Greedy Algorithm\n",
    "    q = []\n",
    "    for i in range(len(w)):\n",
    "        q.append((v[i]/w[i], w[i], v[i], i))\n",
    "    q = sorted(q)\n",
    "    q.reverse()\n",
    "    print(q)\n",
    "\n",
    "    x = 0\n",
    "    # sorted by optimal ci\n",
    "    for ci, wi, vi, j in q:\n",
    "        if wi <= W:\n",
    "            W -= wi\n",
    "            x += vi\n",
    "        elif wi > W:\n",
    "            x += ci * W\n",
    "            break\n",
    "        if W == 0:\n",
    "            break\n",
    "\n",
    "    return x\n",
    "\n",
    "    \n",
    "input_value = [10,[10,3,2,8,1],[22,6,8,6,6]]\n",
    "print (fractional_knapsack(input_value))"
   ]
  },
  {
   "cell_type": "markdown",
   "metadata": {},
   "source": [
    "### Tests:"
   ]
  },
  {
   "cell_type": "markdown",
   "metadata": {},
   "source": [
    "##### Run example test case 1:"
   ]
  },
  {
   "cell_type": "code",
   "execution_count": 11,
   "metadata": {},
   "outputs": [
    {
     "name": "stdout",
     "output_type": "stream",
     "text": [
      "[(6.0, 1, 6, 4), (4.0, 2, 8, 2), (2.2, 10, 22, 0), (2.0, 3, 6, 1), (0.75, 8, 6, 3)]\n",
      "29.400000000000002\n"
     ]
    }
   ],
   "source": [
    "input_value = [10,[10,3,2,8,1],[22,6,8,6,6]]\n",
    "print (fractional_knapsack(input_value))"
   ]
  },
  {
   "cell_type": "markdown",
   "metadata": {},
   "source": [
    "##### Run example test case 2:"
   ]
  },
  {
   "cell_type": "code",
   "execution_count": 12,
   "metadata": {},
   "outputs": [
    {
     "name": "stdout",
     "output_type": "stream",
     "text": [
      "[(0.125, 40, 5, 2), (0.1, 20, 2, 1), (0.1, 10, 1, 0)]\n",
      "0.125\n"
     ]
    }
   ],
   "source": [
    "input_value = [1,[10,20,40],[1,2,5]]\n",
    "print (fractional_knapsack(input_value))"
   ]
  },
  {
   "cell_type": "markdown",
   "metadata": {},
   "source": [
    "(b) Explain why your algorithm described in Part (a) is correct. What is its run time complexity?"
   ]
  },
  {
   "attachments": {},
   "cell_type": "markdown",
   "metadata": {},
   "source": [
    "<div style=\"border-width:2px;border-style:solid;border-color:black;\">\n",
    "\n",
    "It is a simple greedy algorithm, maximise the value/mass ratio\n",
    "\n",
    "</div>"
   ]
  },
  {
   "cell_type": "markdown",
   "metadata": {},
   "source": [
    "---\n",
    "<br>\n",
    "<br>"
   ]
  },
  {
   "cell_type": "markdown",
   "metadata": {},
   "source": [
    "<h1>6.</h1>"
   ]
  },
  {
   "cell_type": "markdown",
   "metadata": {
    "cell_style": "center",
    "hideOutput": true
   },
   "source": [
    "Consider a variant of the **activity selection problem** described in lecture notes. <br><br>\n",
    "\n",
    "Let $S=\\{a_1,a_2,\\cdots,a_n\\}$ be a set of $n$ proposed activities that we wish to use a resource (e.g. a lecture hall), which can serve only one activity at a time.<br><br>\n",
    "\n",
    "- Each activity has a start time, $s_i$, and a finish time, $f_i$, as well as value, $v_i\\in \\mathbb{N}$, where $0\\leq s_i <f_i<\\infty$. \n",
    "- If selected, activity, $a_i$, takes place during the half-open time interval $[s_i,f_i)$. \n",
    "- Activities, $a_i$ and $a_j$, are compatible if the intervals, $[s_i,f_i)$ and $[s_i,f_i)$, do not overlap. \n",
    "\n",
    "In this refined activity selection problem, we wish to select a maximum-value subset of mutually compatible activities. Write a polynomial-time algorithm to this problem. The function, **activity_selection**($A$), takes in a list of list, $A$, such that $A[i][0]=s_i$, $A[i][1]=f_i$, $A[i][2]=v_i$."
   ]
  },
  {
   "cell_type": "markdown",
   "metadata": {},
   "source": [
    "### Examples:"
   ]
  },
  {
   "cell_type": "markdown",
   "metadata": {},
   "source": [
    "**Input:** `[[1,3,1],[1,8,4],[2,6,2],[7,10,10]]` <br>\n",
    "**Output:** `12` "
   ]
  },
  {
   "cell_type": "markdown",
   "metadata": {},
   "source": [
    "**Input:** `[[0,11,1],[2,6,1],[4,7,1],[5,10,1],[7,11,1],[10,13,1],[12,14,1]]` <br>\n",
    "**Output:** `3` "
   ]
  },
  {
   "cell_type": "markdown",
   "metadata": {},
   "source": [
    "### Constraints:\n",
    "\n",
    "- $1 \\leq n \\leq 1000$"
   ]
  },
  {
   "cell_type": "markdown",
   "metadata": {},
   "source": [
    "### Code:"
   ]
  },
  {
   "cell_type": "code",
   "execution_count": 60,
   "metadata": {},
   "outputs": [],
   "source": [
    "# As in the original problem in lecture slides we sort the activities in increasing finish times, \n",
    "# We then consider activities in this order and record the maximum value possible \n",
    "# to be obtained, S[i], for activity, i.\n",
    "# We do this by considering the previous most recent activity selected to be k for all k<i \n",
    "# for which activities k and i are compatible, and choosing S[i] = max_k S[k]+v[i].\n",
    "\n",
    "def compatible(int1, int2): #Checking if two intervals are compatible\n",
    "    # if start 1 > finish 2 or finish 1 < start 2 => compatible activities\n",
    "    if int1[0]>int2[1] or int1[1]<int2[0]:\n",
    "        return True\n",
    "    return False\n",
    "\n",
    "def activity_value_crib(A):\n",
    "    MAX_VAL = float('inf')\n",
    "    # Dummy activity with the largest finish time is added to \n",
    "    # avoid the need finding the max value of S[i] at the end\n",
    "    A.append([MAX_VAL,MAX_VAL,0])\n",
    "\n",
    "    # as a result everything gets shifted one along\n",
    "\n",
    "    #Sorting the array of list in increasing finish time order.\n",
    "    A = sorted(A, key=lambda x: x[1]) \n",
    "\n",
    "    # Create a memoization array\n",
    "    # maximum final value possible to be obtained, S[i], for activity, i.\n",
    "    S =[0 for i in range(len(A) + 1)] \n",
    "   \n",
    "    # Loop over activities with i\n",
    "    for i in range(1, len(A) + 1):\n",
    "        # considering the previous most recent activity selected to be k for all k<i \n",
    "        for k in range(0, i):            \n",
    "            # If activities are compatible or k==0 (ie. only activity i is considered)\n",
    "            if k == 0 or compatible(A[k - 1], A[i - 1]): \n",
    "                # update the value array with a cost of taking activity k and i.\n",
    "                # S[k] is the largest value possible where the k is the last finishing activity\n",
    "                # if S[i] is less than S[k] + A[i].value update it \n",
    "                S[i] = max(S[i], S[k] + A[i - 1][2]) \n",
    "    print(S)\n",
    "    return S[len(A)]\n",
    "\n",
    "def activity_value(A):\n",
    "    # Add an activity that is compatible with all others, but adds no value\n",
    "    # we can use it as a softmax function...\n",
    "    A.append([float('inf'), float('inf'), 0])\n",
    "\n",
    "    #Sorting the array of list in increasing finish time order.\n",
    "    A = sorted(A, key=lambda x: x[1]) \n",
    "\n",
    "    # maximum final value possible to be obtained, S[i], considering those up to i.\n",
    "    S =[0 for i in range(len(A))] \n",
    "\n",
    "    for activity_index in range(len(A)):\n",
    "        # print(f\"Looking At A[{activity_index}] = {A[activity_index]}\")\n",
    "        ## on its own:\n",
    "        S[activity_index] = max(S[activity_index], A[activity_index][2])\n",
    "        # with each other max so far:\n",
    "        for k in range(0, activity_index):\n",
    "            if compatible(A[k], A[activity_index]):\n",
    "                # print(f\"{activity_index} and {k} compatible\")\n",
    "                # print(f\"prev: {S[activity_index]}, could get: {S[k] + A[activity_index][2]}\")\n",
    "                S[activity_index] = max(S[activity_index], S[k] + A[activity_index][2])\n",
    "\n",
    "    print(S)\n",
    "    return S[-1]"
   ]
  },
  {
   "cell_type": "markdown",
   "metadata": {},
   "source": [
    "### Tests:"
   ]
  },
  {
   "cell_type": "markdown",
   "metadata": {},
   "source": [
    "##### Run example test case 1:"
   ]
  },
  {
   "cell_type": "code",
   "execution_count": 61,
   "metadata": {},
   "outputs": [
    {
     "name": "stdout",
     "output_type": "stream",
     "text": [
      "[1, 2, 4, 12, 12]\n",
      "12\n"
     ]
    }
   ],
   "source": [
    "input_value = [[1,3,1],[1,8,4],[2,6,2],[7,10,10]]\n",
    "print (activity_value(input_value))"
   ]
  },
  {
   "cell_type": "markdown",
   "metadata": {},
   "source": [
    "##### Run example test case 2:"
   ]
  },
  {
   "cell_type": "code",
   "execution_count": 62,
   "metadata": {},
   "outputs": [
    {
     "name": "stdout",
     "output_type": "stream",
     "text": [
      "[1, 1, 1, 1, 2, 2, 3, 3]\n",
      "3\n"
     ]
    }
   ],
   "source": [
    "input_value = [[0,11,1],[2,6,1],[4,7,1],[5,10,1],[7,11,1],[10,13,1],[12,14,1]]\n",
    "print (activity_value(input_value))"
   ]
  },
  {
   "cell_type": "markdown",
   "metadata": {},
   "source": [
    "---\n",
    "<br>\n",
    "<br>"
   ]
  },
  {
   "cell_type": "markdown",
   "metadata": {},
   "source": [
    "<h1>7.</h1>"
   ]
  },
  {
   "cell_type": "markdown",
   "metadata": {
    "cell_style": "center",
    "hideOutput": true
   },
   "source": [
    "The **convex hull** of a set $Q$ of points, is the smallest convex polygon $P$ for which each point in $Q$ is either on the boundary of $P$ or in its interior. Write the function **convex_hull**($L$) which takes a list, $L$, of pairs of 2D points and outputs the total number of points in the convex hull of these points. Your solution should have its run time complexity strictly smaller than $O(n^2)$."
   ]
  },
  {
   "cell_type": "markdown",
   "metadata": {},
   "source": [
    "### Examples:"
   ]
  },
  {
   "cell_type": "markdown",
   "metadata": {},
   "source": [
    "**Input:** `[[-1,-1],[-1,1],[1,-1],[1,1],[0,0]]` <br>\n",
    "**Output:** `4`"
   ]
  },
  {
   "cell_type": "markdown",
   "metadata": {},
   "source": [
    "**Input:**  `[[-1,-1],[-1,1],[1,-1],[1,1],[0,0],[-100,100],[100,100],[0,-100]]` <br>\n",
    "**Output:**  `3`"
   ]
  },
  {
   "cell_type": "markdown",
   "metadata": {},
   "source": [
    "### Constraints:\n",
    "\n",
    "- $1 \\leq len(A) \\leq 1000$\n",
    "- $1 \\leq |A[i]| \\leq 100000$"
   ]
  },
  {
   "cell_type": "markdown",
   "metadata": {},
   "source": [
    "### Code:"
   ]
  },
  {
   "cell_type": "code",
   "execution_count": null,
   "metadata": {},
   "outputs": [],
   "source": [
    "def convex_hull(L):\n",
    "    \n",
    "    #Write your code here"
   ]
  },
  {
   "cell_type": "markdown",
   "metadata": {},
   "source": [
    "### Tests:"
   ]
  },
  {
   "cell_type": "markdown",
   "metadata": {},
   "source": [
    "##### Run example test case 1:"
   ]
  },
  {
   "cell_type": "code",
   "execution_count": null,
   "metadata": {},
   "outputs": [],
   "source": [
    "input_value = [[-1,-1],[-1,1],[1,-1],[1,1],[0,0]]\n",
    "print (convex_hull(input_value))"
   ]
  },
  {
   "cell_type": "markdown",
   "metadata": {},
   "source": [
    "##### Run example test case 2:"
   ]
  },
  {
   "cell_type": "code",
   "execution_count": null,
   "metadata": {},
   "outputs": [],
   "source": [
    "input_value = [[-1,-1],[-1,1],[1,-1],[1,1],[0,0],[-100,100],[100,100],[0,-100]]\n",
    "print (convex_hull(input_value))"
   ]
  },
  {
   "cell_type": "markdown",
   "metadata": {},
   "source": [
    "---\n",
    "<br>\n",
    "<br>\n",
    "<br>\n",
    "<br>\n",
    "<br>\n",
    "<br>\n",
    "<br>\n",
    "<center><b>END OF EXAMPLES PAPER</b></center>"
   ]
  }
 ],
 "metadata": {
  "kernelspec": {
   "display_name": "Python 3",
   "language": "python",
   "name": "python3"
  },
  "language_info": {
   "codemirror_mode": {
    "name": "ipython",
    "version": 3
   },
   "file_extension": ".py",
   "mimetype": "text/x-python",
   "name": "python",
   "nbconvert_exporter": "python",
   "pygments_lexer": "ipython3",
   "version": "3.10.6"
  },
  "vscode": {
   "interpreter": {
    "hash": "916dbcbb3f70747c44a77c7bcd40155683ae19c65e1c03b4aa3499c5328201f1"
   }
  }
 },
 "nbformat": 4,
 "nbformat_minor": 4
}
