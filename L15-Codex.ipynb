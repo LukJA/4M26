{
 "cells": [
  {
   "cell_type": "code",
   "execution_count": 3,
   "id": "f98da2e8",
   "metadata": {},
   "outputs": [],
   "source": [
    "import math\n",
    "import logging\n",
    "FORMAT = '[%(name)s:%(levelname)s]  %(message)s'\n",
    "logging.basicConfig(level=logging.DEBUG, format=FORMAT)\n",
    "logger = logging.getLogger('dbg')\n",
    "\n",
    "def dprint(s):\n",
    "    logger.debug(s)\n",
    "\n",
    "def iprint(s):\n",
    "    logger.info(s)\n",
    "\n",
    "logger.setLevel(logging.INFO)"
   ]
  },
  {
   "attachments": {},
   "cell_type": "markdown",
   "id": "5690cbca",
   "metadata": {},
   "source": [
    "## Comparison Sorting\n",
    "\n",
    "Comparison algorithms sort arrays by comparing elements with no extra information. Examples are all the sorting algo's we have seen so far\n",
    "* Insertion Sort\n",
    "* Heapsort\n",
    "* Quicksort\n",
    "\n",
    "For all comparison sort algo's the following constraints hold\n",
    "\n",
    "| Lower Bound for Worst Case | Lower Bound for Average Case |\n",
    "| -- | -- |\n",
    "| $\\Theta( n \\log n)$ | $\\Theta( n \\log n)$ |\n",
    "\n",
    "Hence $O(n \\log n)$ sorts such as **Heapsort** are *asymptotically optimal* in this class.\n",
    "\n",
    "### Generalization of C' Sorts\n",
    "\n",
    "A *comparison sort* takes an array $[a_0, ..., a_{n-1}]$, and only gains information by comparing elements: \"Test is $a_i < a_j$?\".\n",
    "\n",
    "It outputs a permutation that orders the items based on a rule-set, for simplicity assuming all elements are distinct (no repeats). There are therefore $n$! possible permutations, and a correct comparison sorting algorithm must be able to produce **ALL** of these orderings!\n",
    "\n",
    "A comparison sort corresponds to a full binary decision tree with $\\geq n$! leaves, where each leaf represents a permutation of the $n$ elements. The *worst case* number of comparisons is the length of the longest simple path from root to leaf.\n",
    "\n",
    "A binary decision tree with height $h$ has at most $2^h$ leaves, hence to fit with the above $n! \\leq 2^h$. Striling's approximation for $n!$:\n",
    "\n",
    "$n! \\approx \\left( \\frac{n}{e} \\right)^n \\sqrt{2 \\pi n } \\left( 1 + \\Theta(1/n) \\right) \\geq  \\left( \\frac{n}{e} \\right)^n$\n",
    "\n",
    "$h \\geq \\log (n!) \\geq \\log \\left( \\frac{n}{e} \\right)^n = n \\log n - n \\log e = \\Omega(n \\log n)$\n",
    "\n",
    "Hence no comparison sort can be faster than $\\Omega(n \\log n)$ on a *worst case* input.\n",
    "\n",
    "What is the *best* possible average case? - A completely balanced tree. Completely balanced mean no leafs differ by more than 1 in height, and each leaf therefore has a depth of $\\lfloor \\log(n!) \\rfloor$ or $\\lceil \\log(n!) \\rceil$.\n",
    "\n",
    "Hence no comparison sort can be faster than $\\Omega(n \\log n)$ on a *average case* input.\n"
   ]
  },
  {
   "attachments": {},
   "cell_type": "markdown",
   "id": "6da28c06",
   "metadata": {},
   "source": [
    "## Counting Sort [Stable]\n",
    "\n",
    "Assume keys are integers within a fixed range - uses *key values* rather than comparisons.\n",
    "\n",
    "For $n$ items with keys that are known to be in the range $0$ to $k-1$\n",
    "- Running Time for any input $\\Theta(n + k)$\n",
    "- Storage $\\Theta(n + k)$ + input $\\Theta(n)$\n",
    "\n",
    "Very fast whejn $k = O(n)$ -> run time $\\Theta(n)$\n",
    "\n",
    "* Create a $k$ length counting array `counts`, and an $n$ length output array `output`\n",
    "* Loop through the array and tally each key by incrementing it index in `counts`\n",
    "* Loop through `counts` and convert to a running total of elements so far\n",
    "* Loop through the array backwards, and set `output[counts[key]-1]` to `key` filling in the output array\n",
    "* This works by using `counts[key]-1` to find the correct spot to place the key\n"
   ]
  },
  {
   "cell_type": "code",
   "execution_count": 28,
   "id": "faa11590",
   "metadata": {},
   "outputs": [
    {
     "name": "stdout",
     "output_type": "stream",
     "text": [
      "Counts: [0, 1, 1, 0, 1, 1, 1, 1, 1, 0, 0, 0, 1]\n",
      "Running: [0, 1, 2, 2, 3, 4, 5, 6, 7, 7, 7, 7, 8]\n",
      "[1, 2, 4, 5, 6, 7, 8, 12]\n"
     ]
    }
   ],
   "source": [
    "def counting_sort(A, k = None):\n",
    "    if k is None:\n",
    "        k = max(A) + 1\n",
    "\n",
    "    n = len(A)\n",
    "    counts = [0 for x in range(k)]\n",
    "    output = [0 for x in range(n)]\n",
    "\n",
    "    for key in A:\n",
    "        counts[key] += 1\n",
    "    print(f\"Counts: {counts}\")\n",
    "    for i in range(1, k):\n",
    "        counts[i] += counts[i - 1]\n",
    "    print(f\"Running: {counts}\")\n",
    "    for key in reversed(A):\n",
    "        output[counts[key]-1] = key\n",
    "        counts[key] = counts[key] - 1\n",
    "    return output\n",
    "\n",
    "A = [12,6,4,1,5,2,7,8]\n",
    "print(counting_sort(A))\n"
   ]
  },
  {
   "attachments": {},
   "cell_type": "markdown",
   "id": "cbdb9482",
   "metadata": {},
   "source": [
    "## Radix Sort"
   ]
  },
  {
   "attachments": {},
   "cell_type": "markdown",
   "id": "fdb436a8",
   "metadata": {},
   "source": [
    "Algorithm that orders by keys rather than comparisons - applies to data that can be sorted lexicographically (integers, words etc). By standard uses counting sort for a stable inner sort.\n",
    "\n",
    "There are 2 variants: `LSD` and `MSD`, for e.g. $n$ items with $d$ digit keys:\n",
    "\n",
    "| LSD AnyInput RunTime | LSD Storage |\n",
    "| -- | -- |\n",
    "| $\\Theta(d(n + k))$ | $\\Theta(n+k) + \\Theta(dn)$|\n",
    "\n",
    "* Assumes all keys have the same length\n",
    "* Used in card-sorting machines\n",
    "* Requires a stable sort\n",
    "\n",
    "For MSD, the worst case runtime matches LSD\n",
    "\n",
    "| MSD Average RunTime | MSD Storage |\n",
    "| -- | -- |\n",
    "| $\\Theta(n \\log_k n)$ | $\\Theta(n+pk) + \\Theta(dn)$|\n",
    "\n",
    "* Allows for keys with different lengths\n",
    "* Sorts by recursion and can exit early if < 2 keys share a digit\n",
    "* Runtime depends on input distribution\n",
    "* Can create inefficient subarray sorts"
   ]
  },
  {
   "cell_type": "code",
   "execution_count": 29,
   "id": "2045a54e",
   "metadata": {},
   "outputs": [
    {
     "name": "stdout",
     "output_type": "stream",
     "text": [
      "[111, 201, 314, 632, 712]\n"
     ]
    }
   ],
   "source": [
    "def gd(num, n): # 0 -> LSD\n",
    "    return num // 10**n % 10\n",
    "\n",
    "def stable_sort(A, k, dp):\n",
    "    # use counting sort as a stable sort\n",
    "    n = len(A)\n",
    "    counts = [0 for x in range(k)]\n",
    "    output = [0 for x in range(n)]\n",
    "\n",
    "    for key in A:\n",
    "        counts[gd(key, dp)] += 1\n",
    "\n",
    "    for i in range(1, k):\n",
    "        counts[i] += counts[i - 1]\n",
    "\n",
    "    for key in reversed(A):\n",
    "        output[counts[gd(key, dp)]-1] = key\n",
    "        counts[gd(key, dp)] = counts[gd(key, dp)] - 1\n",
    "    return output\n",
    "\n",
    "def LSD_radix_sort(A, d, k):\n",
    "    for digit_pos in range(d):\n",
    "        A = stable_sort(A, k, digit_pos)\n",
    "    return A\n",
    "\n",
    "A = [314, 712, 632, 201, 111]\n",
    "A = LSD_radix_sort(A, d=3, k=10)\n",
    "print(A)\n"
   ]
  },
  {
   "attachments": {},
   "cell_type": "markdown",
   "id": "ebda8c07",
   "metadata": {},
   "source": [
    "### Digit Size Selection\n",
    "\n",
    "Runtime is $\\Theta(b(n + 2')/r)$ - Minimise:\n",
    "\n",
    "**TBD**\n",
    "\n",
    "### Vs Quicksort\n",
    "\n",
    "Quicksort is typically $\\Theta( n \\log n)$, where LSD Radix is $\\Theta(dn)$ when $k = O(n)$.\n",
    "\n",
    "Quicksort is more cache-friendly and in-place where LSD Radix is not. Best depends on machine, storage and distribution of data."
   ]
  },
  {
   "attachments": {},
   "cell_type": "markdown",
   "id": "56f8dba5",
   "metadata": {},
   "source": [
    "## Bucket Sort\n",
    "\n",
    "When the data distribution is *known*, achieves **average case** $\\Theta(n)$.\n",
    "\n",
    "Three stages:\n",
    "1. **Scatter** - distribute keys to buckets\n",
    "2. **Sort** - sort the keys within buckets\n",
    "3. **Gather** - gather the sorted keys in order\n",
    "\n",
    "Assuming uniformly distributed keys, $n$ keys and $b$ buckets, where $b \\approx n$ :\n",
    "\n",
    "Average Case $\\rightarrow \\Theta(n + \\frac{n^2}{b} + b) \\rightarrow \\Theta(n)$\n",
    "\n",
    "Worst Case $\\rightarrow \\Theta(n^2 + b)$\n",
    "\n",
    "Storage $\\rightarrow \\Theta(n)$\n",
    "\n"
   ]
  },
  {
   "cell_type": "code",
   "execution_count": 34,
   "id": "d9f65abd",
   "metadata": {},
   "outputs": [
    {
     "name": "stdout",
     "output_type": "stream",
     "text": [
      "[0.1, 0.3, 0.45, 0.5, 0.9]\n"
     ]
    }
   ],
   "source": [
    "def insertion_sort(S: list):\n",
    "    for j in range(1, len(S)):\n",
    "        ## start with item index 1 and go through each index\n",
    "        key = S[j]\n",
    "        i = j-1\n",
    "        while i >= 0 and S[i] > key:\n",
    "            ## loop backwards through sorter region until end or until list item is greater than key\n",
    "            ## shift items to make space for insert \n",
    "            S[i+1] = S[i]\n",
    "            i = i - 1\n",
    "        S[i+1] = key\n",
    "\n",
    "def bucket_sort(A):\n",
    "    num_buckets = len(A)\n",
    "    buckets = [[] for _ in range(num_buckets)]\n",
    "\n",
    "    for key in A: # Scatter\n",
    "        buckets[int(num_buckets * key)].append(key)\n",
    "    for bucket in buckets:\n",
    "        insertion_sort(bucket)\n",
    "    return [x for bucket in buckets for x in bucket] # gather\n",
    "\n",
    "A = [0.9, 0.3, 0.1, 0.5, 0.45]\n",
    "A = bucket_sort(A)\n",
    "print(A)"
   ]
  },
  {
   "attachments": {},
   "cell_type": "markdown",
   "id": "5eb84d0f",
   "metadata": {},
   "source": [
    "### RTA Complexity\n",
    "\n",
    "**Scatter** and **Gather** operations involve basic for loops and are both $\\Theta(n)$.\n",
    "\n",
    "Remaining costs arises from `insertion_sort` being called on $n$ buckets.\n",
    "\n",
    "Let $m_i$ denote the number of keys in bucket $i$ where $\\sum_i m_i = n$\n",
    "\n",
    "$m_i$ has a binomial distribution `bin($n$, $p$)` where P(bucket $i$), $p = 1/n$\n",
    "\n",
    "Cost of $n$ insertion sorts is $\\sum_i O(m_i^2)$\n",
    "\n",
    "Taking the expectation over the key distribution $\\mathbb{E} \\left[ \\sum_i O(m_i^2) \\right] = \\sum_i \\mathbb{E}[O(m_i^2)] $\n",
    "\n",
    "$\\mathbb{E}[m_i^2] = Var[m_i] + \\mathbb{E}^2[m_i] = 2 - 1/n$ \n",
    "\n",
    "Expected cost of $n$ insertion sorts: $\\sum_i O(2 - 1/n) = O(n)$\n",
    "\n",
    "Hence Average case bucket sort is $\\Theta(n)$, Worst case (1 bucket) is $\\Theta(n^2)$"
   ]
  },
  {
   "cell_type": "code",
   "execution_count": null,
   "id": "befda835",
   "metadata": {},
   "outputs": [],
   "source": []
  },
  {
   "cell_type": "code",
   "execution_count": null,
   "id": "900dcbbe",
   "metadata": {},
   "outputs": [],
   "source": []
  },
  {
   "cell_type": "markdown",
   "id": "a21ebdce",
   "metadata": {},
   "source": []
  }
 ],
 "metadata": {
  "kernelspec": {
   "display_name": "Python 3",
   "language": "python",
   "name": "python3"
  },
  "language_info": {
   "codemirror_mode": {
    "name": "ipython",
    "version": 3
   },
   "file_extension": ".py",
   "mimetype": "text/x-python",
   "name": "python",
   "nbconvert_exporter": "python",
   "pygments_lexer": "ipython3",
   "version": "3.10.6"
  },
  "vscode": {
   "interpreter": {
    "hash": "916dbcbb3f70747c44a77c7bcd40155683ae19c65e1c03b4aa3499c5328201f1"
   }
  }
 },
 "nbformat": 4,
 "nbformat_minor": 5
}
