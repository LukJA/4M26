{
 "cells": [
  {
   "attachments": {},
   "cell_type": "markdown",
   "id": "3fb66078",
   "metadata": {},
   "source": [
    "## Model of computation\n",
    "\n",
    "Random-Access machine\n",
    "1. Instructions executed sequentially\n",
    "2. No concurrency\n",
    "3. Constant time instructions\n",
    "4. No memory hierarchy\n",
    "\n",
    "## Data-structures\n",
    "\n",
    "**Dynamic Sets**\n",
    "\n",
    "Sets that can change over time, may have structure such as ordering\n",
    "For a given set _S_\n",
    "- Search(_S_, _k_) - return a pointer _x_ to an element such that _x_.key = _k_ (lookup _k_ in _S_)\n",
    "- Insert(_S_, _x_) - adds the set with element pointed to by x \n",
    "- Delete(_S_, _x_) - removes _x_ \n",
    "- minimum(_S_) - query on a totally ordered set to find the smallest key\n",
    "- maximum(_S_) - query on a totally ordered set to find the largest key\n",
    "- Successor(_S_, _x_) - returns a pointer to the next largest element in a TO set\n",
    "- Predecessor(_S_, _x_) - returns a pointer to the next smallest element in a TO set\n",
    "\n",
    "**Stack** - Dynamic set following Last-In First-Out LIFO. Operated on by PUSH and PULL.\n",
    "\n",
    "**Queue** - Dynamic set implements first-in first-out FIFO. Operated by ENQUEUE and DEQUEUE.\n",
    "\n",
    "**Linked List**\n",
    "\n",
    "Objects are arranged in a distinct order determined with a pointer at each member. Doubly-linked lists have two pointers for a predecessor and successor. Circular linked lists have no terminating NULL and the last elements links to the first. Access time is constant in python.\n",
    "\n",
    "**Tree**\n",
    "\n",
    "Structure with pointers to parents, children and siblings. Binary tree's only have left and right children (no siblings). Rooted tree's have parent, left child, right sibling pointers which scales well for minimal memory similar to a LL.\n",
    "\n",
    "<img src=\"https://www.researchgate.net/publication/234801069/figure/fig4/AS:670016219385862@1536755723210/An-example-left-child-right-sibling-LCRS-tree.png\" alt=\"drawing\" width=\"350\"/>\n",
    "\n",
    "**Dictionary** - Dynamic set that supports insert, delete and search.\n",
    "\n",
    "## Proof of Correctness\n",
    "\n",
    "A loop invariant can be used to prove algorithmic correctness, and is essentially bounded mathematical induction:\n",
    "1. **initialisation** - invariant is true at iteration 0.\n",
    "2. **Maintenance** - if true before iteration, it remains true after.\n",
    "3. **Termination**\n",
    "\n"
   ]
  },
  {
   "cell_type": "code",
   "execution_count": null,
   "metadata": {},
   "outputs": [],
   "source": []
  }
 ],
 "metadata": {
  "kernelspec": {
   "display_name": "Python 3",
   "language": "python",
   "name": "python3"
  },
  "language_info": {
   "name": "python",
   "version": "3.10.6 (main, Nov 14 2022, 16:10:14) [GCC 11.3.0]"
  },
  "vscode": {
   "interpreter": {
    "hash": "916dbcbb3f70747c44a77c7bcd40155683ae19c65e1c03b4aa3499c5328201f1"
   }
  }
 },
 "nbformat": 4,
 "nbformat_minor": 5
}
