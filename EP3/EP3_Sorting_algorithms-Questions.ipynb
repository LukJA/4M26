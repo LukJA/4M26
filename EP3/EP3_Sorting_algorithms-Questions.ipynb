{
 "cells": [
  {
   "cell_type": "markdown",
   "metadata": {
    "hideCode": false
   },
   "source": [
    "# **4M26 - Examples Paper 3 - Sorting Algorithms** "
   ]
  },
  {
   "cell_type": "markdown",
   "metadata": {},
   "source": [
    "---\n",
    "<br>\n",
    "<br>"
   ]
  },
  {
   "cell_type": "markdown",
   "metadata": {},
   "source": [
    "## 1."
   ]
  },
  {
   "cell_type": "markdown",
   "metadata": {},
   "source": [
    "Briefly answer multiple questions below."
   ]
  },
  {
   "cell_type": "markdown",
   "metadata": {},
   "source": [
    "&emsp; (i)&emsp; Why is it often said that sorting $n$ values must necessarily cost $n \\lg n$ steps? In which cases this assertion is false?"
   ]
  },
  {
   "attachments": {},
   "cell_type": "markdown",
   "metadata": {},
   "source": [
    "<div style=\"border-width:2px;border-style:solid;border-color:black;\">\n",
    "\n",
    "For all comparison sorts, the asymptotic best case is $n \\log n$, due to the following:\n",
    "\n",
    "For an unsorted array of length $n$, there are $!n$ possible permutations of the array. For an arbitrary comparison rule a sort must be able to generate all of these $!n$ permutations. Take these permutations as the balanced leaf nodes of a binary tree, where each node descent corresponds to a comparison. The complexity of achieving a sort permutation is equal to the shortest tree path decent. In the best average case for a balanced tree, the height of the tree is $\\log_2(n)$, hence a tree height $n$ has $2^h$ leaves.\n",
    "\n",
    "$n! \\leq 2^h$ => $h \\geq \\log (n!) \\geq = n \\log n - n \\log e = \\Omega(n \\log n)$\n",
    "\n",
    "Hence the average tree descent is at best $\\Omega(n \\log n)$\n",
    "\n",
    "In the case of a non-comparative sort such as Radix or Counting sort, this is not the case.\n",
    "\n",
    "</div>"
   ]
  },
  {
   "cell_type": "markdown",
   "metadata": {},
   "source": [
    "&emsp; (ii)&emsp; In the context of Heapsort, explain how to take initially unordered data and rearrange it so that the heap property applies."
   ]
  },
  {
   "attachments": {},
   "cell_type": "markdown",
   "metadata": {},
   "source": [
    "<div style=\"border-width:2px;border-style:solid;border-color:black;padding:20px\">\n",
    "\n",
    "To build a heap from an unordered array, calling the `max_heapify` process, order $O(h)$, on the first half of the array will generate a valid max-heap in array representation.\n",
    "\n",
    "1. if the left child is $\\geq$ index i, swap it and rerun checks on new left child\n",
    "2. else if the right child is $\\geq$ index i, swap it and rerun checks on new right child\n",
    "3. else both left and right are less, exit.\n",
    "\n",
    "| | Max_Heapify(A, size, i) |\n",
    "| - | - |\n",
    "| 0 | i_nought = i |\n",
    "| 1 | left = left_child(i) |\n",
    "| 2 | right = right_child(i) |\n",
    "| 3 | if A[left] > A[i] |\n",
    "| 4 | -- i_nought = left |\n",
    "| 5 | if A[right] > A[i] |\n",
    "| 6 | -- i_nought = right |\n",
    "| 7 | if i != i_nought |\n",
    "| 8 | -- A[i], A[max_i] = A[max_i], A[i] |\n",
    "| 9 | -- max_heapify(A, heap_size, max_i)\n",
    "\n",
    "\n",
    "</div>"
   ]
  },
  {
   "cell_type": "markdown",
   "metadata": {},
   "source": [
    "&emsp; (iii)&emsp; Explain how to reinstate the heap property if one of the values in the heap is changed. What is the cost of such operation? Does it matter whether the value is increased or decreased?"
   ]
  },
  {
   "attachments": {},
   "cell_type": "markdown",
   "metadata": {},
   "source": [
    "<div style=\"border-width:2px;border-style:solid;border-color:black;\">\n",
    "\n",
    "Calling `max_heapify` process, order $O(h)$, will reinstate the heap status. However, it operates by bubbling elements down the order, such that if the value is increased such that its children remain valid, calling it will not solve the property. Hence, the whole heap must be descended. This is order $O(n)$ rather than $O( \\log n)$ \n",
    "\n",
    "</div>"
   ]
  },
  {
   "cell_type": "markdown",
   "metadata": {},
   "source": [
    "&emsp; (iv)&emsp;  In bad cases Quicksort can be much more costly than Heapsort. Why, then, is it still very often used?  "
   ]
  },
  {
   "attachments": {},
   "cell_type": "markdown",
   "metadata": {},
   "source": [
    "<div style=\"border-width:2px;border-style:solid;border-color:black;\">\n",
    "\n",
    "The worst case of quicksort is very rare, and can be further limited by the addition of careful pivot choice. The average cases are both $O(n \\log n), but the contributing constant for quicksort are much lower than for heapsort, giving better general performance.\n",
    "\n",
    "</div>"
   ]
  },
  {
   "cell_type": "markdown",
   "metadata": {},
   "source": [
    "&emsp; (v)&emsp; In the context of Quicksort, you are given an array of lenght, $n$, containing arbitrary data in an arbitrary order and a selected value, $p$, taken from that data (*the pivot*). Explain two strategies of how to rearrange the data so that all values less than the pivot end up to its left, and all values greater than it, to its right."
   ]
  },
  {
   "attachments": {},
   "cell_type": "markdown",
   "metadata": {},
   "source": [
    "<div style=\"border-width:2px;border-style:solid;border-color:black;\">\n",
    "\n",
    "1. Lomuto Partition\n",
    "2. Horare partition\n",
    "\n",
    "</div>"
   ]
  },
  {
   "cell_type": "markdown",
   "metadata": {},
   "source": [
    "&emsp; (vi)&emsp; List a set of operations that you would expect to form an implementation of a priority queue. Name a data structure suitable for implementing a priority queue, and explain how much time it should take to perform the aforementioned operations. Why this data structure would be prefered over Red-Black trees?"
   ]
  },
  {
   "attachments": {},
   "cell_type": "markdown",
   "metadata": {},
   "source": [
    "<div style=\"border-width:2px;border-style:solid;border-color:black;\">\n",
    "\n",
    "Allow methods `get_max()`, `pop_max()`, `insert()` and `increase_key()` for a max-priority queue - using a max-heap.\n",
    "\n",
    "`get_max()`, `pop_max()` are both $O(1)$.\n",
    "\n",
    "`insert()` and `increase_key()` are both $O(n)$.\n",
    "\n",
    "\n",
    "</div>"
   ]
  },
  {
   "cell_type": "markdown",
   "metadata": {},
   "source": [
    "&emsp; (vii)&emsp; Both quicksort and mergesort have an average case run time performance of $O(n \\log n)$\n",
    "to sort a list containing $n$ items. However, in the worst case, Quicksort can require $O(n^2)$\n",
    "time, while Mergesort’s worst case running time is the same as its average case time: $O(n \\log n)$.  What accounts for the difference in worst case times? How is it that Quicksort can\n",
    "require $O(n^2)$ time, while Mergesort always guarantees $O(n \\log n)$ run time? Why would one prefer to\n",
    "use Quicksort over Mergesort despite a worse worst-case performance?  "
   ]
  },
  {
   "attachments": {},
   "cell_type": "markdown",
   "metadata": {},
   "source": [
    "<div style=\"border-width:2px;border-style:solid;border-color:black;\">\n",
    "\n",
    "Quicksort takes a 'random' value as its partition, and in the unluckiest case can end up with perfectly non-uniform paritions. e.g. on a pre-sorted array taking the final element as the pivot in every case, $n$ pivots will be generated, each involving an $O(n)$ sort -> $O(n^2)$.\n",
    "\n",
    "Mergesort on the other-hand has a deterministic runtime, as the merge runtime is independent of the pivot choice.\n",
    "\n",
    "</div>"
   ]
  },
  {
   "cell_type": "markdown",
   "metadata": {},
   "source": [
    "&emsp; (viii)&emsp; How would you sort data in each of the following circumstances? Justify or comment on your choices of method. <br>\n",
    "\n",
    "&emsp; 1. The data is a set of 10 entries in the high-table list for a video-game console, to be sorted by the score. <br>\n",
    "&emsp; 2. You have 10 million people to sort based on their age in years. If two people have the same age, it does not matter in which order they appear in the output list. <br>\n",
    "&emsp; 3. Your data consists of a large file of names. The first (about) 90% of it is already believed to be in sorted order from last time (but you are not 100% confident about that). The remaining 10% is new data that has been written onto the end of the original file in a chaotic, unordered state. You want a single file consisting of the old and new data all neatly sorted."
   ]
  },
  {
   "cell_type": "markdown",
   "metadata": {},
   "source": [
    "<div style=\"border-width:2px;border-style:solid;border-color:black;\">\n",
    "Write your answer here.\n",
    "</div>"
   ]
  },
  {
   "cell_type": "markdown",
   "metadata": {},
   "source": [
    "&emsp; (ix)&emsp; Describe an algorithm that given $n$ integers in the range $0$ to $k$, preprocesses its input and then answers any query about how many of the $n$ integers fall into a range $[a\\cdots b]$ in $O(1)$ time. Your algorithm should use $\\Theta(n+k)$ preprocessing time."
   ]
  },
  {
   "attachments": {},
   "cell_type": "markdown",
   "metadata": {},
   "source": [
    "<div style=\"border-width:2px;border-style:solid;border-color:black;\">\n",
    "\n",
    "Use a variation on counting sort to tally a running total, such that a delta can be computed via array indexing:\n",
    "\n",
    "</div>"
   ]
  },
  {
   "cell_type": "code",
   "execution_count": 9,
   "metadata": {},
   "outputs": [
    {
     "name": "stdout",
     "output_type": "stream",
     "text": [
      "4\n"
     ]
    }
   ],
   "source": [
    "class range_check():\n",
    "    def __init__(self, A, k) -> None:\n",
    "        if k is None:\n",
    "            k = max(A) + 1\n",
    "        n = len(A)\n",
    "        self.counts = [0 for x in range(k)]\n",
    "\n",
    "        # for each item, tally it in the counts array\n",
    "        for key in A:\n",
    "            self.counts[key] += 1\n",
    "        # for each position in the tally, update to running total\n",
    "        for i in range(1, k):\n",
    "            self.counts[i] += self.counts[i - 1]\n",
    "        # print(f\"Counts: {self.counts}\")\n",
    "\n",
    "    # inclusive range check\n",
    "    def count_range(self, a, b):\n",
    "        return self.counts[b] - self.counts[a-1]\n",
    "    \n",
    "rc = range_check([1,4,5,12,13,35,40], 50)\n",
    "print(rc.count_range(3,14))"
   ]
  },
  {
   "cell_type": "markdown",
   "metadata": {},
   "source": [
    "&emsp; (x)&emsp; Explain how to sort $n$ integers in the range $0$ to $n^4 -1$ in $O(n)$ time."
   ]
  },
  {
   "attachments": {},
   "cell_type": "markdown",
   "metadata": {},
   "source": [
    "<div style=\"border-width:2px;border-style:solid;border-color:black;\">\n",
    "\n",
    "?\n",
    "\n",
    "</div>"
   ]
  },
  {
   "cell_type": "markdown",
   "metadata": {},
   "source": [
    "&emsp; (xi)&emsp; Explain why the worst-case running time for bucket sort is $\\Theta(n^2)$. What simple change to the algorithm preserves its linear average-case running time and makes its worst-case running time of $O(n \\log n)$?"
   ]
  },
  {
   "cell_type": "markdown",
   "metadata": {},
   "source": [
    "<div style=\"border-width:2px;border-style:solid;border-color:black;\">\n",
    "\n",
    "?\n",
    "\n",
    "</div>"
   ]
  },
  {
   "cell_type": "markdown",
   "metadata": {},
   "source": [
    "## 2."
   ]
  },
  {
   "cell_type": "markdown",
   "metadata": {
    "cell_style": "center"
   },
   "source": [
    "Write the function, **sort**($L$), which takes an unsorted list, $L$, of $n$ real numbers and outputs a sorted list of these numbers. Your solution should have average case runtime of $O(n \\log n)$."
   ]
  },
  {
   "cell_type": "markdown",
   "metadata": {},
   "source": [
    "### Examples:"
   ]
  },
  {
   "cell_type": "markdown",
   "metadata": {},
   "source": [
    "**Input:** `[5, 3, 2, 7, 1, 8, 9, 12]` <br>\n",
    "**Output:** `[1, 2, 3, 5, 7, 8, 9, 12]`"
   ]
  },
  {
   "cell_type": "markdown",
   "metadata": {},
   "source": [
    "**Input:**  `[2.0, 1.01, 1.2, -3]` <br>\n",
    "**Output:**  `[-3, 1.01, 1.2, 2.0]`"
   ]
  },
  {
   "cell_type": "markdown",
   "metadata": {},
   "source": [
    "### Constraints:\n",
    "\n",
    "- $1\\leq n \\leq 1000$. \n",
    "- $-10^6\\leq L[i] \\leq 10^6$. "
   ]
  },
  {
   "cell_type": "markdown",
   "metadata": {},
   "source": [
    "### Code:"
   ]
  },
  {
   "cell_type": "code",
   "execution_count": 49,
   "metadata": {},
   "outputs": [
    {
     "name": "stdout",
     "output_type": "stream",
     "text": [
      "[1, 2, 4, 5]\n"
     ]
    }
   ],
   "source": [
    "# av case runime - mergesort or quicksort\n",
    "def sort(L):\n",
    "    return merge_sort(L)\n",
    "\n",
    "def merge(A, low, pivot, high):\n",
    "    # acquire the array to merge\n",
    "    ## extract the two sorted sublists were trying to merge\n",
    "    L = [A[low]] if low == pivot else A[low:pivot+1] \n",
    "    R = [A[pivot+1]] if pivot+1 == high else A[pivot+1:high+1]\n",
    "    # print(f\"{L} {A[pivot]} {R}\")\n",
    "\n",
    "    L.append(float(\"inf\"))\n",
    "    R.append(float(\"inf\"))\n",
    "    i = 0 # L index\n",
    "    j = 0 # R index\n",
    "    # k is the index in the top level list we're replacing\n",
    "    \n",
    "    # loop over the array section we're replacing\n",
    "    for k in range(low, high+1):\n",
    "        # if the left array is less than the right, replace with it\n",
    "        if L[i] <= R[j]:\n",
    "            A[k] = L[i]\n",
    "            i += 1\n",
    "        # if not, replace with the right array\n",
    "        else:\n",
    "            A[k] = R[j]\n",
    "            j += 1\n",
    "\n",
    "    \n",
    "\n",
    "def merge_sort(A, low = None, high = None):\n",
    "    if low is None:\n",
    "        low = 0\n",
    "    if high is None:\n",
    "        high = len(A) - 1\n",
    "\n",
    "    pivot = (low + high) // 2\n",
    "\n",
    "    # single item - no need to sort \n",
    "    if low < high:\n",
    "        merge_sort(A, low, pivot)\n",
    "        merge_sort(A, pivot+1, high)\n",
    "\n",
    "        merge(A, low, pivot, high)\n",
    "    else:\n",
    "        pass\n",
    "\n",
    "    return A\n",
    "\n",
    "L = [5,1,4,2]\n",
    "sort(L)\n",
    "print(L)"
   ]
  },
  {
   "cell_type": "markdown",
   "metadata": {},
   "source": [
    "### Tests:"
   ]
  },
  {
   "cell_type": "markdown",
   "metadata": {},
   "source": [
    "##### Run example test case 1:"
   ]
  },
  {
   "cell_type": "code",
   "execution_count": 50,
   "metadata": {},
   "outputs": [
    {
     "name": "stdout",
     "output_type": "stream",
     "text": [
      "[1, 2, 3, 5, 7, 8, 9, 12]\n"
     ]
    }
   ],
   "source": [
    "input_value = [5, 3, 2, 7, 1, 8, 9, 12]\n",
    "print (sort(input_value))"
   ]
  },
  {
   "cell_type": "markdown",
   "metadata": {},
   "source": [
    "##### Run example test case 2:"
   ]
  },
  {
   "cell_type": "code",
   "execution_count": 51,
   "metadata": {},
   "outputs": [
    {
     "name": "stdout",
     "output_type": "stream",
     "text": [
      "[-3, 1.01, 1.2, 2.0]\n"
     ]
    }
   ],
   "source": [
    "input_value = [2.0, 1.01, 1.2, -3]\n",
    "print (sort(input_value))"
   ]
  },
  {
   "cell_type": "markdown",
   "metadata": {},
   "source": [
    "## 3."
   ]
  },
  {
   "cell_type": "markdown",
   "metadata": {
    "cell_style": "center",
    "hideOutput": true
   },
   "source": [
    "Implement the function, **min_priority_queue**($L$), which takes a list, $L$, of $n$ elements, each of which is a dictionary. Each dictionary represents one of the three operations (with corresponding inputs), `\"insert\"`, `\"pop_min\"`, `\"decrease_key\"`, to be performed on a min-priority queue. E.g. `{\"op\":\"insert\",\"key\":5}` correspond to an insertion of key, `5`, whereas, `{\"op\":\"decrease_key\",\"new_key\":3,\"index\":2}` corresponds to decreasing the key value to `3` for an element with index, `2`, in the existing heap array. We assume that keys of the heap are stored in a zero-indexed array. *Note, in this question we only concern ourselves with storing keys and not values in the heap data structure.* <br>\n",
    "\n",
    "The function should output the keys in the same order as they are stored in the array, representing the heap data structure, after all operations provided in the input are executed."
   ]
  },
  {
   "cell_type": "markdown",
   "metadata": {},
   "source": [
    "### Examples:"
   ]
  },
  {
   "cell_type": "markdown",
   "metadata": {},
   "source": [
    "**Input:** `[{\"op\":\"insert\",\"key\":10},{\"op\":\"insert\",\"key\":5},{\"op\":\"insert\",\"key\":1},{\"op\":\"decrease_key\",\"new_key\":3,\"index\":2},{\"op\":\"pop_min\"}]` <br>\n",
    "**Output:** `[3,10]`"
   ]
  },
  {
   "cell_type": "markdown",
   "metadata": {},
   "source": [
    "**Input:**  `[{\"op\":\"insert\",\"key\":5},{\"op\":\"insert\",\"key\":4},{\"op\":\"insert\",\"key\":3},{\"op\":\"insert\",\"key\":2},{\"op\":\"decrease_key\",\"index\":2,\"new_key\":2},{\"op\":\"pop_min\"},{\"op\":\"pop_min\"},{\"op\":\"insert\",\"key\":9},{\"op\":\"insert\",\"key\":8},{\"op\":\"insert\",\"key\":7},{\"op\":\"insert\",\"key\":6}]` <br>\n",
    "**Output:**  `[3, 5, 6, 8, 7, 9]`"
   ]
  },
  {
   "cell_type": "markdown",
   "metadata": {},
   "source": [
    "### Constraints:\n",
    "\n",
    "- $1 \\leq n \\leq 1000$\n",
    "- All operations are valid (e.g. one never attempts to decrease a key for element with $index < 0$ or $index \\geq heap\\_size $ or attempt to pop an element from an empty queue)."
   ]
  },
  {
   "cell_type": "markdown",
   "metadata": {},
   "source": [
    "### Code:"
   ]
  },
  {
   "cell_type": "code",
   "execution_count": 54,
   "metadata": {},
   "outputs": [],
   "source": [
    "class Heap:\n",
    "    def __init__(self):\n",
    "        self.H = []\n",
    "        self.size = 0\n",
    "\n",
    "    def insert(self,key):\n",
    "        self.size += 1\n",
    "        self.H.append(key)\n",
    "        for i in range(self.size//2 - 1, -1, -1):\n",
    "            self.max_heapify(i)\n",
    "    \n",
    "    def pop_min(self):\n",
    "        self.size -= 1\n",
    "        x = self.H.pop(0)\n",
    "        for i in range(self.size//2 - 1, -1, -1):\n",
    "            self.max_heapify(i)\n",
    "        return x\n",
    "        \n",
    "    def decrease_key(self, index, new_key):\n",
    "        self.H[index] = new_key\n",
    "        self.max_heapify(index)\n",
    "\n",
    "    def max_heapify(self, i):\n",
    "        def left_child(i):\n",
    "            return 2*i + 1\n",
    "        def right_child(i):\n",
    "            return 2*i + 2\n",
    "        \n",
    "        left = left_child(i)\n",
    "        right = right_child(i)\n",
    "        max_i = i\n",
    "\n",
    "        if left < self.size and self.H[left] < self.H[max_i]:\n",
    "            max_i = left\n",
    "        if right < self.size and self.H[right] < self.H[max_i]:\n",
    "            max_i = right\n",
    "        if max_i != i:\n",
    "            self.H[i], self.H[max_i] = self.H[max_i], self.H[i]\n",
    "            self.max_heapify(max_i)\n",
    "\n",
    "def min_priority_queue(L):\n",
    "\n",
    "    heap = Heap()\n",
    "    \n",
    "    for op in L:\n",
    "        if op[\"op\"] == \"insert\":\n",
    "            heap.insert(op[\"key\"])\n",
    "            x = op[\"key\"]\n",
    "            print(f\"Insert {x} => {heap.H}\")\n",
    "        elif op[\"op\"] == \"pop_min\":\n",
    "            _ = heap.pop_min()\n",
    "            print(f\"Pop {_} => {heap.H}\")\n",
    "        elif op[\"op\"] == \"decrease_key\":\n",
    "            heap.decrease_key(op[\"index\"],op[\"new_key\"])\n",
    "            ind, val = op[\"index\"],op[\"new_key\"]\n",
    "            print(f\"Dec index {ind} val {val} => {heap.H}\")\n",
    "        else:\n",
    "            assert False, \"Invalid operation\"\n",
    "            \n",
    "    return heap.H[:heap.size]"
   ]
  },
  {
   "cell_type": "markdown",
   "metadata": {},
   "source": [
    "### Tests:"
   ]
  },
  {
   "cell_type": "markdown",
   "metadata": {},
   "source": [
    "##### Run example test case 1:"
   ]
  },
  {
   "cell_type": "code",
   "execution_count": 55,
   "metadata": {},
   "outputs": [
    {
     "name": "stdout",
     "output_type": "stream",
     "text": [
      "Insert 10 => [10]\n",
      "Insert 5 => [5, 10]\n",
      "Insert 1 => [1, 10, 5]\n",
      "Dec index 2 val 3 => [1, 10, 3]\n",
      "Pop 1 => [3, 10]\n",
      "[3, 10]\n"
     ]
    }
   ],
   "source": [
    "input_value = [{\"op\":\"insert\",\"key\":10},{\"op\":\"insert\",\"key\":5},{\"op\":\"insert\",\"key\":1},{\"op\":\"decrease_key\",\"new_key\":3,\"index\":2},{\"op\":\"pop_min\"}]\n",
    "print (min_priority_queue(input_value))"
   ]
  },
  {
   "cell_type": "markdown",
   "metadata": {},
   "source": [
    "##### Run example test case 2:"
   ]
  },
  {
   "cell_type": "code",
   "execution_count": 56,
   "metadata": {},
   "outputs": [
    {
     "name": "stdout",
     "output_type": "stream",
     "text": [
      "Insert 5 => [5]\n",
      "Insert 4 => [4, 5]\n",
      "Insert 3 => [3, 5, 4]\n",
      "Insert 2 => [2, 3, 4, 5]\n",
      "Dec index 2 val 2 => [2, 3, 2, 5]\n",
      "Pop 2 => [2, 3, 5]\n",
      "Pop 2 => [3, 5]\n",
      "Insert 9 => [3, 5, 9]\n",
      "Insert 8 => [3, 5, 9, 8]\n",
      "Insert 7 => [3, 5, 9, 8, 7]\n",
      "Insert 6 => [3, 5, 6, 8, 7, 9]\n",
      "[3, 5, 6, 8, 7, 9]\n"
     ]
    }
   ],
   "source": [
    "input_value = [{\"op\":\"insert\",\"key\":5},{\"op\":\"insert\",\"key\":4},{\"op\":\"insert\",\"key\":3},{\"op\":\"insert\",\"key\":2},{\"op\":\"decrease_key\",\"index\":2,\"new_key\":2},{\"op\":\"pop_min\"},{\"op\":\"pop_min\"},{\"op\":\"insert\",\"key\":9},{\"op\":\"insert\",\"key\":8},{\"op\":\"insert\",\"key\":7},{\"op\":\"insert\",\"key\":6}]\n",
    "print (min_priority_queue(input_value))"
   ]
  },
  {
   "cell_type": "markdown",
   "metadata": {},
   "source": [
    "## 4. "
   ]
  },
  {
   "cell_type": "markdown",
   "metadata": {
    "cell_style": "center"
   },
   "source": [
    "Write the function, **pairs**($L$), which, given a list, $L$, of $n$ non-negative integers, finds the number of distinct pairs, $(i, j)$, such that $j \\geq i $ and $L[i] = L[j]$. Your solution should have a linear worst-case run time."
   ]
  },
  {
   "cell_type": "markdown",
   "metadata": {},
   "source": [
    "### Examples:"
   ]
  },
  {
   "cell_type": "markdown",
   "metadata": {},
   "source": [
    "**Input:** `[5,2,1,5]` <br>\n",
    "**Output:** `5`"
   ]
  },
  {
   "cell_type": "markdown",
   "metadata": {},
   "source": [
    "**Input:**  `[1,2,3,4,1,1,1]` <br>\n",
    "**Output:**  `13`"
   ]
  },
  {
   "cell_type": "markdown",
   "metadata": {},
   "source": [
    "### Constraints:\n",
    "\n",
    "- $1\\leq n \\leq 10^6$.\n",
    "- $1\\leq A[i] \\leq 10^6$."
   ]
  },
  {
   "cell_type": "markdown",
   "metadata": {},
   "source": [
    "### Code:"
   ]
  },
  {
   "cell_type": "code",
   "execution_count": 57,
   "metadata": {},
   "outputs": [],
   "source": [
    "def pairs(L):\n",
    "    k = max(L)\n",
    "    n = len(L)\n",
    "    counts = [0 for x in range(k+1)]\n",
    "\n",
    "    # for each item, tally it in the counts array\n",
    "    for key in L:\n",
    "        counts[key] += 1\n",
    "\n",
    "    # each value is worth its integer sum to 1\n",
    "    # i.e. if there are 3 1's, there are\n",
    "    # 3 single index pairs\n",
    "    # 2 adjacent\n",
    "    # 1 adjacent + 1 =  3 + 2 + 1\n",
    "    #= 0.5 * n * (N + 1)\n",
    "\n",
    "    def sum_to_n(n):\n",
    "        return int(0.5 * n * (n+1))\n",
    "    \n",
    "    pairs = 0 \n",
    "    for x in counts:\n",
    "        pairs += sum_to_n(x)\n",
    "\n",
    "    return pairs"
   ]
  },
  {
   "cell_type": "markdown",
   "metadata": {},
   "source": [
    "### Tests:"
   ]
  },
  {
   "cell_type": "markdown",
   "metadata": {},
   "source": [
    "##### Run example test case 1:"
   ]
  },
  {
   "cell_type": "code",
   "execution_count": 58,
   "metadata": {},
   "outputs": [
    {
     "name": "stdout",
     "output_type": "stream",
     "text": [
      "5\n"
     ]
    }
   ],
   "source": [
    "input_value = [5,2,1,5]\n",
    "print (pairs(input_value))"
   ]
  },
  {
   "cell_type": "markdown",
   "metadata": {},
   "source": [
    "##### Run example test case 2:"
   ]
  },
  {
   "cell_type": "code",
   "execution_count": 59,
   "metadata": {},
   "outputs": [
    {
     "name": "stdout",
     "output_type": "stream",
     "text": [
      "13\n"
     ]
    }
   ],
   "source": [
    "input_value = [1,2,3,4,1,1,1]\n",
    "print (pairs(input_value))"
   ]
  },
  {
   "cell_type": "markdown",
   "metadata": {},
   "source": [
    "## 5. "
   ]
  },
  {
   "cell_type": "markdown",
   "metadata": {
    "cell_style": "center"
   },
   "source": [
    "Write a function, **close_pairs**($L$), which takes a list, $L$, of three elements, the first of which is a list of non-negative integer numbers, $A$, and the second and third of which are positive integer values, $\\delta_{index}$ and $\\delta_{value}$, respectively. This function should output a string, `\"true\"`, if array, $A$, contains a pair of indices, $(i,j)$, such that: \n",
    "1. $i \\neq j$, \n",
    "2. $\\lvert i-j\\rvert\\leq \\delta_{index}$ and \n",
    "3. $\\lvert A[i] - A[j]\\rvert \\leq \\delta_{value}$. <br>\n",
    "\n",
    "If such pair does not exist, the implemented function should return a string, `\"false\"`. Your solution should have linear average case run time performance. Note that you can use a python dictionary (i.e. `D = {}`) as an implementation of a hash table with an assumed constant average case run time cost for insertion, deletion and element search operations."
   ]
  },
  {
   "cell_type": "markdown",
   "metadata": {},
   "source": [
    "### Examples:"
   ]
  },
  {
   "cell_type": "markdown",
   "metadata": {},
   "source": [
    "**Input:** `[[1,50,4,8,16,12,2],1,1]` <br>\n",
    "**Output:** `\"false\"`"
   ]
  },
  {
   "cell_type": "markdown",
   "metadata": {},
   "source": [
    "**Input:**  `[[1,16,4,8,64,2,32],2,3]` <br>\n",
    "**Output:**  `\"true\"`"
   ]
  },
  {
   "cell_type": "markdown",
   "metadata": {},
   "source": [
    "### Constraints:\n",
    "\n",
    "- $1 \\leq \\text{len }(A) \\leq 10^4$.\n",
    "- $1 \\leq \\delta_{index} \\leq 10^4$.\n",
    "- $1 \\leq \\delta_{value} \\leq 10^6$.\n",
    "- $1 \\leq A[i] \\leq 10^6$."
   ]
  },
  {
   "cell_type": "markdown",
   "metadata": {},
   "source": [
    "### Code:"
   ]
  },
  {
   "cell_type": "code",
   "execution_count": 91,
   "metadata": {},
   "outputs": [],
   "source": [
    "def close_pairs(L):\n",
    "\n",
    "    A, delta_index, delta_value = L[0], L[1], L[2]\n",
    "\n",
    "    # store buckets of width delta_value, where each bucket has its index \n",
    "    # b_index = A[i] // delta_value\n",
    "    # buckets contain a bucket ID, and then the key \"ID\":key\n",
    "    # on each loop remove the i-delta_index bucket element\n",
    "    # a bucket will never contain more than 1 key, as if it did we would exit\n",
    "    D = {}\n",
    "\n",
    "    for i in range(len(A)):\n",
    "        b_index = A[i] // delta_value\n",
    "        b_index_old = A[(i - delta_index -1)] // delta_value\n",
    "        # print(f\"{D}<-{A[i]} Bucket = {b_index}\")\n",
    "\n",
    "        # if its lapsed remove the old bucket\n",
    "        if i - delta_index - 1 >= 0:\n",
    "            D.pop(b_index_old)\n",
    "\n",
    "        # if the bucket already exists\n",
    "        if b_index in D:\n",
    "            return \"true\"\n",
    "        D[b_index] = A[i]\n",
    "\n",
    "        if b_index+1 in D:\n",
    "            if abs(D[b_index+1] - D[b_index]) <= delta_value:\n",
    "                return \"true\"\n",
    "        if b_index-1 in D:\n",
    "            if abs(D[b_index-1] - D[b_index]) <= delta_value:\n",
    "                return \"true\"        \n",
    "    return \"false\"\n",
    "        \n",
    "    #Write your code here"
   ]
  },
  {
   "cell_type": "markdown",
   "metadata": {},
   "source": [
    "### Tests:"
   ]
  },
  {
   "cell_type": "code",
   "execution_count": null,
   "metadata": {},
   "outputs": [],
   "source": []
  },
  {
   "cell_type": "markdown",
   "metadata": {},
   "source": [
    "##### Run example test case 1:"
   ]
  },
  {
   "cell_type": "code",
   "execution_count": 92,
   "metadata": {},
   "outputs": [
    {
     "name": "stdout",
     "output_type": "stream",
     "text": [
      "false\n"
     ]
    }
   ],
   "source": [
    "input_value = [[1,50,4,8,16,12,2],1,1]\n",
    "print (close_pairs(input_value))"
   ]
  },
  {
   "cell_type": "markdown",
   "metadata": {},
   "source": [
    "##### Run example test case 2:"
   ]
  },
  {
   "cell_type": "code",
   "execution_count": 93,
   "metadata": {},
   "outputs": [
    {
     "name": "stdout",
     "output_type": "stream",
     "text": [
      "true\n"
     ]
    }
   ],
   "source": [
    "input_value = [[1,16,4,8,64,2,32],2,3]\n",
    "print (close_pairs(input_value))"
   ]
  },
  {
   "cell_type": "markdown",
   "metadata": {},
   "source": [
    "## 6."
   ]
  },
  {
   "cell_type": "markdown",
   "metadata": {
    "cell_style": "center"
   },
   "source": [
    "Write the function, **sort_strings**($S$), which takes a list, $S$, of strings and sorts it in the following order.\n",
    "1. If length of string, $a$, is smaller than length of string, $b$, then string, $a$, should be appearing in the output before string, $b$.\n",
    "2. If strings, $a$ and $b$, are of the same length, then string, $a$, should come before string, $b$, if $ord(a[i])$<$ord(b[i])$ where $i$ is the index of the first character for which $a[i]\\neq b[i]$. Note, $ord$, is a python function which converts a character into its ASCII integer value (e.g. `ord('a')=97`).\n",
    "\n",
    "Also note that a function, **get_character_dict**($S$), is provided. This function creates a dictionary, $char\\_dict$, which for each character used in $S$, computes its position in a ranked list of all characters used in $S$. "
   ]
  },
  {
   "cell_type": "markdown",
   "metadata": {},
   "source": [
    "### Examples:"
   ]
  },
  {
   "cell_type": "markdown",
   "metadata": {},
   "source": [
    "**Input:** `[\"abcd\", \"ab\", \"abc\", \"abcde\", \"a\",\"e\"]` <br>\n",
    "**Output:** `[\"a\", \"e\", \"ab\", \"abc\", \"abcd\", \"abcde\"]`"
   ]
  },
  {
   "cell_type": "markdown",
   "metadata": {},
   "source": [
    "**Input:**  `[\"314\", \"712\", \"632\", \"201\", \"111\",\"11\",\"1\",\"20\",\"5\",\"50\",\"1a\"]` <br>\n",
    "**Output:**  `[\"1\", \"5\", \"11\", \"1a\", \"20\", \"50\", \"111\", \"201\", \"314\", \"632\", \"712\"]`"
   ]
  },
  {
   "cell_type": "markdown",
   "metadata": {},
   "source": [
    "### Constraints:\n",
    "\n",
    "- $ 1\\leq \\text{len }(S) \\leq 100$."
   ]
  },
  {
   "cell_type": "markdown",
   "metadata": {},
   "source": [
    "### Code:"
   ]
  },
  {
   "cell_type": "code",
   "execution_count": null,
   "metadata": {},
   "outputs": [],
   "source": [
    "def get_character_dict(S):\n",
    "    \n",
    "    char_set = set([])\n",
    "    for s in S:\n",
    "        char_set=char_set | set(list(s))\n",
    "        \n",
    "    count = 0\n",
    "    char_dict={}\n",
    "    for c in sorted(list(char_set)):\n",
    "        char_dict[c]=count\n",
    "        count+=1\n",
    "    return char_dict\n",
    "\n",
    "def sort_strings(S):\n",
    " \n",
    "    char_dict = get_character_dict(S)\n",
    "\n",
    "    #Write your code here"
   ]
  },
  {
   "cell_type": "markdown",
   "metadata": {},
   "source": [
    "### Tests:"
   ]
  },
  {
   "cell_type": "markdown",
   "metadata": {},
   "source": [
    "##### Run example test case 1:"
   ]
  },
  {
   "cell_type": "code",
   "execution_count": null,
   "metadata": {},
   "outputs": [],
   "source": [
    "input_value = [\"abcd\", \"ab\", \"abc\", \"abcde\", \"a\",\"e\"]\n",
    "print (sort_strings(input_value))"
   ]
  },
  {
   "cell_type": "markdown",
   "metadata": {},
   "source": [
    "##### Run example test case 2:"
   ]
  },
  {
   "cell_type": "code",
   "execution_count": null,
   "metadata": {},
   "outputs": [],
   "source": [
    "input_value = [\"314\", \"712\", \"632\", \"201\", \"111\",\"11\",\"1\",\"20\",\"5\",\"50\",\"1a\"]\n",
    "print (sort_strings(input_value))"
   ]
  }
 ],
 "metadata": {
  "kernelspec": {
   "display_name": "Python 3 (ipykernel)",
   "language": "python",
   "name": "python3"
  },
  "language_info": {
   "codemirror_mode": {
    "name": "ipython",
    "version": 3
   },
   "file_extension": ".py",
   "mimetype": "text/x-python",
   "name": "python",
   "nbconvert_exporter": "python",
   "pygments_lexer": "ipython3",
   "version": "3.10.6"
  }
 },
 "nbformat": 4,
 "nbformat_minor": 4
}
