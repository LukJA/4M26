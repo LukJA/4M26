{
 "cells": [
  {
   "cell_type": "code",
   "execution_count": 3,
   "id": "f98da2e8",
   "metadata": {},
   "outputs": [],
   "source": [
    "import math\n",
    "import logging\n",
    "FORMAT = '[%(name)s:%(levelname)s]  %(message)s'\n",
    "logging.basicConfig(level=logging.DEBUG, format=FORMAT)\n",
    "logger = logging.getLogger('dbg')\n",
    "\n",
    "def dprint(s):\n",
    "    logger.debug(s)\n",
    "\n",
    "def iprint(s):\n",
    "    logger.info(s)\n",
    "\n",
    "logger.setLevel(logging.INFO)"
   ]
  },
  {
   "attachments": {},
   "cell_type": "markdown",
   "id": "ee99fe93",
   "metadata": {},
   "source": [
    "## Algorithm Design Strategies\n",
    "\n",
    "| Approach | Description |\n",
    "| ----------- | ----------- |\n",
    "| Divide & Conquer | Breaks problem into subproblems like original but smaller, solve recursively and combine |\n",
    "| Dynamic Programming | Applies like _divide & conquer_ but when subproblems overlap making combination more efficient |\n",
    "| Greedy Algorithms | Problem is divided in such as way that combination is performed in a locally optimal manner |\n",
    "| Others | Brute-Force, Backtracking, Branch & Bound, Transform & Conquer, etc. |\n",
    "\n",
    "### Divide & Conquer\n",
    "\n",
    "- **Divide** the problem into one or more subproblems that are smaller instances of the\n",
    "same problem.\n",
    "- **Conquer** the subproblems by solving them recursively.\n",
    "- **Combine** the subproblem solutions to form a solution to the original problem.\n",
    "\n",
    "Examples: \n",
    "- _Sorting_ - MergeSort, QuickSort, Heapsort\n",
    "- _Search_ - Binary Search\n",
    "- _Computation_ - Strassen's Matrix Multiplication\n",
    "- _Signal Processing_ - FFT\n",
    "- _Geometric Algorithms_ - Closest Pair\n",
    "\n",
    "#### Binary Search\n",
    "\n",
    "_Given a sorted array, find the location of a specific element, or show that the element does not exist_\n",
    "\n",
    "Split the array down the middle and search recursively:"
   ]
  },
  {
   "cell_type": "code",
   "execution_count": 4,
   "id": "27a645be",
   "metadata": {},
   "outputs": [
    {
     "name": "stdout",
     "output_type": "stream",
     "text": [
      "[1, 2, 4, 8, 16, 32, 64, 128]\n",
      "8 is at 3\n",
      "9 is at -1\n"
     ]
    }
   ],
   "source": [
    "## search S for element k\n",
    "def binary_search(S, k, p = None, r = None):\n",
    "    ## set default sub-array to full-span\n",
    "    # p is bottom, r is top : [p:r]\n",
    "    if p == None:\n",
    "        p = 0\n",
    "    if r == None:\n",
    "        r = len(S) - 1\n",
    "    # midpoint \n",
    "    q = (p+r)//2 # floor division\n",
    "    if p > r:\n",
    "        return -1 # Not found\n",
    "    elif S[q] == k:\n",
    "        # match\n",
    "        return q\n",
    "    elif k < S[q]:\n",
    "        return binary_search(S, k, p, q-1) # Left sub array\n",
    "    else:\n",
    "        return binary_search(S, k, q+1, r) # Right sub array\n",
    "\n",
    "A = [1,2,4,8,16,32,64,128]\n",
    "print(A)\n",
    "print(f\"{8} is at {binary_search(A, 8)}\")\n",
    "print(f\"{9} is at {binary_search(A, 9)}\")\n",
    "\n"
   ]
  },
  {
   "attachments": {},
   "cell_type": "markdown",
   "id": "3520a8c8",
   "metadata": {},
   "source": [
    "### 1D Closest Pair (Using Sort O(nlogn))\n",
    "\n",
    "The 2D case is more complicated and non-examinable"
   ]
  },
  {
   "cell_type": "code",
   "execution_count": 8,
   "id": "9178910b",
   "metadata": {},
   "outputs": [
    {
     "name": "stderr",
     "output_type": "stream",
     "text": [
      "[dbg:INFO]  [1, 12, 34, 26, 7, 29, 55, 102, 234, 222, 65]\n"
     ]
    },
    {
     "name": "stdout",
     "output_type": "stream",
     "text": [
      "([26, 29], 3)\n"
     ]
    }
   ],
   "source": [
    "def mergesort_merge(S, p, q, r):\n",
    "    ## bit of slicing trickery\n",
    "    ## extract the two sorted sublists were trying to merge\n",
    "    L = [S[p]] if p == q else S[p:q+1] \n",
    "    R = [S[q+1]] if q+1 == r else S[q+1:r+1]\n",
    "    # trick to simplify the merge\n",
    "    # if we append both with infinity, if one list ends \n",
    "    # the other will be appended without any logic change \n",
    "    L.append(float(\"inf\"))\n",
    "    R.append(float(\"inf\"))\n",
    "    i = 0 # L index\n",
    "    j = 0 # R index\n",
    "    # k is the index in the top level list we're replacing\n",
    "    for k in range(p, r+1):\n",
    "        if L[i] <= R[j]:\n",
    "            S[k] = L[i]\n",
    "            i += 1\n",
    "        else:\n",
    "            S[k] = R[j]\n",
    "            j += 1\n",
    "    \n",
    "\n",
    "\n",
    "def mergesort(S, p = None, r = None):\n",
    "    if p == None:\n",
    "        iprint(S)\n",
    "        p = 0\n",
    "    if r == None:\n",
    "        r = len(S)-1\n",
    "    if p < r:\n",
    "        # S is the list, p-r is the sub-array index to sort\n",
    "        q = math.floor((p+r)/2) # midpoint\n",
    "        # sort these two sub-arrays\n",
    "        mergesort(S, p, q)\n",
    "        mergesort(S, q + 1, r)\n",
    "        mergesort_merge(S, p, q, r)\n",
    "\n",
    "\n",
    "def closest_point_lin(S):\n",
    "    mergesort(S)\n",
    "    min_distance = float(\"inf\")\n",
    "    index = -1\n",
    "    for i in range(1, len(S)):\n",
    "        delta = S[i] - S[i-1]\n",
    "        if delta < min_distance:\n",
    "            min_distance = delta\n",
    "            index = i\n",
    "    return([S[index-1], S[index]], min_distance)\n",
    "\n",
    "A = [1,12,34,26,7,29,55,102,234,222,65]\n",
    "print(closest_point_lin(A))\n"
   ]
  },
  {
   "attachments": {},
   "cell_type": "markdown",
   "id": "05d57a4f",
   "metadata": {},
   "source": [
    "### Dynamic Programming\n",
    "\n",
    "Problems exhibit **optimal sub-structure** and **overlapping subproblems**.\n",
    "\n",
    "Optimal sub-structure is when optimal solutions to a problem incorporate optimal solutions to related subproblems, which you may solve independently. Dynamic programming builds an optimal solution to the problem from optimal  solutions to subproblems.\n",
    "\n",
    "**Key Steps:**\n",
    "1. Characterize the structure of an optimal solution\n",
    "2. Recursively define the value of an optimal solution\n",
    "3. Compute the value of an optimal solution (bottom up)\n",
    "4. Construct an optimal solution from computed information\n",
    "\n",
    "Examples: Bellman equation, Bellman-Ford, 0-1 Knapsack Problem, Longest common subsequence\n",
    "\n",
    "#### 0-1 Knapsack Problem\n",
    "\n",
    "A thief robbing a store wants to take the most valuable load that can be carried in a knapsack capable of carrying\n",
    "at most $W$ pounds of loot. The thief can choose to take any subset of $n$ items in the store. The $i$ th item is worth $v_i$ dollars and weighs $w_i$ pounds, where $v_i$ and $w_i$ are integers. Which items should the thief take? \n",
    "\n",
    "This is called the  0-1 knapsack problem because for each item, the thief must either take it or leave it behind."
   ]
  },
  {
   "cell_type": "code",
   "execution_count": 41,
   "id": "47d97dfd",
   "metadata": {},
   "outputs": [
    {
     "name": "stdout",
     "output_type": "stream",
     "text": [
      "Optimal Value: 14\n",
      "Optimal Value: (14, [4, 3, 0])\n"
     ]
    }
   ],
   "source": [
    "W = 10\n",
    "w = [1,3,4,8,1]\n",
    "v = [2,4,1,6,6]\n",
    "\n",
    "# optimal is 0,3,4 to 14 & w = 10\n",
    "\n",
    "## Recursive Solution O(2^n)\n",
    "\n",
    "def knapsack_recursive_track(v,w,W,r = None):\n",
    "    if r == None:\n",
    "        r = 0\n",
    "    \n",
    "    #print(f\"Check {r} w:{w[r]} v:{v[r]}\")\n",
    "\n",
    "    if r < len(w) and W > 0:\n",
    "        # Case 1 - take item at position r if possible\n",
    "        # find best case with remaining options\n",
    "        x, s = knapsack_recursive_track(v, w, W-w[r], r + 1)\n",
    "        x += v[r]\n",
    "        # Case 2 - DONT take item at position r\n",
    "        # find best case with remaining options\n",
    "        y, t = knapsack_recursive_track(v, w, W, r + 1)\n",
    "\n",
    "        ## pick x but only if we still have a mass budget\n",
    "        if x > y and W-w[r] >= 0:\n",
    "            s.append(r)\n",
    "            return (x, s)\n",
    "        else:\n",
    "            return (y, t)\n",
    "    return 0, []\n",
    "\n",
    "def knapsack_recursive(v,w,W,r = None):\n",
    "    if r == None:\n",
    "        r = len(w)-1\n",
    "    \n",
    "    #print(f\"Check {r} w:{w[r]} v:{v[r]}\")\n",
    "    #print(r, W)\n",
    "    if r >= 0 and W > 0:\n",
    "        # Case 1 - take item at position r\n",
    "        # find best case with remaining options\n",
    "        x = knapsack_recursive(v, w, W-w[r], r - 1) + v[r]\n",
    "        # Case 2 - DONT take item at position r\n",
    "        # find best case with remaining options\n",
    "        y = knapsack_recursive(v, w, W, r - 1)\n",
    "\n",
    "        if x > y and W-w[r] >= 0:\n",
    "            #print(x)\n",
    "            return x\n",
    "        else:\n",
    "            #print(y)\n",
    "            return y\n",
    "    #print(f\"Overflow {r} {W}\")\n",
    "    return 0\n",
    "\n",
    "print(f\"Optimal Value: {knapsack_recursive(v,w,W)}\")\n",
    "print(f\"Optimal Value: {knapsack_recursive_track(v,w,W)}\")"
   ]
  },
  {
   "attachments": {},
   "cell_type": "markdown",
   "id": "ba05a0ff",
   "metadata": {},
   "source": [
    "#### Dynamic Programming Soln\n",
    "\n",
    "![image](media/dynam01.png)"
   ]
  },
  {
   "cell_type": "code",
   "execution_count": 76,
   "id": "665e715d",
   "metadata": {},
   "outputs": [
    {
     "name": "stdout",
     "output_type": "stream",
     "text": [
      "Weights:  [0, 1, 2, 3, 4, 5, 6, 7, 8, 9, 10]\n",
      "n: 0->0 - [0, 2, 2, 2, 2, 2, 2, 2, 2, 2, 2]\n",
      "n: 0->1 - [0, 2, 2, 4, 6, 6, 6, 6, 6, 6, 6]\n",
      "n: 0->2 - [0, 2, 2, 4, 6, 6, 6, 6, 7, 7, 7]\n",
      "n: 0->3 - [0, 2, 2, 4, 6, 6, 6, 6, 7, 8, 8]\n",
      "n: 0->4 - [0, 6, 8, 8, 10, 12, 12, 12, 12, 13, 14]\n"
     ]
    }
   ],
   "source": [
    "W = 10\n",
    "w = [1,3,4,8,1]\n",
    "v = [2,4,1,6,6]\n",
    "\n",
    "def dynamic_knapsack(v, w, W):\n",
    "    S = [[0 for x in range(W+1)] for y in range(len(w))]\n",
    "    # first index is i which is between 0 and n-1\n",
    "    # second index is weight which is between 1 and W\n",
    "\n",
    "    for i in range(0, len(w)):\n",
    "        for weight in range(0, W+1):\n",
    "            if w[i] <= weight:\n",
    "                S[i][weight] = max( S[i-1][weight], S[i-1][weight-w[i]] + v[i])\n",
    "            else:\n",
    "                 S[i][weight] = S[i-1][weight]\n",
    "    return S[len(w)-1][W], S\n",
    "\n",
    "a, Q= dynamic_knapsack(v,w,W)\n",
    "\n",
    "W = Q[0]\n",
    "print(f\"Weights:  {[x for x in range(len(W))]}\")\n",
    "for i in range(len(Q)):\n",
    "    print(f\"n: {0}->{i} - {Q[i]}\")"
   ]
  }
 ],
 "metadata": {
  "kernelspec": {
   "display_name": "Python 3",
   "language": "python",
   "name": "python3"
  },
  "language_info": {
   "codemirror_mode": {
    "name": "ipython",
    "version": 3
   },
   "file_extension": ".py",
   "mimetype": "text/x-python",
   "name": "python",
   "nbconvert_exporter": "python",
   "pygments_lexer": "ipython3",
   "version": "3.10.6"
  },
  "vscode": {
   "interpreter": {
    "hash": "916dbcbb3f70747c44a77c7bcd40155683ae19c65e1c03b4aa3499c5328201f1"
   }
  }
 },
 "nbformat": 4,
 "nbformat_minor": 5
}
