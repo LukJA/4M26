{
 "cells": [
  {
   "cell_type": "code",
   "execution_count": 4,
   "metadata": {},
   "outputs": [],
   "source": [
    "import math"
   ]
  },
  {
   "attachments": {},
   "cell_type": "markdown",
   "metadata": {},
   "source": [
    "## Complexity\n",
    "\n",
    "| Type | Average | Worst | Storage | Stable? |\n",
    "| -- | -- | -- | -- | -- |\n",
    "| Insertion | $\\Theta(n^2)$ | $\\Theta(n^2)$ | $\\Theta(n)$ | Stable |\n",
    "| Merge | $\\Theta(n \\log n)$ | $\\Theta(n \\log n)$ | $\\Theta(n)$ | Stable |\n",
    "| Heap | ~ | $O(n \\log n)$ | $\\Theta(n)$ | ! |\n",
    "| Quick | $\\Theta(n \\log n)$ | $\\Theta(n^2)$ | $\\Theta(n)$ | ! |\n",
    "| Counting | $\\Theta(k + n)$ | $\\Theta(k + n)$ | $\\Theta(k)$ | Stable |\n",
    "| Radix | $\\Theta(d(k + n))$ | $\\Theta(d(k + n))$ | | Stable (if CS) |\n",
    "| Bucket | $\\Theta(n)$ | $\\Theta(n^2)$ | | Stable (if IS) |\n"
   ]
  },
  {
   "cell_type": "markdown",
   "metadata": {},
   "source": [
    "## Insertion Sort"
   ]
  },
  {
   "cell_type": "code",
   "execution_count": 5,
   "metadata": {},
   "outputs": [],
   "source": [
    "def insertion_sort(S: list):\n",
    "    for j in range(1, len(S)):\n",
    "        ## start with item index 1 and go through each index\n",
    "        key = S[j]\n",
    "        i = j-1\n",
    "        while i >= 0 and S[i] > key:\n",
    "            ## loop backwards through sorter region until end or until list item is greater than key\n",
    "            ## shift items to make space for insert \n",
    "            S[i+1] = S[i]\n",
    "            i = i - 1\n",
    "        S[i+1] = key"
   ]
  },
  {
   "attachments": {},
   "cell_type": "markdown",
   "metadata": {},
   "source": [
    "## Merge Sort"
   ]
  },
  {
   "cell_type": "code",
   "execution_count": 6,
   "metadata": {},
   "outputs": [],
   "source": [
    "def mergesort_merge(S, p, q, r):\n",
    "    ## extract the two sorted sublists were trying to merge\n",
    "    L = [S[p]] if p == q else S[p:q+1] \n",
    "    R = [S[q+1]] if q+1 == r else S[q+1:r+1]\n",
    "    # trick to simplify the merge\n",
    "    # if we append both with infinity, if one list ends \n",
    "    # the other will be appended without any logic change \n",
    "    L.append(float(\"inf\"))\n",
    "    R.append(float(\"inf\"))\n",
    "    i = 0 # L index\n",
    "    j = 0 # R index\n",
    "    # k is the index in the top level list we're replacing\n",
    "    for k in range(p, r+1):\n",
    "        if L[i] <= R[j]:\n",
    "            S[k] = L[i]\n",
    "            i += 1\n",
    "        else:\n",
    "            S[k] = R[j]\n",
    "            j += 1\n",
    "\n",
    "def mergesort(S, p = None, r = None):\n",
    "    if p == None:\n",
    "        p = 0\n",
    "    if r == None:\n",
    "        r = len(S)-1\n",
    "    if p < r:\n",
    "        # S is the list, p-r is the sub-array index to sort\n",
    "        q = math.floor((p+r)/2) # midpoint\n",
    "        # sort these two sub-arrays\n",
    "        mergesort(S, p, q)\n",
    "        mergesort(S, q + 1, r)\n",
    "        mergesort_merge(S, p, q, r)\n",
    "    else:\n",
    "        # a single item is already sorted - do nothing\n",
    "        pass"
   ]
  },
  {
   "attachments": {},
   "cell_type": "markdown",
   "metadata": {},
   "source": [
    "## Heapsort"
   ]
  },
  {
   "cell_type": "code",
   "execution_count": 7,
   "metadata": {},
   "outputs": [],
   "source": [
    "def max_heapify(A, heap_size, i):\n",
    "    \"\"\" recursive violation solver for a max heap A\"\"\"\n",
    "    def left_child(i):\n",
    "        return 2*i + 1\n",
    "\n",
    "    def right_child(i):\n",
    "        return 2*i + 2\n",
    "    \n",
    "    left = left_child(i)\n",
    "    right = right_child(i)\n",
    "    max_i = i\n",
    "\n",
    "    if left < heap_size and A[left] > A[max_i]:\n",
    "        max_i = left\n",
    "    if right < heap_size and A[right] > A[max_i]:\n",
    "        max_i = right\n",
    "    if max_i != i:\n",
    "        A[i], A[max_i] = A[max_i], A[i]\n",
    "        max_heapify(A, heap_size, max_i)\n",
    "\n",
    "def build_mh(A):\n",
    "    size = len(A)\n",
    "    for i in range(size//2 - 1, -1, -1):\n",
    "        max_heapify(A, size, i)\n",
    "    return A\n",
    "\n",
    "def heapsort(A): # Floyd\n",
    "    build_mh(A)\n",
    "    heap_size = len(A)\n",
    "    while heap_size > 1:\n",
    "        A[heap_size - 1], A[0] = A[0], A[heap_size - 1]\n",
    "        heap_size -= 1\n",
    "        max_heapify(A, heap_size, 0)"
   ]
  },
  {
   "attachments": {},
   "cell_type": "markdown",
   "metadata": {},
   "source": [
    "## Quicksort"
   ]
  },
  {
   "cell_type": "code",
   "execution_count": 8,
   "metadata": {},
   "outputs": [],
   "source": [
    "def partition(A, low, high):\n",
    "    return lomuto(A, low, high)\n",
    "\n",
    "def lomuto(A, low, high):\n",
    "    pv = high\n",
    "    pv_val = A[pv]\n",
    "    x = low # pivot position\n",
    "\n",
    "    for j in range(low, high):\n",
    "        if A[j] < pv_val:\n",
    "            A[x], A[j] = A[j], A[x]\n",
    "            x = x +1\n",
    "    A[x], A[pv] = A[pv], A[x]\n",
    "    return x\n",
    "\n",
    "def quicksort(A, low = None, high = None):\n",
    "    if low is None:\n",
    "        low = 0\n",
    "    if high is None:\n",
    "        high = len(A)-1\n",
    "\n",
    "    if low < high:\n",
    "        pivot = partition(A, low, high)\n",
    "        quicksort(A, low, pivot-1)  #LSA\n",
    "        quicksort(A, pivot+1, high) #RSA"
   ]
  },
  {
   "attachments": {},
   "cell_type": "markdown",
   "metadata": {},
   "source": [
    "## Counting Sort\n"
   ]
  },
  {
   "cell_type": "code",
   "execution_count": 9,
   "metadata": {},
   "outputs": [],
   "source": [
    "def counting_sort(A, k = None):\n",
    "    if k is None:\n",
    "        k = max(A) + 1\n",
    "\n",
    "    n = len(A)\n",
    "    counts = [0 for x in range(k)]\n",
    "    output = [0 for x in range(n)]\n",
    "\n",
    "    for key in A:\n",
    "        counts[key] += 1\n",
    "    print(f\"Counts: {counts}\")\n",
    "    for i in range(1, k):\n",
    "        counts[i] += counts[i - 1]\n",
    "    print(f\"Running: {counts}\")\n",
    "    for key in reversed(A):\n",
    "        output[counts[key]-1] = key\n",
    "        counts[key] = counts[key] - 1\n",
    "    return output"
   ]
  },
  {
   "attachments": {},
   "cell_type": "markdown",
   "metadata": {},
   "source": [
    "## LSD Radix Sort"
   ]
  },
  {
   "cell_type": "code",
   "execution_count": 10,
   "metadata": {},
   "outputs": [],
   "source": [
    "def stable_sort(A, k, dp):\n",
    "\n",
    "    def gd(num, n): # 0 -> LSD\n",
    "        return num // 10**n % 10\n",
    "\n",
    "    # use counting sort as a stable sort\n",
    "    n = len(A)\n",
    "    counts = [0 for x in range(k)]\n",
    "    output = [0 for x in range(n)]\n",
    "\n",
    "    for key in A:\n",
    "        counts[gd(key, dp)] += 1\n",
    "\n",
    "    for i in range(1, k):\n",
    "        counts[i] += counts[i - 1]\n",
    "\n",
    "    for key in reversed(A):\n",
    "        output[counts[gd(key, dp)]-1] = key\n",
    "        counts[gd(key, dp)] = counts[gd(key, dp)] - 1\n",
    "    return output\n",
    "\n",
    "def LSD_radix_sort(A, d, k):\n",
    "    for digit_pos in range(d):\n",
    "        A = stable_sort(A, k, digit_pos)\n",
    "    return A"
   ]
  },
  {
   "attachments": {},
   "cell_type": "markdown",
   "metadata": {},
   "source": [
    "## Bucket Sort"
   ]
  },
  {
   "cell_type": "code",
   "execution_count": 11,
   "metadata": {},
   "outputs": [],
   "source": [
    "def bucket_sort(A):\n",
    "    num_buckets = len(A)\n",
    "    buckets = [[] for _ in range(num_buckets)]\n",
    "\n",
    "    for key in A: # Scatter\n",
    "        buckets[int(num_buckets * key)].append(key)\n",
    "    for bucket in buckets:\n",
    "        insertion_sort(bucket)\n",
    "    return [x for bucket in buckets for x in bucket] # gather"
   ]
  }
 ],
 "metadata": {
  "kernelspec": {
   "display_name": "Python 3",
   "language": "python",
   "name": "python3"
  },
  "language_info": {
   "codemirror_mode": {
    "name": "ipython",
    "version": 3
   },
   "file_extension": ".py",
   "mimetype": "text/x-python",
   "name": "python",
   "nbconvert_exporter": "python",
   "pygments_lexer": "ipython3",
   "version": "3.10.6"
  },
  "orig_nbformat": 4
 },
 "nbformat": 4,
 "nbformat_minor": 2
}
