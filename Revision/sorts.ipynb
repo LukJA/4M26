{
 "cells": [
  {
   "cell_type": "code",
   "execution_count": 7,
   "metadata": {},
   "outputs": [],
   "source": [
    "import math"
   ]
  },
  {
   "attachments": {},
   "cell_type": "markdown",
   "metadata": {},
   "source": [
    "## Complexity\n",
    "\n",
    "| Type | Average | Worst | Storage | Stable? |\n",
    "| -- | -- | -- | -- | -- |\n",
    "| Insertion | $\\Theta(n^2)$ | $\\Theta(n^2)$ | $\\Theta(n)$ | Stable |\n",
    "| Merge | $\\Theta(n \\log n)$ | $\\Theta(n \\log n)$ | $\\Theta(n)$ | Stable |\n",
    "| Heap | ~ | $O(n \\log n)$ | $\\Theta(n)$ | ! |\n",
    "| Quick | $\\Theta(n \\log n)$ | $\\Theta(n^2)$ | $\\Theta(n)$ | ! |\n",
    "| Counting | $\\Theta(k + n)$ | $\\Theta(k + n)$ | $\\Theta(n + k)$ + $\\Theta(n)$ | Stable |\n",
    "| Radix | $\\Theta(d(k + n))$ | $\\Theta(d(k + n))$ | $\\Theta(n+k) + \\Theta(dn)$ | Stable (if CS) |\n",
    "| Bucket | $\\Theta(n)$ | $\\Theta(n^2)$ | $\\Theta(n)$ | Stable (if IS) |\n",
    "\n"
   ]
  },
  {
   "attachments": {},
   "cell_type": "markdown",
   "metadata": {},
   "source": [
    "# Comparison Sorts\n",
    "\n",
    "## Insertion Sort\n",
    "\n",
    "| Type | Average | Worst | Storage | Stable? |\n",
    "| -- | -- | -- | -- | -- |\n",
    "| Insertion | $\\Theta(n^2)$ | $\\Theta(n^2)$ | $\\Theta(n)$ | Stable |"
   ]
  },
  {
   "cell_type": "code",
   "execution_count": 8,
   "metadata": {},
   "outputs": [
    {
     "name": "stdout",
     "output_type": "stream",
     "text": [
      "[0, 1, 2, 3, 4, 5]\n"
     ]
    }
   ],
   "source": [
    "def insertion_sort(S: list):\n",
    "    for i in range(1, len(S)):\n",
    "        # loop through key = S[1] -> S[last]\n",
    "        # copy the key we're sorting as we shift items over it\n",
    "        key = S[i]\n",
    "        \n",
    "        # Set k to the top of the sorted region, and descend it\n",
    "        k = i-1\n",
    "        while k >= 0 and S[k] > key:\n",
    "            # Descend backwards through sorted region \n",
    "            # until end or until list item is greater than key\n",
    "\n",
    "            # shift items on each loop to make space for insert \n",
    "            S[k+1] = S[k]\n",
    "            k = k - 1\n",
    "\n",
    "        # We've descended the list to the position where the item needs to go \n",
    "        # S[k] is now <= key hence, put it in the opened spot in front\n",
    "        S[k+1] = key\n",
    "\n",
    "\n",
    "L = [0,5,4,2,3,1]\n",
    "insertion_sort(L)\n",
    "print(L)"
   ]
  },
  {
   "attachments": {},
   "cell_type": "markdown",
   "metadata": {},
   "source": [
    "## Merge Sort\n",
    "\n",
    "| Type | Average | Worst | Storage | Stable? |\n",
    "| -- | -- | -- | -- | -- |\n",
    "| Merge | $\\Theta(n \\log n)$ | $\\Theta(n \\log n)$ | $\\Theta(n)$ | Stable |"
   ]
  },
  {
   "cell_type": "code",
   "execution_count": 9,
   "metadata": {},
   "outputs": [
    {
     "name": "stdout",
     "output_type": "stream",
     "text": [
      "[0, 1, 2, 3, 4, 5]\n"
     ]
    }
   ],
   "source": [
    "def mergesort_merge(S, p, q, r):\n",
    "    ## extract the two sorted sublists were trying to merge\n",
    "    L = [S[p]] if p == q else S[p:q+1] \n",
    "    R = [S[q+1]] if q+1 == r else S[q+1:r+1]\n",
    "    # trick to simplify the merge\n",
    "    # if we append both with infinity, if one list ends \n",
    "    # the other will be appended without any logic change \n",
    "    L.append(float(\"inf\"))\n",
    "    R.append(float(\"inf\"))\n",
    "    i = 0 # L index\n",
    "    j = 0 # R index\n",
    "    # k is the index in the top level list we're replacing\n",
    "    for k in range(p, r+1):\n",
    "        if L[i] <= R[j]:\n",
    "            S[k] = L[i]\n",
    "            i += 1\n",
    "        else:\n",
    "            S[k] = R[j]\n",
    "            j += 1\n",
    "\n",
    "def mergesort(S, p = None, r = None):\n",
    "    if p == None:\n",
    "        p = 0\n",
    "    if r == None:\n",
    "        r = len(S)-1\n",
    "    if p < r:\n",
    "        # S is the list, p-r is the sub-array index to sort\n",
    "        q = (p + r)//2 # get the midpoint by taking the floored average\n",
    "        # sort these two sub-arrays\n",
    "        mergesort(S, p, q)\n",
    "        mergesort(S, q + 1, r)\n",
    "        mergesort_merge(S, p, q, r)\n",
    "    else:\n",
    "        # a single item is already sorted - do nothing\n",
    "        pass\n",
    "\n",
    "L = [0,5,4,2,3,1]\n",
    "mergesort(L)\n",
    "print(L)"
   ]
  },
  {
   "attachments": {},
   "cell_type": "markdown",
   "metadata": {},
   "source": [
    "## Heapsort\n",
    "\n",
    "| Type | Average | Worst | Storage | Stable? |\n",
    "| -- | -- | -- | -- | -- |\n",
    "| Heap | ~ | $O(n \\log n)$ | $\\Theta(n)$ | ! |"
   ]
  },
  {
   "cell_type": "code",
   "execution_count": 10,
   "metadata": {},
   "outputs": [
    {
     "name": "stdout",
     "output_type": "stream",
     "text": [
      "[0, 1, 2, 3, 4, 5]\n"
     ]
    }
   ],
   "source": [
    "def max_heapify(A, heap_size, i):\n",
    "    def left_child(i):\n",
    "        return 2*i + 1\n",
    "\n",
    "    def right_child(i):\n",
    "        return 2*i + 2\n",
    "    \n",
    "    left = left_child(i)\n",
    "    right = right_child(i)\n",
    "    max_i = i\n",
    "\n",
    "    if left < heap_size and A[left] > A[max_i]:\n",
    "        max_i = left\n",
    "    if right < heap_size and A[right] > A[max_i]:\n",
    "        max_i = right\n",
    "    if max_i != i:\n",
    "        A[i], A[max_i] = A[max_i], A[i]\n",
    "        max_heapify(A, heap_size, max_i)\n",
    "\n",
    "def build_mh(A):\n",
    "    size = len(A)\n",
    "    # call the heap solve on every non-leaf position in ascent\n",
    "    # i.e. from place size//2 - 1 to 0\n",
    "    for i in range(size//2 - 1, -1, -1):\n",
    "        max_heapify(A, size, i)\n",
    "    return A\n",
    "\n",
    "def heapsort(A): # Floyd method\n",
    "    # create a heap from the array\n",
    "    build_mh(A)\n",
    "    heap_size = len(A)\n",
    "\n",
    "    # we progressively 'remove' items by controlling our end pointer, heap_size\n",
    "    while heap_size > 1:\n",
    "        # swap the 'last' and first, as we know the first is the biggest\n",
    "        A[heap_size - 1], A[0] = A[0], A[heap_size - 1]\n",
    "        # decrement as we know we put it in the right place\n",
    "        heap_size -= 1\n",
    "        # we now have a small element at the top - bubble it down\n",
    "        max_heapify(A, heap_size, 0)\n",
    "\n",
    "L = [0,5,4,2,3,1]\n",
    "heapsort(L)\n",
    "print(L)"
   ]
  },
  {
   "attachments": {},
   "cell_type": "markdown",
   "metadata": {},
   "source": [
    "## Quicksort\n",
    "\n",
    "| Type | Average | Worst | Storage | Stable? |\n",
    "| -- | -- | -- | -- | -- |\n",
    "| Quick | $\\Theta(n \\log n)$ | $\\Theta(n^2)$ | $\\Theta(n)$ | ! |\n",
    "\n",
    "Input array $A$ of $n$ keys that has been generated by a stochastic process of the form:\n",
    "$$A(i) = i + \\mu$$\n",
    "where $\\mu$ is random noise drawn from the discrete uniform distribution, $\\mu \\sim \\mathrm{unif}\\{-k, k\\}$, for some $k$, where $k \\ll n$. \n",
    "\n",
    "Implement an in-place variant of the quicksort that should have a worst-case run time of $O(n \\log n)$.\n",
    "\n",
    "> swapping the middle index and the high index values before performing the partition so that the pivot becomes the middle index element\n",
    ">\n",
    "> Since $k < < n$, for most of the recursive calls the split will be sufficiently balanced as the middle element can only be larger than its index by the value of +k and the highest index element can only be smaller than its index by the value of -k. Note, from lecture notes even if seemingly unbalanced splits of 0.995n (left) and 0.005 (right) are used the run time of Quicksort is $O(n\\log n)$. \n",
    "\n",
    "What is the expected run time of the quicksort algorithm if the rank of the pivot selected during each recursion does not depend on the input array size? \n",
    "\n",
    "> The expected run time is $O(n^2)$.  This can be seen by noting that since quicksort is recursive:\n",
    "> $T(n) = T(r - 1) + T(n - r) + \\Theta(n)$\n",
    "> Where the partition is $\\Theta(n)$ and $r$ is the rank of the pivot.<br><br>\n",
    "> \n",
    "> If $r$ is some constant $C$ that is independent of $n$, then this expression becomes:\n",
    "> $T(n) = T(C) + T(n - C) + \\Theta(n)$  <br>\n",
    "> which has solution $\\Theta(n^2)$. \n",
    "\n",
    "What is the expected run time of the quicksort algorithm if the rank of the pivot selected during each recursion is $K \\cdot n$ for some $K$ such that $0 < K < 1$.\n",
    "\n",
    ">The expected run time is $O(n\\log n)$. \n",
    ">$T(n) = T(r - 1) + T(n - r) + \\Theta(n)$.\n",
    ">\n",
    ">This time, we will produce a recursion tree of depth $\\log_{\\frac{1}{K}} n$, and so the >overall complexity is $O(n \\log n)$ (we ignore the change of base in the log since it >falls out as a constant factor).\n",
    "\n",
    "To guarantee o n log n:\n",
    "\n",
    "> Select the pivot using the $O(n)$ \"median of medians\" algorithm \n",
    "> This guarantees that we will get a \"sufficiently good\" median. \n",
    "> the overhead of this algorithm tends to be significantly greater than simpler median selection approaches (such as random selection).  \n"
   ]
  },
  {
   "cell_type": "code",
   "execution_count": 11,
   "metadata": {},
   "outputs": [
    {
     "name": "stdout",
     "output_type": "stream",
     "text": [
      "[0, 1, 2, 3, 4, 5]\n"
     ]
    }
   ],
   "source": [
    "def p_lomuto(A, low, high):\n",
    "    # pivot value is always the high pointer\n",
    "    pv = high\n",
    "    pv_val = A[pv]\n",
    "    x = low # rolling pivot position\n",
    "\n",
    "    # loop over the selected region\n",
    "    for j in range(low, high):\n",
    "        # if the current element is less than the pivot value it should be a left value\n",
    "        # swap it with the item currently at the rolling pivot position (a right value)\n",
    "        # increment the pivot position to save the swap\n",
    "        if A[j] < pv_val:\n",
    "            A[x], A[j] = A[j], A[x]\n",
    "            x = x + 1\n",
    "\n",
    "    # swap the pivot into its correct position\n",
    "    A[x], A[pv] = A[pv], A[x]\n",
    "    return x\n",
    "\n",
    "def quicksort(A, low = None, high = None):\n",
    "    if low is None:\n",
    "        low = 0\n",
    "    if high is None:\n",
    "        high = len(A)-1\n",
    "\n",
    "    if low < high:\n",
    "        # A[low+ high // 2], A[high] = A[high], A[low+ high // 2]  -- select middle item as pivot\n",
    "        pivot = p_lomuto(A, low, high)\n",
    "        quicksort(A, low, pivot-1)  #LSA\n",
    "        quicksort(A, pivot+1, high) #RSA\n",
    "\n",
    "L = [0,5,4,2,3,1]\n",
    "quicksort(L)\n",
    "print(L)"
   ]
  },
  {
   "attachments": {},
   "cell_type": "markdown",
   "metadata": {},
   "source": [
    "# LT Sorts\n",
    "\n",
    "## Counting Sort\n",
    "\n",
    "| Type | Average | Worst | Storage | Stable? |\n",
    "| -- | -- | -- | -- | -- |\n",
    "| Counting | $\\Theta(k + n)$ | $\\Theta(k + n)$ | $\\Theta(n + k)$ + $\\Theta(n)$ | Stable |\n"
   ]
  },
  {
   "cell_type": "code",
   "execution_count": 12,
   "metadata": {},
   "outputs": [
    {
     "name": "stdout",
     "output_type": "stream",
     "text": [
      "[0, 1, 1, 2, 3, 4, 5]\n"
     ]
    }
   ],
   "source": [
    "def counting_sort(A, k = None):\n",
    "    # Not in-place\n",
    "    # we need knowledge of the largest value to sort in the array\n",
    "    if k is None:\n",
    "        k = max(A) + 1\n",
    "\n",
    "    n = len(A)\n",
    "    # counts is a tally that 'count' the items by their index\n",
    "    counts = [0 for x in range(k)]\n",
    "    # output is the final length(A) array to output\n",
    "    output = [0 for x in range(n)]\n",
    "\n",
    "    # generate counts tally\n",
    "    for key in A:\n",
    "        counts[key] += 1\n",
    "    # print(f\"Counts: {counts}\")\n",
    "\n",
    "    # loop over the size of the tally array and\n",
    "    # convert it to a running total of tallys\n",
    "    for i in range(1, k):\n",
    "        counts[i] += counts[i - 1]\n",
    "    # print(f\"Running: {counts}\")\n",
    "\n",
    "    # loop through each value in the original input list backwards\n",
    "    for val in reversed(A):\n",
    "        # the position the value needs to go in is counts[val]-1 (the running tally - 1)\n",
    "        # decrement the tally at that point, to allow repeated values to correctly be placed\n",
    "        # running in reverse allow the sort to be stable for repeated values\n",
    "        output[counts[val]-1] = val\n",
    "        counts[val] = counts[val] - 1\n",
    "    return output\n",
    "\n",
    "L = [0,5,4,2,3,1,1]\n",
    "print(counting_sort(L))\n"
   ]
  },
  {
   "attachments": {},
   "cell_type": "markdown",
   "metadata": {},
   "source": [
    "## LSD Radix Sort\n",
    "\n",
    "| Type | Average | Worst | Storage | Stable? |\n",
    "| -- | -- | -- | -- | -- |\n",
    "| Radix | $\\Theta(d(k + n))$ | $\\Theta(d(k + n))$ | $\\Theta(n+k) + \\Theta(dn)$ | Stable (if CS) |\n",
    "\n",
    "* Assumes all keys have the same length\n",
    "* Used in card-sorting machines\n",
    "* Requires a stable sort"
   ]
  },
  {
   "cell_type": "code",
   "execution_count": 13,
   "metadata": {},
   "outputs": [
    {
     "name": "stdout",
     "output_type": "stream",
     "text": [
      "2\n",
      "dp:0 [201, 111, 612, 632, 314]\n",
      "dp:1 [201, 111, 612, 314, 632]\n",
      "dp:2 [111, 201, 314, 612, 632]\n"
     ]
    }
   ],
   "source": [
    "def gd(num, n): # 0 -> LSD\n",
    "        return num // 10**n % 10\n",
    "\n",
    "def stable_sort(A, k, dp):\n",
    "    # use a modified counting sort as a stable sort\n",
    "    # we replace all uses of key with gd(key, dp), apart from final assignment\n",
    "    n = len(A)\n",
    "    counts = [0 for x in range(k)]\n",
    "    output = [0 for x in range(n)]\n",
    "\n",
    "    for key in A:\n",
    "        counts[gd(key, dp)] += 1\n",
    "\n",
    "    for i in range(1, k):\n",
    "        counts[i] += counts[i - 1]\n",
    "\n",
    "    for key in reversed(A):\n",
    "        output[counts[gd(key, dp)]-1] = key\n",
    "        counts[gd(key, dp)] = counts[gd(key, dp)] - 1\n",
    "    return output\n",
    "\n",
    "def LSD_radix_sort(A, d, k):\n",
    "    # repeatedly sort via digit starting from 0\n",
    "    # stable sort allows this to work, essentially a hierarchial sort\n",
    "    for digit_pos in range(d):\n",
    "        A = stable_sort(A, k, digit_pos)\n",
    "        print(f\"dp:{digit_pos} {A}\")\n",
    "    return A\n",
    "\n",
    "print(gd(543210, 2)) # gets the indexed digit from a number\n",
    "A = [314, 612, 632, 201, 111]\n",
    "A = LSD_radix_sort(A, d=3, k=10)"
   ]
  },
  {
   "attachments": {},
   "cell_type": "markdown",
   "metadata": {},
   "source": [
    "## Bucket Sort\n",
    "\n",
    "| Type | Average | Worst | Storage | Stable? |\n",
    "| -- | -- | -- | -- | -- |\n",
    "| Bucket | $\\Theta(n)$ | $\\Theta(n^2)$ | $\\Theta(n)$ | Stable (if IS) |\n",
    "\n",
    "When the data distribution is *known*, achieves **average case** $\\Theta(n)$.\n",
    "\n",
    "Three stages:\n",
    "1. **Scatter** - distribute keys to buckets\n",
    "2. **Sort** - sort the keys within buckets\n",
    "3. **Gather** - gather the sorted keys in order\n",
    "\n",
    "Assuming uniformly distributed keys, $n$ keys and $b$ buckets, where $b \\approx n$ :\n",
    "\n",
    "Average Case $\\rightarrow \\Theta(n + \\frac{n^2}{b} + b) \\rightarrow \\Theta(n)$\n",
    "\n",
    "Worst Case $\\rightarrow \\Theta(n^2 + b)$ $b$ -> 1\n",
    "\n",
    "Storage $\\rightarrow \\Theta(n)$\n",
    "\n",
    "### RTA\n",
    "\n",
    "**Scatter** + **Gather** involve basic for loops and are $\\Theta(n)$.\n",
    "\n",
    "Remaining costs arises from `insertion_sort` being called on $n$ buckets.\n",
    "\n",
    "Let $m_i$ denote the number of keys in bucket $i$ where $\\sum_i m_i = n$\n",
    "\n",
    "$m_i$ has a binomial distribution $\\text{bin}(n, p)$ where P(bucket $i$) = $p = 1/n$\n",
    "\n",
    "Cost of $n$ insertion sorts is $\\sum_i O(m_i^2)$\n",
    "\n",
    "Taking the expectation over the key distribution $\\mathbb{E} \\left[ \\sum_i O(m_i^2) \\right] = \\sum_i \\mathbb{E}[O(m_i^2)] $\n",
    "\n",
    "$\\mathbb{E}[m_i^2] = Var[m_i] + \\mathbb{E}^2[m_i] = 2 - 1/n$ \n",
    "\n",
    "Expected cost of $n$ insertion sorts: $\\sum_i O(2 - 1/n) = O(n)$\n",
    "\n",
    "Hence Average case bucket sort is $\\Theta(n)$, Worst case (1 bucket insertion sort of n) is $\\Theta(n^2)$"
   ]
  },
  {
   "cell_type": "code",
   "execution_count": 20,
   "metadata": {},
   "outputs": [
    {
     "name": "stdout",
     "output_type": "stream",
     "text": [
      "[0, 1, 1, 2, 3, 4, 5, 10]\n"
     ]
    }
   ],
   "source": [
    "def bucket_sort(A, dec = True):\n",
    "    # requires decimalization of elements\n",
    "    if dec:\n",
    "        scale = 10 ** (math.ceil(math.log10(max(A)))) + 1\n",
    "        for i in range(len(A)):\n",
    "            A[i] /= scale\n",
    "\n",
    "    # create one bucket per element\n",
    "    num_buckets = len(A)\n",
    "    buckets = [[] for _ in range(num_buckets)]\n",
    "\n",
    "    # scatter each item into a bucket\n",
    "    # here they are linearly distributed by int(num_buckets * key)\n",
    "    for key in A:\n",
    "        buckets[int(num_buckets * key)].append(key)\n",
    "\n",
    "    # sort each bucket by insertion sort\n",
    "    for bucket in buckets:\n",
    "        insertion_sort(bucket)\n",
    "\n",
    "    # basic list comprehension of buckets in order\n",
    "    if dec:\n",
    "        return [int(x*scale) for bucket in buckets for x in bucket] # gather\n",
    "    return [x for bucket in buckets for x in bucket] # gather\n",
    "\n",
    "\n",
    "L = [0,5,4,2,3,1,1, 10]\n",
    "print(bucket_sort(L))"
   ]
  }
 ],
 "metadata": {
  "kernelspec": {
   "display_name": "Python 3",
   "language": "python",
   "name": "python3"
  },
  "language_info": {
   "codemirror_mode": {
    "name": "ipython",
    "version": 3
   },
   "file_extension": ".py",
   "mimetype": "text/x-python",
   "name": "python",
   "nbconvert_exporter": "python",
   "pygments_lexer": "ipython3",
   "version": "3.10.6"
  },
  "orig_nbformat": 4
 },
 "nbformat": 4,
 "nbformat_minor": 2
}
