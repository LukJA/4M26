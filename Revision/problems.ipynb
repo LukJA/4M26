{
 "cells": [
  {
   "attachments": {},
   "cell_type": "markdown",
   "metadata": {},
   "source": [
    "### Max Sub-Array - Greedy\n",
    "\n",
    "Given an integer array, $A$, write the function **maximum_subarray**$(A)$ to find the continuous subarray with the largest sum"
   ]
  },
  {
   "cell_type": "code",
   "execution_count": 5,
   "metadata": {},
   "outputs": [
    {
     "name": "stdout",
     "output_type": "stream",
     "text": [
      "15\n"
     ]
    }
   ],
   "source": [
    "def maximum_subarray(A):\n",
    "    \n",
    "    max_local_sum = 0\n",
    "    max_sum= -float('inf')\n",
    "    \n",
    "    for i in range(len(A)):\n",
    "        # select whatever is larger, starting from scratch or appending\n",
    "        max_local_sum = max(A[i],A[i]+max_local_sum)\n",
    "        if max_local_sum > max_sum:\n",
    "            max_sum = max_local_sum\n",
    "            \n",
    "    return max_sum\n",
    "\n",
    "input_value = [-3,14,-5,-8,7,7,-20]\n",
    "print (maximum_subarray(input_value))"
   ]
  },
  {
   "attachments": {},
   "cell_type": "markdown",
   "metadata": {},
   "source": [
    "### Array Replacement - Greedy\n",
    "\n",
    "You are given a 0-indexed integer array $A$. In one operation you can replace any element of the array with any two elements that sum to it. <br>\n",
    "\n",
    "Write the function, **replacement**($A)$, to return the minimum number of operations to make an array that is sorted in non-decreasing order."
   ]
  },
  {
   "cell_type": "code",
   "execution_count": 6,
   "metadata": {},
   "outputs": [
    {
     "name": "stdout",
     "output_type": "stream",
     "text": [
      "2 \n",
      "\n"
     ]
    }
   ],
   "source": [
    "def replacement(A):\n",
    "    # print(A)\n",
    "    count = 0\n",
    "    min_val =  A[-1] # the last element\n",
    "    n = len(A)\n",
    "\n",
    "    # loop over array\n",
    "    for i in range(1,n):\n",
    "        #Traversing elements in reversed order\n",
    "        val = A[n-i-1] \n",
    "        # print(f\"check {val}\")\n",
    "        #If larger than the value of the previous smallest element, min_val\n",
    "        if val > min_val:  \n",
    "            # split the current element into uniform chunks no larger than min_val\n",
    "            times = (val + min_val - 1) // min_val \n",
    "            # print(f\"CALC: v-{val} mv-{min_val} times-{times}\")\n",
    "            \n",
    "            # update the value of the smallest element \n",
    "            # Calculate the smallest element produced by the optimal split above\n",
    "            min_val = val // times \n",
    "            \n",
    "            #and count the number of time a split operation has to be performed\n",
    "            # print(f\"split {times}, new mv: {min_val}\")\n",
    "            count += times - 1 #\n",
    "            \n",
    "        else:\n",
    "            #otherwise, simply update the value of the smallest element seen so far.\n",
    "            # print(f\"OK {val}\")\n",
    "            min_val = val \n",
    "    \n",
    "    return count\n",
    "\n",
    "input_value = [1,3,5,4]\n",
    "print (replacement(input_value), \"\\n\")"
   ]
  },
  {
   "attachments": {},
   "cell_type": "markdown",
   "metadata": {},
   "source": [
    "### Coin Game - Recursive Search\n",
    "\n",
    "Consider a row of $n$ coins of values, $v=\\left[v_0,\\cdots,v_{n-1}\\right]$, where $n$ is even. Two players make alternating turns. In each turn, a player selects either the first or last coin from the row, removes it from the row permanently, and receives the value of the coin. Write the function **coin_game**($v$) to determine the maximum possible amount of money that a player who makes the first move can win. Both players play optimally."
   ]
  },
  {
   "cell_type": "code",
   "execution_count": 8,
   "metadata": {},
   "outputs": [
    {
     "name": "stdout",
     "output_type": "stream",
     "text": [
      "26\n"
     ]
    }
   ],
   "source": [
    "def coin_game(v):\n",
    "    # run a brute force recursive optimization\n",
    "    return my_turn(v)[0]\n",
    "    \n",
    "\n",
    "def my_turn(v):\n",
    "    if not v:\n",
    "        return 0, 0\n",
    "   # print(f\"My turn with {v}\")\n",
    "    # choose the best outcome of taking either left or right\n",
    "    myscore_f, theirscore_f = their_turn(v[1:])\n",
    "    myscore_b, theirscore_b = their_turn(v[:-1])\n",
    "\n",
    "    myscore_f += v[0]\n",
    "    myscore_b += v[-1]\n",
    "\n",
    "    if myscore_f > myscore_b:\n",
    "        return myscore_f, theirscore_f\n",
    "    else:\n",
    "        return myscore_b, theirscore_b\n",
    "        \n",
    "def their_turn(v):\n",
    "    if not v:\n",
    "        return 0, 0\n",
    "    #print(f\"Their turn with {v}\")\n",
    "    # choose the best outcome of taking either left or right\n",
    "    myscore_f, theirscore_f = my_turn(v[1:])\n",
    "    myscore_b, theirscore_b = my_turn(v[:-1])\n",
    "\n",
    "    theirscore_f += v[0]\n",
    "    theirscore_b += v[-1]\n",
    "\n",
    "    if theirscore_f > theirscore_b:\n",
    "        return myscore_f, theirscore_f\n",
    "    else:\n",
    "        return myscore_b, theirscore_b\n",
    "\n",
    "input_value = [6, 3, 15, 20]\n",
    "print (coin_game(input_value))"
   ]
  },
  {
   "attachments": {},
   "cell_type": "markdown",
   "metadata": {},
   "source": [
    "### Fractional Knapsack - Greedy"
   ]
  },
  {
   "cell_type": "code",
   "execution_count": 7,
   "metadata": {},
   "outputs": [
    {
     "name": "stdout",
     "output_type": "stream",
     "text": [
      "[(6.0, 1, 6, 4), (4.0, 2, 8, 2), (2.2, 10, 22, 0), (2.0, 3, 6, 1), (0.75, 8, 6, 3)]\n",
      "29.400000000000002\n"
     ]
    }
   ],
   "source": [
    "def fractional_knapsack(L):\n",
    "    W = L[0]\n",
    "    w = L[1]\n",
    "    v = L[2]\n",
    "    # Write your code here\n",
    "    # Greedy Algorithm\n",
    "    q = []\n",
    "    for i in range(len(w)):\n",
    "        q.append((v[i]/w[i], w[i], v[i], i))\n",
    "    q = sorted(q)\n",
    "    q.reverse()\n",
    "    print(q)\n",
    "\n",
    "    x = 0\n",
    "    # sorted by optimal ci\n",
    "    for ci, wi, vi, j in q:\n",
    "        if wi <= W:\n",
    "            W -= wi\n",
    "            x += vi\n",
    "        elif wi > W:\n",
    "            x += ci * W\n",
    "            break\n",
    "        if W == 0:\n",
    "            break\n",
    "\n",
    "    return x\n",
    "\n",
    "    \n",
    "input_value = [10,[10,3,2,8,1],[22,6,8,6,6]]\n",
    "print (fractional_knapsack(input_value))"
   ]
  },
  {
   "attachments": {},
   "cell_type": "markdown",
   "metadata": {},
   "source": [
    "### Valued Activity Selection - Greedy\n",
    "\n",
    "In this refined activity selection problem, we wish to select a maximum-value subset of mutually compatible activities. Write a polynomial-time algorithm to this problem. The function, **activity_selection**($A$), takes in a list of list, $A$, such that $A[i][0]=s_i$, $A[i][1]=f_i$, $A[i][2]=v_i$.\n"
   ]
  },
  {
   "cell_type": "code",
   "execution_count": null,
   "metadata": {},
   "outputs": [],
   "source": [
    "def activity_value(A):\n",
    "    # Add an activity that is compatible with all others, but adds no value\n",
    "    # we can use it as a softmax function...\n",
    "    A.append([float('inf'), float('inf'), 0])\n",
    "\n",
    "    #Sorting the array of list in increasing finish time order.\n",
    "    A = sorted(A, key=lambda x: x[1]) \n",
    "\n",
    "    # maximum final value possible to be obtained, S[i], considering those up to i.\n",
    "    S =[0 for i in range(len(A))] \n",
    "\n",
    "    for activity_index in range(len(A)):\n",
    "        # print(f\"Looking At A[{activity_index}] = {A[activity_index]}\")\n",
    "        ## on its own:\n",
    "        S[activity_index] = max(S[activity_index], A[activity_index][2])\n",
    "        # with each other max so far:\n",
    "        for k in range(0, activity_index):\n",
    "            if compatible(A[k], A[activity_index]):\n",
    "                # print(f\"{activity_index} and {k} compatible\")\n",
    "                # print(f\"prev: {S[activity_index]}, could get: {S[k] + A[activity_index][2]}\")\n",
    "                S[activity_index] = max(S[activity_index], S[k] + A[activity_index][2])\n",
    "\n",
    "    print(S)\n",
    "    return S[-1]\n",
    "\n",
    "input_value = [[0,11,1],[2,6,1],[4,7,1],[5,10,1],[7,11,1],[10,13,1],[12,14,1]]\n",
    "print (activity_value(input_value))"
   ]
  }
 ],
 "metadata": {
  "kernelspec": {
   "display_name": "Python 3",
   "language": "python",
   "name": "python3"
  },
  "language_info": {
   "codemirror_mode": {
    "name": "ipython",
    "version": 3
   },
   "file_extension": ".py",
   "mimetype": "text/x-python",
   "name": "python",
   "nbconvert_exporter": "python",
   "pygments_lexer": "ipython3",
   "version": "3.10.6"
  },
  "orig_nbformat": 4
 },
 "nbformat": 4,
 "nbformat_minor": 2
}
