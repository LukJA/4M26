{
 "cells": [
  {
   "attachments": {},
   "cell_type": "markdown",
   "metadata": {},
   "source": [
    "### Max Sub-Array - Greedy\n",
    "\n",
    "Given an integer array, $A$, write the function **maximum_subarray**$(A)$ to find the continuous subarray with the largest sum"
   ]
  },
  {
   "cell_type": "code",
   "execution_count": 1,
   "metadata": {},
   "outputs": [
    {
     "name": "stdout",
     "output_type": "stream",
     "text": [
      "15\n"
     ]
    }
   ],
   "source": [
    "def maximum_subarray(A):\n",
    "    \n",
    "    max_local_sum = 0\n",
    "    max_sum= -float('inf')\n",
    "    \n",
    "    for i in range(len(A)):\n",
    "        # select whatever is larger, starting from scratch or appending\n",
    "        max_local_sum = max(A[i],A[i]+max_local_sum)\n",
    "        if max_local_sum > max_sum:\n",
    "            max_sum = max_local_sum\n",
    "            \n",
    "    return max_sum\n",
    "\n",
    "input_value = [-3,14,-5,-8,7,7,-20]\n",
    "print (maximum_subarray(input_value))"
   ]
  },
  {
   "attachments": {},
   "cell_type": "markdown",
   "metadata": {},
   "source": [
    "### Array Replacement - Greedy\n",
    "\n",
    "You are given a 0-indexed integer array $A$. In one operation you can replace any element of the array with any two elements that sum to it. <br>\n",
    "\n",
    "Write the function, **replacement**($A)$, to return the minimum number of operations to make an array that is sorted in non-decreasing order."
   ]
  },
  {
   "cell_type": "code",
   "execution_count": 6,
   "metadata": {},
   "outputs": [
    {
     "name": "stdout",
     "output_type": "stream",
     "text": [
      "2 \n",
      "\n"
     ]
    }
   ],
   "source": [
    "def replacement(A):\n",
    "    # print(A)\n",
    "    count = 0\n",
    "    min_val =  A[-1] # the last element\n",
    "    n = len(A)\n",
    "\n",
    "    # loop over array\n",
    "    for i in range(1,n):\n",
    "        #Traversing elements in reversed order\n",
    "        val = A[n-i-1] \n",
    "        # print(f\"check {val}\")\n",
    "        #If larger than the value of the previous smallest element, min_val\n",
    "        if val > min_val:  \n",
    "            # split the current element into uniform chunks no larger than min_val\n",
    "            times = (val + min_val - 1) // min_val \n",
    "            # print(f\"CALC: v-{val} mv-{min_val} times-{times}\")\n",
    "            \n",
    "            # update the value of the smallest element \n",
    "            # Calculate the smallest element produced by the optimal split above\n",
    "            min_val = val // times \n",
    "            \n",
    "            #and count the number of time a split operation has to be performed\n",
    "            # print(f\"split {times}, new mv: {min_val}\")\n",
    "            count += times - 1 #\n",
    "            \n",
    "        else:\n",
    "            #otherwise, simply update the value of the smallest element seen so far.\n",
    "            # print(f\"OK {val}\")\n",
    "            min_val = val \n",
    "    \n",
    "    return count\n",
    "\n",
    "input_value = [1,3,5,4]\n",
    "print (replacement(input_value), \"\\n\")"
   ]
  },
  {
   "attachments": {},
   "cell_type": "markdown",
   "metadata": {},
   "source": [
    "### Coin Game - Recursive Search\n",
    "\n",
    "Consider a row of $n$ coins of values, $v=\\left[v_0,\\cdots,v_{n-1}\\right]$, where $n$ is even. Two players make alternating turns. In each turn, a player selects either the first or last coin from the row, removes it from the row permanently, and receives the value of the coin. Write the function **coin_game**($v$) to determine the maximum possible amount of money that a player who makes the first move can win. Both players play optimally."
   ]
  },
  {
   "cell_type": "code",
   "execution_count": 8,
   "metadata": {},
   "outputs": [
    {
     "name": "stdout",
     "output_type": "stream",
     "text": [
      "26\n"
     ]
    }
   ],
   "source": [
    "def coin_game(v):\n",
    "    # run a brute force recursive optimization\n",
    "    return my_turn(v)[0]\n",
    "    \n",
    "\n",
    "def my_turn(v):\n",
    "    if not v:\n",
    "        return 0, 0\n",
    "   # print(f\"My turn with {v}\")\n",
    "    # choose the best outcome of taking either left or right\n",
    "    myscore_f, theirscore_f = their_turn(v[1:])\n",
    "    myscore_b, theirscore_b = their_turn(v[:-1])\n",
    "\n",
    "    myscore_f += v[0]\n",
    "    myscore_b += v[-1]\n",
    "\n",
    "    if myscore_f > myscore_b:\n",
    "        return myscore_f, theirscore_f\n",
    "    else:\n",
    "        return myscore_b, theirscore_b\n",
    "        \n",
    "def their_turn(v):\n",
    "    if not v:\n",
    "        return 0, 0\n",
    "    #print(f\"Their turn with {v}\")\n",
    "    # choose the best outcome of taking either left or right\n",
    "    myscore_f, theirscore_f = my_turn(v[1:])\n",
    "    myscore_b, theirscore_b = my_turn(v[:-1])\n",
    "\n",
    "    theirscore_f += v[0]\n",
    "    theirscore_b += v[-1]\n",
    "\n",
    "    if theirscore_f > theirscore_b:\n",
    "        return myscore_f, theirscore_f\n",
    "    else:\n",
    "        return myscore_b, theirscore_b\n",
    "\n",
    "input_value = [6, 3, 15, 20]\n",
    "print (coin_game(input_value))"
   ]
  },
  {
   "attachments": {},
   "cell_type": "markdown",
   "metadata": {},
   "source": [
    "### Fractional Knapsack - Greedy"
   ]
  },
  {
   "cell_type": "code",
   "execution_count": 7,
   "metadata": {},
   "outputs": [
    {
     "name": "stdout",
     "output_type": "stream",
     "text": [
      "[(6.0, 1, 6, 4), (4.0, 2, 8, 2), (2.2, 10, 22, 0), (2.0, 3, 6, 1), (0.75, 8, 6, 3)]\n",
      "29.400000000000002\n"
     ]
    }
   ],
   "source": [
    "def fractional_knapsack(L):\n",
    "    W = L[0]\n",
    "    w = L[1]\n",
    "    v = L[2]\n",
    "    # Write your code here\n",
    "    # Greedy Algorithm\n",
    "    q = []\n",
    "    for i in range(len(w)):\n",
    "        q.append((v[i]/w[i], w[i], v[i], i))\n",
    "    q = sorted(q)\n",
    "    q.reverse()\n",
    "    print(q)\n",
    "\n",
    "    x = 0\n",
    "    # sorted by optimal ci\n",
    "    for ci, wi, vi, j in q:\n",
    "        if wi <= W:\n",
    "            W -= wi\n",
    "            x += vi\n",
    "        elif wi > W:\n",
    "            x += ci * W\n",
    "            break\n",
    "        if W == 0:\n",
    "            break\n",
    "\n",
    "    return x\n",
    "\n",
    "    \n",
    "input_value = [10,[10,3,2,8,1],[22,6,8,6,6]]\n",
    "print (fractional_knapsack(input_value))"
   ]
  },
  {
   "attachments": {},
   "cell_type": "markdown",
   "metadata": {},
   "source": [
    "### Valued Activity Selection - Greedy\n",
    "\n",
    "In this refined activity selection problem, we wish to select a maximum-value subset of mutually compatible activities. Write a polynomial-time algorithm to this problem. The function, **activity_selection**($A$), takes in a list of list, $A$, such that $A[i][0]=s_i$, $A[i][1]=f_i$, $A[i][2]=v_i$.\n"
   ]
  },
  {
   "cell_type": "code",
   "execution_count": null,
   "metadata": {},
   "outputs": [],
   "source": [
    "def activity_value(A):\n",
    "    # Add an activity that is compatible with all others, but adds no value\n",
    "    # we can use it as a softmax function...\n",
    "    A.append([float('inf'), float('inf'), 0])\n",
    "\n",
    "    #Sorting the array of list in increasing finish time order.\n",
    "    A = sorted(A, key=lambda x: x[1]) \n",
    "\n",
    "    # maximum final value possible to be obtained, S[i], considering those up to i.\n",
    "    S =[0 for i in range(len(A))] \n",
    "\n",
    "    for activity_index in range(len(A)):\n",
    "        # print(f\"Looking At A[{activity_index}] = {A[activity_index]}\")\n",
    "        ## on its own:\n",
    "        S[activity_index] = max(S[activity_index], A[activity_index][2])\n",
    "        # with each other max so far:\n",
    "        for k in range(0, activity_index):\n",
    "            if compatible(A[k], A[activity_index]):\n",
    "                # print(f\"{activity_index} and {k} compatible\")\n",
    "                # print(f\"prev: {S[activity_index]}, could get: {S[k] + A[activity_index][2]}\")\n",
    "                S[activity_index] = max(S[activity_index], S[k] + A[activity_index][2])\n",
    "\n",
    "    print(S)\n",
    "    return S[-1]\n",
    "\n",
    "input_value = [[0,11,1],[2,6,1],[4,7,1],[5,10,1],[7,11,1],[10,13,1],[12,14,1]]\n",
    "print (activity_value(input_value))"
   ]
  },
  {
   "attachments": {},
   "cell_type": "markdown",
   "metadata": {},
   "source": [
    "## 01 Knapsack - Recursive or Dynamic"
   ]
  },
  {
   "cell_type": "code",
   "execution_count": 2,
   "metadata": {},
   "outputs": [
    {
     "name": "stdout",
     "output_type": "stream",
     "text": [
      "Optimal Value: 14\n",
      "14\n",
      "For allowed weight of:    [0, 1, 2, 3, 4, 5, 6, 7, 8, 9, 10]\n",
      "Value using items: 0->0 - [0, 2, 2, 2, 2, 2, 2, 2, 2, 2, 2]\n",
      "Value using items: 0->1 - [0, 2, 2, 4, 6, 6, 6, 6, 6, 6, 6]\n",
      "Value using items: 0->2 - [0, 2, 2, 4, 6, 6, 6, 6, 7, 7, 7]\n",
      "Value using items: 0->3 - [0, 2, 2, 4, 6, 6, 6, 6, 7, 8, 8]\n",
      "Value using items: 0->4 - [0, 6, 8, 8, 10, 12, 12, 12, 12, 13, 14]\n"
     ]
    }
   ],
   "source": [
    "# values v, weights w, max weight W and from position r\n",
    "def knapsack_recursive(v,w,W,r = None):\n",
    "    ## set r to the last element\n",
    "    if r == None:\n",
    "        r = len(w)-1\n",
    "\n",
    "    # if we are allowed to select a new item\n",
    "    # i.e. we have weight left and our current element is > -1\n",
    "    if r >= 0 and W > 0:\n",
    "        # Case 1 - take item at position r\n",
    "        # find best case with remaining options\n",
    "        # request recursion on W-w[r] for r-1\n",
    "        x = knapsack_recursive(v, w, W-w[r], r - 1) + v[r]\n",
    "        # Case 2 - DONT take item at position r\n",
    "        # find best case with remaining options\n",
    "        # keep the weight, loose the value\n",
    "        y = knapsack_recursive(v, w, W, r - 1)\n",
    "\n",
    "        # choose the best subproblem without overdoing the weight\n",
    "        if x > y and W-w[r] >= 0:\n",
    "            #print(x)\n",
    "            return x\n",
    "        else:\n",
    "            #print(y)\n",
    "            return y\n",
    "        \n",
    "    # we've run out of items\n",
    "    return 0\n",
    "\n",
    "W = 10\n",
    "w = [1,3,4,8,1]\n",
    "v = [2,4,1,6,6]\n",
    "\n",
    "print(f\"Optimal Value: {knapsack_recursive(v,w,W)}\")\n",
    "\n",
    "W = 10\n",
    "w = [1,3,4,8,1]\n",
    "v = [2,4,1,6,6]\n",
    "\n",
    "# solution dynamically constructs an optimal table for the best value achieved for items 0->i in weight allowance 0->W\n",
    "# loop through items, first, and then weights\n",
    "\n",
    "def dynamic_knapsack(v, w, W):\n",
    "    # S = [[weights] items] => S[item][weight]\n",
    "    S = [[0 for x in range(W+1)] for y in range(len(w))]\n",
    "    # first index is i which is between 0 and n-1 which is allowed items to use\n",
    "    # second index is allowed weight which is between 1 and W\n",
    "\n",
    "    # |item| times loop i from 0\n",
    "    for i in range(0, len(w)):\n",
    "        # W+1 times (i.e. starting with all 0s)\n",
    "        for weight in range(0, W+1):\n",
    "            # if an items weight is less than the current loops allowed \n",
    "            # i.e. it could be used at the current step at all - otherwise we will try and check a -ve weight category\n",
    "            if w[i] <= weight:\n",
    "                # set S[allowed items 0->i for w] = max{}\n",
    "                        # S[allowed items 0->i-1 for w]\n",
    "                        # S[allowed items 0->i-1 for w - weight[i]] + value[i]\n",
    "                # i.e. choose whatever is better \n",
    "                # 1. the value achieved by all items up to i for the given weight\n",
    "                # 2. the value achieved when using item i (in the same allowed weight) by checking a weight category below that allows it \n",
    "                S[i][weight] = max( S[i-1][weight], S[i-1][weight-w[i]] + v[i])\n",
    "            else:\n",
    "            # else, i.e. an items weight is more than the allowed\n",
    "                # set S[allowed items 0-i for w] = S[allowed items 0-i-1 for w] \n",
    "                # i.e. this item doesn't add anything, so effectively ignore it\n",
    "                 S[i][weight] = S[i-1][weight]\n",
    "\n",
    "    return S[len(w)-1][W], S\n",
    "\n",
    "a, Q = dynamic_knapsack(v,w,W)\n",
    "print(a)\n",
    "W = Q[0]\n",
    "print(f\"For allowed weight of:    {[x for x in range(len(W))]}\")\n",
    "for i in range(len(Q)):\n",
    "    print(f\"Value using items: {0}->{i} - {Q[i]}\")"
   ]
  },
  {
   "attachments": {},
   "cell_type": "markdown",
   "metadata": {},
   "source": [
    "## True LCS - Dynamic"
   ]
  },
  {
   "cell_type": "code",
   "execution_count": 1,
   "metadata": {},
   "outputs": [
    {
     "name": "stdout",
     "output_type": "stream",
     "text": [
      "m:abcdefghi:9 n:ndnenf:6\n",
      "     n:   [0, 1, 2, 3, 4, 5, 6] of ndnenf:6\n",
      "m: 0->0 - ['', '', '', '', '', '', '']\n",
      "m: 0->1 - ['', '', '', '', '', '', '']\n",
      "m: 0->2 - ['', '', '', '', '', '', '']\n",
      "m: 0->3 - ['', '', '', '', '', '', '']\n",
      "m: 0->4 - ['', '', 'd', 'd', 'd', 'd', 'd']\n",
      "m: 0->5 - ['', '', 'd', 'd', 'de', 'de', 'de']\n",
      "m: 0->6 - ['', '', 'd', 'd', 'de', 'de', 'def']\n",
      "m: 0->7 - ['', '', 'd', 'd', 'de', 'de', 'def']\n",
      "m: 0->8 - ['', '', 'd', 'd', 'de', 'de', 'def']\n",
      "m: 0->9 - ['', '', 'd', 'd', 'de', 'de', 'def']\n",
      "le2ap 3le2apto l1eaptoleap\n",
      "m: 0->0 - [['', '', '', '', '', '', '', '', '', '', '', ''], ['', '', '', '', '', '', '', '', '', '', '', ''], ['', '', '', '', '', '', '', '', '', '', '', ''], ['', '', '', '', '', '', '', '', '', '', '', ''], ['', '', '', '', '', '', '', '', '', '', '', ''], ['', '', '', '', '', '', '', '', '', '', '', ''], ['', '', '', '', '', '', '', '', '', '', '', ''], ['', '', '', '', '', '', '', '', '', '', '', ''], ['', '', '', '', '', '', '', '', '', '', '', '']]\n",
      "m: 0->1 - [['', '', '', '', '', '', '', '', '', '', '', ''], ['', '', '', '', '', '', '', '', '', '', '', ''], ['', 'l', 'l', 'l', 'l', 'l', 'l', 'l', 'l', 'l', 'l', 'l'], ['', 'l', 'l', 'l', 'l', 'l', 'l', 'l', 'l', 'l', 'l', 'l'], ['', 'l', 'l', 'l', 'l', 'l', 'l', 'l', 'l', 'l', 'l', 'l'], ['', 'l', 'l', 'l', 'l', 'l', 'l', 'l', 'l', 'l', 'l', 'l'], ['', 'l', 'l', 'l', 'l', 'l', 'l', 'l', 'l', 'l', 'l', 'l'], ['', 'l', 'l', 'l', 'l', 'l', 'l', 'l', 'l', 'l', 'l', 'l'], ['', 'l', 'l', 'l', 'l', 'l', 'l', 'l', 'l', 'l', 'l', 'l']]\n",
      "m: 0->2 - [['', '', '', '', '', '', '', '', '', '', '', ''], ['', '', '', '', '', '', '', '', '', '', '', ''], ['', 'l', 'l', 'l', 'l', 'l', 'l', 'l', 'l', 'l', 'l', 'l'], ['', 'l', 'l', 'le', 'le', 'le', 'le', 'le', 'le', 'le', 'le', 'le'], ['', 'l', 'l', 'le', 'le', 'le', 'le', 'le', 'le', 'le', 'le', 'le'], ['', 'l', 'l', 'le', 'le', 'le', 'le', 'le', 'le', 'le', 'le', 'le'], ['', 'l', 'l', 'le', 'le', 'le', 'le', 'le', 'le', 'le', 'le', 'le'], ['', 'l', 'l', 'le', 'le', 'le', 'le', 'le', 'le', 'le', 'le', 'le'], ['', 'l', 'l', 'le', 'le', 'le', 'le', 'le', 'le', 'le', 'le', 'le']]\n",
      "m: 0->3 - [['', '', '', '', '', '', '', '', '', '', '', ''], ['', '', '', '', '', '', '', '', '', '', '', ''], ['', 'l', 'l', 'l', 'l', 'l', 'l', 'l', 'l', 'l', 'l', 'l'], ['', 'l', 'l', 'le', 'le', 'le', 'le', 'le', 'le', 'le', 'le', 'le'], ['', 'l', 'l', 'le', 'le', 'le', 'le', 'le', 'le', 'le', 'le', 'le'], ['', 'l', 'l', 'le', 'le', 'le', 'le', 'le', 'le', 'le', 'le', 'le'], ['', 'l', 'l', 'le', 'le', 'le', 'le', 'le', 'le', 'le', 'le', 'le'], ['', 'l', 'l', 'le', 'le', 'le', 'le', 'le', 'le', 'le', 'le', 'le'], ['', 'l', 'l', 'le', 'le', 'le', 'le', 'le', 'le', 'le', 'le', 'le']]\n",
      "m: 0->4 - [['', '', '', '', '', '', '', '', '', '', '', ''], ['', '', '', '', '', '', '', '', '', '', '', ''], ['', 'l', 'l', 'l', 'l', 'l', 'l', 'l', 'l', 'l', 'l', 'l'], ['', 'l', 'l', 'le', 'le', 'le', 'le', 'le', 'le', 'le', 'le', 'le'], ['', 'l', 'l', 'le', 'le', 'le', 'le', 'le', 'le', 'le', 'le', 'le'], ['', 'l', 'l', 'le', 'lea', 'lea', 'lea', 'lea', 'lea', 'lea', 'lea', 'lea'], ['', 'l', 'l', 'le', 'lea', 'lea', 'lea', 'lea', 'lea', 'lea', 'lea', 'lea'], ['', 'l', 'l', 'le', 'lea', 'lea', 'lea', 'lea', 'lea', 'lea', 'lea', 'lea'], ['', 'l', 'l', 'le', 'lea', 'lea', 'lea', 'lea', 'lea', 'lea', 'lea', 'lea']]\n",
      "m: 0->5 - [['', '', '', '', '', '', '', '', '', '', '', ''], ['', '', '', '', '', '', '', '', '', '', '', ''], ['', 'l', 'l', 'l', 'l', 'l', 'l', 'l', 'l', 'l', 'l', 'l'], ['', 'l', 'l', 'le', 'le', 'le', 'le', 'le', 'le', 'le', 'le', 'le'], ['', 'l', 'l', 'le', 'le', 'le', 'le', 'le', 'le', 'le', 'le', 'le'], ['', 'l', 'l', 'le', 'lea', 'lea', 'lea', 'lea', 'lea', 'lea', 'lea', 'lea'], ['', 'l', 'l', 'le', 'lea', 'leap', 'leap', 'leap', 'leap', 'leap', 'leap', 'leap'], ['', 'l', 'l', 'le', 'lea', 'leap', 'leap', 'leap', 'leap', 'leap', 'leap', 'leap'], ['', 'l', 'l', 'le', 'lea', 'leap', 'leap', 'leap', 'leap', 'leap', 'leap', 'leap']]\n"
     ]
    }
   ],
   "source": [
    "## LCS count dynamic programming solution\n",
    "def d_lcs(A, B):\n",
    "    m, n = len(A), len(B)\n",
    "\n",
    "    # create a LOL length m+1, where the first n+1 sublists contain n+1 zeros\n",
    "    # X is the dynamic output capabilities list where\n",
    "    # X[i][k] - LCS A[:i] B[:k]\n",
    "    X = [ [] for i in range(m+1)]\n",
    "\n",
    "    for i in range(m+1):\n",
    "        X[i] = [\"\" for j in range (n+1)]\n",
    "\n",
    "\n",
    "    for i in range(m): # len(A)\n",
    "        for j in range(n): # len(B)\n",
    "\n",
    "            if A[i] == B[j]: # if the characters are the same\n",
    "                # we can make one more LCS \n",
    "                X[i+1][j+1] = X[i][j] + A[i]\n",
    "            else:\n",
    "                # choose the best so far\n",
    "                if len(X[i][j+1]) > len(X[i+1][j]):\n",
    "                    X[i+1][j+1] = X[i][j+1]\n",
    "                else:\n",
    "                    X[i+1][j+1] = X[i+1][j]\n",
    "\n",
    "    return len(X[m][n]), X\n",
    "\n",
    "x, y = \"abcdefghi\", \"ndnenf\"\n",
    "print(f\"m:{x}:{len(x)} n:{y}:{len(y)}\")\n",
    "v, X = d_lcs(x, y)\n",
    "\n",
    "print(f\"     n:   {[x for x in range(len(X[0]))]} of {y}:{len(y)}\")\n",
    "for i in range(len(X)):\n",
    "    print(f\"m: {0}->{i} - {X[i]}\")\n",
    "\n",
    "    \n",
    "\n",
    "## LCS count dynamic programming solution\n",
    "def threeway_lcs(A, B, C):\n",
    "    m, n, o = len(A), len(B), len(C)\n",
    "\n",
    "    # create a LOL length m+1, where the first n+1 sublists contain n+1 zeros\n",
    "    # C is the output capabilities list where\n",
    "    # C[i][k] - LCS A[:i] B[:k]\n",
    "\n",
    "    X = [ [] for i in range(m+1)]\n",
    "\n",
    "    for i in range(m+1):\n",
    "        X[i] = [ [] for j in range (n+1)]\n",
    "\n",
    "    for i in range(m+1):\n",
    "        for j in range(n+1):\n",
    "            X[i][j] = [ \"\" for j in range (o+1)]\n",
    "\n",
    "\n",
    "    for i in range(m): # len(A)\n",
    "        for j in range(n): # len(B)\n",
    "            for k in range(o): # len(B)\n",
    "\n",
    "                if A[i] == B[j] and B[j] == C[k]: # if the characters are the same\n",
    "                    # we can make one more LCS \n",
    "                    X[i+1][j+1][k+1] = X[i][j][k] + A[i]\n",
    "                else:\n",
    "                    # choose the best so far\n",
    "                    # set default 111=011\n",
    "                    X[i+1][j+1][k+1] = X[i][j+1][k+1]\n",
    "                    # if 101 > 011 by proxy\n",
    "                    # 111 = 101\n",
    "                    if X[i+1][j][k+1] > X[i+1][j+1][k+1]:                        \n",
    "                        X[i+1][j+1][k+1] = X[i+1][j][k+1]\n",
    "                    # if 110 > 011 or 101 by proxy\n",
    "                    # 111 = 110\n",
    "                    if X[i+1][j+1][k] > X[i+1][j+1][k+1]:                        \n",
    "                        X[i+1][j+1][k+1] = X[i+1][j+1][k]\n",
    "\n",
    "    return len(X[m][n][o]), X\n",
    "\n",
    "x, y, z = [\"le2ap\",\"3le2apto\",\"l1eaptoleap\"]\n",
    "print(f\"{x} {y} {z}\")\n",
    "v, X = threeway_lcs(x, y, z)\n",
    "\n",
    "for i in range(len(X)):\n",
    "    print(f\"m: {0}->{i} - {X[i]}\")"
   ]
  }
 ],
 "metadata": {
  "kernelspec": {
   "display_name": "Python 3",
   "language": "python",
   "name": "python3"
  },
  "language_info": {
   "codemirror_mode": {
    "name": "ipython",
    "version": 3
   },
   "file_extension": ".py",
   "mimetype": "text/x-python",
   "name": "python",
   "nbconvert_exporter": "python",
   "pygments_lexer": "ipython3",
   "version": "3.10.6"
  },
  "orig_nbformat": 4
 },
 "nbformat": 4,
 "nbformat_minor": 2
}
