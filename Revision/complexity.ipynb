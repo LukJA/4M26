{
 "cells": [
  {
   "attachments": {},
   "cell_type": "markdown",
   "metadata": {},
   "source": [
    "### Sorts\n",
    "\n",
    "| Type | Average | Worst | Storage | Stable? |\n",
    "| -- | -- | -- | -- | -- |\n",
    "| Insertion | $\\Theta(n^2)$ | $\\Theta(n^2)$ | $\\Theta(n)$ | Stable |\n",
    "| Merge | $\\Theta(n \\log n)$ | $\\Theta(n \\log n)$ | $\\Theta(n)$ | Stable |\n",
    "| Heap | ~ | $O(n \\log n)$ | $\\Theta(n)$ | ! |\n",
    "| Quick | $\\Theta(n \\log n)$ | $\\Theta(n^2)$ | $\\Theta(n)$ | ! |\n",
    "| Counting | $\\Theta(k + n)$ | $\\Theta(k + n)$ | $\\Theta(n + k)$ + $\\Theta(n)$ | Stable |\n",
    "| Radix | $\\Theta(d(k + n))$ | $\\Theta(d(k + n))$ | $\\Theta(n+k) + \\Theta(dn)$ | Stable (if CS) |\n",
    "| Bucket | $\\Theta(n)$ | $\\Theta(n^2)$ | $\\Theta(n)$ | Stable (if IS) |\n"
   ]
  },
  {
   "attachments": {},
   "cell_type": "markdown",
   "metadata": {},
   "source": [
    "### Trees\n",
    "\n",
    "Worst Case:\n",
    "\n",
    "| Type | Min | Max | Search | Insert | Delete | Predescessor |\n",
    "| -- | -- | -- | -- | -- | -- | -- |\n",
    "| BST | $O(h)$ | $O(h)$  | $O(h)$  | $O(h)$  | $O(h)$  | $O(h)$  |\n",
    "| RBT | $O( \\log_2 n)$ | $O(\\log_2 n)$  | $O(\\log_2 n)$  | $O(\\log_2 n)$  | $O(\\log_2 n)$  | $O(\\log_2 n)$  |\n",
    "| BTree | $O(t \\log_t n)$  | $O(t \\log_t n)$  | $O(t \\log_t n)$  | $O(t \\log_t n)$  | $O(t \\log_t n)$   | |\n",
    "| Hash Table | | | $\\Theta(n)$ | $\\Theta(n)$ | $\\Theta(n)$ | |\n",
    "\n",
    "##### For a BST:\n",
    "\n",
    "*Chain:* $h = n - 1$\n",
    "\n",
    "*Perfect Tree:* $h = \\log_2(n + 1) - 1$\n",
    "\n",
    "##### For an RBT:\n",
    "\n",
    "The tree is always approximately balanced with Tree Height $h = \\Theta( \\log_2 n)$.\n",
    "\n",
    "Noting that a perfectly balanced tree has $ n = 2^{h+1} -1 $ nodes implies $ h_{min} \\leq \\log_2 (n + 1) \\therefore h_{min} = \\Theta( \\log_2 n)$.\n",
    "\n",
    "RBTs also feature/require **Rotations**.\n",
    "\n",
    "##### For a Btree:\n",
    "\n",
    "Complexity reduces to $O(\\log_2 n)$ With binary search at each node.\n",
    "\n",
    "##### For a Hash Table\n",
    "\n",
    "The **Average Case** with a low load factor is $O(1)$"
   ]
  },
  {
   "cell_type": "markdown",
   "metadata": {},
   "source": []
  }
 ],
 "metadata": {
  "language_info": {
   "name": "python"
  },
  "orig_nbformat": 4
 },
 "nbformat": 4,
 "nbformat_minor": 2
}
