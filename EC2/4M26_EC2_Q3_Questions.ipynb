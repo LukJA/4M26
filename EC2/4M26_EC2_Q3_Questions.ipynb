{
 "cells": [
  {
   "cell_type": "markdown",
   "metadata": {},
   "source": [
    "<b>CANDIDATE NUMBER:</b>"
   ]
  },
  {
   "attachments": {},
   "cell_type": "markdown",
   "metadata": {},
   "source": [
    "<div style=\"border-width:2px;border-style:solid;border-color:black;padding:20px\">[TO FILL]</div>"
   ]
  },
  {
   "cell_type": "markdown",
   "metadata": {},
   "source": [
    "<hr>\n",
    "Version: IB/1"
   ]
  },
  {
   "cell_type": "markdown",
   "metadata": {},
   "source": [
    "EGT3<br>\n",
    "ENGINEERING TRIPOS PART IIB\n",
    "\n",
    "<br>\n",
    "\n",
    "<hr>\n",
    "<b>Wednesday 1 March 2023 &emsp; 11.25 to 12.15</b>\n",
    "<hr>\n",
    "\n",
    "<b>Module 4M26</b> <br>\n",
    "\n",
    "<b>ALGORITHMS AND DATA STRUCTURES</b><br>\n",
    "\n",
    "<i>Answer one question.</i>\n",
    "\n",
    "<i>The <b>approximate</b> percentage of marks allocated to each part of a question is indicated in the right margin.</i>\n",
    "\n",
    "<i>Write your candidate number  <b><u>not</u></b> your name on the cover sheet and at the top of each answer sheet.</i>\n",
    "\n",
    "<i>The runtime of a successful test case should be no longer than 10 seconds when run on a standard DPO machine.</i>\n",
    "\n",
    "<i>No access to internet or other resources is permitted.</i>\n",
    "\n",
    "<i>Solutions should not use and import any python libraries. Only default Python data structures are to be used.</i>\n",
    "\n",
    "<b>Make sure to verify that you are still getting correct answers after kernel restart (Kernel->Restart & Run All), before uploading your final version of the notebook to Moodle.</b> <br>\n",
    "\n",
    "<b>STATIONERY REQUIREMENTS</b> <br>\n",
    "Single-sided script paper<br>\n",
    "\n",
    "<b>SPECIAL REQUIREMENTS TO BE SUPPLIED FOR THIS EXAM</b> <br>\n",
    "DPO computers<br>\n",
    "CUED approved calculator allowed<br>\n",
    "Engineering Data Book<br>\n",
    "\n",
    "<b>10 minutes reading time is allowed for this paper at the start of\n",
    "the test.</b><br>\n",
    "\n",
    "<b>You may not start to read the questions printed on the subsequent pages of this question paper until instructed to do so.</b><br>\n",
    "\n",
    "<b>You may not remove any stationery from the Examination Room.</b>"
   ]
  },
  {
   "cell_type": "markdown",
   "metadata": {},
   "source": [
    "<hr>\n",
    "<br>\n",
    "<br>\n",
    "<br>\n",
    "<br>\n",
    "<br>\n",
    "<br>"
   ]
  },
  {
   "cell_type": "markdown",
   "metadata": {},
   "source": [
    "<h1> 1.</h1> "
   ]
  },
  {
   "cell_type": "markdown",
   "metadata": {},
   "source": [
    "(a) Write the function, **sort_strings**($S$), which takes a list, $S$, of strings and sorts it using the least significant digit (LSD) radix sort (adapted to string inputs of varying lenghts) in the following order.\n",
    "1. If length of string, $a$, is smaller than length of string, $b$, then string, $a$, should be appearing in the output before string, $b$.\n",
    "2. If strings, $a$ and $b$, are of the same length, then string, $a$, should come before string, $b$, if $ord(a[i])$<$ord(b[i])$ where $i$ is the index of the first character for which $a[i]\\neq b[i]$. Note, $ord$, is a python function which converts a character into its ASCII integer value (e.g. `ord('a')=97`).\n",
    "\n",
    "Also note that a function, **get_character_dict**($S$), is provided. This function creates a dictionary, $char\\_dict$, which for each character used in $S$, stores its position in a ranked list of all characters used in $S$. \n",
    "\n",
    " <div style=\"text-align: right\">[25%]</div>"
   ]
  },
  {
   "cell_type": "markdown",
   "metadata": {},
   "source": [
    "### Examples:"
   ]
  },
  {
   "cell_type": "markdown",
   "metadata": {},
   "source": [
    "**Input:** `[\"abcd\", \"ab\", \"abc\", \"abcde\", \"a\",\"e\"]` <br>\n",
    "**Output:** `[\"a\", \"e\", \"ab\", \"abc\", \"abcd\", \"abcde\"]`"
   ]
  },
  {
   "cell_type": "markdown",
   "metadata": {},
   "source": [
    "**Input:**  `[\"314\", \"712\", \"632\", \"201\", \"111\",\"11\",\"1\",\"20\",\"5\",\"50\",\"1a\"]` <br>\n",
    "**Output:**  `[\"1\", \"5\", \"11\", \"1a\", \"20\", \"50\", \"111\", \"201\", \"314\", \"632\", \"712\"]`<br>"
   ]
  },
  {
   "cell_type": "markdown",
   "metadata": {},
   "source": [
    "### Constraints:\n",
    "\n",
    "- $ 1\\leq \\text{len }(S) \\leq 100$."
   ]
  },
  {
   "cell_type": "markdown",
   "metadata": {},
   "source": [
    "### Code:"
   ]
  },
  {
   "cell_type": "code",
   "execution_count": 74,
   "metadata": {},
   "outputs": [
    {
     "name": "stdout",
     "output_type": "stream",
     "text": [
      "['1', '5', '11', '1a', '20', '50', '111', '201', '314', '632', '712']\n"
     ]
    }
   ],
   "source": [
    "def get_character_dict(S):\n",
    "    \n",
    "    char_set = set([])\n",
    "    for s in S:\n",
    "        char_set=char_set | set(list(s))\n",
    "        \n",
    "    count = 0\n",
    "    char_dict={}\n",
    "    for c in sorted(list(char_set)):\n",
    "        char_dict[c]=count\n",
    "        count+=1\n",
    "    return char_dict\n",
    "\n",
    "def stable_sort(A, d, dic):\n",
    "    for i in range(1, len(A)):\n",
    "        key = A[i] # unsorted element to place\n",
    "        k = i - 1 # location  at top of sorted\n",
    "\n",
    "        while k >= 0:\n",
    "            # if the unsorted element to place is the biggest, \n",
    "            # escape now and put it at the top\n",
    "            \n",
    "            # if we can compare digits, do so\n",
    "            if len(A[k]) > d and len(key) > d:\n",
    "                # if the top is leq key, put it in\n",
    "                if dic[A[k][d]] <= dic[key[d]] : \n",
    "                    break\n",
    "            # otherwise if one of our items doesn't have enough digits\n",
    "            elif len(A[k]) <= len(key):\n",
    "                # if the key we want to place has more or the same, we have found the top of the section\n",
    "                break\n",
    "\n",
    "            # shuffle the top of sorted up one\n",
    "            A[k+1] = A[k]\n",
    "            k -= 1\n",
    "\n",
    "        A[k+1] = key\n",
    "        # print(A)\n",
    "\n",
    "def sort_strings(S):\n",
    "    ## creates a rank of all used characters\n",
    "    char_dict = get_character_dict(S)\n",
    "\n",
    "    r = len(max(S, key=len))\n",
    "\n",
    "    # reverse every item for LSD\n",
    "    for i in range(len(S)):\n",
    "        S[i] = S[i][::-1]\n",
    "\n",
    "    # Radix Sort\n",
    "    for d in range(r):\n",
    "        stable_sort(S, d, char_dict)\n",
    "        # print(S)\n",
    "\n",
    "    # reverse every item for LSD\n",
    "    for i in range(len(S)):\n",
    "        S[i] = S[i][::-1]\n",
    "    return S\n",
    "\n",
    "\n",
    "input_value = [\"314\", \"712\", \"632\", \"201\", \"111\",\"11\",\"1\",\"20\",\"5\",\"50\",\"1a\"]\n",
    "print (sort_strings(input_value))"
   ]
  },
  {
   "cell_type": "markdown",
   "metadata": {},
   "source": [
    "### Tests:"
   ]
  },
  {
   "cell_type": "markdown",
   "metadata": {},
   "source": [
    "##### Run example test case 1:"
   ]
  },
  {
   "cell_type": "code",
   "execution_count": 75,
   "metadata": {},
   "outputs": [
    {
     "name": "stdout",
     "output_type": "stream",
     "text": [
      "['a', 'e', 'ab', 'abc', 'abcd', 'abcde']\n"
     ]
    }
   ],
   "source": [
    "input_value = [\"abcd\", \"ab\", \"abc\", \"abcde\", \"a\",\"e\"]\n",
    "print (sort_strings(input_value))"
   ]
  },
  {
   "cell_type": "markdown",
   "metadata": {},
   "source": [
    "##### Run example test case 2:"
   ]
  },
  {
   "cell_type": "code",
   "execution_count": 76,
   "metadata": {},
   "outputs": [
    {
     "name": "stdout",
     "output_type": "stream",
     "text": [
      "['1', '5', '11', '1a', '20', '50', '111', '201', '314', '632', '712']\n"
     ]
    }
   ],
   "source": [
    "input_value = [\"314\", \"712\", \"632\", \"201\", \"111\",\"11\",\"1\",\"20\",\"5\",\"50\",\"1a\"]\n",
    "print (sort_strings(input_value))"
   ]
  },
  {
   "cell_type": "markdown",
   "metadata": {},
   "source": [
    "#### Automatic Evaluation:"
   ]
  },
  {
   "cell_type": "markdown",
   "metadata": {},
   "source": [
    "<i><b><font color='red'>Do not forget to run on all test cases when your final implementation is finished!</font></b></i>"
   ]
  },
  {
   "cell_type": "code",
   "execution_count": 77,
   "metadata": {},
   "outputs": [
    {
     "name": "stdout",
     "output_type": "stream",
     "text": [
      "----------------------------------\n",
      "Evaluating question 3, part a\n",
      "Running question 3, part a, test id: 1\n",
      "Input:\n",
      "['abcd', 'ab', 'abc', 'abcde', 'a', 'e']\n",
      "Obtained output:\n",
      "['a', 'e', 'ab', 'abc', 'abcd', 'abcde']\n",
      "<<CORRECT>>\n",
      "Running question 3, part a, test id: 2\n",
      "Input:\n",
      "['314', '712', '632', '201', '111', '11', '1', '20', '5', '50', '1a']\n",
      "Obtained output:\n",
      "['1', '5', '11', '1a', '20', '50', '111', '201', '314', '632', '712']\n",
      "<<CORRECT>>\n",
      "Running question 3, part a, test id: 3\n",
      "Input:\n",
      "['00', '90', '01', '91', '02', '92', '03', '93']\n",
      "Obtained output:\n",
      "['00', '01', '02', '03', '90', '91', '92', '93']\n",
      "<<CORRECT>>\n",
      "Running question 3, part a, test id: 4\n",
      "Input:\n",
      "['abcdefg', 'abcdef', 'abcde', 'abcd', 'a', 'ab', 'abc']\n",
      "Obtained output:\n",
      "['a', 'ab', 'abc', 'abcd', 'abcde', 'abcdef', 'abcdefg']\n",
      "<<CORRECT>>\n",
      "Running question 3, part a, test id: 5\n",
      "Input:\n",
      "['10']\n",
      "Obtained output:\n",
      "['10']\n",
      "<<CORRECT>>\n",
      "-----------------\n",
      "Total correct outputs:\n",
      "5 out of 5\n",
      "----------------------------------\n"
     ]
    }
   ],
   "source": [
    "#DO NOT EDIT THIS CODE!\n",
    "from evaluation_script import evaluate_solution \n",
    "evaluate_solution(question_id=3,question_part_id='a',function=sort_strings,\n",
    "                  test_case_list=[1,2,3,4,5],verbose=True)"
   ]
  },
  {
   "cell_type": "markdown",
   "metadata": {},
   "source": [
    "(b) Assuming that least significant digit (LSD) radix sort is performed on $n$ strings of length, $d$, with all characters taken from a set of $k$ different characters (e.g. $k=10$ for decimal digits), as required in Part (a), derive its runtime using Big-Theta notation in terms of $n$, $d$, $k$. You can assume that finding the rank (index of a character in an ordered list of characters) of a character (ie. accessing values in $char\\_dict$) takes constant time.\n",
    "<div style=\"text-align: right\">[10%]</div>"
   ]
  },
  {
   "attachments": {},
   "cell_type": "markdown",
   "metadata": {},
   "source": [
    "<div style=\"border-width:2px;border-style:solid;border-color:black;padding:20px\">\n",
    "\n",
    "RTA = $\\Theta(d(n + k))$ for a counting sort implementation. For the above insertion sort, the worst case runtime is $O(dn^2)$ and the average case is $O(d\\log(n))$\n",
    "\n",
    "\n",
    "</div>"
   ]
  },
  {
   "cell_type": "markdown",
   "metadata": {},
   "source": [
    "(c) Explain how you could improve the runtime of the solution in Part (a), if you were allowed to change the way strings and characters are represented? Explain, in what circumstances you could achieve $\\Theta(n)$ and $\\Theta(\\frac{n}{\\log n})$ run time? You can ignore the time taken to compute a different representation of the characters and strings in your computation.\n",
    "<div style=\"text-align: right\">[15%]</div>"
   ]
  },
  {
   "attachments": {},
   "cell_type": "markdown",
   "metadata": {},
   "source": [
    "<div style=\"border-width:2px;border-style:solid;border-color:black;padding:20px\">\n",
    "\n",
    "\n",
    "</div>"
   ]
  },
  {
   "cell_type": "markdown",
   "metadata": {},
   "source": [
    "(c) Briefly answer multiple questions below."
   ]
  },
  {
   "cell_type": "markdown",
   "metadata": {},
   "source": [
    "&emsp; (i) What does it mean for a sorting method to be *stable*? Explain which, if any, of Quicksort, Insertion sort, Heapsort, Mergesort methods are stable if implemented simply? \n",
    "          <div style=\"text-align: right\">[10%]</div>"
   ]
  },
  {
   "attachments": {},
   "cell_type": "markdown",
   "metadata": {},
   "source": [
    "<div style=\"border-width:2px;border-style:solid;border-color:black;padding:20px\">\n",
    "\n",
    "A stable sort implies that any elements in the array with equivalent sorting position (i.e. equal keys) remain in the order that they started after the sort.\n",
    "\n",
    "| Sort | Stable? |\n",
    "| -- | -- |\n",
    "| Quicksort | No |\n",
    "| Insertion Sort | yes |\n",
    "| Heap Sort | No |\n",
    "| Mergesort | yes |\n",
    "\n",
    "</div>"
   ]
  },
  {
   "cell_type": "markdown",
   "metadata": {},
   "source": [
    "&emsp; (ii) Explain what does the *max_heapify* procedure, used in Max-Heap data structure, do. How can this procedure be used to obtain a sorted array from an unordered array? <div style=\"text-align: right\">[10%]</div>"
   ]
  },
  {
   "attachments": {},
   "cell_type": "markdown",
   "metadata": {},
   "source": [
    "<div style=\"border-width:2px;border-style:solid;border-color:black;padding:20px\">\n",
    "\n",
    "**Max Heapify** is the process used to correct a flaw in max-heap array, under the assumption that the child trees of the flawed key are both valid max-heaps, requiring the following properties to be true:\n",
    "\n",
    "**Max Heap**\n",
    "1. The binary tree is complete (all levels are full but the last)\n",
    "2. The key of any node is $\\geq$ the keys of its children\n",
    "\n",
    "To obtain a sorted array from an unordered array using a max-heap:\n",
    "1. Call max-heapify on every element from the midpoint of the array to the start (len // 2 -> 0)\n",
    "    1. As the second half of the array are single element tree's they all start as valid max heaps\n",
    "    2. This builds a complete max heap.\n",
    "2. Swap the first and last element of the array, and decrement the end pointer\n",
    "3. Call max heapify on the first element to rebuild a correct heap\n",
    "4. do until end pointer = 0\n",
    "\n",
    "</div>"
   ]
  },
  {
   "cell_type": "markdown",
   "metadata": {},
   "source": [
    "(d) Quicksort algorithm works by recursively selecting a pivot value, and partitioning the array so that the elements on the left side are smaller or equal than the pivot value and the elements on the right side of the array are larger than the pivot value.  Write the function, **quick_select**($L$), which adapts the quicksort algorithm to find the $(k+1)$-st smallest value in the array. Your solution should have $O(n)$ average case runtime for any given $k$ for a list of $n$ elements. Note, you can assume that all possible input orderings are equally likely. <br>\n",
    "\n",
    "The input to the aforementioned function is a list, $L$, of two elements, the first of which is a list of numbers and the second of which is value, $k$.<br>\n",
    " <div style=\"text-align: right\">[20%]</div>"
   ]
  },
  {
   "cell_type": "markdown",
   "metadata": {},
   "source": [
    "### Examples:"
   ]
  },
  {
   "cell_type": "markdown",
   "metadata": {},
   "source": [
    "**Input:** `[[1,2,3,4,5],3]` <br>\n",
    "**Output:** `4` <br>"
   ]
  },
  {
   "cell_type": "markdown",
   "metadata": {},
   "source": [
    "**Input:**  `[[4,3,2,1,7,11,12,20,18,15],7]` <br>\n",
    "**Output:**  `15` <br>"
   ]
  },
  {
   "cell_type": "markdown",
   "metadata": {},
   "source": [
    "### Constraints:\n",
    "\n",
    "- $1\\leq n \\leq 1000$. \n",
    "- $-10^6\\leq L[0][i] \\leq 10^6$. \n",
    "- $0 \\leq k \\leq \\text{len }(L[0])-1$."
   ]
  },
  {
   "cell_type": "markdown",
   "metadata": {},
   "source": [
    "### Code:"
   ]
  },
  {
   "cell_type": "code",
   "execution_count": 109,
   "metadata": {},
   "outputs": [
    {
     "name": "stdout",
     "output_type": "stream",
     "text": [
      "15\n"
     ]
    }
   ],
   "source": [
    "# run pivot quicksort at k to place it in the correct spot\n",
    "def quick_select(L):\n",
    "    return qs_k(L[0], L[1])\n",
    "\n",
    "## iteratively select to kth element as the pivot, and partition until it stays there \n",
    "# This relies on the Lomuto partition which is \\Theta(n) for an n length subsequence\n",
    "# The list is repeatedly partition until the kth element remains in the kth element\n",
    "# - in the best case it is already there, and the time is \\Theta(n)\n",
    "# - in the worst case the parition will take k iterations? no - uncertain & hard to prove\n",
    "\n",
    "\n",
    "def lomu(L, low, high):\n",
    "    pval = L[high] # comparison value\n",
    "    i = low # current top of RHS\n",
    "\n",
    "    for k in range(low, high):\n",
    "        # if element k is below the pivot value\n",
    "        if L[k] < pval:\n",
    "            # put it into the top of the LHS\n",
    "            L[k], L[i] = L[i], L[k]\n",
    "            i += 1\n",
    "    # swap pivot and pivot pos\n",
    "    L[i], L[high] = L[high], L[i]\n",
    "    return i\n",
    "\n",
    "\n",
    "def qs(L, k, low = None, high = None):\n",
    "    if low is None:\n",
    "        low = 0\n",
    "    if high is None:\n",
    "        high = len(L) - 1\n",
    "        \n",
    "    if low < high:\n",
    "        # swap k and end\n",
    "        pivot = lomu(L, low, high)\n",
    "        qs(L, k, low, pivot-1)\n",
    "        qs(L, k, pivot+1, high)\n",
    "    \n",
    "    return L\n",
    "\n",
    "def qs_k(L, k, low = None, high = None):\n",
    "    if low is None:\n",
    "        low = 0\n",
    "    if high is None:\n",
    "        high = len(L) - 1\n",
    "        \n",
    "    while True:\n",
    "        # store the starting value at position k\n",
    "        before = L[k]\n",
    "        # swap k and end to use k as the pivot value\n",
    "        L[high], L[k] = L[k], L[high]\n",
    "        lomu(L, low, high)\n",
    "        # if its gone back to the same place then its the true kth smallest\n",
    "        if L[k] == before:\n",
    "            return L[k]\n",
    "\n",
    "\n",
    "\n",
    "L = [[4,3,2,1,7,11,12,20,18,15], 7]\n",
    "print(quick_select(L))\n"
   ]
  },
  {
   "cell_type": "markdown",
   "metadata": {},
   "source": [
    "### Tests:"
   ]
  },
  {
   "cell_type": "markdown",
   "metadata": {},
   "source": [
    "##### Run example test case 1:"
   ]
  },
  {
   "cell_type": "code",
   "execution_count": 110,
   "metadata": {},
   "outputs": [
    {
     "name": "stdout",
     "output_type": "stream",
     "text": [
      "4\n"
     ]
    }
   ],
   "source": [
    "input_value = [[1,2,3,4,5],3]\n",
    "print(quick_select(input_value))"
   ]
  },
  {
   "cell_type": "markdown",
   "metadata": {},
   "source": [
    "##### Run example test case 2:"
   ]
  },
  {
   "cell_type": "code",
   "execution_count": 111,
   "metadata": {},
   "outputs": [
    {
     "name": "stdout",
     "output_type": "stream",
     "text": [
      "15\n"
     ]
    }
   ],
   "source": [
    "input_value = [[4,3,2,1,7,11,12,20,18,15],7]\n",
    "print(quick_select(input_value))"
   ]
  },
  {
   "cell_type": "markdown",
   "metadata": {},
   "source": [
    "#### Automatic Evaluation:"
   ]
  },
  {
   "cell_type": "markdown",
   "metadata": {},
   "source": [
    "<i><b><font color='red'>Do not forget to run on all test cases when your final implementation is finished!</font></b></i>"
   ]
  },
  {
   "cell_type": "code",
   "execution_count": 112,
   "metadata": {},
   "outputs": [
    {
     "name": "stdout",
     "output_type": "stream",
     "text": [
      "----------------------------------\n",
      "Evaluating question 3, part d\n",
      "Running question 3, part d, test id: 1\n",
      "Input:\n",
      "[[1, 2, 3, 4, 5], 3]\n",
      "Obtained output:\n",
      "4\n",
      "<<CORRECT>>\n",
      "Running question 3, part d, test id: 2\n",
      "Input:\n",
      "[[4, 3, 2, 1, 7, 11, 12, 20, 18, 15], 7]\n",
      "Obtained output:\n",
      "15\n",
      "<<CORRECT>>\n",
      "Running question 3, part d, test id: 3\n",
      "Input:\n",
      "[[1, 2, 3, 4, 5], 0]\n",
      "Obtained output:\n",
      "1\n",
      "<<CORRECT>>\n",
      "Running question 3, part d, test id: 4\n",
      "Input:\n",
      "[[10, 9, 8, 7, 6, 5, 4, 3, 2, 1, 0], 10]\n",
      "Obtained output:\n",
      "10\n",
      "<<CORRECT>>\n",
      "Running question 3, part d, test id: 5\n",
      "Input:\n",
      "[[1, -1, 2, -2, 3, -3, 4, -4, 5, -5, 6, -6, 0], 6]\n",
      "Obtained output:\n",
      "0\n",
      "<<CORRECT>>\n",
      "-----------------\n",
      "Total correct outputs:\n",
      "5 out of 5\n",
      "----------------------------------\n"
     ]
    }
   ],
   "source": [
    "#DO NOT EDIT THIS CODE!\n",
    "from evaluation_script import evaluate_solution\n",
    "evaluate_solution(question_id=3,question_part_id='d',function=quick_select, \n",
    "                  test_case_list=[1,2,3,4,5],verbose=True)"
   ]
  },
  {
   "cell_type": "markdown",
   "metadata": {},
   "source": [
    "(e) Explain why your proposed algorithm in Part (d) has average case runtime, $O(n)$. Express its best case runtime using Big-O notation. <br>\n",
    " <div style=\"text-align: right\">[10%]</div>"
   ]
  },
  {
   "attachments": {},
   "cell_type": "markdown",
   "metadata": {},
   "source": [
    "<div style=\"border-width:2px;border-style:solid;border-color:black;padding:20px\">\n",
    "        # swap k and end to use k as the pivot value\n",
    "\n",
    "\n",
    "</div>"
   ]
  },
  {
   "cell_type": "markdown",
   "metadata": {},
   "source": [
    "---\n",
    "<br>\n",
    "<br>\n",
    "<br>\n",
    "<br>"
   ]
  },
  {
   "cell_type": "markdown",
   "metadata": {},
   "source": [
    "<b><center>END OF PAPER</center></b>"
   ]
  }
 ],
 "metadata": {
  "kernelspec": {
   "display_name": "Python 3",
   "language": "python",
   "name": "python3"
  },
  "language_info": {
   "codemirror_mode": {
    "name": "ipython",
    "version": 3
   },
   "file_extension": ".py",
   "mimetype": "text/x-python",
   "name": "python",
   "nbconvert_exporter": "python",
   "pygments_lexer": "ipython3",
   "version": "3.10.6"
  }
 },
 "nbformat": 4,
 "nbformat_minor": 4
}
