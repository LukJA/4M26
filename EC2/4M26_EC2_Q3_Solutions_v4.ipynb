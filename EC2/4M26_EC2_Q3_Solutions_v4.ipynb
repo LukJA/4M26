{
 "cells": [
  {
   "cell_type": "markdown",
   "metadata": {},
   "source": [
    "<b>CANDIDATE NUMBER:</b>"
   ]
  },
  {
   "cell_type": "markdown",
   "metadata": {},
   "source": [
    "<div style=\"border-width:2px;border-style:solid;border-color:black;\">[TO FILL]</div>"
   ]
  },
  {
   "cell_type": "markdown",
   "metadata": {},
   "source": [
    "<hr>\n",
    "Version: IB/1"
   ]
  },
  {
   "cell_type": "markdown",
   "metadata": {},
   "source": [
    "EGT3<br>\n",
    "ENGINEERING TRIPOS PART IIB\n",
    "\n",
    "<br>\n",
    "\n",
    "<hr>\n",
    "<b>Wednesday 1 March 2023 &emsp; 11.25 to 12.15</b>\n",
    "<hr>\n",
    "\n",
    "<b>Module 4M26</b> <br>\n",
    "\n",
    "<b>ALGORITHMS AND DATA STRUCTURES</b><br>\n",
    "\n",
    "<i>Answer one question.</i>\n",
    "\n",
    "<i>The <b>approximate</b> percentage of marks allocated to each part of a question is indicated in the right margin.</i>\n",
    "\n",
    "<i>Write your candidate number  <b><u>not</u></b> your name on the cover sheet and at the top of each answer sheet.</i>\n",
    "\n",
    "<i>The runtime of a successful test case should be no longer than 10 seconds when run on a standard DPO machine.</i>\n",
    "\n",
    "<i>No access to internet or other resources is permitted.</i>\n",
    "\n",
    "<i>Solutions should not use and import any python libraries. Only default Python data structures are to be used.</i><br>\n",
    "\n",
    "<b>STATIONERY REQUIREMENTS</b> <br>\n",
    "Single-sided script paper<br>\n",
    "\n",
    "<b>SPECIAL REQUIREMENTS TO BE SUPPLIED FOR THIS EXAM</b> <br>\n",
    "DPO computers<br>\n",
    "CUED approved calculator allowed<br>\n",
    "Engineering Data Book<br>\n",
    "\n",
    "<b>10 minutes reading time is allowed for this paper at the start of\n",
    "the test.</b><br>\n",
    "\n",
    "<b>You may not start to read the questions printed on the subsequent pages of this question paper until instructed to do so.</b><br>\n",
    "\n",
    "<b>You may not remove any stationery from the Examination Room.</b>"
   ]
  },
  {
   "cell_type": "markdown",
   "metadata": {},
   "source": [
    "<hr>\n",
    "<br>\n",
    "<br>\n",
    "<br>\n",
    "<br>\n",
    "<br>\n",
    "<br>"
   ]
  },
  {
   "cell_type": "markdown",
   "metadata": {},
   "source": [
    "<h1> 1.</h1> "
   ]
  },
  {
   "cell_type": "markdown",
   "metadata": {},
   "source": [
    "(a) Write the function, **sort_strings**($S$), which takes a list, $S$, of strings and sorts it using the least significant digit (LSD) radix sort (adapted to string inputs of varying lenghts) in the following order.\n",
    "1. If length of string, $a$, is smaller than length of string, $b$, then string, $a$, should be appearing in the output before string, $b$.\n",
    "2. If strings, $a$ and $b$, are of the same length, then string, $a$, should come before string, $b$, if $ord(a[i])$<$ord(b[i])$ where $i$ is the index of the first character for which $a[i]\\neq b[i]$. Note, $ord$, is a python function which converts a character into its ASCII integer value (e.g. `ord('a')=97`).\n",
    "\n",
    "Also note that a function, **get_character_dict**($S$), is provided. This function creates a dictionary, $char\\_dict$, which for each character used in $S$, stores its position in a ranked list of all characters used in $S$. \n",
    "\n",
    " <div style=\"text-align: right\">[25%]</div>"
   ]
  },
  {
   "cell_type": "markdown",
   "metadata": {},
   "source": [
    "### Examples:"
   ]
  },
  {
   "cell_type": "markdown",
   "metadata": {},
   "source": [
    "**Input:** `[\"abcd\", \"ab\", \"abc\", \"abcde\", \"a\",\"e\"]` <br>\n",
    "**Output:** `[\"a\", \"e\", \"ab\", \"abc\", \"abcd\", \"abcde\"]`"
   ]
  },
  {
   "cell_type": "markdown",
   "metadata": {},
   "source": [
    "**Input:**  `[\"314\", \"712\", \"632\", \"201\", \"111\",\"11\",\"1\",\"20\",\"5\",\"50\",\"1a\"]` <br>\n",
    "**Output:**  `[\"1\", \"5\", \"11\", \"1a\", \"20\", \"50\", \"111\", \"201\", \"314\", \"632\", \"712\"]`<br>"
   ]
  },
  {
   "cell_type": "markdown",
   "metadata": {},
   "source": [
    "### Constraints:\n",
    "\n",
    "- $ 1\\leq \\text{len }(S) \\leq 100$."
   ]
  },
  {
   "cell_type": "markdown",
   "metadata": {},
   "source": [
    "### Code:"
   ]
  },
  {
   "cell_type": "code",
   "execution_count": 1,
   "metadata": {},
   "outputs": [],
   "source": [
    "def counting_sort_on_digit(A, k_dict, d, reverse_digit_pos):\n",
    "\n",
    "    def subkey(key):\n",
    "\n",
    "        if reverse_digit_pos> len(key):\n",
    "            return 0\n",
    "        else:\n",
    "            return k_dict[key[-reverse_digit_pos]]+1\n",
    "\n",
    "    n = len(A)\n",
    "    counts = [0 for _ in range(len(k_dict)+1)]\n",
    "    output = [None for _ in range(n)]\n",
    "    for key in A:\n",
    "        counts[subkey(key)] += 1\n",
    "    for i in range(1, len(counts)):\n",
    "        counts[i] += counts[i - 1]\n",
    "    for key in reversed(A):\n",
    "        output[counts[subkey(key)] - 1] = key\n",
    "        counts[subkey(key)] = counts[subkey(key)] - 1\n",
    "    return output\n",
    "\n",
    "\n",
    "def radix_sort_lsd(A, d, k_dict):\n",
    "\n",
    "    for digit_pos in range(1, d+1):\n",
    "        A = counting_sort_on_digit(A, k_dict, d, digit_pos)\n",
    "        \n",
    "    return A\n",
    "\n",
    "def get_character_dict(S):\n",
    "    \n",
    "    char_set = set([])\n",
    "    for s in S:\n",
    "        char_set=char_set | set(list(s))\n",
    "        \n",
    "    count = 0\n",
    "    char_dict={}\n",
    "    for c in sorted(list(char_set)):\n",
    "        char_dict[c]=count\n",
    "        count+=1\n",
    "    return char_dict\n",
    "\n",
    "def sort_strings(S):\n",
    " \n",
    "    char_dict = get_character_dict(S)\n",
    "\n",
    "    #Write your code here\n",
    "    \n",
    "    max_length=len(S[0])\n",
    "    \n",
    "    for i in range(len(S)):\n",
    "        if len(S[i])>max_length:\n",
    "            max_length = len(S[i])\n",
    "\n",
    "    B = radix_sort_lsd(S, max_length, char_dict) \n",
    "    \n",
    "    return B\n"
   ]
  },
  {
   "cell_type": "markdown",
   "metadata": {},
   "source": [
    "### Tests:"
   ]
  },
  {
   "cell_type": "markdown",
   "metadata": {},
   "source": [
    "##### Run example test case 1:"
   ]
  },
  {
   "cell_type": "code",
   "execution_count": 2,
   "metadata": {},
   "outputs": [
    {
     "name": "stdout",
     "output_type": "stream",
     "text": [
      "['a', 'e', 'ab', 'abc', 'abcd', 'abcde']\n"
     ]
    }
   ],
   "source": [
    "input_value = [\"abcd\", \"ab\", \"abc\", \"abcde\", \"a\",\"e\"]\n",
    "print (sort_strings(input_value))"
   ]
  },
  {
   "cell_type": "markdown",
   "metadata": {},
   "source": [
    "##### Run example test case 2:"
   ]
  },
  {
   "cell_type": "code",
   "execution_count": 3,
   "metadata": {},
   "outputs": [
    {
     "name": "stdout",
     "output_type": "stream",
     "text": [
      "['1', '5', '11', '1a', '20', '50', '111', '201', '314', '632', '712']\n"
     ]
    }
   ],
   "source": [
    "input_value = [\"314\", \"712\", \"632\", \"201\", \"111\",\"11\",\"1\",\"20\",\"5\",\"50\",\"1a\"]\n",
    "print (sort_strings(input_value))"
   ]
  },
  {
   "cell_type": "markdown",
   "metadata": {},
   "source": [
    "#### Automatic Evaluation:"
   ]
  },
  {
   "cell_type": "markdown",
   "metadata": {},
   "source": [
    "<i><b><font color='red'>Do not forget to run on all test cases when your final implementation is finished!</font></b></i>"
   ]
  },
  {
   "cell_type": "code",
   "execution_count": 4,
   "metadata": {},
   "outputs": [
    {
     "name": "stdout",
     "output_type": "stream",
     "text": [
      "----------------------------------\n",
      "Evaluating question 3, part a\n",
      "Running question 3, part a, test id: 1\n",
      "Input:\n",
      "['abcd', 'ab', 'abc', 'abcde', 'a', 'e']\n",
      "Obtained output:\n",
      "['a', 'e', 'ab', 'abc', 'abcd', 'abcde']\n",
      "<<CORRECT>>\n",
      "Running question 3, part a, test id: 2\n",
      "Input:\n",
      "['314', '712', '632', '201', '111', '11', '1', '20', '5', '50', '1a']\n",
      "Obtained output:\n",
      "['1', '5', '11', '1a', '20', '50', '111', '201', '314', '632', '712']\n",
      "<<CORRECT>>\n",
      "Running question 3, part a, test id: 3\n",
      "Input:\n",
      "['00', '90', '01', '91', '02', '92', '03', '93']\n",
      "Obtained output:\n",
      "['00', '01', '02', '03', '90', '91', '92', '93']\n",
      "<<CORRECT>>\n",
      "Running question 3, part a, test id: 4\n",
      "Input:\n",
      "['abcdefg', 'abcdef', 'abcde', 'abcd', 'a', 'ab', 'abc']\n",
      "Obtained output:\n",
      "['a', 'ab', 'abc', 'abcd', 'abcde', 'abcdef', 'abcdefg']\n",
      "<<CORRECT>>\n",
      "Running question 3, part a, test id: 5\n",
      "Input:\n",
      "['10']\n",
      "Obtained output:\n",
      "['10']\n",
      "<<CORRECT>>\n",
      "-----------------\n",
      "Total correct outputs:\n",
      "5 out of 5\n",
      "----------------------------------\n"
     ]
    }
   ],
   "source": [
    "#DO NOT EDIT THIS CODE!\n",
    "from evaluation_script import evaluate_solution \n",
    "evaluate_solution(question_id=3,question_part_id='a',function=sort_strings,\n",
    "                  test_case_list=[1,2,3,4,5],verbose=True)"
   ]
  },
  {
   "cell_type": "markdown",
   "metadata": {},
   "source": [
    "(b) Assuming that least significant digit (LSD) radix sort is performed on $n$ strings of length, $d$, with all characters taken from a set of $k$ different characters (e.g. $k=10$ for decimal digits), as required in Part (a), derive its runtime using Big-Theta notation in terms of $n$, $d$, $k$. You can assume that finding the rank (index of a character in an ordered list of characters) of a character (ie. accessing values in $char\\_dict$) takes constant time.\n",
    "<div style=\"text-align: right\">[10%]</div>"
   ]
  },
  {
   "cell_type": "markdown",
   "metadata": {},
   "source": [
    "<div style=\"border-width:2px;border-style:solid;border-color:black;\">\n",
    "The LSD radix sort algorithm works by performing counting sort on each digit position of the strings, starting from the least significant digit to the most significant digit.<br><br>\n",
    "\n",
    "The runtime of the algorithm can be expressed using Big-Theta notation as $\\Theta(d(n+k))$. This is because one needs to perform the sorting operation for each of the $d$ digits in the strings. Each sort operation takes $\\Theta(n+k)$ time since counting sort needs to look at each element of the array to be sorted twice $\\Theta(n)$ as well as compute the cumulative count of over number of occurences of each character $\\Theta(k)$. Therefore, the total runtime of the algorithm is $\\Theta(d(n+k))$.\n",
    "</div>"
   ]
  },
  {
   "cell_type": "markdown",
   "metadata": {},
   "source": [
    "(c) Explain how you could improve the runtime of the solution in Part (a), if you were allowed to change the way strings and characters are represented? Explain, in what circumstances you could achieve $\\Theta(n)$ and $\\Theta(\\frac{n}{\\log n})$ run time? You can ignore the time taken to compute a different representation of the characters and strings in your computation.\n",
    "<div style=\"text-align: right\">[15%]</div>"
   ]
  },
  {
   "attachments": {},
   "cell_type": "markdown",
   "metadata": {},
   "source": [
    "<div style=\"border-width:2px;border-style:solid;border-color:black;\">\n",
    "\n",
    "One can change the size of a character (ie. in simple ASCII encoding one character is 8 bits, a number/a base-256 digit in interval $\\left[0,1,\\cdots,255\\right]$) in a string and hence the length of it. As derived in slides, for $n$ numbers with $b$-bits and digit size $r\\leq b$, LSD radix sort run time is $\\Theta\\left(\\frac{b(n+2^r)}{r}\\right)$. Keys are interpreted as having $d=\\lceil\\frac{b}{r} \\rceil$ digits, where each digit has $r$ bits and $k=2^r$. Expression $\\frac{b(n+2^r)}{r}$ is minimised: <br><br>\n",
    "1. with $r=b$ which implies $\\frac{b(n+2^r)}{r}=\\frac{b(n+2^b)}{b}$ which is $\\Theta(n)$, when $b < \\lfloor \\log n \\rfloor$. <br>\n",
    "2. with $r=\\lfloor \\log n \\rfloor$ which implies $\\frac{b(n+2^r)}{r}=\\frac{b(n+2^{\\lfloor \\log n \\rfloor})}{\\lfloor \\log n \\rfloor}$ which is $\\Theta\\left(\\frac{n}{\\log n} \\right)$, when $b\\geq \\lfloor \\log n \\rfloor$. Note here we assume that $b$ to be a constant.\n",
    "</div>"
   ]
  },
  {
   "cell_type": "markdown",
   "metadata": {},
   "source": [
    "(c) Briefly answer multiple questions below."
   ]
  },
  {
   "cell_type": "markdown",
   "metadata": {},
   "source": [
    "&emsp; (i) What does it mean for a sorting method to be *stable*? Explain which, if any, of Quicksort, Insertion sort, Heapsort, Mergesort methods are stable if implemented simply? \n",
    "          <div style=\"text-align: right\">[10%]</div>"
   ]
  },
  {
   "cell_type": "markdown",
   "metadata": {},
   "source": [
    "<div style=\"border-width:2px;border-style:solid;border-color:black;\">\n",
    "A stable sorting method is one that preserves the order of elements with equal keys. <br><br> \n",
    "\n",
    "Insertion sort and Mergesort are example of stable sorting algorithms. In insertion sort, the elements with equal key values are never swapped, preserving their relative order. In Mergesort, when two keys are equal, the algorithm always merges the left subarray ahead of the right subarray, preserving the relative order of the two arrays. <br><br>\n",
    "\n",
    "On the other hand, Quicksort and Heapsort are generally not stable when implemented simply. In Quicksort, the partitioning step (e.g. Lomuto partition) may swap elements that are equal. In Heapsort, ties in the max-heapify procedure are not broken based on their original position, leading to an unstable sort.<br><br>\n",
    "\n",
    "Note, it is possible to modify Quicksort and Heapsort to make them stable at a cost of increased implementation complexity or overall runtime and space complexity of the algorithm.\n",
    "\n",
    "</div>"
   ]
  },
  {
   "cell_type": "markdown",
   "metadata": {},
   "source": [
    "&emsp; (ii) Explain what does the *max_heapify* procedure, used in Max-Heap data structure, do. How can this procedure be used to obtain a sorted array from an unordered array? <div style=\"text-align: right\">[10%]</div>"
   ]
  },
  {
   "cell_type": "markdown",
   "metadata": {},
   "source": [
    "<div style=\"border-width:2px;border-style:solid;border-color:black;\">\n",
    "The $max\\_heapify$ procedure starts at a particular node and checks if that node satisfies the max-heap property (ie. checks if the key value of the particular node is larger than key values of both of its children). If the max-heap property is satisfied then the procedure termintates, otherwise it swaps the current node with its child with the largest key value and recursively applies the max-heapify procedure on the subtree of the swapped node. <br><br>\n",
    "\n",
    "One can build a max-heap from an unsorted array in linear time. This is achieved by applying the $max\\_heapify$ procedure for the top half of the array, starting from the element with the largest index (ie. $n/2$) and finishing with the element with the smallest index (i.e. 0). <br><br>\n",
    "    \n",
    "Having built a max-heap one can iteratively swap the first (largest) element with the last, reduce the size of the max-heap by one and perform max heapify procedure on the new first element. Such a procedure can obtain a sorted array in $O(n \\log n)$ runtime.\n",
    "</div>"
   ]
  },
  {
   "cell_type": "code",
   "execution_count": 5,
   "metadata": {},
   "outputs": [],
   "source": [
    "def max_heapify(A, heap_size, i):\n",
    "    left = left_child(i)\n",
    "    right = right_child(i)\n",
    "    max_i = i\n",
    "    if left < heap_size and A[left] > A[max_i]:\n",
    "        max_i = left\n",
    "    if right < heap_size and A[right] > A[max_i]:\n",
    "        max_i = right\n",
    "    if max_i != i:\n",
    "        A[i], A[max_i] = A[max_i], A[i]\n",
    "        max_heapify(A, heap_size, max_i)\n",
    "\n",
    "def build_max_heap(A):\n",
    "    heap_size = len(A)\n",
    "    for i in range(heap_size // 2 - 1, -1, -1):\n",
    "        max_heapify(A, heap_size, i)"
   ]
  },
  {
   "cell_type": "markdown",
   "metadata": {},
   "source": [
    "(d) Quicksort algorithm works by recursively selecting a pivot value, and partitioning the array so that the elements on the left side are smaller or equal than the pivot value and the elements on the right side of the array are larger than the pivot value.  Write the function, **quick_select**($L$), which adapts the quicksort algorithm to find the $(k+1)$-st smallest value in the array. Your solution should have $O(n)$ average case runtime for any given $k$ for a list of $n$ elements. Note, you can assume that all possible input orderings are equally likely. <br>\n",
    "\n",
    "The input to the aforementioned function is a list, $L$, of two elements, the first of which is a list of numbers and the second of which is value, $k$.<br>\n",
    " <div style=\"text-align: right\">[20%]</div>"
   ]
  },
  {
   "cell_type": "markdown",
   "metadata": {},
   "source": [
    "### Examples:"
   ]
  },
  {
   "cell_type": "markdown",
   "metadata": {},
   "source": [
    "**Input:** `[[1,2,3,4,5],3]` <br>\n",
    "**Output:** `4` <br>"
   ]
  },
  {
   "cell_type": "markdown",
   "metadata": {},
   "source": [
    "**Input:**  `[[4,3,2,1,7,11,12,20,18,15],7]` <br>\n",
    "**Output:**  `15` <br>"
   ]
  },
  {
   "cell_type": "markdown",
   "metadata": {},
   "source": [
    "### Constraints:\n",
    "\n",
    "- $1\\leq n \\leq 1000$. \n",
    "- $-10^6\\leq L[0][i] \\leq 10^6$. \n",
    "- $0 \\leq k \\leq \\text{len }(L[0])-1$."
   ]
  },
  {
   "cell_type": "markdown",
   "metadata": {},
   "source": [
    "### Code:"
   ]
  },
  {
   "cell_type": "code",
   "execution_count": 6,
   "metadata": {},
   "outputs": [],
   "source": [
    "def lomuto_partition(A, low, high):\n",
    "\n",
    "    pivot = high\n",
    "    pivot_val = A[pivot]\n",
    "    i = low\n",
    "    for j in range(low, high):\n",
    "        if A[j] <= pivot_val:\n",
    "            A[i], A[j] = A[j], A[i]\n",
    "            i += 1\n",
    "    A[i], A[pivot] = A[pivot], A[i]\n",
    "    return i\n",
    "\n",
    "def quickselect_lomuto(A, low, high,k):\n",
    "\n",
    "    if high is None:\n",
    "        high = len(A) - 1\n",
    "    \n",
    "    if low < high:\n",
    "        pivot = lomuto_partition(A, low, high)\n",
    "        if k == pivot:\n",
    "            return A[pivot]\n",
    "        elif k < pivot:\n",
    "            return quickselect_lomuto(A, low, pivot - 1,k)\n",
    "        else:\n",
    "            return quickselect_lomuto(A, pivot + 1, high, k)\n",
    "    return A[low]\n",
    "\n",
    "def quick_select(L):\n",
    "\n",
    "    #Write your code here\n",
    "    \n",
    "    return quickselect_lomuto(L[0],0,len(L[0])-1,L[1])"
   ]
  },
  {
   "cell_type": "markdown",
   "metadata": {},
   "source": [
    "### Tests:"
   ]
  },
  {
   "cell_type": "markdown",
   "metadata": {},
   "source": [
    "##### Run example test case 1:"
   ]
  },
  {
   "cell_type": "code",
   "execution_count": 7,
   "metadata": {},
   "outputs": [
    {
     "name": "stdout",
     "output_type": "stream",
     "text": [
      "4\n"
     ]
    }
   ],
   "source": [
    "input_value = [[1,2,3,4,5],3]\n",
    "print(quick_select(input_value))"
   ]
  },
  {
   "cell_type": "markdown",
   "metadata": {},
   "source": [
    "##### Run example test case 2:"
   ]
  },
  {
   "cell_type": "code",
   "execution_count": 8,
   "metadata": {},
   "outputs": [
    {
     "name": "stdout",
     "output_type": "stream",
     "text": [
      "15\n"
     ]
    }
   ],
   "source": [
    "input_value = [[4,3,2,1,7,11,12,20,18,15],7]\n",
    "print(quick_select(input_value))"
   ]
  },
  {
   "cell_type": "markdown",
   "metadata": {},
   "source": [
    "#### Automatic Evaluation:"
   ]
  },
  {
   "cell_type": "markdown",
   "metadata": {},
   "source": [
    "<i><b><font color='red'>Do not forget to run on all test cases when your final implementation is finished!</font></b></i>"
   ]
  },
  {
   "cell_type": "code",
   "execution_count": 9,
   "metadata": {},
   "outputs": [
    {
     "name": "stdout",
     "output_type": "stream",
     "text": [
      "----------------------------------\n",
      "Evaluating question 3, part d\n",
      "Running question 3, part d, test id: 1\n",
      "Input:\n",
      "[[1, 2, 3, 4, 5], 3]\n",
      "Obtained output:\n",
      "4\n",
      "<<CORRECT>>\n",
      "Running question 3, part d, test id: 2\n",
      "Input:\n",
      "[[4, 3, 2, 1, 7, 11, 12, 20, 18, 15], 7]\n",
      "Obtained output:\n",
      "15\n",
      "<<CORRECT>>\n",
      "Running question 3, part d, test id: 3\n",
      "Input:\n",
      "[[1, 2, 3, 4, 5], 0]\n",
      "Obtained output:\n",
      "1\n",
      "<<CORRECT>>\n",
      "Running question 3, part d, test id: 4\n",
      "Input:\n",
      "[[10, 9, 8, 7, 6, 5, 4, 3, 2, 1, 0], 10]\n",
      "Obtained output:\n",
      "10\n",
      "<<CORRECT>>\n",
      "Running question 3, part d, test id: 5\n",
      "Input:\n",
      "[[1, -1, 2, -2, 3, -3, 4, -4, 5, -5, 6, -6, 0], 6]\n",
      "Obtained output:\n",
      "0\n",
      "<<CORRECT>>\n",
      "-----------------\n",
      "Total correct outputs:\n",
      "5 out of 5\n",
      "----------------------------------\n"
     ]
    }
   ],
   "source": [
    "#DO NOT EDIT THIS CODE!\n",
    "from evaluation_script import evaluate_solution\n",
    "evaluate_solution(question_id=3,question_part_id='d',function=quick_select, \n",
    "                  test_case_list=[1,2,3,4,5],verbose=True)"
   ]
  },
  {
   "cell_type": "markdown",
   "metadata": {},
   "source": [
    "(e) Explain why your proposed algorithm in Part (d) has average case runtime, $O(n)$. Express its best case runtime using Big-O notation. <br>\n",
    " <div style=\"text-align: right\">[10%]</div>"
   ]
  },
  {
   "cell_type": "markdown",
   "metadata": {},
   "source": [
    "<div style=\"border-width:2px;border-style:solid;border-color:black;\">\n",
    "\n",
    "Without loss of generality we can assume that input, $A$, is a permutation of $\\left[1,2,\\cdots,n\\right]$. Let $comp(A,k)$ is the number of comparisons required to find the $k$-th element in a list of numbers, and $c_{n,k}$ be the expected number of comparisons of <b>quick_select</b> required for an array of length $n$, and rank of value to be selected - $k$. <br><br>\n",
    "    \n",
    "For $n=0$, we have $c_{0}= 0$. For $n > 0$ we can define the following recursive formula:<br>\n",
    "    \n",
    "$c_{n,k}=\\mathbb{E}\\left[comp(A,k)\\right]=n-1+\\sum_{p=1}^{n}\\mathbb{E}\\left[comp(A,k)\\lvert P=p\\right]Pr(P=p)=\\\\\n",
    "= n-1 + \\left(\\sum_{p=1}^{k-1}\\mathbb{E}\\left[comp(A,k-p)\\lvert P = p\\right] + \\sum_{p=k+1}^{n}\\mathbb{E}\\left[comp(A,k)\\lvert P = p\\right] \\right)Pr(P = p) = \\\\\n",
    "= n-1 + \\left(\\sum_{p=1}^{k-1}\\mathbb{E}\\left[comp(R,k-p)\\right] + \\sum_{p=k+1}^{n}\\mathbb{E}\\left[comp(L,k)\\right] \\right)Pr(P = p) = \\\\ = n-1+\\frac{1}{n}\\left(\\sum_{p=1}^{k-1}c_{n-p,k-p}+\\sum_{p=k+1}^{n}c_{p,k}\\right).$ <br>\n",
    "\n",
    "Note, here $Pr(P=p)=\\frac{1}{n}$ is the probability of pivot value (final element in array $A$ if Lomuto's partition is used) being $p$ and $L$ and $R$ are sublists obtained from a list $A$of elements smaller than $p$ (ie. $len(L)=p-1$) and larger than $p$ (ie. $len(R)=n-p$) respectively. <br><br>\n",
    "    \n",
    "We guess that $c_{n,k}\\leq 4n$ for any $k$. This can be verified as follows:<br>\n",
    "    \n",
    "$c_{n,k}= n-1+\\frac{1}{n}\\left(\\sum_{p=1}^{k-1}c_{n-p,k-p}+\\sum_{p=k+1}^{n}c_{p,k}\\right) \\leq n-1+\\frac{1}{n}\\left(\\sum_{p=1}^{k-1}4(n-p)+\\sum_{p=k+1}^{n}4p\\right) = \\\\ = n -1 +\\frac{4}{n}\\left(\\frac{n(n-1)}{2}-\\frac{(n-k)(n-k+1)}{2}+\\frac{n(n+1)}{2}-\\frac{k(k+1)}{2} \\right) = n -1 +\\frac{4}{n}\\left(n^2-\\frac{(n-k)(n-k+1)}{2}-\\frac{k(k+1)}{2} \\right) \\leq \\\\ \\leq n-1+\\frac{4}{n}\\left(n^2-\\frac{n^2}{4}\\right)= n-1+4n-n= 4n-1\\leq 4n.$ <br>\n",
    "    \n",
    "</div>"
   ]
  },
  {
   "cell_type": "markdown",
   "metadata": {},
   "source": [
    "---\n",
    "<br>\n",
    "<br>\n",
    "<br>\n",
    "<br>\n",
    "<br>\n",
    "<br>\n",
    "<br>"
   ]
  },
  {
   "cell_type": "markdown",
   "metadata": {},
   "source": [
    "<b><center>END OF PAPER</center></b>"
   ]
  }
 ],
 "metadata": {
  "kernelspec": {
   "display_name": "p3x8_main",
   "language": "python",
   "name": "p3x8_main"
  },
  "language_info": {
   "codemirror_mode": {
    "name": "ipython",
    "version": 3
   },
   "file_extension": ".py",
   "mimetype": "text/x-python",
   "name": "python",
   "nbconvert_exporter": "python",
   "pygments_lexer": "ipython3",
   "version": "3.8.13"
  },
  "vscode": {
   "interpreter": {
    "hash": "d1f7a2bbba71ff99ad142cbae391e4ba52f39cd113df3e04f0425508106d86e1"
   }
  }
 },
 "nbformat": 4,
 "nbformat_minor": 4
}
