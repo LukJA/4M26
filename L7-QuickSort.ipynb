{
 "cells": [
  {
   "cell_type": "code",
   "execution_count": 1,
   "id": "f98da2e8",
   "metadata": {},
   "outputs": [],
   "source": [
    "import math\n",
    "import logging\n",
    "FORMAT = '[%(name)s:%(levelname)s]  %(message)s'\n",
    "logging.basicConfig(level=logging.DEBUG, format=FORMAT)\n",
    "logger = logging.getLogger('dbg')\n",
    "\n",
    "def dprint(s):\n",
    "    logger.debug(s)\n",
    "\n",
    "def iprint(s):\n",
    "    logger.info(s)\n",
    "\n",
    "logger.setLevel(logging.INFO)"
   ]
  },
  {
   "attachments": {},
   "cell_type": "markdown",
   "id": "5690cbca",
   "metadata": {},
   "source": [
    "## Red Black BST Trees\n",
    "\n",
    "**Red Black Trees** (RBTs) are a modified BST, that add rules to ensure insertions and deletions result in more balanced final tree structures, hence they are known as 'self-balancing'. As many of the tasks of BSTs are $O(h)$, this gives assuredly fast _search, insertion and deletion_ operations.\n",
    "\n",
    "In a RST each node has a color (Red or Black) and if a node has no left or right child, these point to a common \"Nil\" Node, that is logically black. The tree is always approximately balanced with Tree Height $h = \\Theta( \\log n)$.\n",
    "\n",
    "<img src=\"media/RBT.png\" alt=\"drawing\" width=\"450\"/>\n",
    "\n",
    "The result is as follows (with the addition storage remains $\\Theta(n)$):\n",
    "\n",
    "| Complexity | Worst Case |\n",
    "| ---------- | ---------- |\n",
    "| Search     | $O(\\log n)$ |\n",
    "| Insert     | $O(\\log n)$ |\n",
    "| Delete     | $O(\\log n)$ |\n",
    "\n",
    "\n",
    "### RBT Rules:\n",
    "\n",
    "The rules or properties that must be satisfied are as follows:\n",
    "\n",
    "| Number    | Property |\n",
    "| --------- | -------- |\n",
    "| 1         | Every node is *red* or *black* |\n",
    "| 2         | The root node is *black* |\n",
    "| 3         | The 'Nil' node is *black* |\n",
    "| 4         | If a node is *red* then both children are *black* |\n",
    "| 5         | From any node, all paths to leaf nodes have equal numbers of *black* nodes |\n",
    "\n",
    "Therefore, all root-leaf paths have the same number of *black* nodes, and all *red* nodes have black children.\n",
    "This places a limit on the maximum size of the longest path (height):\n",
    "\n",
    "$ h_{max} \\leq 2 \\cdot h_{min} $\n",
    "\n",
    "Noting that a perfectly balanced tree has $ n = 2^{h+1} -1 $ nodes implies $ h_{min} \\leq \\log_2 (n + 1) \\therefore h_{min} = \\Theta( \\log_2 n)$.\n",
    "\n",
    "$ h_{min} \\leq h_{max} \\leq 2 \\cdot h_{min} \\Rightarrow h_{max} = \\Theta( \\log_2 n)$ == self balancing result!\n",
    "\n"
   ]
  }
 ],
 "metadata": {
  "kernelspec": {
   "display_name": "Python 3",
   "language": "python",
   "name": "python3"
  },
  "language_info": {
   "codemirror_mode": {
    "name": "ipython",
    "version": 3
   },
   "file_extension": ".py",
   "mimetype": "text/x-python",
   "name": "python",
   "nbconvert_exporter": "python",
   "pygments_lexer": "ipython3",
   "version": "3.10.6"
  },
  "vscode": {
   "interpreter": {
    "hash": "916dbcbb3f70747c44a77c7bcd40155683ae19c65e1c03b4aa3499c5328201f1"
   }
  }
 },
 "nbformat": 4,
 "nbformat_minor": 5
}
