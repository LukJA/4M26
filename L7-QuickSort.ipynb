{
 "cells": [
  {
   "cell_type": "code",
   "execution_count": 3,
   "id": "f98da2e8",
   "metadata": {},
   "outputs": [],
   "source": [
    "import math\n",
    "import logging\n",
    "FORMAT = '[%(name)s:%(levelname)s]  %(message)s'\n",
    "logging.basicConfig(level=logging.DEBUG, format=FORMAT)\n",
    "logger = logging.getLogger('dbg')\n",
    "\n",
    "def dprint(s):\n",
    "    logger.debug(s)\n",
    "\n",
    "def iprint(s):\n",
    "    logger.info(s)\n",
    "\n",
    "logger.setLevel(logging.INFO)"
   ]
  },
  {
   "attachments": {},
   "cell_type": "markdown",
   "id": "5690cbca",
   "metadata": {},
   "source": [
    "## QuickSort [Unstable]\n",
    "\n",
    "| Average Case | Worst Case | Storage |\n",
    "| ---------- | ---------- | ------ |\n",
    "| $O( n \\log n)$ | $O(n^2)$ | $\\Theta(n)$ |\n",
    "\n",
    "Quicksort is a widely used, fast, in-place sorting algorithm. Typically cache-friendly and used in multiple forms of hybrid sort.\n",
    "\n",
    "The constant factors mean that in terms of average case comparison sorts, quicksort is very fast.\n",
    "\n",
    "Quicksort relies on a recursive divide and conquer strategy:\n",
    "\n",
    "1. Select a pivot from the array\n",
    "2. Partition the array in to 3 sub-arrays [e < pivot, pivot, e > pivot]\n",
    "3. Recursively quicksort the first and last arrays\n",
    "\n",
    "Clearly the magic is in the partition function, the only version of which we cover is the in-place lomuto partition.\n",
    "\n",
    "The lomuto is $\\Theta(n)$ where $n$ = high - low + 1 = items\n",
    "\n",
    "<img src=\"media/quickso.png\" alt=\"drawing\" width=\"350\"/>\n"
   ]
  },
  {
   "cell_type": "code",
   "execution_count": 4,
   "id": "dc0855a5",
   "metadata": {},
   "outputs": [
    {
     "name": "stdout",
     "output_type": "stream",
     "text": [
      "[1, 2, 4, 5, 6, 7, 8, 12]\n"
     ]
    }
   ],
   "source": [
    "def quicksort(A, low = None, high = None):\n",
    "    if low is None:\n",
    "        low = 0\n",
    "    if high is None:\n",
    "        high = len(A)-1\n",
    "\n",
    "    if low < high:\n",
    "        pivot = partition(A, low, high)\n",
    "        quicksort(A, low, pivot-1)  #LSA\n",
    "        quicksort(A, pivot+1, high) #RSA\n",
    "\n",
    "def partition(A, low, high):\n",
    "    return lomuto(A, low, high)\n",
    "\n",
    "def lomuto(A, low, high):\n",
    "    pv = high\n",
    "    pv_val = A[pv]\n",
    "    x = low # pivot position\n",
    "\n",
    "    for j in range(low, high):\n",
    "        if A[j] < pv_val:\n",
    "            A[x], A[j] = A[j], A[x]\n",
    "            x = x +1\n",
    "    A[x], A[pv] = A[pv], A[x]\n",
    "    return x\n",
    "\n",
    "\n",
    "A = [12,6,4,1,5,2,7,8]\n",
    "quicksort(A)\n",
    "print(A)\n",
    "\n"
   ]
  },
  {
   "attachments": {},
   "cell_type": "markdown",
   "id": "6db09f11",
   "metadata": {},
   "source": [
    "#### Worst-Case Quicksort - Unbalanced Tree\n",
    "\n",
    "Partition is $\\Theta(n)$. Since QS is recursive we can right a recursion complexity relationship:\n",
    "\n",
    "$T(n) = T(r) + T(n-r-1) + \\Theta(N)$ : Left + Right + Partition\n",
    "\n",
    "Choosing the rank of the pivot to always be the smallest value (unlucky) ($r=0$):\n",
    "\n",
    "$T(n) = T(0) + T(n-1) + \\Theta(n)$ where $T(0) = O(1)$\n",
    "\n",
    "$T(n) = T(n-1) + \\Theta(n) \\quad \\Rightarrow \\quad T(n) = \\Theta(N^2)$ for fixed $r = 0$ \n",
    "\n",
    "#### Balanced Tree Analysis\n",
    "\n",
    "When $r = K \\cdot n$ for $ 0 < K < 1$, QS is $O( n \\log n)$. For $K = 0.5$ the partition is balanced.\n",
    "\n",
    "Tree height is $\\log n$, level cost is $\\leq cn$ hence $C_T \\leq cn \\cdot \\log n \\Rightarrow O(n \\log n)$\n",
    "\n",
    "Note that the key factor is **Tree depth growth** and $K = 0.995$ is still $O(n \\log n)$!\n",
    "\n",
    "#### Design Improvements \n",
    "\n",
    "Lomuto is $O(n^2)$ if:\n",
    "1. The array is **already Sorted**\n",
    "2. All elements in the array are **the same** (equivalent)\n",
    "\n",
    "**Median of 3**\n",
    "* Pick median of the first, middle and last elements as the pivot\n",
    "\n",
    "**Randomized QS**\n",
    "* Pick pivot uniformly at random and swap with element at $n-1$\n",
    "* Expected RT of $O( n \\log n)$\n",
    "* Widely used and minuses worst case behavior"
   ]
  },
  {
   "cell_type": "markdown",
   "id": "ec6fc2df",
   "metadata": {},
   "source": []
  }
 ],
 "metadata": {
  "kernelspec": {
   "display_name": "Python 3",
   "language": "python",
   "name": "python3"
  },
  "language_info": {
   "codemirror_mode": {
    "name": "ipython",
    "version": 3
   },
   "file_extension": ".py",
   "mimetype": "text/x-python",
   "name": "python",
   "nbconvert_exporter": "python",
   "pygments_lexer": "ipython3",
   "version": "3.10.6"
  },
  "vscode": {
   "interpreter": {
    "hash": "916dbcbb3f70747c44a77c7bcd40155683ae19c65e1c03b4aa3499c5328201f1"
   }
  }
 },
 "nbformat": 4,
 "nbformat_minor": 5
}
